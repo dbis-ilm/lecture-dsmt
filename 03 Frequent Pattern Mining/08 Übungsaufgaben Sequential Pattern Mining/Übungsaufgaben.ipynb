{
 "cells": [
  {
   "cell_type": "markdown",
   "id": "26582dcf-02a4-4d96-8190-8ae20a578624",
   "metadata": {
    "deletable": false,
    "editable": false
   },
   "source": [
    "# Übungsaufgaben\n",
    "Ein Firma bietet knapp $100$ Produkte auf ihrer Website an. Zusätzlich zur Startseite und den Produktseiten existieren einige Unterseiten, die weitere Informationen über die Firma enthalten. Zu Anfang eines Besuchs beginnt ein jeder auf der Startseite und wählt von dort einen eigenen Weg.\n",
    "\n",
    "Um die Website zu optimieren wurde nun ein Tracker integriert, der jeden einzelnen Klick aufzeichnet und einem Nutzer zuordnet. Es ergibt sich damit eine Transaktionsdatenbank, die den Verlauf aller Besuche der Firmenwebsite beinhaltet:"
   ]
  },
  {
   "cell_type": "code",
   "execution_count": null,
   "id": "596782f7-d27e-4f40-a677-f16b3b50933a",
   "metadata": {
    "deletable": false,
    "editable": false
   },
   "outputs": [],
   "source": [
    "from tui_dsmt.fpm import SequentialItemset, website_tracking\n",
    "\n",
    "website_tracking[12]"
   ]
  },
  {
   "cell_type": "markdown",
   "id": "ebeb7e33-d461-44e8-aed5-94a8af1eeead",
   "metadata": {
    "deletable": false,
    "editable": false
   },
   "source": [
    "## Aufgabe 1\n",
    "Um eine schnellere Navigation zu ermöglichen, sollen am unteren Ende der Seite interessante Links eingeblendet werden. Suchen Sie dazu alle Paare häufiger auftretender Items mit einem minimalen Support von $0.1$."
   ]
  },
  {
   "cell_type": "code",
   "execution_count": null,
   "id": "f28a4b3a-af37-4674-8f7d-740d6b435c10",
   "metadata": {
    "deletable": false
   },
   "outputs": [],
   "source": [
    "min_supp = 0.1\n",
    "\n",
    "..."
   ]
  },
  {
   "cell_type": "markdown",
   "id": "6a558e04-2398-4d3e-b394-44bb1d2a4d48",
   "metadata": {
    "deletable": false,
    "editable": false
   },
   "source": [
    "## Aufgabe 2\n",
    "Von besonderem Interesse ist es außerdem, welche Seiten als Brücken gesehen werden können. Brücken sind einflussreiche Unterseiten, die häufiger als andere innerhalb von Sequenzen mit mindestens drei Items auftauchen. Sortieren Sie die Unterseiten absteigend nach der Häufigkeit ihres Auftauchens als Brücke."
   ]
  },
  {
   "cell_type": "code",
   "execution_count": null,
   "id": "8890aa9e-a898-4112-a7b5-50af2a610c05",
   "metadata": {
    "deletable": false
   },
   "outputs": [],
   "source": [
    "..."
   ]
  },
  {
   "cell_type": "markdown",
   "id": "0f79c4aa-de7c-4ef9-8f13-1969e796e669",
   "metadata": {
    "deletable": false,
    "editable": false
   },
   "source": [
    "## Aufgabe 3\n",
    "Ebenfalls von Interesse sind natürlich die Seiten, mit denen Besuche der Website abgeschlossen oder abgebrochen werden. Untersuchen Sie Auffälligkeiten bei diesen und vergleichen Sie sie mit den Unterseiten, mit denen am häufigsten Sequenzen abgebrochen werden. Gibt es eine Schnittmenge?"
   ]
  },
  {
   "cell_type": "code",
   "execution_count": null,
   "id": "3ead4a1e-d255-417c-9fe5-0a013112ebf8",
   "metadata": {
    "deletable": false
   },
   "outputs": [],
   "source": [
    "..."
   ]
  }
 ],
 "metadata": {
  "kernelspec": {
   "display_name": "Python 3 (ipykernel)",
   "language": "python",
   "name": "python3"
  },
  "language_info": {
   "codemirror_mode": {
    "name": "ipython",
    "version": 3
   },
   "file_extension": ".py",
   "mimetype": "text/x-python",
   "name": "python",
   "nbconvert_exporter": "python",
   "pygments_lexer": "ipython3",
   "version": "3.10.12"
  }
 },
 "nbformat": 4,
 "nbformat_minor": 5
}
