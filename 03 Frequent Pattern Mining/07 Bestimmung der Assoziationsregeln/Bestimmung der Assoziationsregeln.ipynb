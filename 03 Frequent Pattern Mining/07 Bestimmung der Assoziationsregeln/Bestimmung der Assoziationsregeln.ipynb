{
 "cells": [
  {
   "cell_type": "markdown",
   "id": "0",
   "metadata": {
    "deletable": false,
    "editable": false
   },
   "source": [
    "# Bestimmung der Assoziationsregeln\n",
    "In den vorangegangenen Abschnitten haben wir aus Transaktionsdatenbanken häufige Itemsets hergeleitet. Aus diesen sollen nun Assoziationsregeln generiert werden."
   ]
  },
  {
   "cell_type": "code",
   "execution_count": null,
   "id": "1",
   "metadata": {
    "deletable": false
   },
   "outputs": [],
   "source": [
    "from tui_dsmt.fpm import Itemset\n",
    "\n",
    "import pandas as pd\n",
    "from mlxtend.frequent_patterns import association_rules"
   ]
  },
  {
   "cell_type": "markdown",
   "id": "2",
   "metadata": {
    "deletable": false,
    "editable": false
   },
   "source": [
    "## Inhaltsverzeichnis\n",
    "- [Wiederholung](#Wiederholung)\n",
    "- [Algorithmus](#Algorithmus)\n",
    "- [Weitere Interessantheitsmaße](#Weitere-Interessantheitsmaße)\n",
    "- [Implementierungen](#Implementierungen)"
   ]
  },
  {
   "cell_type": "markdown",
   "id": "3",
   "metadata": {
    "deletable": false,
    "editable": false
   },
   "source": [
    "## Wiederholung"
   ]
  },
  {
   "cell_type": "markdown",
   "id": "4",
   "metadata": {
    "deletable": false,
    "editable": false
   },
   "source": [
    "Eine Assoziationsregel ist eine Regel in der folgenden Form.\n",
    "$$\n",
    "\\text{Rumpf} \\rightarrow \\text{Kopf} [\\text{support}, \\text{confidence}]\n",
    "$$"
   ]
  },
  {
   "cell_type": "markdown",
   "id": "5",
   "metadata": {
    "deletable": false,
    "editable": false
   },
   "source": [
    "**Rumpf** und **Kopf** sind disjunkte Itemsets beliebiger Größe.\n",
    "\n",
    "Der **Support einer Assoziationsregel** $X \\Rightarrow Y$ ist der Anteil des gemeinsamen Auftretens von $X$ und $Y$ in Relation zur Anzahl aller Transaktionen: $$\n",
    "s(X \\Rightarrow Y) = \\frac{\\sigma(X \\cup Y)}{|T|}\n",
    "$$\n",
    "\n",
    "Die **Konfidenz einer Assoziationsregel** $X \\Rightarrow Y$ ist der Anteil des gemeinsamen Auftretens von $X$ und $Y$ in Relation zur Anzahl des Auftretens von $X$: $$\n",
    "c(X \\Rightarrow Y) = \\frac{\\sigma(X \\cup Y)}{\\sigma(X)}\n",
    "$$\n",
    "\n",
    "Nachfolgend verwenden wir den Support eines Itemsets in Relation zur Gesamtgröße der Transaktionsdatenbank. Der Divisor $\\left| T \\right|$ entfällt daher bei der Berechnung des Supports einer Assoziationsregel!"
   ]
  },
  {
   "cell_type": "markdown",
   "id": "6",
   "metadata": {
    "deletable": false,
    "editable": false
   },
   "source": [
    "## Algorithmus\n",
    "Der Algorithmus zum Auffinden von Assoziationsregeln wurde bereits zu Beginn dieses Kapitels angesprochen. Zuerst werden dafür die häufigen Itemsets gesucht und zusammen mit ihrem Support in einem Dictionary gespeichert, um Datenbankzugriffe zu vermeiden.\n",
    "\n",
    "Da laut Monotonie-Kriterium alle Teilmengen eines häufigen Itemsets ebenfalls häufig sein müssen, findet sich der Support jeder Teilmenge eines häufigen Itemsets ebenfalls in diesem Dictionary."
   ]
  },
  {
   "cell_type": "code",
   "execution_count": null,
   "id": "7",
   "metadata": {
    "deletable": false
   },
   "outputs": [],
   "source": [
    "frequent_itemsets = {\n",
    "    Itemset('A'): 0.15,\n",
    "    Itemset('B'): 0.2,\n",
    "    Itemset('C'): 0.25,\n",
    "    Itemset('A', 'B'): 0.15,\n",
    "    Itemset('A', 'C'): 0.1,\n",
    "    Itemset('B', 'C'): 0.2,\n",
    "    Itemset('A', 'B', 'C'): 0.1\n",
    "}"
   ]
  },
  {
   "cell_type": "markdown",
   "id": "8",
   "metadata": {
    "deletable": false,
    "editable": false
   },
   "source": [
    "Für jedes häufige Itemset werden alle *echten*, *nichtleeren* Teilmengen $\\emptyset \\neq A \\subset X$ betrachtet. Geprüft wird dann, ob die Assoziationsregel $A \\rightarrow (X \\setminus A)$ eine vorgegebene Konfidenz erfüllt."
   ]
  },
  {
   "cell_type": "code",
   "execution_count": null,
   "id": "9",
   "metadata": {
    "deletable": false
   },
   "outputs": [],
   "source": [
    "for X in frequent_itemsets:\n",
    "    print(f'{X=}')\n",
    "    for A in X.real_nonempty_subsets:\n",
    "        c = frequent_itemsets[X] / frequent_itemsets[X-A]\n",
    "        print(f'    {A=:<6}  ->  {X-A=:<6}    {c=:.3f}')"
   ]
  },
  {
   "cell_type": "markdown",
   "id": "10",
   "metadata": {
    "deletable": false,
    "editable": false
   },
   "source": [
    "$1$-Itemsets entfallen in dieser Betrachtung, da die leere Menge die einzige echte Teilmenge einer einelementigen Menge ist. Die Berechnung der Konfidenz kann außerdem vereinfacht werden, da folgendes gilt:\n",
    "\n",
    "$$\n",
    "c(A \\Rightarrow X \\setminus A) = \\frac{\\sigma(A \\cup (X \\setminus A))}{\\sigma(A)} = \\frac{\\sigma(X)}{\\sigma(A)}\n",
    "$$"
   ]
  },
  {
   "cell_type": "markdown",
   "id": "11",
   "metadata": {
    "deletable": false,
    "editable": false
   },
   "source": [
    "## Weitere Interessantheitsmaße\n",
    "Neben der Konfidenz existieren noch weitere Interessantheitsmaße, um eine Assoziationsregel zu bewerten."
   ]
  },
  {
   "cell_type": "markdown",
   "id": "12",
   "metadata": {
    "deletable": false,
    "editable": false
   },
   "source": [
    "Der **Lift** einer Assoziationsregel $X \\Rightarrow Y$ wird folgendermaßen berechnet:\n",
    "\n",
    "$$\n",
    "lift(X \\Rightarrow Y) = \\frac{\\sigma(X \\cup Y)}{\\sigma(X) * \\sigma(Y)} = \\frac{c(X \\Rightarrow Y)}{\\sigma(Y)}\n",
    "$$\n",
    "\n",
    "Er gibt an, wie viel häufiger $X$ und $Y$ gemeinsam auftreten als es bei statistischer Unabhängigkeit zu erwarten wäre. Der Wert ist\n",
    "- $=1$, wenn Itemsets unabhängig voneinander gekauft werden.\n",
    "- $>1$, wenn es eine positive Assoziation zwischen den Itemsets gibt bzw. sie häufiger zusammen gekauft werden, als es zufällig zu erwarten wäre.\n",
    "- $<1$, wenn es eine negative Assoziation zwischen den Itemsets gibt bzw. sie seltener zusammen gekauft werden, als es zufällig zu erwarten wäre."
   ]
  },
  {
   "cell_type": "markdown",
   "id": "13",
   "metadata": {
    "deletable": false,
    "editable": false
   },
   "source": [
    "Der **Leverage** / Einfluss einer Assoziationsregel $X \\Rightarrow Y$ wird folgendermaßen berechnet:\n",
    "\n",
    "$$\n",
    "leverage(X \\Rightarrow Y) = s(X \\Rightarrow Y) - \\sigma(X) * \\sigma(Y) = \\sigma(X \\cup Y) - \\sigma(X) * \\sigma(Y)\n",
    "$$\n",
    "\n",
    "Der Leverage berechnet damit die Differenz der Häufigkeit des gemeinsamen Auftretens gegenüber der Häufigkeit des Auftretens bei statistischer Unabhängigkeit. Der Wert ist\n",
    "- $=0$, falls die Itemsets genauso häufig zusammen auftreten wie es zufällig zu erwarten wäre.\n",
    "- $>0$, falls die Itemsets häufiger zusammen auftreten als es zufällig zu erwarten wäre.\n",
    "- $<0$, falls die Itemsets seltener zusammen auftreten als es zufällig zu erwarten wäre."
   ]
  },
  {
   "cell_type": "code",
   "execution_count": null,
   "id": "14",
   "metadata": {
    "deletable": false
   },
   "outputs": [],
   "source": [
    "for X in frequent_itemsets:\n",
    "    print(f'{X=}')\n",
    "    for A in X.real_nonempty_subsets:\n",
    "        c = frequent_itemsets[X] / frequent_itemsets[A]\n",
    "        lift = c / frequent_itemsets[X-A]\n",
    "        leverage = frequent_itemsets[X] - frequent_itemsets[A] * frequent_itemsets[X-A]\n",
    "\n",
    "        print(f'    {A:<6} -> {X-A:<6}    {c=:.3f} {lift=:.3f} {leverage=:.3f}')"
   ]
  },
  {
   "cell_type": "markdown",
   "id": "15",
   "metadata": {
    "deletable": false,
    "editable": false
   },
   "source": [
    "## Implementierungen\n",
    "Eine fertige Implementierung zur Berechnung von Assoziationsregeln und deren Bewertung steht beispielsweise im Paket `mlxtend` bereit. Dazu müssen die häufigen Itemsets jedoch zunächst in ein Pandas DataFrame konvertiert werden."
   ]
  },
  {
   "cell_type": "code",
   "execution_count": null,
   "id": "16",
   "metadata": {
    "deletable": false
   },
   "outputs": [],
   "source": [
    "fi_df = pd.DataFrame({\n",
    "    'support': (v for v in frequent_itemsets.values()),\n",
    "    'itemsets': frequent_itemsets.keys()\n",
    "})\n",
    "fi_df"
   ]
  },
  {
   "cell_type": "markdown",
   "id": "17",
   "metadata": {
    "deletable": false,
    "editable": false
   },
   "source": [
    "Anschließend können die Assoziationsregeln und eine Vielzahl an Interessantheitsmaßen mit der Funktion `association_rules` bestimmt werden."
   ]
  },
  {
   "cell_type": "code",
   "execution_count": null,
   "id": "18",
   "metadata": {
    "deletable": false
   },
   "outputs": [],
   "source": [
    "association_rules(fi_df,\n",
    "                  num_itemsets=len(fi_df),\n",
    "                  metric='confidence',\n",
    "                  min_threshold=0.0)"
   ]
  }
 ],
 "metadata": {
  "kernelspec": {
   "display_name": "Python 3 (ipykernel)",
   "language": "python",
   "name": "python3"
  },
  "language_info": {
   "codemirror_mode": {
    "name": "ipython",
    "version": 3
   },
   "file_extension": ".py",
   "mimetype": "text/x-python",
   "name": "python",
   "nbconvert_exporter": "python",
   "pygments_lexer": "ipython3",
   "version": "3.12.8"
  }
 },
 "nbformat": 4,
 "nbformat_minor": 5
}
