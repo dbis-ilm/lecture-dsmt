{
 "cells": [
  {
   "cell_type": "markdown",
   "id": "758ba32c-a397-4cb8-b269-18599cc54b6a",
   "metadata": {
    "deletable": false,
    "editable": false
   },
   "source": [
    "# Effiziente Subset-Funktion\n",
    "Im Verlauf des Apriori-Algorithmus wird $C_k$ zu $L_k$ transformiert, indem genau die enthaltenen Itemsets entfernt werden, die nicht den vorgegebenen, minimalen Support erfüllen. Dazu ist es nötig, die Häufigkeit jedes Elements in $C_k$ innerhalb aller Transaktionen $T$ zu zählen. In diesem Abschnitt soll eine effizientere Möglichkeit gezeigt werden, um den Support zu bestimmen."
   ]
  },
  {
   "cell_type": "code",
   "execution_count": null,
   "id": "6eb8cca3-012a-4623-94b4-eadd053867d8",
   "metadata": {
    "deletable": false
   },
   "outputs": [],
   "source": [
    "from tui_dsmt.fpm import numbers, Itemset, HashTree"
   ]
  },
  {
   "cell_type": "markdown",
   "id": "cc973142-ae19-4e09-b55f-102b1e877478",
   "metadata": {
    "deletable": false,
    "editable": false
   },
   "source": [
    "## Inhaltsverzeichnis\n",
    "- [Einfache Umsetzung](#Einfache-Umsetzung)\n",
    "- [Hasbaum zur Speicherung](#Hasbaum-zur-Speicherung)\n",
    "- [Bestimmung häufiger Itemsets](#Bestimmung-häufiger-Itemsets)"
   ]
  },
  {
   "cell_type": "markdown",
   "id": "f0fb6b9e-ef36-423a-9369-701929fdf57f",
   "metadata": {
    "deletable": false,
    "editable": false
   },
   "source": [
    "## Einfache Umsetzung\n",
    "Zunächst soll noch einmal die einfache Umsetzung anhand des bereits bekannten Datensatzes betrachtet werden."
   ]
  },
  {
   "cell_type": "code",
   "execution_count": null,
   "id": "b22d91d8-14e4-4b0e-84e2-7fdcb03183df",
   "metadata": {
    "deletable": false
   },
   "outputs": [],
   "source": [
    "numbers"
   ]
  },
  {
   "cell_type": "markdown",
   "id": "3561eaf1-a557-4a9e-b85d-516f58716b1c",
   "metadata": {
    "deletable": false,
    "editable": false
   },
   "source": [
    "Für ein einzelnes Itemset wird dann über alle Transaktionen iteriert und gezählt, ob das Itemset enthalten ist."
   ]
  },
  {
   "cell_type": "code",
   "execution_count": null,
   "id": "70843aab-423b-48e9-be9b-75a7e523b473",
   "metadata": {
    "deletable": false
   },
   "outputs": [],
   "source": [
    "candidate = Itemset(1, 3)\n",
    "support = 0\n",
    "\n",
    "for _, items in numbers:\n",
    "    if candidate.is_subset(items):\n",
    "        support += 1\n",
    "\n",
    "support"
   ]
  },
  {
   "cell_type": "markdown",
   "id": "b3970c0d-3556-4d7e-af55-1133955fd649",
   "metadata": {
    "deletable": false,
    "editable": false
   },
   "source": [
    "Diese Schleife muss für jedes Itemset in $C_k$ wiederholt werden, während gleichzeitig eine Transaktion verschiedene Kandidaten enthalten kann. So sind insgesamt $|T| * |C_k|$ Prüfungen notwendig."
   ]
  },
  {
   "cell_type": "markdown",
   "id": "6e1bc209-bd7c-4e64-9fd9-64b01658648b",
   "metadata": {
    "deletable": false,
    "editable": false
   },
   "source": [
    "## Hasbaum zur Speicherung\n",
    "Durch eine geschickte Konstruktion eines Hashbaums kann der Aufwand zur Prüfung massiv reduziert werden. Der Hashbaum folgt dabei einigen Prinzipien:\n",
    "- Die Blattknoten enthalten jeweils eine Liste von Itemsets mit deren Häufigkeiten. (Die Größe der Liste ist begrenzt.)\n",
    "- Die inneren Knoten enthalten eine Hashtabelle. Jedes Bucket verweist auf Kindknoten des nachfolgenden Levels.\n",
    "- Die Wurzel befindet sich auf Level 1. Jeder weitere Abstieg erhöht das Level."
   ]
  },
  {
   "cell_type": "markdown",
   "id": "2083ed93-24ea-49a0-a860-ddb6eb44ba36",
   "metadata": {
    "deletable": false,
    "editable": false
   },
   "source": [
    "Zur Konstruktion des Baums werden alle Kandidaten aus $C_k$ betrachtet und in den Baum eingefügt. Dabei wird auf dem Level $d$ das $d$-te Item des Itemsets entnommen und die Hashfunktion darauf angewendet. Gestartet wird dabei bei der Wurzel und somit dem ersten Element des Itemsets. Wird eine Liste zu lang, wird das Blatt in einen inneren Knoten umgewandelt und die enthaltenen Einträge mit der Hashfunktion neu verteilt.\n",
    "\n",
    "Sei nun beispielsweise $C_k$ die folgende Menge:"
   ]
  },
  {
   "cell_type": "code",
   "execution_count": null,
   "id": "c73ca56e-e776-40c2-a58d-b9b8630a531e",
   "metadata": {
    "deletable": false
   },
   "outputs": [],
   "source": [
    "C_k = {\n",
    "    (1, 4, 11), (1, 6, 11), (1, 7, 9), (1, 11, 12),\n",
    "    (2, 3, 8), (2, 4, 6), (2, 4, 7), (2, 5, 6), (2, 5, 7), (2, 7, 9),\n",
    "    (3, 4, 8), (3, 4, 11), (3, 4, 15), (3, 5, 7), (3, 5, 11), (3, 6, 7), (3, 7, 11),\n",
    "    (7, 8, 9), (7, 9, 12),\n",
    "    (5, 6, 7), (5, 7, 10), (5, 8, 11)\n",
    "}"
   ]
  },
  {
   "cell_type": "markdown",
   "id": "97bd08fc-994d-473a-8329-d26a2f389616",
   "metadata": {
    "deletable": false,
    "editable": false
   },
   "source": [
    "Die Hash-Funktion $h(K)$ kann beliebig gewählt werden. Im nachfolgenden Beispiel wird $h(K) = K\\;mod\\;3$ verwendet."
   ]
  },
  {
   "cell_type": "code",
   "execution_count": null,
   "id": "e5d9b7f8-b28b-46bb-85dc-05aaa4b29ba6",
   "metadata": {
    "deletable": false
   },
   "outputs": [],
   "source": [
    "def hash_function(x):\n",
    "    return x % 3"
   ]
  },
  {
   "cell_type": "markdown",
   "id": "628a2397-16c2-4910-80bd-947e120bf74d",
   "metadata": {
    "deletable": false,
    "editable": false
   },
   "source": [
    "Der Aufbau des Hashbaums funktioniert dann wie oben beschrieben:"
   ]
  },
  {
   "cell_type": "code",
   "execution_count": null,
   "id": "393787b0-bc80-4ee0-975b-5d75cd0f468a",
   "metadata": {
    "deletable": false
   },
   "outputs": [],
   "source": [
    "ht = HashTree(C_k, hash_function, 3)\n",
    "ht"
   ]
  },
  {
   "cell_type": "markdown",
   "id": "8d61d3dd-579d-4e10-a71f-6e26cb2c2cc8",
   "metadata": {
    "deletable": false,
    "editable": false
   },
   "source": [
    "## Bestimmung häufiger Itemsets\n",
    "Innerhalb des entstandenen Baumes werden nun alle Kandidaten gesucht, die in einer Transaktion $T = (t_1, t_2, \\dots, t_m)$ enthalten sind. Dazu wird\n",
    "- bei der Wurzel begonnen und der Hashwert für jedes Item $t_i$ in $T$ bestimmt, um beim resultierenden Kindknoten fortzufahren.\n",
    "- bei einem inneren Knoten, den man durch Hashing von $t_i$ erreicht hat, wird die Hashfunktion auf alle Items $t_k$ mit $k > i$ angewendet und rekursiv fortgefahren.\n",
    "- bei einem Blattknoten für alle in der gespeicherten Liste enthaltenen Itemsets getestet, ob sie in der Transaktion $T$ vorkommen.\n",
    "\n",
    "Auch diesen Teil des Algorithmus können Sie schrittweise nachvollziehen:"
   ]
  },
  {
   "cell_type": "code",
   "execution_count": null,
   "id": "baac9eb0-0ca7-4b06-bb61-cddb5bb7176b",
   "metadata": {
    "deletable": false
   },
   "outputs": [],
   "source": [
    "ht.find((1, 3, 7, 9, 12))"
   ]
  },
  {
   "cell_type": "markdown",
   "id": "0f3d4122-a936-4e1a-83ac-32855066934d",
   "metadata": {
    "deletable": false,
    "editable": false
   },
   "source": [
    "Nach dem Durchlauf der Animation verbleiben die in Betracht gezogenen Blätter rot. Im gegebenen Beispiel mussten damit lediglich sechs von $22$ Kandidaten gegen die aktuelle Transaktion geprüft werden.\n",
    "\n",
    "Soll nun der Support für die Kandidaten innerhalb einer Transaktionsdatenbank gezählt werden, so wird das Vorgehen für jede Transaktion wiederholt. Der Baum muss aber natürlich nur einmal aufgebaut werden. Auch wenn dieses Vorgehen eine separate Datenstruktur benötigt, lässt sich insbesondere bei größeren Transaktionsdatenbanken eine deutliche Reduktion der notwendigen Schritte erreichen."
   ]
  }
 ],
 "metadata": {
  "kernelspec": {
   "display_name": "Python 3 (ipykernel)",
   "language": "python",
   "name": "python3"
  },
  "language_info": {
   "codemirror_mode": {
    "name": "ipython",
    "version": 3
   },
   "file_extension": ".py",
   "mimetype": "text/x-python",
   "name": "python",
   "nbconvert_exporter": "python",
   "pygments_lexer": "ipython3",
   "version": "3.10.12"
  }
 },
 "nbformat": 4,
 "nbformat_minor": 5
}
