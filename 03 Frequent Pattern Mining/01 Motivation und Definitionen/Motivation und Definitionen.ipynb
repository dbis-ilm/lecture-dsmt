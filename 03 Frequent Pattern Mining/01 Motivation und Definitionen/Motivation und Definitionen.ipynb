{
 "cells": [
  {
   "cell_type": "markdown",
   "id": "0",
   "metadata": {
    "deletable": false,
    "editable": false
   },
   "source": [
    "# Motivation und Definition\n",
    "Frequent Pattern Mining oder manchmal auch Frequent Pattern Discovery bezeichnet die Suche nach häufig gemeinsame auftretenden Mustern oder Items innerhalb großer Datenmengen."
   ]
  },
  {
   "cell_type": "code",
   "execution_count": null,
   "id": "1",
   "metadata": {
    "deletable": false
   },
   "outputs": [],
   "source": [
    "from tui_dsmt.fpm import BruteForceFI, receipts"
   ]
  },
  {
   "cell_type": "markdown",
   "id": "2",
   "metadata": {
    "deletable": false,
    "editable": false
   },
   "source": [
    "## Inhaltsverzeichnis\n",
    "- [Anwendung: Warenkorbanalyse](#Anwendung-Warenkorbanalyse)\n",
    "- [Begriff: Assoziationsregel](#Begriff-Assoziationsregel)\n",
    "- [Definitionen](#Definitionen)\n",
    "- [Assoziationsregeln](#Assoziationsregeln)\n",
    "- [Trivialer Algorithmus zum Auffinden von Assoziationsregeln](#Trivialer-Algorithmus-zum-Auffinden-von-Assoziationsregeln)"
   ]
  },
  {
   "cell_type": "markdown",
   "id": "3",
   "metadata": {
    "deletable": false,
    "editable": false
   },
   "source": [
    "## Anwendung: Warenkorbanalyse\n",
    "Zur Umgestaltung eines (fiktiven) Supermarktes soll die Effizienz erhöht und damit die Artikel so eingeräumt werden, dass häufig gekaufte Dinge nah beieinander platziert sind. Dazu werden alle von den Kassen generierten Bons zunächst in eine Transaktionsdatenbank geladen und anschließend untereinander verglichen, um häufige vorkommende Kombinationen zu finden. Diese Bons können beispielsweise wie folgt aussehen:\n",
    "\n",
    "| Bon ID | Artikel                           |\n",
    "| ------ | --------------------------------- |\n",
    "| 1      | Brot, Butter, Milch, Zucker       |\n",
    "| 2      | Butter, Mehl, Milch, Zucker       |\n",
    "| 3      | Butter, Eier, Milch, Salz         |\n",
    "| 4      | Eier                              |\n",
    "| 5      | Butter, Mehl, Milch, Salz, Zucker |"
   ]
  },
  {
   "cell_type": "markdown",
   "id": "4",
   "metadata": {
    "deletable": false,
    "editable": false
   },
   "source": [
    "## Begriff: Assoziationsregel\n",
    "Eine Assoziationsregel ist eine Regel in der folgenden Form.\n",
    "$$\n",
    "\\text{Rumpf} \\rightarrow \\text{Kopf} [\\text{support}, \\text{confidence}]\n",
    "$$\n",
    "\n",
    "Der *Support* bezeichnet dabei die Häufigkeit der Kombination *(Rumpf, Kopf)* in Relation zu allen Transaktionen. Mit Hilfe des Supports können also Regeln ausgeschlossen werden, die in wenigen Transaktionen vorkommen und somit auf Einzelereignisse zurückzuführen sind. Die *Konfidenz* dagegen bezeichnet die Häufigkeit des Auftretens der Kombination *(Rumpf, Kopf)* in Relation zu allen Transaktionen, die *Rumpf* enthalten. Die Konfidenz dient damit dem Ausschluss von Regeln, die nur einen schwachen Zusammenhang beschreiben.\n",
    "\n",
    "Die Regel\n",
    "$$\n",
    "\\text{Windeln} \\rightarrow \\text{Bier} [0.5\\%, 60\\%]\n",
    "$$\n",
    "sagt demnach aus, dass $0.5\\%$ aller Kassenbons die Kombination Bier und Windeln enthält und in $60\\%$ aller Käufe von Windeln auch Bier gekauft wurde."
   ]
  },
  {
   "cell_type": "markdown",
   "id": "5",
   "metadata": {
    "deletable": false,
    "editable": false
   },
   "source": [
    "## Definitionen\n",
    "- **Literale** bilden die Grundlage, indem sie einzelne Positionen bezeichnen. Sie sind die kleinste Einheit und bezeichnen beispielsweise einzelne Artikel.\n",
    "- Die Menge **Items** $I = \\{i_1, \\dots, i_m\\}$ bezeichnet die Menge der Literale.\n",
    "- Ein **Itemset** $X \\subseteq I$ ist eine spezifische Menge von Items, z.B. der Inhalt eines bestimmten Kassenbons.\n",
    "- Eine **Datenbank** ist eine Menge von Transaktionen $\\{T | T \\subseteq I\\}$.\n",
    "\n",
    "Für die nachfolgenden Algorithmen ist es notwendig, dass die Items innerhalb der Itemsets eine lexikographische Sortierung besitzen.\n",
    "\n",
    "Weiterhin wird die Länge des Itemsets als die Anzahl der Elemente innerhalb dieses Itemsets definiert. Ein Itemset der Länge $k$ wird außerdem als $k$-Itemset bezeichnet."
   ]
  },
  {
   "cell_type": "markdown",
   "id": "6",
   "metadata": {
    "deletable": false,
    "editable": false
   },
   "source": [
    "## Assoziationsregeln\n",
    "- Eine **Assoziationsregel** ist eine Implikation der Form $X \\Rightarrow Y$, wobei $X \\subseteq I$, $Y \\subseteq I$ und $X \\cap Y = \\emptyset$.\n",
    "- Der **Support einer Menge** $X$ in $D$ ist die Anzahl der Transaktionen in $D$, die $X$ enthalten: $$\n",
    "\\sigma(X) = |\\{ t_i | X \\subseteq t_i, t_i \\in T \\}|\n",
    "$$\n",
    "- Der **Support einer Assoziationsregel** $X \\Rightarrow Y$ ist der Anteil des gemeinsamen Auftretens von $X$ und $Y$ in Relation zur Anzahl aller Transaktionen: $$\n",
    "s(X \\Rightarrow Y) = \\frac{\\sigma(X \\cup Y)}{|T|}\n",
    "$$\n",
    "- Die **Konfidenz einer Assoziationsregel** $X \\Rightarrow Y$ ist der Anteil des gemeinsamen Auftretens von $X$ und $Y$ in Relation zur Anzahl des Auftretens von $X$: $$\n",
    "c(X \\Rightarrow Y) = \\frac{\\sigma(X \\cup Y)}{\\sigma(X)}\n",
    "$$"
   ]
  },
  {
   "cell_type": "markdown",
   "id": "7",
   "metadata": {
    "deletable": false,
    "editable": false
   },
   "source": [
    "## Trivialer Algorithmus zum Auffinden von Assoziationsregeln\n",
    "Im Allgemeinen teilen sich die Algorithmen zum Auffinden entsprechender Assoziationsregeln in folgende Schritte:\n",
    "1. Die häufig auftretenden Itemsets werden in der Datenbank gesucht. Häufig auftretend bedeutet dabei, dass der Support höher als ein vorgegebener, minimaler Support sein muss.\n",
    "2. Aus den gefundenen häufigen Itemsets werden Assoziationsregeln generiert.\n",
    "\n",
    "Im Folgenden wird ein trivialer Algorithmus beschrieben, der ohne besondere Annahmen auskommt."
   ]
  },
  {
   "cell_type": "markdown",
   "id": "8",
   "metadata": {
    "deletable": false,
    "editable": false
   },
   "source": [
    "### Suche nach häufigen Itemsets\n",
    "Der einfachste Algorithmus arbeitet wie folgt:\n",
    "1. Alle Teilmengen $D$ von $I$ werden generiert.\n",
    "2. Für jede dieser Teilmengen $D$ wird die Häufigkeit in der Datenbank gezählt und die verworfen, die den minimalen Support nicht erfüllen.\n",
    "3. Für jede verbleibende Teilmenge wird erneut jede Teilmenge $A \\subseteq D$ betrachtet und geprüft, ob die Assoziationsregel $A \\rightarrow (D \\backslash A)$ den minimalen Support erfüllt.\n",
    "\n",
    "Die nachfolgende Zelle enthält ein reduziertes Beispiel, das mit Hilfe des trivialen Algorithmus abgearbeitet wird. Bereits der eingangs gezeigte Transaktionsdatensatz würde die Darstellung zu stark vergrößeren."
   ]
  },
  {
   "cell_type": "code",
   "execution_count": null,
   "id": "9",
   "metadata": {
    "deletable": false
   },
   "outputs": [],
   "source": [
    "bffi = BruteForceFI(receipts, min_supp=2)\n",
    "bffi"
   ]
  },
  {
   "cell_type": "markdown",
   "id": "10",
   "metadata": {
    "deletable": false,
    "editable": false
   },
   "source": [
    "### Suche nach Assoziationsregeln\n",
    "Jede verbleibende Teilmenge ist nun häufig. Der Algorithmus arbeitet weiter:\n",
    "\n",
    "3. Für jedes häufige Itemset $X$ werden alle *echten*, *nichtleeren* Teilmengen $\\emptyset \\neq A \\subset X$ betrachtet. Geprüft wird dann, ob die Assoziationsregel $A \\rightarrow (X \\setminus A)$ eine vorgegebene Konfidenz erfüllt."
   ]
  },
  {
   "cell_type": "code",
   "execution_count": null,
   "id": "11",
   "metadata": {
    "deletable": false
   },
   "outputs": [],
   "source": [
    "bffi.association_rules()"
   ]
  },
  {
   "cell_type": "markdown",
   "id": "12",
   "metadata": {
    "deletable": false,
    "editable": false
   },
   "source": [
    "Offensichtlich lässt sich dieser Algorithmus aber nur für sehr kleine Mengen Datenbanken verwenden, da $2^{|I|}-1$ Teilmengen geprüft werden müssen. Die nachfolgenden Abschnitte beschäftigen sich deshalb mit effizienteren Methoden, um häufige Itemsets und Assoziationsregeln zu finden."
   ]
  }
 ],
 "metadata": {
  "kernelspec": {
   "display_name": "Python 3 (ipykernel)",
   "language": "python",
   "name": "python3"
  },
  "language_info": {
   "codemirror_mode": {
    "name": "ipython",
    "version": 3
   },
   "file_extension": ".py",
   "mimetype": "text/x-python",
   "name": "python",
   "nbconvert_exporter": "python",
   "pygments_lexer": "ipython3",
   "version": "3.12.8"
  }
 },
 "nbformat": 4,
 "nbformat_minor": 5
}
