{
 "cells": [
  {
   "cell_type": "markdown",
   "id": "9291c094-f57c-47e7-84a9-31cbbd3dfa28",
   "metadata": {
    "deletable": false,
    "editable": false
   },
   "source": [
    "# Eclat\n",
    "Eclat steht für **E**quivalence **Cla**ss **T**ransformation und ist ein weiterer Algorithmus für das Auffinden häufiger Muster. Im Gegensatz zum Apriori-Algorithmus, der einen horizontalen Ansatz verfolgt, verwendet Eclat einen vertikalen Ansatz zur Mustererkennung."
   ]
  },
  {
   "cell_type": "code",
   "execution_count": null,
   "id": "4a537f4d-6287-44ad-a141-4c3ef58a731d",
   "metadata": {
    "deletable": false
   },
   "outputs": [],
   "source": [
    "from tui_dsmt import OrderedSet\n",
    "from tui_dsmt.fpm import characters"
   ]
  },
  {
   "cell_type": "markdown",
   "id": "fceca7a5-67f0-46eb-b03d-a5507ed45795",
   "metadata": {
    "deletable": false,
    "editable": false
   },
   "source": [
    "## Inhaltsverzeichnis\n",
    "- [Vertikale Datenrepräsentation](#Vertikale-Datenrepräsentation)\n",
    "- [Vorbereitung der Traversierung und Äquivalenzklassen](#Vorbereitung-der-Traversierung-und-Äquivalenzklassen)\n",
    "- [Bottom-Up-Lattice-Traversierung](#Bottom-Up-Lattice-Traversierung)"
   ]
  },
  {
   "cell_type": "markdown",
   "id": "b2cc9393-3382-4721-b30c-43124dc58233",
   "metadata": {
    "deletable": false,
    "editable": false
   },
   "source": [
    "## Vertikale Datenrepräsentation\n",
    "Zur Verwendung des Eclat-Algorithmus muss zuerst die Liste der Transaktionen in eine andere Form umgewandelt werden. Die bisher untersuchten Einträge der Transaktionsdatenbanken bestanden grundsätzlich aus einer Transaktionsnummer und einer Menge an enthaltenen Items:"
   ]
  },
  {
   "cell_type": "code",
   "execution_count": null,
   "id": "16fb3f6b-80eb-4764-93ae-c1c6dfd863da",
   "metadata": {
    "deletable": false
   },
   "outputs": [],
   "source": [
    "characters"
   ]
  },
  {
   "cell_type": "markdown",
   "id": "f4df9661-28f2-410f-808f-187e006721b4",
   "metadata": {
    "deletable": false,
    "editable": false
   },
   "source": [
    "Ziel ist es nun für jedes Item eine Menge an Transaktionsnummern zu speichern, in denen dieses Item vorkommt:"
   ]
  },
  {
   "cell_type": "code",
   "execution_count": null,
   "id": "46d9f330-772d-4923-8ac6-10fa727f5116",
   "metadata": {
    "deletable": false
   },
   "outputs": [],
   "source": [
    "all_items = {}\n",
    "\n",
    "for tid, itemset in characters:\n",
    "    for item in itemset:\n",
    "        if (item,) not in all_items:\n",
    "            all_items[(item,)] = OrderedSet()\n",
    "\n",
    "        all_items[(item,)].add(tid)\n",
    "\n",
    "all_items"
   ]
  },
  {
   "cell_type": "markdown",
   "id": "591b5b9c-e4b5-4ca5-9166-c99ea38291b5",
   "metadata": {
    "deletable": false,
    "editable": false
   },
   "source": [
    "## Vorbereitung der Traversierung und Äquivalenzklassen\n",
    "Auch für Eclat wird ein minimaler Support verwendet, um frühzeitig Kandidaten auszuschließen."
   ]
  },
  {
   "cell_type": "code",
   "execution_count": null,
   "id": "e2d09452-136d-42c6-83ff-abb4c26f855f",
   "metadata": {
    "deletable": false
   },
   "outputs": [],
   "source": [
    "min_supp = 3"
   ]
  },
  {
   "cell_type": "markdown",
   "id": "f70e7551-66f1-4f2f-ba42-c5093c7d992a",
   "metadata": {
    "deletable": false,
    "editable": false
   },
   "source": [
    "Das Filtern nach dem minimalen Support ist sehr einfach, da für jedes Item alle zugehörigen Transaktionen bereits in einer Menge gespeichert sind."
   ]
  },
  {
   "cell_type": "code",
   "execution_count": null,
   "id": "40c060ce-5651-43c1-be22-15b84a96b4e8",
   "metadata": {
    "deletable": false
   },
   "outputs": [],
   "source": [
    "for item, tids in all_items.items():\n",
    "    if len(tids) >= min_supp:\n",
    "        print(item)"
   ]
  },
  {
   "cell_type": "markdown",
   "id": "5a614484-27ba-423c-9cb4-1f3ae19ac47d",
   "metadata": {
    "deletable": false,
    "editable": false
   },
   "source": [
    "Um nun zwei Itemsets zu kombinieren, müssen diese ein gemeinsames Präfix besitzen. Das bedeutet, dass bei Itemsets der Größe $k$ die ersten $k-1$ Items identisch sein müssen. Als **Äquivalenzklasse** wird dabei immer eine Menge aller Itemsets bezeichnet, die das gleiche Präfix besitzen und somit den Suchraum partitionieren.\n",
    "\n",
    "Zunächst ist das Präfix leer und alle $1$-Itemsets teilen sich dieses leere Präfix. Die Kombination zweier $1$-Itemsets ist daher sehr einfach. (Das kaufmännische Und `&` steht in Python für den Schnitt beider Mengen!)"
   ]
  },
  {
   "cell_type": "code",
   "execution_count": null,
   "id": "de573cad-a0e4-49d8-b37e-cdf72d33d7f4",
   "metadata": {
    "deletable": false
   },
   "outputs": [],
   "source": [
    "cf = all_items[('c',)] & all_items[('f',)]\n",
    "cf"
   ]
  },
  {
   "cell_type": "code",
   "execution_count": null,
   "id": "700324a1-36b2-4e32-8be9-d48bb4b61ffa",
   "metadata": {
    "deletable": false
   },
   "outputs": [],
   "source": [
    "cp = all_items[('c',)] & all_items[('p',)]\n",
    "cp"
   ]
  },
  {
   "cell_type": "markdown",
   "id": "4d03e8f8-ed15-4d16-9ec4-b667707318fa",
   "metadata": {
    "deletable": false,
    "editable": false
   },
   "source": [
    "Das Ergebnis ist also jeweils eine Menge von Transaktionen, die zuvor beiden zur Konstruktion verwendeten $1$-Itemsets zugeordnet wurden. Der Schnitt enthält somit alle Transaktionen, in denen das $2$-Itemset vollständig enthalten ist.\n",
    "\n",
    "Um ein $3$-Itemset zu erzeugen, werden zwei $2$-Itemsets aus der selben Äquivalenzklasse - also mit dem selben $1$-Präfix - kombiniert. In der nachfolgenden Zelle ist das Präfix dementsprechend `c`. Der Schnitt enthält wieder alle Transaktionsnummern, die das entstehende $3$-Itemset vollständig enthalten."
   ]
  },
  {
   "cell_type": "code",
   "execution_count": null,
   "id": "918e6ac6-468e-4dec-86a2-8b1457c6c468",
   "metadata": {
    "deletable": false
   },
   "outputs": [],
   "source": [
    "cfp = cf & cp\n",
    "cfp"
   ]
  },
  {
   "cell_type": "markdown",
   "id": "6b77967c-03b0-4785-9836-daafc22c5d6a",
   "metadata": {
    "deletable": false,
    "editable": false
   },
   "source": [
    "Die Kombinationen nur innerhalb einer Äquivalenzklasse zu bilden verhindert, dass Kandidaten mehrfach erzeugt werden. `cfp` könnte beispielsweise auch durch Kombination der Itemsets `cf` und `fp` gefunden werden. Diese Kombination wird aber nicht in Betracht gezogen, da die beiden $2$-Itemsets sich nicht in der selben Äquivalenzklasse befinden beziehungsweise sich bezüglich ihrer Präfixe unterscheiden."
   ]
  },
  {
   "cell_type": "markdown",
   "id": "0b6748b5-ff76-4d87-a7f2-3e02e1abe51d",
   "metadata": {
    "deletable": false,
    "editable": false
   },
   "source": [
    "## Bottom-Up-Lattice-Traversierung\n",
    "Der rekursive Algorithmus erledigt nun die folgenden Schritte:\n",
    "- Die Itemsets werden mit Hilfe des minimalen Supports gefiltert. (Anhand der Transaktionsliste ist das sehr einfach möglich.) Verbleibende Itemsets werden in das Ergebnis aufgenommen.\n",
    "- Aus Paaren zweier Itemsets wird nach dem zuvor beschriebenen Schema ein um ein Element größeres Itemset erstellt.\n",
    "- Mit der Menge der entstandenen, größeren Itemsets wird der Algorithmus rekursiv fortgesetzt."
   ]
  },
  {
   "cell_type": "code",
   "execution_count": null,
   "id": "0544773a-a662-4d7e-b9bc-09cc2915f58f",
   "metadata": {
    "deletable": false
   },
   "outputs": [],
   "source": [
    "def bottom_up(items, min_supp):\n",
    "    # Items nach minimalem Support filtern.\n",
    "    filtered_items = { k: v\n",
    "                       for k, v in items.items()\n",
    "                       if len(v) >= min_supp }\n",
    "\n",
    "    # Abbrechen, falls keine Items mehr verbleiben.\n",
    "    if not filtered_items:\n",
    "        return\n",
    "\n",
    "    # Alle verbleibenden Itemsets zurückgeben, da sie\n",
    "    # bereits den minimalen Support-Wert erfüllen.\n",
    "    yield from filtered_items.keys()\n",
    "\n",
    "    # Über alle verbleibenden Items iterieren.\n",
    "    for item1, item1_tids in filtered_items.items():\n",
    "        # Neues Dictionary für neues Präfix erstellen.\n",
    "        new_items = {}\n",
    "\n",
    "        # Über alle verbleibenden Items iterieren, um\n",
    "        # Paare zu bilden.\n",
    "        for item2, item2_tids in filtered_items.items():\n",
    "            # Überspringen, falls Paar nicht geordnet ist,\n",
    "            # um doppelte Behandlung zu vermeiden.\n",
    "            if item1 >= item2:\n",
    "                continue\n",
    "\n",
    "            # Paarung hinsichtlich des Präfix überprüfen.\n",
    "            # Überspringen, falls Präfix nicht übereinstimmt.\n",
    "            prefix_len = len(item1) - 1\n",
    "            if item1[:prefix_len] != item2[:prefix_len]:\n",
    "                continue\n",
    "\n",
    "            # Neuen Eintrag anhand der zusammengesetzten\n",
    "            # Itemsets bilden. Die gemeinsamen Transaktionen\n",
    "            # werden durch einen Schnitt gefunden.\n",
    "            new_items[item1 + item2[prefix_len:]] = item1_tids & item2_tids\n",
    "\n",
    "        # Rekursiver Aufruf mit gefundenen Kandidaten.\n",
    "        yield from bottom_up(new_items, min_supp)"
   ]
  },
  {
   "cell_type": "markdown",
   "id": "9449e7ea-29de-4e06-a0eb-319ef75f2e78",
   "metadata": {
    "deletable": false,
    "editable": false
   },
   "source": [
    "Die folgende Zelle ruft den Algorithmus mit den erzeugten $1$-Itemsets auf."
   ]
  },
  {
   "cell_type": "code",
   "execution_count": null,
   "id": "7f581a46-849c-479f-987c-df4529a9e39a",
   "metadata": {
    "deletable": false
   },
   "outputs": [],
   "source": [
    "for fi in bottom_up(all_items, min_supp=min_supp):\n",
    "    print(fi)"
   ]
  }
 ],
 "metadata": {
  "kernelspec": {
   "display_name": "Python 3 (ipykernel)",
   "language": "python",
   "name": "python3"
  },
  "language_info": {
   "codemirror_mode": {
    "name": "ipython",
    "version": 3
   },
   "file_extension": ".py",
   "mimetype": "text/x-python",
   "name": "python",
   "nbconvert_exporter": "python",
   "pygments_lexer": "ipython3",
   "version": "3.11.4"
  }
 },
 "nbformat": 4,
 "nbformat_minor": 5
}
