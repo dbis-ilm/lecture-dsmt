{
 "cells": [
  {
   "cell_type": "markdown",
   "id": "a521defd-b22b-4867-8b34-34cb0440580f",
   "metadata": {
    "deletable": false,
    "editable": false
   },
   "source": [
    "# Reihenfolge der Kandidatengenerierung\n",
    "In den vorangegangenen Abschnitten wurden verschiedene Algorithmen vorgestellt, die häufige Muster in Transaktionen und Sequenzen suchen. Verfahren, die Kandidaten generieren, gehen dabei auf verschiedene Weisen vor, die kurz veranschaulicht werden sollen."
   ]
  },
  {
   "cell_type": "code",
   "execution_count": null,
   "id": "7c310af2-9c50-404a-92d7-f4a711b20fed",
   "metadata": {
    "deletable": false
   },
   "outputs": [],
   "source": [
    "from tui_dsmt.fpm import ItemsetGrid, ItemsetGridApriori, ItemsetGridECLAT, extended_numbers"
   ]
  },
  {
   "cell_type": "markdown",
   "id": "0b03ae53-8fee-4bda-a981-e885053f300d",
   "metadata": {
    "deletable": false,
    "editable": false
   },
   "source": [
    "## Inhaltsverzeichnis\n",
    "- [Itemset Gitter](#Itemset-Gitter)\n",
    "- [Apriori-Algorithmus](#Apriori-Algorithmus)\n",
    "- [ECLAT-Algorithmus](#ECLAT-Algorithmus)"
   ]
  },
  {
   "cell_type": "markdown",
   "id": "d865583f-718b-4e0f-8797-6cdff1f7ae16",
   "metadata": {
    "deletable": false,
    "editable": false
   },
   "source": [
    "## Itemset Gitter\n",
    "Der nachfolgende Datensatz erhält kodiert einige IDs als Transaktionsdaten. Im Gegensatz zu einem vorangeganenen Kapitel wurden weitere Transaktionen hinzugefügt, um die Darstellung zu verbessern."
   ]
  },
  {
   "cell_type": "code",
   "execution_count": null,
   "id": "1dcaaa9a-5dc7-4434-b857-27e01d49e1c1",
   "metadata": {
    "deletable": false
   },
   "outputs": [],
   "source": [
    "extended_numbers"
   ]
  },
  {
   "cell_type": "markdown",
   "id": "75b8c26f-6d95-44bd-a8b2-ad37bbbdd775",
   "metadata": {
    "deletable": false,
    "editable": false
   },
   "source": [
    "Das nachfolgende Schaubild zählt alle möglichen Itemsets auf und setzt diese in Verbindung zueinander. Die Itemsets fungieren dabei als Knoten eines Graphen, während eine Kante zwischen zwei Itemsets eingefügt wird, sobald die erste eine Teilmenge der zweiten ist und die Länge der beiden sich um genau $1$ unterscheidet.\n",
    "\n",
    "Werden die Itemsets nach ihrer Länge gruppiert und reihenweise aufgezählt, entsteht die folgende Darstellung. Begonnen wird mit der leeren Menge, zu der jeweils eines der Items hinzugenommen werden kann. Zu diesen können wiederum schrittweise weitere Items hinzugenommen werden, bis die Menge aus allen zur Verfügung stehenden Items entsteht."
   ]
  },
  {
   "cell_type": "code",
   "execution_count": null,
   "id": "2cd0b264-3043-4e16-ada1-df204bbdaa4f",
   "metadata": {
    "deletable": false
   },
   "outputs": [],
   "source": [
    "ItemsetGrid(extended_numbers)"
   ]
  },
  {
   "cell_type": "markdown",
   "id": "21ccec68-8ed3-4b2d-8988-da2c9ad704b0",
   "metadata": {
    "deletable": false,
    "editable": false
   },
   "source": [
    "## Apriori-Algorithmus\n",
    "In der anschließenden Zelle können Sie die Kandidatengenerierung innerhalb des Itemset-Gitters schrittweise beobachten. Zunächst wird mit der leeren Menge gestartet, $C_1$ und $L_1$ erzeugt und dann iterativ mit den jeweiligen Join-, Pruning- und Filter-Schritten fortgefahren.\n",
    "\n",
    "Erzeugte Kandidaten werden blau markiert. Sobald diese durch Pruning oder Filterung entfernt werden, werden sie rot eingefärbt. Grau gebliebene Itemsets werden dagegen gar nicht erreicht, weil sie frühzeitig ausgeschlossen wurden."
   ]
  },
  {
   "cell_type": "code",
   "execution_count": null,
   "id": "ae1cedf7-0314-4500-bab8-762818b61771",
   "metadata": {
    "deletable": false
   },
   "outputs": [],
   "source": [
    "ItemsetGridApriori(extended_numbers)"
   ]
  },
  {
   "cell_type": "markdown",
   "id": "03050b83-6a75-465c-bdb1-5866ed81d9f4",
   "metadata": {
    "deletable": false,
    "editable": false
   },
   "source": [
    "Interessant ist dabei insbesondere die Reihenfolge, in welcher der Apriori-Algorithmus die Kandidaten generiert. Ausgehend von der leeren Menge werden zuerst alle 1-Itemsets erzeugt, dann alle 2-Itemsets, und so weiter. In jedem Schritt steigt damit die Distanz zum Start um genau eine Kante, die entsprechenden Itemsets werden abgearbeitet, um anschließend mit der nächsten \"Ebene\" fortzufahren.\n",
    "\n",
    "Die Konstruktion der Kandidatenmengen entspricht demnach der Breitensuche innerhalb eines Graphen."
   ]
  },
  {
   "cell_type": "markdown",
   "id": "b3297914-354b-4f1d-b8a7-66d35691e08f",
   "metadata": {
    "deletable": false,
    "editable": false
   },
   "source": [
    "## ECLAT-Algorithmus\n",
    "Nachfolgende können Sie die Traversierung des Itemset-Gitters mit Hilfe des ECLAT-Algorithmus betrachten. Die Farbgebung ist dabei komplizierter und teilt sich wie folgt ein:\n",
    "- In das Ergebnis aufgenommene Itemsets sind im gewohnten, dunklen blau eingefärbt.\n",
    "- Zur Erzeugung im aktuellen Schritt verwendete Itemsets sind grün.\n",
    "- Frisch erzeugte Itemsets sind cyan markiert.\n",
    "- Auf Grund des minimalen Supports herausgefilterte Itemsets sind rot, während akzeptierte Kandidaten ins dunklere blau wechseln."
   ]
  },
  {
   "cell_type": "code",
   "execution_count": null,
   "id": "f40f599a-20fb-49ee-8387-d3a546399ddb",
   "metadata": {
    "deletable": false
   },
   "outputs": [],
   "source": [
    "ItemsetGridECLAT(extended_numbers)"
   ]
  },
  {
   "cell_type": "markdown",
   "id": "efd7cd84-71a1-447a-a1ee-4a2b4fb062b7",
   "metadata": {
    "deletable": false,
    "editable": false
   },
   "source": [
    "Auch an dieser Stelle sei auf die Reihenfolge der Kandidatengenerierung hingewiesen. Der ECLAT-Algorithmus versucht zunächst die entstehenden Itemsets immer weiter zu größeren zu kombinieren, bis keine neuen Kandidaten mehr gefunden werden. Erst danach werden andere Wege gesucht und somit mit kleineren Itemsets fortgefahren.\n",
    "\n",
    "Die Konstruktion der Kandidatenmengen entspricht demnach der Tiefensuche innerhalb eines Graphen."
   ]
  }
 ],
 "metadata": {
  "kernelspec": {
   "display_name": "Python 3 (ipykernel)",
   "language": "python",
   "name": "python3"
  },
  "language_info": {
   "codemirror_mode": {
    "name": "ipython",
    "version": 3
   },
   "file_extension": ".py",
   "mimetype": "text/x-python",
   "name": "python",
   "nbconvert_exporter": "python",
   "pygments_lexer": "ipython3",
   "version": "3.11.4"
  }
 },
 "nbformat": 4,
 "nbformat_minor": 5
}
