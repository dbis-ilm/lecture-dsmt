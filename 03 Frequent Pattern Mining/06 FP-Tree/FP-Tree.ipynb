{
 "cells": [
  {
   "cell_type": "markdown",
   "id": "8f6b29df-d555-46c9-a13e-31e84f51b199",
   "metadata": {
    "deletable": false,
    "editable": false
   },
   "source": [
    "# FP-Tree\n",
    "**F**requent **P**attern **Tree**s stellen eine weitere Möglichkeit dar, um nach häufigen Itemsets zu suchen. Sie erzeugen eine spezielle Datenstruktur, die das aufwendige Konstruieren geeigneter Kandidaten vermeidet. Durch einen darauf angepassten Mining-Algorithmus lassen sich häufig auftauchende Kombinationen aus dem Baum ohne erneute Scans der Datenbank ableiten."
   ]
  },
  {
   "cell_type": "code",
   "execution_count": null,
   "id": "973eb0dd-6b8a-47be-bf3b-a1873e23953f",
   "metadata": {
    "deletable": false
   },
   "outputs": [],
   "source": [
    "from tui_dsmt.fpm import FPTree, characters2\n",
    "\n",
    "characters2"
   ]
  },
  {
   "cell_type": "markdown",
   "id": "2ed552f8-2218-40be-8ea4-b57368f822ae",
   "metadata": {
    "deletable": false,
    "editable": false
   },
   "source": [
    "## Inhaltsverzeichnis\n",
    "- [Aufbau des FP-Trees](#Aufbau-des-FP-Trees)\n",
    "- [Mining des Baumes](#Mining-des-Baumes)\n",
    "- [Zusammenfassung](#Zusammenfassung)"
   ]
  },
  {
   "cell_type": "markdown",
   "id": "171293a2-eeee-424c-97b7-410a7b929c0d",
   "metadata": {
    "deletable": false,
    "editable": false
   },
   "source": [
    "## Aufbau des FP-Trees\n",
    "Der FP-Tree ist eine spezielle Datenstruktur, die den Inhalt einer Transaktionsdatenbank komprimiert, aber vollständig abspeichert. Irrelevante Informationen bezüglich nicht-häufiger Items und mehrfach auftretender Kombinationen werden zeitig verworfen, sodass Komprimierungsfaktoren bis $100$ möglich sind. Der Vorteil gegenüber den bisher bekannten Verfahren ist die Vermeidung mehrfacher Scans der Datenbank und der Generierung viele potentieller Kandidaten.\n",
    "\n",
    "Wie bereits zuvor ist ein minimaler Supportwert nötig, der zu Beginn des Algorithmus bekannt sein muss."
   ]
  },
  {
   "cell_type": "code",
   "execution_count": null,
   "id": "b080190e-e782-459c-b079-a815fd1784ab",
   "metadata": {
    "deletable": false
   },
   "outputs": [],
   "source": [
    "min_supp = 0.5 * len(characters2)\n",
    "min_supp"
   ]
  },
  {
   "cell_type": "markdown",
   "id": "d8e2ac6d-b6d6-4154-a1b0-84dbf91ca5fc",
   "metadata": {
    "deletable": false,
    "editable": false
   },
   "source": [
    "Die Konstruktion des FP-Trees besteht aus drei Schritten:\n",
    "1. Zuerst werden häufige Itemsets der Länge $1$ in den Transaktionen gesucht.\n",
    "2. Die Items werden absteigend nach ihrer Häufigkeit sortiert und mit Hilfe des minimalen Supports gefiltert.\n",
    "3. Die Datenbank wird ein zweites Mal durchsucht und der FP-Tree aufgebaut."
   ]
  },
  {
   "cell_type": "markdown",
   "id": "ac4bf383-dff1-4cf0-ae75-1b9355d884c6",
   "metadata": {
    "deletable": false,
    "editable": false
   },
   "source": [
    "### Suche nach 1-Itemsets\n",
    "Zuerst werden alle $1$-Itemsets bestimmt und ihre Häufigkeit gezählt. Dazu muss einmal über alle Transaktionen iteriert werden."
   ]
  },
  {
   "cell_type": "code",
   "execution_count": null,
   "id": "aed68b29-4a8c-4233-9d25-7a19cb1616d5",
   "metadata": {
    "deletable": false
   },
   "outputs": [],
   "source": [
    "counts = {}\n",
    "for _, itemset in characters2:\n",
    "    for element in itemset:\n",
    "        counts[element] = counts.get(element, 0) + 1\n",
    "\n",
    "counts"
   ]
  },
  {
   "cell_type": "markdown",
   "id": "20b89fa0-6cfc-427c-a671-7d3080ed14b8",
   "metadata": {
    "deletable": false,
    "editable": false
   },
   "source": [
    "### Filtern und Sortieren\n",
    "Die gefundenen $1$-Itemsets werden absteigend nach ihrer Häufigkeit sortiert und anhand des vorgegebenen, minimalen Supports gefiltert."
   ]
  },
  {
   "cell_type": "code",
   "execution_count": null,
   "id": "92e2f8f0-9633-4b01-9a6c-18bfda620a32",
   "metadata": {
    "deletable": false
   },
   "outputs": [],
   "source": [
    "ordered_frequent_1_itemsets = sorted((itemset for itemset, count in counts.items() if count >= min_supp),\n",
    "                                     key=lambda x: (counts[x], x), reverse=True)\n",
    "ordered_frequent_1_itemsets"
   ]
  },
  {
   "cell_type": "markdown",
   "id": "87090e2c-e62d-48ed-9350-15d5d7315561",
   "metadata": {
    "deletable": false,
    "editable": false
   },
   "source": [
    "### Aufbau des Baumes und der Header-Tabelle\n",
    "Der Aufbau des FP-Trees besteht nun aus aus dem Füllen des Baumes und der gleichzeitigen Pflege einer Header-Tabelle.\n",
    "Der FP-Tree wird mit dem leeren Element als Wurzel initialisiert, während die Header-Tabelle leer ist.\n",
    "\n",
    "Anschließend wird die Datenbank ein zweites Mal gescannt. Dabei werden aus jeder Transaktion genau die Elemente ausgewählt, die sich ebenfalls in `ordered_frequent_1_itemsets` befinden, und anschließend nach ihrer Häufigkeit absteigend sortiert. Die verbleibenden Teilmengen jeder Transaktion werden ausgehend vom leeren Wurzelelement in den Baum eingetragen. Jeder Knoten erhält zudem einen Zähler, um festzustellen, in wie vielen Transaktionen der jeweilige Pfad vorkommt."
   ]
  },
  {
   "cell_type": "code",
   "execution_count": null,
   "id": "ffc15b0c-80f2-445f-8749-e47345f6117e",
   "metadata": {
    "deletable": false
   },
   "outputs": [],
   "source": [
    "fp_tree = FPTree(characters2, min_supp, custom_item_order=('f', 'c', 'a', 'b', 'm', 'p'))\n",
    "fp_tree"
   ]
  },
  {
   "cell_type": "markdown",
   "id": "afc4bb7b-f550-4236-8df6-a098f996dbb7",
   "metadata": {
    "deletable": false,
    "editable": false
   },
   "source": [
    "Parallel zum Aufbau des Baumes wird die rechtsseitig abgebildete Header-Tabelle gepflegt. In ihr befinden sich zeilenweise die 1-Itemsets, ihre (aktuelle) summierte Häufigkeit im Baum und eine Liste von Referenzen auf Knoten innerhalb des Baumes. Die Verbindung der jeweiligen Items ist innerhalb des Graphen zusätzlich durch gepunktete Kanten markiert.\n",
    "\n",
    "Die gespeicherten Verbindungen der Knoten werden beim Mining des Baumes relevant."
   ]
  },
  {
   "cell_type": "markdown",
   "id": "13eb62b2-30fd-48fe-a65c-3d1a625e3432",
   "metadata": {
    "deletable": false,
    "editable": false
   },
   "source": [
    "### Eigenschaften des FP-Trees\n",
    "Den FP-Tree charakterisieren zwei spezifische Eigenschaften:\n",
    "1. Die **Knoten-Link-Eigenschaft** besagt, dass für jedes häufige Item alle Muster, die dieses Item enthalten, über die von dem zugehörigen Knoten ausgehenden Kanten ermittelt werden können. (Durch die Verlinkung der bspw. $b$-Knoten untereinander können effizient alle Muster gefunden werden, die $b$ enthalten.)\n",
    "2. Die **Präfix-Pfad-Eigenschaft** besagt, dass zur Bestimmung der häufigen Muster für einen Knoten im Pfad nur die Präfix-Subpfade gesammelt werden müssen. Die Häufigkeit entspricht dann der Häufigkeit des Knotens. (So kommt $p$ zwei mal mit $f$, $c$, $a$ und $m$ und ein mal mit $c$ und $b$ vor.)"
   ]
  },
  {
   "cell_type": "markdown",
   "id": "6bca36d2-be7d-495b-9c92-b339ff743bc4",
   "metadata": {
    "deletable": false,
    "editable": false
   },
   "source": [
    "## Mining des Baumes\n",
    "Um die häufigen Itemsets zu finden, müssen die im FP-Tree gesammelten Informationen verarbeitet werden. Dafür wird der rekursive Algorithmus FP-Growth verwendet:\n",
    "- Für jedes Item wird eine konditionale Musterbasis und anschließend ein konditionaler FP-Tree erstellt.\n",
    "- Der Prozess wird für jeden erzeugten konditionalen FP-Tree wiederholt.\n",
    "- Sobald der resultierende FP-Tree leer ist oder nur einen Pfad enthält, ist das Mining abgeschlossen.\n",
    "\n",
    "Im Folgenden soll der Prozess stellvertretend für das Item `m` gezeigt werden."
   ]
  },
  {
   "cell_type": "markdown",
   "id": "1c678547-f646-43f5-82c8-f36bfaeaf8ca",
   "metadata": {
    "deletable": false,
    "editable": false
   },
   "source": [
    "### Konditionale Musterbasis\n",
    "Zuerst muss eine konditionale Musterbasis gebildet werden. Dazu wird die zuvor angelegte Header-Tabelle benutzt, um für jedes Item alle Präfixe zu sammeln und zu zählen."
   ]
  },
  {
   "cell_type": "code",
   "execution_count": null,
   "id": "11256b3e-4169-41a6-b062-b697ca57e8c0",
   "metadata": {
    "deletable": false
   },
   "outputs": [],
   "source": [
    "cpb = fp_tree.conditional_pattern_base\n",
    "cpb"
   ]
  },
  {
   "cell_type": "markdown",
   "id": "f14bbc4d-1d78-4f11-96b8-a32acec5f9fa",
   "metadata": {
    "deletable": false,
    "editable": false
   },
   "source": [
    "### Konditionaler FP-Tree\n",
    "Aus der konditionalen Musterbasis kann nun für ein einzelnes Item ein konditionaler FP-Tree erzeugt werden. Dazu wird die gesammelte Musterbasis in einen neuen Baum überführt."
   ]
  },
  {
   "cell_type": "code",
   "execution_count": null,
   "id": "0be0da1f-2007-41e1-8d43-db1bb321812a",
   "metadata": {
    "deletable": false
   },
   "outputs": [],
   "source": [
    "m_cfp_tree = cpb.conditional_fp_tree('m')\n",
    "m_cfp_tree"
   ]
  },
  {
   "cell_type": "markdown",
   "id": "ada208fc-379c-413e-bce7-24b93b679bd3",
   "metadata": {
    "deletable": false,
    "editable": false
   },
   "source": [
    "### Rekursives Mining\n",
    "Das Mining wird dann rekursiv fortgesetzt."
   ]
  },
  {
   "cell_type": "code",
   "execution_count": null,
   "id": "91fb1817-477a-47f6-906b-ef7f856f6eca",
   "metadata": {
    "deletable": false
   },
   "outputs": [],
   "source": [
    "m_cpb = m_cfp_tree.conditional_pattern_base\n",
    "m_cpb"
   ]
  },
  {
   "cell_type": "code",
   "execution_count": null,
   "id": "64eb7d96-e875-48ab-859a-066e14691e86",
   "metadata": {
    "deletable": false
   },
   "outputs": [],
   "source": [
    "am_cfp_tree = m_cpb.conditional_fp_tree('a')\n",
    "am_cfp_tree"
   ]
  },
  {
   "cell_type": "code",
   "execution_count": null,
   "id": "876658ba-dfef-4e7f-8691-dd98154615f9",
   "metadata": {
    "deletable": false
   },
   "outputs": [],
   "source": [
    "am_cpb = am_cfp_tree.conditional_pattern_base\n",
    "am_cpb"
   ]
  },
  {
   "cell_type": "code",
   "execution_count": null,
   "id": "4d7f0bbd-513e-4716-ac03-df0ae7744d47",
   "metadata": {
    "deletable": false
   },
   "outputs": [],
   "source": [
    "cam_fp_tree = am_cpb.conditional_fp_tree('c')\n",
    "cam_fp_tree"
   ]
  },
  {
   "cell_type": "code",
   "execution_count": null,
   "id": "be5eadf9-3100-4aaf-b058-cc617707d9e4",
   "metadata": {
    "deletable": false
   },
   "outputs": [],
   "source": [
    "cam_cpb = cam_fp_tree.conditional_pattern_base\n",
    "cam_cpb"
   ]
  },
  {
   "cell_type": "code",
   "execution_count": null,
   "id": "4b6d8388-1fd1-4fb4-8272-d9c4ff3a7f62",
   "metadata": {
    "deletable": false
   },
   "outputs": [],
   "source": [
    "fcam_fp_tree = cam_cpb.conditional_fp_tree('f')\n",
    "fcam_fp_tree"
   ]
  },
  {
   "cell_type": "markdown",
   "id": "005d4584-248b-4a52-b2e8-9b6eb848dc70",
   "metadata": {
    "deletable": false,
    "editable": false
   },
   "source": [
    "Ist ein leerer, konditionaler FP-Tree das Ergebnis, endet die Rekursion. Entlang dieses Pfades wurden damit die häufigen Itemsets `m`, `am`, `cam` und `fcam` gefunden. Probieren Sie ausgehend vom $m$-konditionalen FP-Tree auch andere Pfade aus, sodass Sie ebenfalls die Muster `fm`, `cm`, `fcm` und `fam` finden."
   ]
  },
  {
   "cell_type": "markdown",
   "id": "532686ad-3d0a-43e7-abb7-338de7e7bbac",
   "metadata": {
    "deletable": false,
    "editable": false
   },
   "source": [
    "## Zusammenfassung\n",
    "In diesem Notebook wurde ein Verfahren vorgestellt, das durch die geschickte Verwendung einer speziellen Datenstruktur keiner Kandidatengenerierung bedarf. Im Allgemeinen ist das Erstellen *und* Minen des FP-Tree schneller als die Verwendung des apriori-Algorithmus, auch wenn der Unterschied durch einen höheren, minimalen Support sinkt."
   ]
  }
 ],
 "metadata": {
  "kernelspec": {
   "display_name": "Python 3 (ipykernel)",
   "language": "python",
   "name": "python3"
  },
  "language_info": {
   "codemirror_mode": {
    "name": "ipython",
    "version": 3
   },
   "file_extension": ".py",
   "mimetype": "text/x-python",
   "name": "python",
   "nbconvert_exporter": "python",
   "pygments_lexer": "ipython3",
   "version": "3.10.12"
  }
 },
 "nbformat": 4,
 "nbformat_minor": 5
}
