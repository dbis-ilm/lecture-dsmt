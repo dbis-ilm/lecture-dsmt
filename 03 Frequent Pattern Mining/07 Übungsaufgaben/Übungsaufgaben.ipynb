{
 "cells": [
  {
   "cell_type": "markdown",
   "id": "dc204ee7",
   "metadata": {
    "deletable": false,
    "editable": false
   },
   "source": [
    "# Übungsblatt 4 - Klassische Data-Mining-Techniken"
   ]
  },
  {
   "cell_type": "markdown",
   "id": "c711bc11",
   "metadata": {
    "deletable": false,
    "editable": false
   },
   "source": [
    "## 1. Vorbereitung"
   ]
  },
  {
   "cell_type": "markdown",
   "id": "3e798067",
   "metadata": {
    "deletable": false,
    "editable": false
   },
   "source": [
    "Im Folgenden werden die Pakete `pandas`, `numpy`, `pyfpgrowth` und `mlxtend` benötigt. Importieren Sie die Pakete."
   ]
  },
  {
   "cell_type": "code",
   "execution_count": null,
   "id": "fa3b1e27",
   "metadata": {
    "deletable": false,
    "editable": false
   },
   "outputs": [],
   "source": [
    "import pandas as pd\n",
    "import numpy as np\n",
    "import mlxtend as mlx\n",
    "import pyfpgrowth as pyfp\n",
    "\n",
    "from mlxtend.preprocessing import TransactionEncoder\n",
    "from mlxtend.frequent_patterns import apriori\n",
    "from mlxtend.frequent_patterns import association_rules\n",
    "\n",
    "from tests import *"
   ]
  },
  {
   "cell_type": "markdown",
   "id": "0cf1897d",
   "metadata": {
    "deletable": false,
    "editable": false
   },
   "source": [
    "## 2. Apriori-Verfahren"
   ]
  },
  {
   "cell_type": "markdown",
   "id": "16bc8fe9",
   "metadata": {
    "deletable": false,
    "editable": false
   },
   "source": [
    "### 2.1\n",
    "Laden Sie den verkürzten Datensatz aus der Datei `tweets_12_2020_25k.tsv`."
   ]
  },
  {
   "cell_type": "code",
   "execution_count": null,
   "id": "e0e84776",
   "metadata": {
    "deletable": false,
    "tags": [
     "task2-1"
    ]
   },
   "outputs": [],
   "source": [
    "names = ['id','user','timestamp','followers','friends','retweets','favorites','entities','sentiment','mentions','hashtags','urls']\n",
    "dtypes = {'id':'str','user':'str','timestamp':'str','followers':'int','friends':'int','retweets':'int','favorites':'int','entities':'str','sentiment':'str','mentions':'str','hashtags':'str','urls':'str'}\n",
    "\n",
    "df = ...\n",
    "\n",
    "df"
   ]
  },
  {
   "cell_type": "code",
   "execution_count": null,
   "id": "21f02124-8994-4bb8-957f-55ff744272b4",
   "metadata": {
    "deletable": false,
    "editable": false
   },
   "outputs": [],
   "source": [
    "aufgabe2_1(df)"
   ]
  },
  {
   "cell_type": "markdown",
   "id": "dbf59f4e",
   "metadata": {
    "deletable": false,
    "editable": false
   },
   "source": [
    "### 2.2\n",
    "Filtern Sie alle Tweets ohne Hashtags heraus und laden Sie nur die Spalte mit den Hashtags in ein separates DataFrame.\n",
    "\n",
    "Tipp: Tweets ohne Hashtags enthalten in der entsprechenden Spalte `null;`."
   ]
  },
  {
   "cell_type": "code",
   "execution_count": null,
   "id": "2ce548e6",
   "metadata": {
    "deletable": false,
    "tags": [
     "task2-2"
    ]
   },
   "outputs": [],
   "source": [
    "filtered = df\n",
    "\n",
    "...\n",
    "\n",
    "hashtags_only = filtered['hashtags']\n",
    "hashtags_only"
   ]
  },
  {
   "cell_type": "code",
   "execution_count": null,
   "id": "73e92ffc-c068-46d9-ad79-f2b8e00c8eec",
   "metadata": {
    "deletable": false,
    "editable": false
   },
   "outputs": [],
   "source": [
    "aufgabe2_2(hashtags_only)"
   ]
  },
  {
   "cell_type": "code",
   "execution_count": null,
   "id": "a3747008",
   "metadata": {
    "deletable": false,
    "editable": false
   },
   "outputs": [],
   "source": [
    "hashtags_only.describe()"
   ]
  },
  {
   "cell_type": "markdown",
   "id": "cb8493dc",
   "metadata": {
    "deletable": false,
    "editable": false
   },
   "source": [
    "### 2.3\n",
    "Teilen Sie die durch Leerzeichen getrennten Hashtags auf und wandeln Sie Ihr enstehendes DataFrame in eine Liste von Listen von Hashtags um. Entfernen Sie dabei auch die `NaN` Einträge."
   ]
  },
  {
   "cell_type": "code",
   "execution_count": null,
   "id": "142f537e",
   "metadata": {
    "deletable": false,
    "tags": [
     "task2-3"
    ]
   },
   "outputs": [],
   "source": [
    "tags_list = [['tag1', 'tag2'], ['tag3']]\n",
    "\n",
    "...\n",
    "\n",
    "tags_list[:5]"
   ]
  },
  {
   "cell_type": "code",
   "execution_count": null,
   "id": "eed978b8-c0fd-4433-a03a-ae26c5856930",
   "metadata": {
    "deletable": false,
    "editable": false
   },
   "outputs": [],
   "source": [
    "aufgabe2_3(tags_list)"
   ]
  },
  {
   "cell_type": "markdown",
   "id": "09d49f30",
   "metadata": {
    "deletable": false,
    "editable": false
   },
   "source": [
    "### 2.4\n",
    "Transformieren Sie die Liste mithilfe eines One-Hot-Encodings. Speichern Sie das Ergebnis in einem DataFrame.\n",
    "\n",
    "Benutzen Sie dazu die klasse `TransactionEncoder`. Die Funktion `fit` stellt die eindeutigen Elemente fest und die Funktion `transform` wandelt den Datensatz entsprechend um."
   ]
  },
  {
   "cell_type": "code",
   "execution_count": null,
   "id": "59e26ed4",
   "metadata": {
    "deletable": false,
    "tags": [
     "task2-4"
    ]
   },
   "outputs": [],
   "source": [
    "te = TransactionEncoder()\n",
    "one_hot_encoded = ..."
   ]
  },
  {
   "cell_type": "code",
   "execution_count": null,
   "id": "bec5c456",
   "metadata": {
    "deletable": false,
    "editable": false,
    "tags": [
     "task2-4"
    ]
   },
   "outputs": [],
   "source": [
    "ohe_df = pd.DataFrame(one_hot_encoded, columns=te.columns_)\n",
    "ohe_df"
   ]
  },
  {
   "cell_type": "code",
   "execution_count": null,
   "id": "14140db4-de85-48cd-910b-25d2ee743f00",
   "metadata": {
    "deletable": false,
    "editable": false
   },
   "outputs": [],
   "source": [
    "aufgabe2_4(ohe_df)"
   ]
  },
  {
   "cell_type": "markdown",
   "id": "b8d7f41e",
   "metadata": {
    "deletable": false,
    "editable": false
   },
   "source": [
    "### 2.5\n",
    "Führen Sie den Apriori-Algorithmus aus, indem Sie die Funktion `apriori` mit dem eben entstandenen DataFrame aufrufen. Variieren Sie das Argument `min_support` mit den Werten für $10\\%$, $1\\%$ und $0.1\\%$ und beobachten Sie Veränderungen im Ergebnis."
   ]
  },
  {
   "cell_type": "code",
   "execution_count": null,
   "id": "42331a5c",
   "metadata": {
    "deletable": false,
    "tags": [
     "task2-5"
    ]
   },
   "outputs": [],
   "source": [
    "f_itemsets = apriori(ohe_df, min_support=1, use_colnames=True)\n",
    "f_itemsets"
   ]
  },
  {
   "cell_type": "markdown",
   "id": "722e8ad5",
   "metadata": {
    "deletable": false,
    "editable": false
   },
   "source": [
    "### 2.6\n",
    "Wie viele Mengen mit **drei** Elementen liefert `f_itemsets`?"
   ]
  },
  {
   "cell_type": "code",
   "execution_count": null,
   "id": "4dfb9ccb",
   "metadata": {
    "deletable": false,
    "tags": [
     "task2-6"
    ]
   },
   "outputs": [],
   "source": [
    "count = len(f_itemsets)\n",
    "\n",
    "...\n",
    "\n",
    "count"
   ]
  },
  {
   "cell_type": "code",
   "execution_count": null,
   "id": "7b35c640-4ec7-47e9-95f3-56e2fdc4de53",
   "metadata": {
    "deletable": false,
    "editable": false
   },
   "outputs": [],
   "source": [
    "aufgabe2_6(count)"
   ]
  },
  {
   "cell_type": "markdown",
   "id": "f957090e",
   "metadata": {
    "deletable": false,
    "editable": false
   },
   "source": [
    "### 2.7\n",
    "Generieren Sie die zugehörigen Assoziationsregeln mithilfe der Funktion `association_rules`. Verwenden Sie als Metrik die Konfidenz und setzen Sie dabei einen geeigneten Werte für `min_threshold` $\\in [0, 1]$."
   ]
  },
  {
   "cell_type": "code",
   "execution_count": null,
   "id": "a2640bdf",
   "metadata": {
    "deletable": false,
    "tags": [
     "task2-7"
    ]
   },
   "outputs": [],
   "source": [
    "rules = ...\n",
    "rules"
   ]
  },
  {
   "cell_type": "markdown",
   "id": "d4514cb9",
   "metadata": {
    "deletable": false,
    "editable": false
   },
   "source": [
    "## 3. FP-Growth"
   ]
  },
  {
   "cell_type": "markdown",
   "id": "0bf4c6b2",
   "metadata": {
    "deletable": false,
    "editable": false
   },
   "source": [
    "## 3.1\n",
    "Rufen Sie `find_frequent_patterns` aus `pyfpgrowth` (`pyfp`) auf. Als Parameter verwenden Sie das Ergebnis `tags_list` aus Aufgabe 2.3 und einen Support-Count. (z.B. $10$)"
   ]
  },
  {
   "cell_type": "code",
   "execution_count": null,
   "id": "5fd5ec7e",
   "metadata": {
    "deletable": false,
    "tags": [
     "task3-1"
    ]
   },
   "outputs": [],
   "source": [
    "patterns = ...\n",
    "patterns"
   ]
  },
  {
   "cell_type": "markdown",
   "id": "bd561b3c",
   "metadata": {
    "deletable": false,
    "editable": false
   },
   "source": [
    "Experimentieren Sie mit dem Support-Count und beobachten Sie Änderungen am Ergebnis."
   ]
  },
  {
   "cell_type": "markdown",
   "id": "cc597153",
   "metadata": {
    "deletable": false,
    "editable": false
   },
   "source": [
    "## 3.2\n",
    "Rufen Sie `generate_association_rules` aus `pyfpgrowth` (`pyfp`) auf. Als Parameter übergeben Sie `patterns` und ein Konfidenz-Schwellwert. (z.B. $0.8$)"
   ]
  },
  {
   "cell_type": "code",
   "execution_count": null,
   "id": "528a1f5c",
   "metadata": {
    "deletable": false,
    "tags": [
     "task3-2"
    ]
   },
   "outputs": [],
   "source": [
    "rules_pgr = ...\n",
    "rules_pgr"
   ]
  },
  {
   "cell_type": "markdown",
   "id": "5a65395a",
   "metadata": {
    "deletable": false,
    "editable": false
   },
   "source": [
    "## 4. Quantitative Assoziationsregeln"
   ]
  },
  {
   "cell_type": "markdown",
   "id": "dd218a8d",
   "metadata": {
    "deletable": false,
    "editable": false
   },
   "source": [
    "### 4.1\n",
    "Importieren Sie den Datensatz `drinks.csv` in ein DataFrame und lassen Sie sich einige Details zum Datensatz ausgeben."
   ]
  },
  {
   "cell_type": "code",
   "execution_count": null,
   "id": "b633b687",
   "metadata": {
    "deletable": false,
    "tags": [
     "task4-1"
    ]
   },
   "outputs": [],
   "source": [
    "drinks = ...\n",
    "drinks"
   ]
  },
  {
   "cell_type": "code",
   "execution_count": null,
   "id": "89fd2d11-2de3-4c6e-b2d1-70d23a72d583",
   "metadata": {
    "deletable": false,
    "editable": false
   },
   "outputs": [],
   "source": [
    "aufgabe4_1(drinks)"
   ]
  },
  {
   "cell_type": "code",
   "execution_count": null,
   "id": "6165dc8d",
   "metadata": {
    "deletable": false,
    "editable": false,
    "tags": [
     "task4-1"
    ]
   },
   "outputs": [],
   "source": [
    "drinks.describe()"
   ]
  },
  {
   "cell_type": "markdown",
   "id": "9be92323",
   "metadata": {
    "deletable": false,
    "editable": false
   },
   "source": [
    "### 4.2\n",
    "Wandeln Sie den DataFrame in eine Liste um, konvertieren Sie die numerischen Attribute in Strings und erstellen Sie daraus eine One-Hot-Kodierung."
   ]
  },
  {
   "cell_type": "code",
   "execution_count": null,
   "id": "43b1ebab",
   "metadata": {
    "deletable": false,
    "tags": [
     "task4-2"
    ]
   },
   "outputs": [],
   "source": [
    "te = TransactionEncoder()\n",
    "drinks_ohe = ...\n",
    "\n",
    "drinks_ohe"
   ]
  },
  {
   "cell_type": "code",
   "execution_count": null,
   "id": "c27457bf-d4c8-44c9-8a16-5049698fb617",
   "metadata": {
    "deletable": false,
    "editable": false
   },
   "outputs": [],
   "source": [
    "aufgabe4_2(drinks_ohe)"
   ]
  },
  {
   "cell_type": "markdown",
   "id": "ecca55bb",
   "metadata": {
    "deletable": false,
    "editable": false
   },
   "source": [
    "### 4.3\n",
    "Konvertieren Sie `drinks_ohe` in ein DataFrame, rufen Sie den Apriori-Algorithmus auf und bilden Sie aus dem Ergebnis Assoziationsregeln."
   ]
  },
  {
   "cell_type": "code",
   "execution_count": null,
   "id": "97cffb43",
   "metadata": {
    "deletable": false,
    "tags": [
     "task4-3"
    ]
   },
   "outputs": [],
   "source": [
    "rules = ...\n",
    "rules"
   ]
  },
  {
   "cell_type": "markdown",
   "id": "f2c6fffe",
   "metadata": {
    "deletable": false,
    "editable": false
   },
   "source": [
    "### 4.4\n",
    "Kopieren Sie das DataFrame `drinks`. Geben Sie dem entstehenden DataFrame neue Attribute, die jedes numerische Attribut in drei Bereiche einteilt. Überlassen Sie dabei Pandas die Wahl der Intervallgrenzen. Löschen Sie anschließend die Spalten mit den nicht mehr benötigten Attributen."
   ]
  },
  {
   "cell_type": "code",
   "execution_count": null,
   "id": "3dff9205",
   "metadata": {
    "deletable": false,
    "tags": [
     "task4-4"
    ]
   },
   "outputs": [],
   "source": [
    "df = drinks.copy()\n",
    "\n",
    "df['beer'] = ...\n",
    "df['spirit'] = ...\n",
    "df['wine'] = ...\n",
    "df['litres'] = ...\n",
    "\n",
    "df = df.drop(labels=['beer_servings','spirit_servings','wine_servings','total_litres_of_pure_alcohol'], axis=1)\n",
    "df"
   ]
  },
  {
   "cell_type": "markdown",
   "id": "f3ff47c4",
   "metadata": {
    "deletable": false,
    "editable": false
   },
   "source": [
    "Konvertieren Sie das entstandene DataFrame in eine Liste und erzeugen Sie eine One-Hot-Kodierung auf Basis der diskretisierten Spalten."
   ]
  },
  {
   "cell_type": "code",
   "execution_count": null,
   "id": "47f37454",
   "metadata": {
    "deletable": false,
    "tags": [
     "task4-4"
    ]
   },
   "outputs": [],
   "source": [
    "drinks_ohe = ...\n",
    "drinks_ohe"
   ]
  },
  {
   "cell_type": "code",
   "execution_count": null,
   "id": "c8fa7431-e82d-418d-92ad-b09839d8e87f",
   "metadata": {
    "deletable": false,
    "editable": false
   },
   "outputs": [],
   "source": [
    "aufgabe4_4(drinks_ohe)"
   ]
  },
  {
   "cell_type": "markdown",
   "id": "88e307fe",
   "metadata": {
    "deletable": false,
    "editable": false
   },
   "source": [
    "### 4.5\n",
    "Konvertieren Sie `drinks_ohe` in ein DataFrame, rufen Sie den Apriori-Algorithmus auf und bilden Sie aus dem Ergebnis Assoziationsregeln."
   ]
  },
  {
   "cell_type": "code",
   "execution_count": null,
   "id": "24a18a15",
   "metadata": {
    "deletable": false,
    "tags": [
     "task4-5"
    ]
   },
   "outputs": [],
   "source": [
    "rules = ...\n",
    "rules"
   ]
  }
 ],
 "metadata": {
  "kernelspec": {
   "display_name": "Python 3 (ipykernel)",
   "language": "python",
   "name": "python3"
  },
  "language_info": {
   "codemirror_mode": {
    "name": "ipython",
    "version": 3
   },
   "file_extension": ".py",
   "mimetype": "text/x-python",
   "name": "python",
   "nbconvert_exporter": "python",
   "pygments_lexer": "ipython3",
   "version": "3.10.12"
  }
 },
 "nbformat": 4,
 "nbformat_minor": 5
}
