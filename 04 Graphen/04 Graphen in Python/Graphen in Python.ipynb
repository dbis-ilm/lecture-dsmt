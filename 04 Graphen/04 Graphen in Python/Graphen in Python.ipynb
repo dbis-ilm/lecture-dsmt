{
 "cells": [
  {
   "cell_type": "markdown",
   "id": "e3620c69",
   "metadata": {
    "deletable": false,
    "editable": false
   },
   "source": [
    "# Graphen in Python\n",
    "Um Graphen mit Python zu verarbeiten, gibt es verschiedene Bibliotheken. Eine der einsteigerfreundlichsten ist NetworkX."
   ]
  },
  {
   "cell_type": "markdown",
   "id": "4deaf454",
   "metadata": {
    "deletable": false,
    "editable": false
   },
   "source": [
    "## Inhaltsverzeichnis\n",
    "- [Über NetworkX](#Über-NetworkX)\n",
    "- [Erstellung des Graphen](#Erstellung-des-Graphen)\n",
    "- [Adjazenzmatrix und -liste](#Adjazenzmatrix-und--liste)\n",
    "- [Pfade und Zusammenhang](#Pfade-und-Zusammenhang)\n",
    "- [Struktur des Graphen](#Struktur-des-Graphen)\n",
    "- [Graphen aus Dateien](#Graphen-aus-Dateien)"
   ]
  },
  {
   "cell_type": "markdown",
   "id": "1112c634",
   "metadata": {
    "deletable": false,
    "editable": false
   },
   "source": [
    "## Über NetworkX\n",
    "NetworkX ist eine freie Python-Bibliothek zur Erstellung, Transformation und Analyse von Graphen und ähnlich gearteten Netzwerken. Neben verschiedenen Arten von Graphen stehen viele Standardalgorithmen, Analysefunktionen und Zeichnungsmethoden zur Verfügung, die demnach nicht selbst implementiert werden müssen. Die Bibliothek ist vollständig in Python geschrieben [und leidet bei großen Graphen deshalb unter Performanceproblemen](https://graph-tool.skewed.de/performance), ist dafür aber einfach zu installieren, bietet ein einfaches Interface und eine ausführliche Dokumentation.\n",
    "\n",
    "Importieren Sie als erstes das Paket `networkx`. Die Entwickler empfehlen, wie Sie das eventuell bereits von Pandas oder NumPy kennen, die Verwendung eines kurzen Alias."
   ]
  },
  {
   "cell_type": "code",
   "execution_count": null,
   "id": "818c49c3",
   "metadata": {
    "deletable": false
   },
   "outputs": [],
   "source": [
    "import networkx as nx"
   ]
  },
  {
   "cell_type": "markdown",
   "id": "09d529fc-b682-401c-b9de-6cdef4c422dc",
   "metadata": {
    "deletable": false,
    "editable": false
   },
   "source": [
    "## Erstellung des Graphen\n",
    "NetworkX unterstützt unterschiedliche Arten von Graphen. Der ungerichtete Graph mit einfachen Kanten wird als `Graph` bezeichnet. Ein gerichteter Graph mit einfach Kanten verwendet dagegen die Bezeichnung `DiGraph`."
   ]
  },
  {
   "cell_type": "code",
   "execution_count": null,
   "id": "ccc5bdd1-d3cd-40c3-92e8-45a8c451cc04",
   "metadata": {
    "deletable": false
   },
   "outputs": [],
   "source": [
    "G = nx.Graph()"
   ]
  },
  {
   "cell_type": "markdown",
   "id": "3c1c7e98-0a03-471f-973d-a09957fad514",
   "metadata": {
    "deletable": false,
    "editable": false
   },
   "source": [
    "Standardmäßig ist ein Graph leer. Er enthält also weder Knoten noch Kanten. Zum Hinzufügen von Knoten verwenden Sie entweder die Funktion `add_node`, um einzelne Knoten hinzuzufügen, oder `add_nodes_from`, um mehrere Knoten hinzuzufügen."
   ]
  },
  {
   "cell_type": "code",
   "execution_count": null,
   "id": "39ac66ea-4015-46d7-a19c-fbe88193928f",
   "metadata": {
    "deletable": false
   },
   "outputs": [],
   "source": [
    "G.add_node('Knoten 1')\n",
    "G.add_nodes_from(['Knoten 1', 'Knoten 2', 'Knoten 3', 'Knoten 4'])"
   ]
  },
  {
   "cell_type": "markdown",
   "id": "23c0a225-19da-45d5-82fc-bfcfd9f68aeb",
   "metadata": {
    "deletable": false,
    "editable": false
   },
   "source": [
    "Knoten werden anhand ihres Namens identifiziert. Wird der selbe Name mehrfach verwendet, verbleibt dennoch nur ein einzelner Knoten mit eben diesem Namen im Graphen."
   ]
  },
  {
   "cell_type": "markdown",
   "id": "a91c8680-0dd6-4839-9cf3-d1a9986e98b5",
   "metadata": {
    "deletable": false,
    "editable": false
   },
   "source": [
    "Kanten werden analog zu den Knoten mit den Funktion `add_edge` und `add_edges_from` hinzugefügt. Kanten sind immer Paare aus einem Startknoten und einem Zielknoten, die anhand ihres Namens vorgegeben werden. In Graphen mit einfachen Kanten wird das Hinzufügen einer zweiten Kante mit dem selben Start- und Zielknoten ignoriert. Verläuft eine Kante zwischen Knoten, die bisher noch nicht im Graphen enthalten sind, werden diese automatisch hinzugefügt. (In zusammenhängenden Graphen kommt man also vollständig ohne das explizite Hinzufügen von Knoten aus.)"
   ]
  },
  {
   "cell_type": "code",
   "execution_count": null,
   "id": "deaaa010-e645-42c5-9a12-f92e799ea6b9",
   "metadata": {
    "deletable": false
   },
   "outputs": [],
   "source": [
    "G.add_edge('Knoten 1', 'Knoten 3')\n",
    "G.add_edge('Knoten 4', 'Knoten 5')  # Knoten 5 ist noch nicht vorhanden\n",
    "\n",
    "G.add_edges_from([\n",
    "    ('Knoten 1', 'Knoten 2'),\n",
    "    ('Knoten 1', 'Knoten 4'),\n",
    "    ('Knoten 5', 'Knoten 2')\n",
    "])"
   ]
  },
  {
   "cell_type": "markdown",
   "id": "05213e77-5eca-4bad-92f4-c6808bb0fa77",
   "metadata": {
    "deletable": false,
    "editable": false
   },
   "source": [
    "Zum Zeichnen eines Graphen steht die Funktion `draw` zur Verfügung."
   ]
  },
  {
   "cell_type": "code",
   "execution_count": null,
   "id": "0964505f-2572-48b3-a39b-a9d000ae80ee",
   "metadata": {
    "deletable": false
   },
   "outputs": [],
   "source": [
    "nx.draw(G, with_labels=True)"
   ]
  },
  {
   "cell_type": "markdown",
   "id": "64968abb-fad8-4240-94d6-4268f78bf193",
   "metadata": {
    "deletable": false,
    "editable": false
   },
   "source": [
    "Einige [verwandte Funktionen](https://networkx.org/documentation/stable/reference/drawing.html) können zusätzlich andere Layouts erzeugen. Für kleine Graphen reicht jedoch die Funktion `draw` in der Regel aus."
   ]
  },
  {
   "cell_type": "markdown",
   "id": "14591bfd-f5cf-4c1c-a15e-52ad506d8e06",
   "metadata": {
    "deletable": false,
    "editable": false
   },
   "source": [
    "## Adjazenzmatrix und -liste\n",
    "Ist der Graph einmal erstellt, lassen sich die üblichen Repräsentationen mit NetworkX leicht erstellt. Die Adjazenzliste wird durch die Funktion `generate_adjlist` erzeugt. Dabei wird von einem Generator jeder Knoten nacheinander aufgeführt. Der erste Eintrag ist dabei immer der Name des Quellknotens, während alle weiteren genannten Knoten durch eine Kante verbunden sind."
   ]
  },
  {
   "cell_type": "code",
   "execution_count": null,
   "id": "9c4aec75-314b-48e1-8a34-5db1cc7261cc",
   "metadata": {
    "deletable": false
   },
   "outputs": [],
   "source": [
    "list(nx.generate_adjlist(G))"
   ]
  },
  {
   "cell_type": "markdown",
   "id": "17f05614-7445-4c44-93fb-9b1b8a7da1b0",
   "metadata": {
    "deletable": false,
    "editable": false
   },
   "source": [
    "Die Adjazenzmatrix wird zum Beispiel durch die Funktion `to_numpy_array` erzeugt. Es gibt Alternativen, die andere Datenstrukturen zur Speicherung verwenden, wie beispielsweise `adjacency_matrix`."
   ]
  },
  {
   "cell_type": "code",
   "execution_count": null,
   "id": "2756d45b-6335-490f-bc5b-3258cbafcbf6",
   "metadata": {
    "deletable": false
   },
   "outputs": [],
   "source": [
    "nx.to_numpy_array(G)"
   ]
  },
  {
   "cell_type": "markdown",
   "id": "3a64d5ed-17cd-4d86-83cb-47739b57f7a9",
   "metadata": {
    "deletable": false,
    "editable": false
   },
   "source": [
    "## Pfade und Zusammenhang\n",
    "Zur Suche von Pfaden steht die Funktion `shortest_path` zur Verfügung. Dem Namen folgend bestimmt Sie den kürzesten Pfad zwischen zwei vorgegebenen Knoten."
   ]
  },
  {
   "cell_type": "code",
   "execution_count": null,
   "id": "a3891ca0-61a7-4b23-8d28-80db8f475db1",
   "metadata": {
    "deletable": false
   },
   "outputs": [],
   "source": [
    "nx.shortest_path(G, 'Knoten 3', 'Knoten 5')"
   ]
  },
  {
   "cell_type": "markdown",
   "id": "8c324d12-2f8c-45ef-90b2-fccf0a8b661b",
   "metadata": {
    "deletable": false,
    "editable": false
   },
   "source": [
    "Falls Sie an allen kürzesten Pfaden interessiert sind, existiert zusätzlich die Funktion `all_shortest_paths`."
   ]
  },
  {
   "cell_type": "code",
   "execution_count": null,
   "id": "231bd0f4-938b-4420-ae7e-f89ffd6765ed",
   "metadata": {
    "deletable": false
   },
   "outputs": [],
   "source": [
    "list(nx.all_shortest_paths(G, 'Knoten 3', 'Knoten 5'))"
   ]
  },
  {
   "cell_type": "markdown",
   "id": "8106b3cd-b9a4-4816-875d-074fa08e4323",
   "metadata": {
    "deletable": false,
    "editable": false
   },
   "source": [
    "Den Zusammenhang können Sie nun entweder durch Finden eines Pfades zwischen jeder paarweisen Kombination zweier Knoten prüfen oder mit Hilfe der Funktion `is_connected`. Gibt diese `False` zurück, ist der Graph nicht zusammenhängen. `True` lautet der Rückgabewert bei einem Zusammenhängenden Graphen."
   ]
  },
  {
   "cell_type": "code",
   "execution_count": null,
   "id": "ffd7e770-1000-4da9-b9c1-ff3f8ae60a30",
   "metadata": {
    "deletable": false
   },
   "outputs": [],
   "source": [
    "nx.is_connected(G)"
   ]
  },
  {
   "cell_type": "markdown",
   "id": "6092a81a-5f70-47a0-9d01-dd9df71677fe",
   "metadata": {
    "deletable": false,
    "editable": false
   },
   "source": [
    "Mit `connected_components` gibt es außerdem die Möglichkeit, die einzelnen Komponenten aufzählen zu lassen. Diese Funktion gibt Liste mit Mengen von Knoten zurück, die jeweils einer Komponente angehören. Ist im Ergebnis nur eine Menge vorhanden, ist der Graph folglich zusammenhängend."
   ]
  },
  {
   "cell_type": "code",
   "execution_count": null,
   "id": "d16310e4-8c05-4239-a03e-2d7a7ac255e4",
   "metadata": {
    "deletable": false
   },
   "outputs": [],
   "source": [
    "list(nx.connected_components(G))"
   ]
  },
  {
   "cell_type": "markdown",
   "id": "80f45f54",
   "metadata": {
    "deletable": false,
    "editable": false
   },
   "source": [
    "## Struktur des Graphen"
   ]
  },
  {
   "cell_type": "markdown",
   "id": "e3f11747",
   "metadata": {
    "deletable": false,
    "editable": false
   },
   "source": [
    "Zur Bestimmung der **Dichte** stellt NetworkX die Funktion `density` bereit. Im Beispielgraphen sind fünf Kanten vorhanden, während der vollständig verbundene Graph $K_5$ zehn Kanten besitzt und damit die obere Grenze für die Anzahl an Kanten in einem Graphen mit fünf Knoten setzt."
   ]
  },
  {
   "cell_type": "code",
   "execution_count": null,
   "id": "0e6a1d05",
   "metadata": {
    "deletable": false
   },
   "outputs": [],
   "source": [
    "nx.density(G)"
   ]
  },
  {
   "cell_type": "markdown",
   "id": "3e705795",
   "metadata": {
    "deletable": false,
    "editable": false
   },
   "source": [
    "Der **Knotengrad** repräsentiert ein einfaches Merkmal, um die Relevanz eines Knotens einzuschätzen. Die Funktion `degree` gibt ein Objekt zurück, das jedem Knoten seinen Grad zuordnet."
   ]
  },
  {
   "cell_type": "code",
   "execution_count": null,
   "id": "d72cb64e",
   "metadata": {
    "deletable": false
   },
   "outputs": [],
   "source": [
    "nx.degree(G)"
   ]
  },
  {
   "cell_type": "markdown",
   "id": "768fef85-a47d-4f64-a0b8-be7ab9c1f815",
   "metadata": {
    "deletable": false,
    "editable": false
   },
   "source": [
    "## Graphen aus Dateien\n",
    "NetworkX erlaubt das Schreiben in und das Lesen aus Dateien. Zum Schreiben steht die Funktion `write_edgelist` bereit, die zeilenweise durch Leerzeichen getrennte Tupel bestehend aus Quellknoten, Zielknoten und Metadaten enthält. Mit den Parameters `data` und `delimiter` lassen sich gewöhnliche CSV-Dateien erzeugen."
   ]
  },
  {
   "cell_type": "code",
   "execution_count": null,
   "id": "eeeee9ea-75e8-48c4-b928-28cb5e03c0c2",
   "metadata": {
    "deletable": false
   },
   "outputs": [],
   "source": [
    "nx.write_edgelist(G, 'graph.csv', data=False, delimiter=',')"
   ]
  },
  {
   "cell_type": "markdown",
   "id": "1680d6ae-ec74-43a2-bf23-f9fcc33e8935",
   "metadata": {
    "deletable": false,
    "editable": false
   },
   "source": [
    "Mit der Methode `read_edgelist` lassen sich diese Dateien auch wieder einlesen. Mit `is_isomorphic` lassen sich zwei Graphen auf Isomorphie prüfen. (Achtung: Bei großen Graphen kann diese Prüfung sehr viel Zeit in Anspruch nehmen!)"
   ]
  },
  {
   "cell_type": "code",
   "execution_count": null,
   "id": "c9fad196-2afa-4740-a290-f4aeb7643177",
   "metadata": {
    "deletable": false
   },
   "outputs": [],
   "source": [
    "G2 = nx.read_edgelist('graph.csv', data=False, delimiter=',')\n",
    "\n",
    "nx.is_isomorphic(G, G2)"
   ]
  },
  {
   "cell_type": "markdown",
   "id": "5f095b71-7056-4300-a755-35859ebff45c",
   "metadata": {
    "deletable": false,
    "editable": false
   },
   "source": [
    "Endet ein Dateiname mit `.gz` oder `.bz2`, wird automatisch eine Kompression oder Dekompression aktiviert. Außerdem stehen [weitere Formate](https://networkx.org/documentation/stable/reference/readwrite/index.html) zur Verfügung, sodass Graphen aus NetworkX in einer Vielzahl anderer Software geladen werden können und umgekehrt."
   ]
  }
 ],
 "metadata": {
  "kernelspec": {
   "display_name": "Python 3 (ipykernel)",
   "language": "python",
   "name": "python3"
  },
  "language_info": {
   "codemirror_mode": {
    "name": "ipython",
    "version": 3
   },
   "file_extension": ".py",
   "mimetype": "text/x-python",
   "name": "python",
   "nbconvert_exporter": "python",
   "pygments_lexer": "ipython3",
   "version": "3.10.12"
  }
 },
 "nbformat": 4,
 "nbformat_minor": 5
}
