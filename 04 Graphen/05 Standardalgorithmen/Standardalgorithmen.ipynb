{
 "cells": [
  {
   "cell_type": "markdown",
   "id": "9a015c03-b5bc-4b0c-904e-1c9dad3460f6",
   "metadata": {
    "deletable": false,
    "editable": false
   },
   "source": [
    "# Standardalgorithmen\n",
    "Zum Durchlaufen eines Graphen existieren zwei Standardalgorithmen, die jeder Programmierer kennen sollte."
   ]
  },
  {
   "cell_type": "markdown",
   "id": "450df3cd-e9bc-429a-aef7-aa9ef422b04a",
   "metadata": {
    "deletable": false,
    "editable": false
   },
   "source": [
    "## Inhaltsverzeichnis\n",
    "- [Vorbereitung](#Vorbereitung)\n",
    "- [Breitensuche](#Breitensuche)\n",
    "- [Tiefensuche](#Tiefensuche)"
   ]
  },
  {
   "cell_type": "markdown",
   "id": "57de0820-492d-4cf5-8c7a-bc1025c3698a",
   "metadata": {
    "deletable": false,
    "editable": false
   },
   "source": [
    "## Vorbereitung\n",
    "Laden Sie zunächst NetworkX und den Beispielgraphen."
   ]
  },
  {
   "cell_type": "code",
   "execution_count": null,
   "id": "82c8abb5-7811-4472-8d17-57334ac2f0de",
   "metadata": {
    "deletable": false
   },
   "outputs": [],
   "source": [
    "import networkx as nx\n",
    "G = nx.read_edgelist('graph.csv', data=False, delimiter=',')"
   ]
  },
  {
   "cell_type": "markdown",
   "id": "cb17e105-77ba-4b88-8c96-e3abcec16b87",
   "metadata": {
    "deletable": false,
    "editable": false
   },
   "source": [
    "Der Beispielgraph enthält ausgewählte Städte aus Deutschland, Österreich und der Schweiz. (Wie immer ist die Position der Knoten nicht relevant. Es werden nur die Knoten und ihre Verbindungen untereinander betrachtet.)"
   ]
  },
  {
   "cell_type": "code",
   "execution_count": null,
   "id": "081b915e-3ccb-4441-9fdb-7e4689e52916",
   "metadata": {
    "deletable": false
   },
   "outputs": [],
   "source": [
    "nx.draw_spring(G, with_labels=True)"
   ]
  },
  {
   "cell_type": "markdown",
   "id": "64bbd925-13db-4b7e-827f-30dd68d506a9",
   "metadata": {
    "deletable": false,
    "editable": false
   },
   "source": [
    "Im Folgenden wollen wir diesen Graphen durchlaufen. Hannover dient dabei als Ausgangspunkt. Im Laufe der Algorithmen wird dabei auch jeweils ein kürzester Pfad zu allen anderen Knoten berechnet. (Entfernungen oder Fahrzeiten werden in diesem Beispiel nicht beachtet. Ausschließlich die Anzahl an Kanten ist relevant!)"
   ]
  },
  {
   "cell_type": "markdown",
   "id": "64552084-ee0a-48fa-9713-d298656af462",
   "metadata": {
    "deletable": false,
    "editable": false
   },
   "source": [
    "## Breitensuche\n",
    "Die Breitensuche ist das erste von zwei einfachen Verfahren. Sie sucht - dem Namen entsprechend - zuerst in die Breite, bevor in die Tiefe gegangen wird. Das Verfahren funktioniert wie folgt:\n",
    "- Allen Knoten wird ein Attribut zugeordnet, dass sie als noch nicht besucht kennzeichnet.\n",
    "- Es wird eine Liste angelegt, die den Startknoten mit der Distanz $0$ enthält. Der Startknoten wird als besucht markiert.\n",
    "- Solange die Liste nicht leer ist\n",
    "  - wird das erste Element entnommen,\n",
    "  - die aktuelle Entfernung gespeichert und\n",
    "  - alle durch eine Kante erreichbaren mit der aktuellen Tiefe der Liste hinzugefügt und als besucht markiert, sofern diese nicht bereits zuvor besucht wurden. (Die letzte Bedingung ist relevant in Graphen, die Kreise enthalten.)\n",
    "\n",
    "Ausgehend vom Startknoten werden dann zuerst alle Knoten besucht, die eine Kante entfernt liegen, dann alle Knoten, die zwei Kanten entfernt liegen, usw..."
   ]
  },
  {
   "cell_type": "code",
   "execution_count": null,
   "id": "52ad955e-ff1b-42ec-91bc-7b98672f6198",
   "metadata": {
    "deletable": false
   },
   "outputs": [],
   "source": [
    "# \"besucht\" und \"Entfernung\" setzen\n",
    "for node in G:\n",
    "    G.nodes[node]['visited'] = False\n",
    "    G.nodes[node]['distance'] = 0\n",
    "\n",
    "# Besuchsliste anlegen und Startknoten als besucht markieren\n",
    "visit = [('Hannover', 0)]\n",
    "G.nodes['Hannover']['visited'] = True\n",
    "\n",
    "# solange die Liste nicht leer ist\n",
    "while len(visit) > 0:\n",
    "    # erstes Element entfernen\n",
    "    current_node, current_distance = visit.pop(0)\n",
    "    print(current_distance, current_node)\n",
    "\n",
    "    # als besucht markieren und Entfernung setzen\n",
    "    G.nodes[current_node]['distance'] = current_distance\n",
    "\n",
    "    # alle nicht besuchten Nachbarn der Liste hinzufügen\n",
    "    for neighbor in G.neighbors(current_node):\n",
    "        if not G.nodes[neighbor]['visited']:\n",
    "            G.nodes[neighbor]['visited'] = True\n",
    "            visit.append((neighbor, current_distance + 1))"
   ]
  },
  {
   "cell_type": "markdown",
   "id": "0748fb2a-afbe-42bc-88b2-035a31b42f6f",
   "metadata": {
    "deletable": false,
    "editable": false
   },
   "source": [
    "Da die Knoten in der Reihenfolge der Entfernung besucht werden, findet die Breitensuche kürzeste Wege zu jedem erreichbaren Knoten. Knoten, die nach dem Ende des Algorithmus nicht besucht wurden, sind diese nicht mit dem Startknoten verbunden."
   ]
  },
  {
   "cell_type": "markdown",
   "id": "9f6273f0-7220-47b8-9ed4-cf62587093df",
   "metadata": {
    "deletable": false,
    "editable": false
   },
   "source": [
    "In der nachfolgenden Zelle haben Sie die Möglichkeit, dem Algorithmus Schritt für Schritt bei der Arbeit zuzusehen."
   ]
  },
  {
   "cell_type": "code",
   "execution_count": null,
   "id": "e24b483a-9bcf-4d39-96b4-cb9fa8f7c00c",
   "metadata": {
    "deletable": false
   },
   "outputs": [],
   "source": [
    "from tui_dsmt.graph import BFS\n",
    "BFS(G, start_node='Hannover')"
   ]
  },
  {
   "cell_type": "markdown",
   "id": "ce6f4b5d-1531-4474-819c-06b069f943a9",
   "metadata": {
    "deletable": false,
    "editable": false
   },
   "source": [
    "## Tiefensuche\n",
    "Die Tiefensuche hingegen sucht dem Namen entsprechend zuerst in der Tiefe. Dafür wird ausgehend vom Startknoten ein Weg solange verfolgt, bis keine nicht mehr besuchten Nachbarn gefunden werden können. Danach wird nur so weit zurückgegangen, bis durch eine andere Kante wieder in die Tiefe gesucht werden kann.\n",
    "\n",
    "Der Algorithmus wird in der Regel rekursiv implementiert und verläuft nun wie folgt:\n",
    "- Alle Knoten werden als nicht besucht markiert.\n",
    "- Vom Startknoten ausgehend wird eine Funktion aufgerufen, die\n",
    "  - den Knoten als besucht markiert.\n",
    "  - sich selbst rekursiv für alle Nachbarknoten aufruft, die noch nicht besucht wurden.\n",
    "\n",
    "In Graphen mit Zyklen findet die einfache Tiefensuche nicht zwangsläufig einen kürzesten Pfad."
   ]
  },
  {
   "cell_type": "code",
   "execution_count": null,
   "id": "0492b284-50d8-4b99-92f1-562fea99fabb",
   "metadata": {
    "deletable": false
   },
   "outputs": [],
   "source": [
    "# \"besucht\" und \"Entfernung\" setzen\n",
    "for node in G:\n",
    "    G.nodes[node]['visited'] = False\n",
    "\n",
    "# Besuchsfunktion\n",
    "def visit(node, distance=0):\n",
    "    print('  ' * distance, node, sep='')\n",
    "\n",
    "    # Knoten als besucht markieren\n",
    "    G.nodes[node]['visited'] = True\n",
    "\n",
    "    # rekursiver Aufruf für noch nicht besuchte Nachbarn\n",
    "    for neighbor in G.neighbors(node):\n",
    "        if not G.nodes[neighbor]['visited']:\n",
    "            visit(neighbor, distance+1)\n",
    "\n",
    "# initialer Aufruf mit Startknoten\n",
    "visit('Hannover')"
   ]
  },
  {
   "cell_type": "markdown",
   "id": "d5a788d7-8ee6-4749-9ead-602d82e5395b",
   "metadata": {
    "deletable": false,
    "editable": false
   },
   "source": [
    "Die Einrückung repräsentiert die Tiefe des rekursiven Aufrufs. Zu erkennen ist, dass zuerst maximal in die Tiefe gegangen wird, bevor der Algorithmus zurückkehrt und andere Nachbarn besucht. Auch bei diesem Algorithmus sind Knoten nicht mit dem Startknoten verbunden, wenn sie nach dem Ende noch nicht besucht wurden."
   ]
  },
  {
   "cell_type": "markdown",
   "id": "aec13b38-ba06-4cba-a60a-577cd3603575",
   "metadata": {
    "deletable": false,
    "editable": false
   },
   "source": [
    "In der nachfolgenden Zelle haben Sie die Möglichkeit, dem Algorithmus Schritt für Schritt bei der Arbeit zuzusehen."
   ]
  },
  {
   "cell_type": "code",
   "execution_count": null,
   "id": "fc267377-f3dc-4e48-813a-966c45506914",
   "metadata": {
    "deletable": false
   },
   "outputs": [],
   "source": [
    "from tui_dsmt.graph import DFS\n",
    "DFS(G, start_node='Hannover')"
   ]
  }
 ],
 "metadata": {
  "kernelspec": {
   "display_name": "Python 3 (ipykernel)",
   "language": "python",
   "name": "python3"
  },
  "language_info": {
   "codemirror_mode": {
    "name": "ipython",
    "version": 3
   },
   "file_extension": ".py",
   "mimetype": "text/x-python",
   "name": "python",
   "nbconvert_exporter": "python",
   "pygments_lexer": "ipython3",
   "version": "3.10.12"
  }
 },
 "nbformat": 4,
 "nbformat_minor": 5
}
