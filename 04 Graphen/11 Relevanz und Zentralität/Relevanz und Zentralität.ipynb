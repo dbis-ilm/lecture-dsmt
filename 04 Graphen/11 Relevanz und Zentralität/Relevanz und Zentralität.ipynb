{
 "cells": [
  {
   "cell_type": "markdown",
   "id": "e16713d3-c7e8-47da-b6fa-887f49f8a52a",
   "metadata": {
    "deletable": false,
    "editable": false
   },
   "source": [
    "# Relevanz und Zentralität\n",
    "In einem Graphen gibt es Knoten, die wichtiger sind als andere. Verschiedene Arten von Relevanz und Methoden zur Bestimmung werden in diesem Abschnitt behandelt."
   ]
  },
  {
   "cell_type": "code",
   "execution_count": null,
   "id": "718a485a-733b-40be-9584-714ca55987fa",
   "metadata": {
    "deletable": false
   },
   "outputs": [],
   "source": [
    "import networkx as nx\n",
    "from tui_dsmt.graph import InteractiveGraph\n",
    "\n",
    "from graph_data import wiki, wiki_pos"
   ]
  },
  {
   "cell_type": "markdown",
   "id": "1b86cec7-f09e-4107-abc8-c4124f47747a",
   "metadata": {
    "deletable": false,
    "editable": false
   },
   "source": [
    "## Inhaltsverzeichnis\n",
    "- [Arten von Relevanz](#Arten-von-Relevanz)\n",
    "- [Degree-Zentralität](#Degree-Zentralität)\n",
    "- [Closeness-Zentralität](#Closeness-Zentralität)\n",
    "- [Betweenness-Zentralität](#Betweenness-Zentralität)\n",
    "- [Eigenvector-Zentralität](#Eigenvector-Zentralität)"
   ]
  },
  {
   "cell_type": "markdown",
   "id": "f7e76213-dd3d-4b04-92e3-f7bbb16afbed",
   "metadata": {
    "deletable": false,
    "editable": false
   },
   "source": [
    "## Arten von Relevanz\n",
    "Der folgende **ungerichtete** Graph $G = (V, E)$ enthält als Knoten die Titel verschiedener Wikipedia Artikel aus der Kategorie *Softwarearchitektur* und Kanten zwischen eben diesen Titeln, wenn die zugehörigen Artikel aufeinander mit Hilfe eines Links aufeinander verweisen. Betrachten Sie den Graphen und suchen Sie nach potentiell relevanten Knoten."
   ]
  },
  {
   "cell_type": "code",
   "execution_count": null,
   "id": "29a24068-cd92-4773-ac24-663df3a6e783",
   "metadata": {
    "deletable": false
   },
   "outputs": [],
   "source": [
    "InteractiveGraph(wiki, wiki_pos)"
   ]
  },
  {
   "cell_type": "markdown",
   "id": "6b948ee8-6fc5-4868-b98f-1a737994c130",
   "metadata": {
    "deletable": false,
    "editable": false
   },
   "source": [
    "Von Hand nach relevanten Knoten zu suchen entpuppt sich bereits in diesem kleinen Graphen mit circa $1.000$ Knoten als aussichtslos. Wir wollen daher eine Systematik der Relevanz einführen und diese automatisiert berechnen lassen.\n",
    "\n",
    "Verschiedene Methonde zur Bestimmung der Relevanz werden daher in vier verschiedene Klassen eingeteilt und separat betrachtet:\n",
    "1. Einfache Algorithmen betrachten den Grad an Verbundenheit der Knoten mit ihren direkten Nachbarn. (Degree)\n",
    "2. Komplexer ist das Messen der Verbundenheit mit allen anderen Knoten im Netzwerk. (Closeness)\n",
    "3. Auch die Häufigkeit als Teil eines kürzesten Pfades kann eine Aussage über die Relevanz treffen. (Betweenness)\n",
    "4. Es existieren weitere Möglichkeiten, den Einfluss eines Knotens auf Grund seiner Verbundenheit mit anderen einflussreichen Knoten einzuschätzen. (Eigenvector)"
   ]
  },
  {
   "cell_type": "markdown",
   "id": "8801f3e0-e942-46b2-a445-7be3d805f5a0",
   "metadata": {
    "deletable": false,
    "editable": false
   },
   "source": [
    "## Degree-Zentralität\n",
    "Wie zuvor angedeutet ist die Degree-Zentralität ein Maß für die Anzahl der Verbindungen eines Knotens innerhalb eines Netzwerks. Das Ziel der Verbindung ist dabei nicht relevant, einzig und allein die Anzahl entscheidet. Vergleichen lässt sich das mit einem sozialen Netzwerk: Wer mit vielen anderen Menschen befreundet ist, hat potentiell eine große Reichweite.\n",
    "\n",
    "Innerhalb eines Graphen lässt sich die Degree-Zentralität $C_D$ für einen spezifischen Knoten $n$ mit Hilfe des Knotengrades bestimmen:\n",
    "\n",
    "$$\n",
    "C_D(n) = deg(n)\n",
    "$$"
   ]
  },
  {
   "cell_type": "code",
   "execution_count": null,
   "id": "862af753-55f7-41d3-a4ae-7b299c38ea7d",
   "metadata": {
    "deletable": false
   },
   "outputs": [],
   "source": [
    "degree_per_node = nx.degree(wiki)\n",
    "\n",
    "degree_per_node['Programmierschnittstelle'], \\\n",
    "degree_per_node['Internet Printing Protocol']"
   ]
  },
  {
   "cell_type": "markdown",
   "id": "0ef910c6-2a5d-4448-a9b0-51bc4e3af6f5",
   "metadata": {
    "deletable": false,
    "editable": false
   },
   "source": [
    "Durch Sortierung lassen sich die im Sinne der Degree-Zentralität relevantesten Knoten finden:"
   ]
  },
  {
   "cell_type": "code",
   "execution_count": null,
   "id": "27452bff-a8d8-4c1b-9509-43bdebcb21db",
   "metadata": {
    "deletable": false
   },
   "outputs": [],
   "source": [
    "ds = sorted(((degree_per_node[node], node) for node in wiki.nodes), reverse=True)\n",
    "ds[:20]"
   ]
  },
  {
   "cell_type": "markdown",
   "id": "493859a2-114e-40b2-851d-dbc7b6a3a362",
   "metadata": {
    "deletable": false,
    "editable": false
   },
   "source": [
    "Durch zielgerichtetes Einfärben der Knoten lassen sich auch Muster in der grafischen Darstellung erkennen:"
   ]
  },
  {
   "cell_type": "code",
   "execution_count": null,
   "id": "d53dd1fa-fcc4-4d5f-be53-69df20d05fec",
   "metadata": {
    "deletable": false
   },
   "outputs": [],
   "source": [
    "InteractiveGraph(wiki, wiki_pos, degree_per_node)"
   ]
  },
  {
   "cell_type": "markdown",
   "id": "baaa7f98-6a0a-4206-894e-762f8b4ef161",
   "metadata": {
    "deletable": false,
    "editable": false
   },
   "source": [
    "## Closeness-Zentralität\n",
    "Die direkte Reichweite ist allerdings nicht das einzige Kriterium. Wer beispielsweise einen Werbepartner sucht, wird nicht nur auf die direkte Reichweite achten, sondern auch auf die Möglichkeit des \"Herumsprechens\". Im Sinne der Closeness-Zentralität ist ein Knoten daher relevanter, wenn die durchschnittliche Länge der Verbindungen von ihm zu anderen Knoten relativ kurz ist.\n",
    "\n",
    "Diese Verbundenheit wird für einen einzelnen Knoten wie folgt berechnet: Von einem Knoten $n$ wird zu jedem anderen Knoten $m$ ein kürzester Pfad gebildet. Die Länge dieser Pfade $l$ wird aufsummiert. Zuletzt wird der Kehrwert gebildet, sodass Knoten mit kurzen Pfaden einen höheren Wert für die Closeness-Zentralität erhalten.\n",
    "\n",
    "$$\n",
    "C_C(n) = \\frac{1}{\\sum_{m \\in V, n \\neq m} l(n, m)}\n",
    "$$"
   ]
  },
  {
   "cell_type": "code",
   "execution_count": null,
   "id": "56a694ba-0ed4-4f95-809f-af3811650872",
   "metadata": {
    "deletable": false
   },
   "outputs": [],
   "source": [
    "closeness_per_node = nx.closeness_centrality(wiki)\n",
    "\n",
    "closeness_per_node['Programmierschnittstelle'], \\\n",
    "closeness_per_node['Internet Printing Protocol']"
   ]
  },
  {
   "cell_type": "markdown",
   "id": "ca0e2b48-efe0-4640-99bb-7139ba0bfb9b",
   "metadata": {
    "deletable": false,
    "editable": false
   },
   "source": [
    "Natürlich lässt sich auch die Closeness-Zentralität für die Sortierung nutzen. Die Ergebnisse weichen bereits bei den oberen Plätzen vom Knotengrad ab."
   ]
  },
  {
   "cell_type": "code",
   "execution_count": null,
   "id": "49ad2d60-c40d-4452-9b45-f82ad4bc42ac",
   "metadata": {
    "deletable": false
   },
   "outputs": [],
   "source": [
    "cs = sorted(((closeness_per_node[node], node) for node in wiki.nodes), reverse=True)\n",
    "cs[:20]"
   ]
  },
  {
   "cell_type": "markdown",
   "id": "26ec0952-f628-42d2-9466-7f2dc40f5bb1",
   "metadata": {
    "deletable": false,
    "editable": false
   },
   "source": [
    "In der grafischen Darstellung wird der Unterschied umso deutlicher."
   ]
  },
  {
   "cell_type": "code",
   "execution_count": null,
   "id": "24933ed4-b25a-43c4-9557-1624366d43f6",
   "metadata": {
    "deletable": false
   },
   "outputs": [],
   "source": [
    "InteractiveGraph(wiki, wiki_pos, closeness_per_node)"
   ]
  },
  {
   "cell_type": "markdown",
   "id": "cd99adc9-77b2-40e7-8a80-90dd45915eac",
   "metadata": {
    "deletable": false,
    "editable": false
   },
   "source": [
    "## Betweenness-Zentralität\n",
    "Die Betweenness-Zentralität hebt die Eigenschaft von Knoten als \"Brücken\" hervor. Eine Person in einem Netzwerk, die sich auf vielen kürzesten Pfaden befindet, dient als Verbindungsknoten und hat gleichermaßen die Möglichkeit, die Weitergabe von Informationen zu verzögern beziehungsweise die Nutzung von längeren Pfaden zu erzwingen. Die Relevanz ergibt sich also wieder nicht aus der direkten Reichweite, sondern analog zur Closeness-Zentralität durch die Rolle des Knoten im Graphen.\n",
    "\n",
    "Berechnet wird die Betweenness-Zentralität durch Bildung aller kürzesten Pfade $P(m, o)$ zwischen jedem beliebigen Paar $(m, o)$ zweier unterschiedlicher Knoten. Um den Wert für einen spezifischen Knoten $n$ zu erhalten, wird die Anzahl dieser Pfade, die $n$ enthalten, $P_n(m, o)$ durch die Gesamtanzahl von Pfaden dividiert und für alle Paare aufsummiert.\n",
    "\n",
    "$$\n",
    "C_B(n) = \\sum_{(m,o) \\in V \\times V, m \\neq o} \\frac{P_n(m, o)}{P(m, o)}\n",
    "$$"
   ]
  },
  {
   "cell_type": "code",
   "execution_count": null,
   "id": "82cf9246-e32b-44f9-9c10-feafd6145942",
   "metadata": {
    "deletable": false
   },
   "outputs": [],
   "source": [
    "betweenness_per_node = nx.betweenness_centrality(wiki)\n",
    "\n",
    "betweenness_per_node['Programmierschnittstelle'], \\\n",
    "betweenness_per_node['Internet Printing Protocol']"
   ]
  },
  {
   "cell_type": "markdown",
   "id": "3dc8f016-ea73-451c-a4db-e9474bfbf9ca",
   "metadata": {
    "deletable": false,
    "editable": false
   },
   "source": [
    "Erneut weicht die Sortierung nach diesem Kriterium von den anderen Methoden ab."
   ]
  },
  {
   "cell_type": "code",
   "execution_count": null,
   "id": "77aacbbc-81c2-424d-97a4-a208f74328e7",
   "metadata": {
    "deletable": false
   },
   "outputs": [],
   "source": [
    "bs = sorted(((betweenness_per_node[node], node) for node in wiki.nodes), reverse=True)\n",
    "bs[:20]"
   ]
  },
  {
   "cell_type": "markdown",
   "id": "e34b3fc7-9187-4d81-b73e-20aa00a89ee4",
   "metadata": {
    "deletable": false,
    "editable": false
   },
   "source": [
    "Mit Hilfe des Einfärbens ist der Unterschied auch im Graphen deutlich zu sehen:"
   ]
  },
  {
   "cell_type": "code",
   "execution_count": null,
   "id": "0d350179-65ec-4a44-8816-d645a25464e8",
   "metadata": {
    "deletable": false
   },
   "outputs": [],
   "source": [
    "InteractiveGraph(wiki, wiki_pos, betweenness_per_node)"
   ]
  },
  {
   "cell_type": "markdown",
   "id": "172abd77-b3d9-4f5d-811b-e7d4c6b998cc",
   "metadata": {
    "deletable": false,
    "editable": false
   },
   "source": [
    "## Eigenvector-Zentralität\n",
    "Die Eigenvector-Zentralität weist jedem Knoten im Netzwerk eine relative Relevanz zu. Berechnet wird diese auf Basis der Relevanz der Nachbarknoten, sodass nur Knoten relevant sein können, die ihrerseits relevante Nachbarn besitzen. Der Name leitet sich aus der Berechnung ab, die sich auf ein Eigenwertproblem zurückführen lässt.\n",
    "\n",
    "### PageRank\n",
    "Einer der bekanntesten Algorithmen zur Einschätzung der Relevanz ist PageRank. Ursprünglich von Larry Page und Sergey Brin entwickelt, diente er der Google Suche in ihrer Anfangszeit als Kriterium für die Bewertung von Websites. Weit oben in den Suchergebnissen sollten die Seiten auftauchen, die nicht nur häufig, sondern insbesondere von anderen als wichtig eingeschätzten Seiten verlinkt wurden.\n",
    "\n",
    "Zur Berechnung der PageRank-Wertung wurde ursprünglich eine rekursive Formel aufgestellt. Benötigt wird zur Berechnung des Wertes für einen Knoten $n$ die Menge der auf ihn verweisenden Nachbarn $N_n$, die Menge der Nachbarn $S_n$, auf die $n$ verweist, und ein Dämpfungsfaktor $d \\in (0, 1)$.\n",
    "\n",
    "$$\n",
    "C_{PR}(n) = \\frac{1 - d}{|N_n|} + d * \\sum_{m \\in N_n} \\frac{C_{PR}(m)}{|S_m|}\n",
    "$$\n",
    "\n",
    "Die Gleichung lässt sich auf ein Eigenwertproblem zurückführen und effizient mit Hilfe von Matrixoperationen lösen. In NetworkX ist eine entsprechende Funktion ebenfalls integriert."
   ]
  },
  {
   "cell_type": "code",
   "execution_count": null,
   "id": "c9f33f68-4419-4956-9b5e-fc94f5651424",
   "metadata": {
    "deletable": false
   },
   "outputs": [],
   "source": [
    "pagerank_per_node = nx.betweenness_centrality(wiki)\n",
    "\n",
    "pagerank_per_node['Programmierschnittstelle'], \\\n",
    "pagerank_per_node['Internet Printing Protocol']"
   ]
  },
  {
   "cell_type": "markdown",
   "id": "3e27de60-8eb6-434d-b50a-7a5dd56fd48f",
   "metadata": {
    "deletable": false,
    "editable": false
   },
   "source": [
    "Wie bereits zuvor folgen die Knoten mit der höchsten Bewertung:"
   ]
  },
  {
   "cell_type": "code",
   "execution_count": null,
   "id": "c2f86602-9669-4354-ad4d-8f7105a7ddf7",
   "metadata": {
    "deletable": false
   },
   "outputs": [],
   "source": [
    "prs = sorted(((pagerank_per_node[node], node) for node in wiki.nodes), reverse=True)\n",
    "prs[:20]"
   ]
  },
  {
   "cell_type": "markdown",
   "id": "a368503d-f8e7-491c-8e83-17ca951d205e",
   "metadata": {
    "deletable": false,
    "editable": false
   },
   "source": [
    "Auch das Einfärben offenbart Unterschiede zu anderen Methoden:"
   ]
  },
  {
   "cell_type": "code",
   "execution_count": null,
   "id": "75571ebb-1030-43ee-96e4-278409b86e63",
   "metadata": {
    "deletable": false
   },
   "outputs": [],
   "source": [
    "InteractiveGraph(wiki, wiki_pos, pagerank_per_node)"
   ]
  }
 ],
 "metadata": {
  "kernelspec": {
   "display_name": "Python 3 (ipykernel)",
   "language": "python",
   "name": "python3"
  },
  "language_info": {
   "codemirror_mode": {
    "name": "ipython",
    "version": 3
   },
   "file_extension": ".py",
   "mimetype": "text/x-python",
   "name": "python",
   "nbconvert_exporter": "python",
   "pygments_lexer": "ipython3",
   "version": "3.10.12"
  }
 },
 "nbformat": 4,
 "nbformat_minor": 5
}
