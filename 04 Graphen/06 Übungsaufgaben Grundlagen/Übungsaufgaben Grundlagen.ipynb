{
 "cells": [
  {
   "cell_type": "markdown",
   "id": "49455de3-8528-45f3-80ab-dda493233e40",
   "metadata": {
    "deletable": false,
    "editable": false,
    "slideshow": {
     "slide_type": ""
    },
    "tags": []
   },
   "source": [
    "# Übungsaufgaben zu den Grundlagen der Graphentheorie"
   ]
  },
  {
   "cell_type": "code",
   "execution_count": null,
   "id": "11d7086b-3eaa-4546-90ca-15ea89db30d8",
   "metadata": {
    "deletable": false,
    "editable": false,
    "slideshow": {
     "slide_type": ""
    },
    "tags": []
   },
   "outputs": [],
   "source": [
    "import networkx as nx"
   ]
  },
  {
   "cell_type": "markdown",
   "id": "90e1d0ef-46f4-4202-95a4-82a2b43a06c0",
   "metadata": {
    "deletable": false,
    "editable": false,
    "slideshow": {
     "slide_type": ""
    },
    "tags": []
   },
   "source": [
    "## Aufgabe 1 - Bauer, Kohl, Schaf, Wolf\n",
    "Modellieren Sie den vollständigen Graphen mit NetworkX."
   ]
  },
  {
   "cell_type": "code",
   "execution_count": null,
   "id": "06f69f3f-6f96-4bce-b76b-ad7a05fa314a",
   "metadata": {
    "deletable": false,
    "editable": true,
    "slideshow": {
     "slide_type": ""
    },
    "tags": []
   },
   "outputs": [],
   "source": [
    "G = nx.Graph()\n",
    "\n",
    "G.add_node('BKSW|')\n",
    "G.add_node('|BKSW')"
   ]
  },
  {
   "cell_type": "code",
   "execution_count": null,
   "id": "2e31cfc2-a1d3-4e09-b065-8d4ca2419ecf",
   "metadata": {
    "deletable": false,
    "editable": false,
    "slideshow": {
     "slide_type": ""
    },
    "tags": []
   },
   "outputs": [],
   "source": [
    "nx.draw_spring(G, node_size=1500, with_labels=True, font_size=9, font_color='whitesmoke')"
   ]
  },
  {
   "cell_type": "markdown",
   "id": "9e2f5f7f-22c5-4d9a-8ef6-5c316fe4882c",
   "metadata": {
    "deletable": false,
    "editable": false
   },
   "source": [
    "Verwenden Sie die Funktion `all_shortest_paths`, um alle kürzesten Pfade von der Start- zur Zielstellung zu finden."
   ]
  },
  {
   "cell_type": "code",
   "execution_count": null,
   "id": "e8edce68-e3ff-4db9-bf32-4b60624d25c4",
   "metadata": {
    "deletable": false,
    "editable": true,
    "slideshow": {
     "slide_type": ""
    },
    "tags": []
   },
   "outputs": [],
   "source": [
    "paths = ...\n",
    "paths"
   ]
  },
  {
   "cell_type": "markdown",
   "id": "bd52c341-cb13-4608-89f5-6dedf45e2224",
   "metadata": {
    "deletable": false,
    "editable": false,
    "slideshow": {
     "slide_type": ""
    },
    "tags": []
   },
   "source": [
    "## Aufgabe 2 - Das Haus vom Nikolaus\n",
    "Modellieren Sie das Haus vom Nikolaus als Graph."
   ]
  },
  {
   "cell_type": "code",
   "execution_count": null,
   "id": "33f27338-1f7d-4e2f-b865-14c4179e2107",
   "metadata": {
    "deletable": false,
    "editable": true,
    "slideshow": {
     "slide_type": ""
    },
    "tags": []
   },
   "outputs": [],
   "source": [
    "G = nx.Graph()\n",
    "..."
   ]
  },
  {
   "cell_type": "code",
   "execution_count": null,
   "id": "c866f589-dc3f-49ba-8280-204a020e7387",
   "metadata": {
    "deletable": false,
    "editable": false,
    "slideshow": {
     "slide_type": ""
    },
    "tags": []
   },
   "outputs": [],
   "source": [
    "nx.draw(G)"
   ]
  },
  {
   "cell_type": "markdown",
   "id": "35c587bc-6016-4276-b60f-68dcccb42fc0",
   "metadata": {
    "deletable": false,
    "editable": false,
    "slideshow": {
     "slide_type": ""
    },
    "tags": []
   },
   "source": [
    "Gibt es Startknoten, von denen ausgehend kein Haus vom Nikolaus gezeichnet werden kann?"
   ]
  },
  {
   "cell_type": "code",
   "execution_count": null,
   "id": "6b505a3f-7cc8-4a7f-b52c-05c88a8288c2",
   "metadata": {
    "deletable": false,
    "editable": true,
    "slideshow": {
     "slide_type": ""
    },
    "tags": []
   },
   "outputs": [],
   "source": [
    "invalid_start_nodes = []\n",
    "\n",
    "...\n",
    "\n",
    "invalid_start_nodes"
   ]
  }
 ],
 "metadata": {
  "kernelspec": {
   "display_name": "Python 3 (ipykernel)",
   "language": "python",
   "name": "python3"
  },
  "language_info": {
   "codemirror_mode": {
    "name": "ipython",
    "version": 3
   },
   "file_extension": ".py",
   "mimetype": "text/x-python",
   "name": "python",
   "nbconvert_exporter": "python",
   "pygments_lexer": "ipython3",
   "version": "3.10.12"
  }
 },
 "nbformat": 4,
 "nbformat_minor": 5
}
