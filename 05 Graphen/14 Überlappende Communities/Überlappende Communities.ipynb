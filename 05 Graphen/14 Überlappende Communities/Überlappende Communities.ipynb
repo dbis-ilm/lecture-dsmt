{
 "cells": [
  {
   "cell_type": "markdown",
   "id": "0d626a7e-a527-4187-9355-f8d4434625b8",
   "metadata": {
    "deletable": false,
    "editable": false
   },
   "source": [
    "# Überlappende Communities\n",
    "Vorangegangen wurden Communities als strikt getrennte Einheiten betrachtet. Einzelne Knoten gehören aber häufig verschiedenen Communities an, sodass sich diese potentiell überlappen."
   ]
  },
  {
   "cell_type": "code",
   "execution_count": null,
   "id": "18a76610-f6f6-42ba-aaa0-d21301a03091",
   "metadata": {
    "deletable": false
   },
   "outputs": [],
   "source": [
    "import networkx as nx"
   ]
  },
  {
   "cell_type": "markdown",
   "id": "2e393b42-5764-4995-a311-9e1c7300b062",
   "metadata": {
    "deletable": false,
    "editable": false
   },
   "source": [
    "## Inhaltsverzeichnis\n",
    "- [Beispiel](#Beispiel)"
   ]
  },
  {
   "cell_type": "markdown",
   "id": "950b5c38-7e47-4148-805f-918264238876",
   "metadata": {
    "deletable": false,
    "editable": false
   },
   "source": [
    "## Beispiel\n",
    "- Personen üben Hobbies aus\n",
    "- Person übt mehrere Hobbies aus\n",
    "- welcher Community wird diese Person zugeordnet?"
   ]
  },
  {
   "cell_type": "code",
   "execution_count": null,
   "id": "42acab6b-b83f-46ad-ad6e-648f909d21e0",
   "metadata": {
    "deletable": false
   },
   "outputs": [],
   "source": [
    "# TODO: Graph mit einer Person, die mehrere Hobbies ausübt"
   ]
  }
 ],
 "metadata": {
  "kernelspec": {
   "display_name": "Python 3 (ipykernel)",
   "language": "python",
   "name": "python3"
  },
  "language_info": {
   "codemirror_mode": {
    "name": "ipython",
    "version": 3
   },
   "file_extension": ".py",
   "mimetype": "text/x-python",
   "name": "python",
   "nbconvert_exporter": "python",
   "pygments_lexer": "ipython3",
   "version": "3.12.10"
  }
 },
 "nbformat": 4,
 "nbformat_minor": 5
}
