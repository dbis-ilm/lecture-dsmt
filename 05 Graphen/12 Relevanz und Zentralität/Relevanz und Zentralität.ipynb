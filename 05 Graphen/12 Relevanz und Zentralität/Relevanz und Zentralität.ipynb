{
 "cells": [
  {
   "cell_type": "markdown",
   "id": "0",
   "metadata": {
    "deletable": false,
    "editable": false
   },
   "source": [
    "# Relevanz und Zentralität\n",
    "In einem Graphen gibt es Knoten, die wichtiger sind als andere. Verschiedene Arten von Relevanz und Methoden zur Bestimmung werden in diesem Abschnitt behandelt."
   ]
  },
  {
   "cell_type": "code",
   "execution_count": null,
   "id": "1",
   "metadata": {
    "deletable": false
   },
   "outputs": [],
   "source": [
    "import networkx as nx\n",
    "\n",
    "from tui_dsmt.graph import InteractiveGraph\n",
    "from tui_dsmt.graph.datasets import load_wiki_it\n",
    "\n",
    "wiki, wiki_pos = load_wiki_it()"
   ]
  },
  {
   "cell_type": "markdown",
   "id": "2",
   "metadata": {
    "deletable": false,
    "editable": false
   },
   "source": [
    "## Inhaltsverzeichnis\n",
    "- [Arten von Relevanz](#Arten-von-Relevanz)\n",
    "- [Degree-Zentralität](#Degree-Zentralität)\n",
    "- [Closeness-Zentralität](#Closeness-Zentralität)\n",
    "- [Betweenness-Zentralität](#Betweenness-Zentralität)\n",
    "- [Eigenvektor-Zentralität](#Eigenvektor-Zentralität)"
   ]
  },
  {
   "cell_type": "markdown",
   "id": "3",
   "metadata": {
    "deletable": false,
    "editable": false
   },
   "source": [
    "## Arten von Relevanz\n",
    "Der folgende **ungerichtete** Graph $G = (V, E)$ enthält als Knoten die Titel verschiedener Wikipedia Artikel aus der Kategorie *Softwarearchitektur* und Kanten zwischen eben diesen Titeln, wenn die zugehörigen Artikel aufeinander mit Hilfe eines Links aufeinander verweisen. Betrachten Sie den Graphen und suchen Sie nach potentiell relevanten Knoten."
   ]
  },
  {
   "cell_type": "code",
   "execution_count": null,
   "id": "4",
   "metadata": {
    "deletable": false
   },
   "outputs": [],
   "source": [
    "InteractiveGraph(wiki, wiki_pos)"
   ]
  },
  {
   "cell_type": "markdown",
   "id": "5",
   "metadata": {
    "deletable": false,
    "editable": false
   },
   "source": [
    "Von Hand nach relevanten Knoten zu suchen entpuppt sich bereits in diesem kleinen Graphen mit circa $1.000$ Knoten als aussichtslos. Wir wollen daher eine Systematik der Relevanz einführen und diese automatisiert berechnen lassen.\n",
    "\n",
    "Verschiedene Methonde zur Bestimmung der Relevanz werden daher in vier verschiedene Klassen eingeteilt und separat betrachtet:\n",
    "1. Einfache Algorithmen betrachten den Grad an Verbundenheit der Knoten mit ihren direkten Nachbarn. (Degree)\n",
    "2. Komplexer ist das Messen der Verbundenheit mit allen anderen Knoten im Netzwerk. (Closeness)\n",
    "3. Auch die Häufigkeit als Teil eines kürzesten Pfades kann eine Aussage über die Relevanz treffen. (Betweenness)\n",
    "4. Es existieren weitere Möglichkeiten, den Einfluss eines Knotens auf Grund seiner Verbundenheit mit anderen einflussreichen Knoten einzuschätzen. (Eigenvector)"
   ]
  },
  {
   "cell_type": "markdown",
   "id": "6",
   "metadata": {
    "deletable": false,
    "editable": false
   },
   "source": [
    "## Degree-Zentralität\n",
    "Wie zuvor angedeutet ist die Degree-Zentralität ein Maß für die Anzahl der Verbindungen eines Knotens innerhalb eines Netzwerks. Das Ziel der Verbindung ist dabei nicht relevant, einzig und allein die Anzahl entscheidet. Vergleichen lässt sich das mit einem sozialen Netzwerk: Wer mit vielen anderen Menschen befreundet ist, hat potentiell eine große Reichweite.\n",
    "\n",
    "Innerhalb eines Graphen lässt sich die Degree-Zentralität $C_D$ für einen spezifischen Knoten $n$ mit Hilfe des Knotengrades bestimmen:\n",
    "\n",
    "$$\n",
    "C_D(n) = deg(n)\n",
    "$$"
   ]
  },
  {
   "cell_type": "code",
   "execution_count": null,
   "id": "7",
   "metadata": {
    "deletable": false
   },
   "outputs": [],
   "source": [
    "degree_per_node = nx.degree(wiki)\n",
    "\n",
    "degree_per_node['Programmierschnittstelle'], \\\n",
    "degree_per_node['Internet Printing Protocol']"
   ]
  },
  {
   "cell_type": "markdown",
   "id": "8",
   "metadata": {
    "deletable": false,
    "editable": false
   },
   "source": [
    "Durch Sortierung lassen sich die im Sinne der Degree-Zentralität relevantesten Knoten finden:"
   ]
  },
  {
   "cell_type": "code",
   "execution_count": null,
   "id": "9",
   "metadata": {
    "deletable": false
   },
   "outputs": [],
   "source": [
    "ds = sorted(((degree_per_node[node], node) for node in wiki.nodes), reverse=True)\n",
    "ds[:20]"
   ]
  },
  {
   "cell_type": "markdown",
   "id": "10",
   "metadata": {
    "deletable": false,
    "editable": false
   },
   "source": [
    "Durch zielgerichtetes Einfärben der Knoten lassen sich auch Muster in der grafischen Darstellung erkennen:"
   ]
  },
  {
   "cell_type": "code",
   "execution_count": null,
   "id": "11",
   "metadata": {
    "deletable": false
   },
   "outputs": [],
   "source": [
    "InteractiveGraph(wiki, wiki_pos, degree_per_node)"
   ]
  },
  {
   "cell_type": "markdown",
   "id": "12",
   "metadata": {
    "deletable": false,
    "editable": false
   },
   "source": [
    "## Closeness-Zentralität\n",
    "Die direkte Reichweite ist allerdings nicht das einzige Kriterium. Wer beispielsweise einen Werbepartner sucht, wird nicht nur auf die direkte Reichweite achten, sondern auch auf die Möglichkeit des \"Herumsprechens\". Im Sinne der Closeness-Zentralität ist ein Knoten daher relevanter, wenn die durchschnittliche Länge der Verbindungen von ihm zu anderen Knoten relativ kurz ist.\n",
    "\n",
    "Diese Verbundenheit wird für einen einzelnen Knoten wie folgt berechnet: Von einem Knoten $n$ wird zu jedem anderen Knoten $m$ ein kürzester Pfad gebildet. Die Länge dieser Pfade $l$ wird aufsummiert. Zuletzt wird der Kehrwert gebildet, sodass Knoten mit kurzen Pfaden einen höheren Wert für die Closeness-Zentralität erhalten.\n",
    "\n",
    "$$\n",
    "C_C(n) = \\frac{1}{\\sum_{m \\in V, n \\neq m} l(n, m)}\n",
    "$$"
   ]
  },
  {
   "cell_type": "code",
   "execution_count": null,
   "id": "13",
   "metadata": {
    "deletable": false
   },
   "outputs": [],
   "source": [
    "closeness_per_node = nx.closeness_centrality(wiki)\n",
    "\n",
    "closeness_per_node['Programmierschnittstelle'], \\\n",
    "closeness_per_node['Internet Printing Protocol']"
   ]
  },
  {
   "cell_type": "markdown",
   "id": "14",
   "metadata": {
    "deletable": false,
    "editable": false
   },
   "source": [
    "Natürlich lässt sich auch die Closeness-Zentralität für die Sortierung nutzen. Die Ergebnisse weichen bereits bei den oberen Plätzen vom Knotengrad ab."
   ]
  },
  {
   "cell_type": "code",
   "execution_count": null,
   "id": "15",
   "metadata": {
    "deletable": false
   },
   "outputs": [],
   "source": [
    "cs = sorted(((closeness_per_node[node], node) for node in wiki.nodes), reverse=True)\n",
    "cs[:20]"
   ]
  },
  {
   "cell_type": "markdown",
   "id": "16",
   "metadata": {
    "deletable": false,
    "editable": false
   },
   "source": [
    "In der grafischen Darstellung wird der Unterschied umso deutlicher."
   ]
  },
  {
   "cell_type": "code",
   "execution_count": null,
   "id": "17",
   "metadata": {
    "deletable": false
   },
   "outputs": [],
   "source": [
    "InteractiveGraph(wiki, wiki_pos, closeness_per_node)"
   ]
  },
  {
   "cell_type": "markdown",
   "id": "18",
   "metadata": {
    "deletable": false,
    "editable": false
   },
   "source": [
    "## Betweenness-Zentralität\n",
    "Die Betweenness-Zentralität hebt die Eigenschaft von Knoten als \"Brücken\" hervor. Eine Person in einem Netzwerk, die sich auf vielen kürzesten Pfaden befindet, dient als Verbindungsknoten und hat gleichermaßen die Möglichkeit, die Weitergabe von Informationen zu verzögern beziehungsweise die Nutzung von längeren Pfaden zu erzwingen. Die Relevanz ergibt sich also wieder nicht aus der direkten Reichweite, sondern analog zur Closeness-Zentralität durch die Rolle des Knoten im Graphen.\n",
    "\n",
    "Berechnet wird die Betweenness-Zentralität durch Bildung aller kürzesten Pfade $P(m, o)$ zwischen jedem beliebigen Paar $(m, o)$ zweier unterschiedlicher Knoten. Um den Wert für einen spezifischen Knoten $n$ zu erhalten, wird die Anzahl dieser Pfade, die $n$ enthalten, $P_n(m, o)$ durch die Gesamtanzahl von Pfaden dividiert und für alle Paare aufsummiert.\n",
    "\n",
    "$$\n",
    "C_B(n) = \\sum_{(m,o) \\in V \\times V, m \\neq o} \\frac{P_n(m, o)}{P(m, o)}\n",
    "$$"
   ]
  },
  {
   "cell_type": "code",
   "execution_count": null,
   "id": "19",
   "metadata": {
    "deletable": false
   },
   "outputs": [],
   "source": [
    "betweenness_per_node = nx.betweenness_centrality(wiki)\n",
    "\n",
    "betweenness_per_node['Programmierschnittstelle'], \\\n",
    "betweenness_per_node['Internet Printing Protocol']"
   ]
  },
  {
   "cell_type": "markdown",
   "id": "20",
   "metadata": {
    "deletable": false,
    "editable": false
   },
   "source": [
    "Erneut weicht die Sortierung nach diesem Kriterium von den anderen Methoden ab."
   ]
  },
  {
   "cell_type": "code",
   "execution_count": null,
   "id": "21",
   "metadata": {
    "deletable": false
   },
   "outputs": [],
   "source": [
    "bs = sorted(((betweenness_per_node[node], node) for node in wiki.nodes), reverse=True)\n",
    "bs[:20]"
   ]
  },
  {
   "cell_type": "markdown",
   "id": "22",
   "metadata": {
    "deletable": false,
    "editable": false
   },
   "source": [
    "Mit Hilfe des Einfärbens ist der Unterschied auch im Graphen deutlich zu sehen:"
   ]
  },
  {
   "cell_type": "code",
   "execution_count": null,
   "id": "23",
   "metadata": {
    "deletable": false
   },
   "outputs": [],
   "source": [
    "InteractiveGraph(wiki, wiki_pos, betweenness_per_node)"
   ]
  },
  {
   "cell_type": "markdown",
   "id": "24",
   "metadata": {
    "deletable": false,
    "editable": false
   },
   "source": [
    "## Eigenvektor-Zentralität\n",
    "Die Eigenvektor-Zentralität weist jedem Knoten im Netzwerk eine relative Relevanz zu. Berechnet wird diese auf Basis der Relevanz der Nachbarknoten, sodass nur Knoten relevant sein können, die ihrerseits relevante Nachbarn besitzen. Der Name leitet sich aus der Berechnung ab, die sich auf ein Eigenwertproblem zurückführen lässt."
   ]
  },
  {
   "cell_type": "markdown",
   "id": "25",
   "metadata": {
    "deletable": false,
    "editable": false
   },
   "source": [
    "### Eigenvektor-Zentralität in NetworkX\n",
    "In NetworkX ist eine entsprechende Funktion ebenfalls integriert."
   ]
  },
  {
   "cell_type": "code",
   "execution_count": null,
   "id": "26",
   "metadata": {
    "deletable": false
   },
   "outputs": [],
   "source": [
    "pagerank_per_node = nx.eigenvector_centrality(wiki)\n",
    "\n",
    "pagerank_per_node['Programmierschnittstelle'], \\\n",
    "pagerank_per_node['Internet Printing Protocol']"
   ]
  },
  {
   "cell_type": "markdown",
   "id": "27",
   "metadata": {
    "deletable": false,
    "editable": false
   },
   "source": [
    "Wie bereits zuvor folgen die Knoten mit der höchsten Bewertung:"
   ]
  },
  {
   "cell_type": "code",
   "execution_count": null,
   "id": "28",
   "metadata": {
    "deletable": false
   },
   "outputs": [],
   "source": [
    "prs = sorted(((pagerank_per_node[node], node) for node in wiki.nodes), reverse=True)\n",
    "prs[:20]"
   ]
  },
  {
   "cell_type": "markdown",
   "id": "29",
   "metadata": {
    "deletable": false,
    "editable": false
   },
   "source": [
    "Auch das Einfärben offenbart Unterschiede zu anderen Methoden:"
   ]
  },
  {
   "cell_type": "code",
   "execution_count": null,
   "id": "30",
   "metadata": {
    "deletable": false
   },
   "outputs": [],
   "source": [
    "InteractiveGraph(wiki, wiki_pos, pagerank_per_node)"
   ]
  },
  {
   "cell_type": "markdown",
   "id": "31",
   "metadata": {
    "deletable": false,
    "editable": false
   },
   "source": [
    "### PageRank\n",
    "Einer der bekanntesten Algorithmen zur Einschätzung der Relevanz ist PageRank. Ursprünglich von Larry Page und Sergey Brin entwickelt, diente er der Google Suche in ihrer Anfangszeit als Kriterium für die Bewertung von Websites. Weit oben in den Suchergebnissen sollten die Seiten auftauchen, die nicht nur häufig, sondern insbesondere von anderen als wichtig eingeschätzten Seiten verlinkt wurden.\n",
    "\n",
    "Zur Berechnung der PageRank-Wertung wurde ursprünglich eine rekursive Formel aufgestellt. Benötigt wird zur Berechnung des Wertes für einen Knoten $n$ die Größe des Netzwerks $N$, die Menge der Nachbarn $S_n$, auf die $n$ verweisen, und ein Dämpfungsfaktor $d \\in (0, 1)$, der üblicherweise mit $0.85$ angenommen wird.\n",
    "\n",
    "$$\n",
    "C_{PR}(n) = \\frac{1 - d}{N} + d * \\sum_{m \\in S_n} \\frac{C_{PR}(m)}{deg(m)}\n",
    "$$\n",
    "\n",
    "Die Initialisierung der Knoten wird in der Regel für jeden Knoten mit $\\frac{1.0}{N}$ durchgeführt.\n",
    "\n",
    "Die Gleichung lässt sich auf ein Eigenwertproblem zurückführen und effizient mit Hilfe von Matrixoperationen lösen."
   ]
  }
 ],
 "metadata": {
  "kernelspec": {
   "display_name": "Python 3 (ipykernel)",
   "language": "python",
   "name": "python3"
  },
  "language_info": {
   "codemirror_mode": {
    "name": "ipython",
    "version": 3
   },
   "file_extension": ".py",
   "mimetype": "text/x-python",
   "name": "python",
   "nbconvert_exporter": "python",
   "pygments_lexer": "ipython3",
   "version": "3.10.12"
  }
 },
 "nbformat": 4,
 "nbformat_minor": 5
}
