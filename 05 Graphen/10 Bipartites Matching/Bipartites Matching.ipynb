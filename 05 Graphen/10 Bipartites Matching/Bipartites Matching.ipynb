{
 "cells": [
  {
   "cell_type": "markdown",
   "id": "0",
   "metadata": {
    "deletable": false,
    "editable": false
   },
   "source": [
    "# Bipartites Matching\n",
    "Bipartite Graphen lassen sich in zwei Teilmengen unterteilen, sodass Kanten nur zwischen diesen, nicht aber innerhalb dieser Teilmengen verlaufen. Mit ihnen lassen sich spezielle Zuordnungsprobleme modellieren, die in diesem Abschnitt betrachtet werden sollen."
   ]
  },
  {
   "cell_type": "code",
   "execution_count": null,
   "id": "1",
   "metadata": {
    "deletable": false
   },
   "outputs": [],
   "source": [
    "import networkx as nx\n",
    "\n",
    "from tui_dsmt.graph import Hall, BipartiteFlow\n",
    "from tui_dsmt.graph.datasets import draw_bi\n",
    "from tui_dsmt.graph.datasets import load_bi_flow, load_bi_small, load_bi_recommendations\n",
    "\n",
    "small_graph = load_bi_small()\n",
    "flow_graph = load_bi_flow()"
   ]
  },
  {
   "cell_type": "markdown",
   "id": "2",
   "metadata": {
    "deletable": false,
    "editable": false
   },
   "source": [
    "## Inhaltsverzeichnis\n",
    "- [Beispiel: Praktika](#Beispiel-Praktika)\n",
    "- [Definition](#Definition)\n",
    "- [Naiver Ansatz](#Naiver-Ansatz)\n",
    "- [Satz von Hall](#Satz-von-Hall)\n",
    "- [Maximum Flow Algorithmen in bipartiten Graphen](#Maximum-Flow-Algorithmen-in-bipartiten-Graphen)\n",
    "- [Beispiel: Empfehlungssysteme](#Beispiel-Empfehlungssysteme)"
   ]
  },
  {
   "cell_type": "markdown",
   "id": "3",
   "metadata": {
    "deletable": false,
    "editable": false
   },
   "source": [
    "## Beispiel: Praktika\n",
    "Studenten müssen ein Praktikum in einem der vielen Praktikumsbetriebe absolvieren. Allerdings schränkt jeder Praktikumsbetrieb sein Angebot auf bestimmte Fachrichtungen und Vorkenntnisse ein. Es kommt also nicht jeder Student für jeden Praktikumsplatz in Frage.\n",
    "\n",
    "Modelliert man jeweils Studenten (Buchstaben) und Betriebe (Ziffern) als Knoten und die Möglichkeit eines Praktikums als Kante, ergibt sich das bereits bekannte Bild:"
   ]
  },
  {
   "cell_type": "code",
   "execution_count": null,
   "id": "4",
   "metadata": {
    "deletable": false
   },
   "outputs": [],
   "source": [
    "draw_bi(small_graph)"
   ]
  },
  {
   "cell_type": "markdown",
   "id": "5",
   "metadata": {
    "deletable": false,
    "editable": false
   },
   "source": [
    "Um ein gutes Matching zu gewährleisten, müssen nun aber einige Dinge beachtet werden:\n",
    "- $A$ und $D$ können jeweils nur einem Betrieb zugeordnet werden. Wird eine andere Person den besagten Betrieben zugeordnet, so gehen $A$ oder $D$ leer aus.\n",
    "- Für Betrieb $3$ kommt nur Student $C$ in Frage. Wird dieser nicht Betrieb $3$ zugeordnet, geht Betrieb $3$ leer aus."
   ]
  },
  {
   "cell_type": "markdown",
   "id": "6",
   "metadata": {
    "deletable": false,
    "editable": false
   },
   "source": [
    "## Definition\n",
    "Ein Graph $G = (V, E)$ ist genau dann bipartit, wenn sich seine Knoten $V$ in zwei disjunkte Teilmengen $A$ und $B$ aufteilen lassen, sodass keine Kanten innerhalb der Mengen verlaufen. Es gilt also $A \\cup B = V$ und $A \\cap B = \\emptyset$ und $\\forall (a, b) \\in E : a \\in A \\land b \\in B \\lor a \\in B \\land b \\in A$.\n",
    "\n",
    "Eine Menge $M \\subseteq E$ heißt Matching, wenn jeder Knoten im Graph $(V, M)$ maximal Knotengrad $1$ besitzt bzw. keine zwei Kanten aus $M$ einen Knoten gemeinsam haben. (Jeder Knoten wird also maximal einem anderen Knoten zugeordnet.) Je nach Modellierung des Problems lassen sich Matchings in verschiedene Kategorien einteilen:\n",
    "1. Ein Matching heißt **größtmöglich**, falls es die größte Kantenanzahl unter allen Matchings des Graphen besitzt.\n",
    "2. Ein Matching heißt **perfekt**, falls jeder Knoten gematcht wurde bzw. halb so viele Kanten in $M$ enthalten sind wie $V$ Knoten besitzt."
   ]
  },
  {
   "cell_type": "markdown",
   "id": "7",
   "metadata": {
    "deletable": false,
    "editable": false
   },
   "source": [
    "## Naiver Ansatz\n",
    "Brute-Force funktioniert (fast) immer. Ein erster Ansatz könnte also sein, alle möglichen Kombinationen von Kanten zu testen und die vielversprechendsten Kandidaten zu übernehmen. Vorgegangen wird nach folgendem Schema:\n",
    "- Jede verfügbare Kante aus $E$ kann entweder in $M$ übernommen oder nicht übernommen werden. Es ergeben sich daher $2^{|E|}$ potentielle Kandidaten.\n",
    "- Sobald ein Knoten innerhalb eines Kandidaten den Grad $2$ erreicht, ist das Matching ungültig.\n",
    "- Die verbleibenden Kandidaten für $M$ werden bewertet und der beste ausgewählt."
   ]
  },
  {
   "cell_type": "code",
   "execution_count": null,
   "id": "8",
   "metadata": {
    "deletable": false
   },
   "outputs": [],
   "source": [
    "# Diese Funktion bewertet ein Matching.\n",
    "def rate_matching(graph):\n",
    "    degree_sum = 0\n",
    "\n",
    "    for node, degree in graph.degree:\n",
    "        # Matchings mit Knotengrad > 1 ausschließen\n",
    "        if degree > 1:\n",
    "            return None\n",
    "\n",
    "        # Matchings mit Punktzahl versehen\n",
    "        degree_sum += degree\n",
    "\n",
    "    return degree_sum\n",
    "\n",
    "\n",
    "# Diese Funktion generiert alle 2^|E| Kandidaten für das Matching.\n",
    "def enumerate_matchings(graph, edges):\n",
    "    # keine Kanten mehr vorhanden\n",
    "    # Rekursionsabbruch\n",
    "    if len(edges) == 0:\n",
    "        # Matching bewerten\n",
    "        rating = rate_matching(graph)\n",
    "\n",
    "        # falls Matching gültig ist\n",
    "        if rating is not None:\n",
    "            yield graph.copy(), rating\n",
    "\n",
    "        return\n",
    "\n",
    "    # eine Kante entnehmen\n",
    "    edge = edges[0]\n",
    "\n",
    "    # rekursiver Aufruf mit dieser Kante\n",
    "    graph.add_edge(*edge)\n",
    "    yield from enumerate_matchings(graph, edges[1:])\n",
    "\n",
    "    # rekursiver Aufruf ohne diese Kante\n",
    "    graph.remove_edge(*edge)\n",
    "    yield from enumerate_matchings(graph, edges[1:])\n",
    "\n",
    "\n",
    "# Anlegen des leeren Graphen und der Kantenliste\n",
    "empty_matching = nx.Graph()\n",
    "small_graph_edges = list(small_graph.edges)\n",
    "\n",
    "# alle Matchings generieren\n",
    "matchings = list(enumerate_matchings(empty_matching, small_graph_edges))\n",
    "\n",
    "# beste Matchings suchen\n",
    "_, max_rating = max(matchings, key=lambda x: x[1])\n",
    "best_matchings = [graph for graph, rating in matchings if rating == max_rating]\n",
    "\n",
    "for graph in best_matchings:\n",
    "    draw_bi(graph)"
   ]
  },
  {
   "cell_type": "markdown",
   "id": "9",
   "metadata": {
    "deletable": false,
    "editable": false
   },
   "source": [
    "Für nicht-triviale Graphen ergibt sich aber das Problem der Komplexität. Bei zehn möglichen Kanten müssen $1024$ Kandidaten geprüft werden. Bei zwanzig möglichen Kanten sind es bereits mehr als eine Million Kandidaten. Auch wenn es durch Umbau des Algorithmus möglich ist, viele potentielle Matchings bereits sehr früh auszuschließen, ist eine erschöpfende Suche in größeren Graphen keine realistische Option."
   ]
  },
  {
   "cell_type": "markdown",
   "id": "10",
   "metadata": {
    "deletable": false,
    "editable": false
   },
   "source": [
    "## Satz von Hall\n",
    "Der Satz von Hall ist ein notwendiges und (nicht offensichtlich) sogar hinreichendes Kriterium zur Existenz eines Matchings. Der Satz ist auch als Heiratssatz bekannt, da das zugrundeliegende Problem häufig mit Damen, die verheiratet werden sollten, aber nicht mit jedem zur Verfügung stehenden Kandidaten zufrieden sind, veranschaulicht wurde.\n",
    "\n",
    "Sei der Graph nun wieder gegeben als $G = (V, E)$ und bipartit, es gibt also disjunkte Teilmengen $A$ und $B$ der Knotenmenge $V$. Weiterhin existiert eine Abbildung $N$, die jeder Menge von Knoten die ihnen durch eine Kante verbundene Menge von Knoten bzw. Nachbarn zuordnet:\n",
    "\n",
    "$$\n",
    "N(A) = \\{ b \\in B : \\exists (a, b) \\in E \\land a \\in A \\}\n",
    "$$\n",
    "\n",
    "\n",
    "Nach dem Satz von Hall sind nun die folgenden Aussagen äquivalent:\n",
    "1. Es gibt ein Matching, in dem jedem Knoten von $A$ ein Knoten aus $B$ zugeordnet wird.\n",
    "2. Für jede Teilmenge $S \\subseteq A$ gilt $|S| \\leq |N(S)|$."
   ]
  },
  {
   "cell_type": "markdown",
   "id": "11",
   "metadata": {
    "deletable": false,
    "editable": false
   },
   "source": [
    "Auch zur Prüfung dieses Kriteriums ist die Berechnung aller Teilmengen von $A$ und $B$ notwendig, sodass insgesamt $2^{|A|}+2^{|B|}$ Teilmengen betrachtet werden müssen. Anhand der nachfolgenden Animation können Sie den Graphen mit Hilfe des Satzes von Hall prüfen."
   ]
  },
  {
   "cell_type": "code",
   "execution_count": null,
   "id": "12",
   "metadata": {
    "deletable": false
   },
   "outputs": [],
   "source": [
    "A = {'A', 'B', 'C', 'D'}\n",
    "B = {'1', '2', '3', '4'}\n",
    "\n",
    "Hall(small_graph, A, B)"
   ]
  },
  {
   "cell_type": "markdown",
   "id": "13",
   "metadata": {
    "deletable": false,
    "editable": false
   },
   "source": [
    "Bereits kleine Änderungen können dafür sorgen, dass die Bedingung für den Satz von Hall verletzt wird und somit kein perfektes Matching mehr möglich ist."
   ]
  },
  {
   "cell_type": "code",
   "execution_count": null,
   "id": "14",
   "metadata": {
    "deletable": false
   },
   "outputs": [],
   "source": [
    "another_G = small_graph.copy()\n",
    "another_G.add_edge('E', '4')\n",
    "\n",
    "Hall(another_G, {*A, 'E'}, B)"
   ]
  },
  {
   "cell_type": "markdown",
   "id": "15",
   "metadata": {
    "deletable": false,
    "editable": false
   },
   "source": [
    "## Maximum Flow Algorithmen in bipartiten Graphen\n",
    "Eine der einfachsten Methoden zur Lösung des Matching-Problems ist die Anwendung von Maximum-Flow-Algorithmen. Dazu werden die künstlichen Knoten für die Quelle $s$ und die Senke $t$ eingefügt. $s$ erhält jeweils eine Kante zu allen Knoten der Teilmenge $A$, während $t$ analog eine Kante zu jedem Knoten der Teilmenge $B$ erhält. Als Kapazität wird für jede einzelne Kante zunächst $1$ angenommen."
   ]
  },
  {
   "cell_type": "code",
   "execution_count": null,
   "id": "16",
   "metadata": {
    "deletable": false
   },
   "outputs": [],
   "source": [
    "BipartiteFlow(flow_graph)"
   ]
  },
  {
   "cell_type": "markdown",
   "id": "17",
   "metadata": {
    "deletable": false,
    "editable": false
   },
   "source": [
    "Durch Anwendung des aus dem vorangegangenen Abschnitt bekannten Algorithmus von Ford und Fulkerson entsteht ein größtmögliches Matching in geringerer Laufzeit."
   ]
  },
  {
   "cell_type": "markdown",
   "id": "18",
   "metadata": {
    "deletable": false,
    "editable": false
   },
   "source": [
    "**Verständnisfrage:** Wie müssen die Kapazitäten verändert werden, wenn beispielsweise ein Betrieb mehrere Studenten aufnehmen kann."
   ]
  },
  {
   "cell_type": "markdown",
   "id": "32fe6caa-83e7-43cb-b8aa-d62e7db4b0be",
   "metadata": {
    "deletable": false,
    "editable": false
   },
   "source": [
    "## Beispiel: Empfehlungssysteme\n",
    "In diesem Szenario stehen eine Menge von Kunden $\\{A, B, C, D\\}$ einer Menge von Werbebuchungen $\\{1, 2, 3\\}$ gegenüber. Jedem Nutzer kann jede Werbung nur einmal ausgespielt und maximal zwei Werbeeinblendungen angezeigt werden. Jede Werbebuchung ist in der Anzahl ihrer Ausspielungen durch das Budget des Auftraggebers limitiert.\n",
    "\n",
    "Die vorangegangenen Informationen lassen sich innerhalb eines Graphen modellieren und mit einem der oben gezeigten Algorithmen für ein Zuordnungsproblem verwenden."
   ]
  },
  {
   "cell_type": "code",
   "execution_count": null,
   "id": "fb2d1744-5545-429d-9de9-fa102cd1303a",
   "metadata": {
    "deletable": false
   },
   "outputs": [],
   "source": [
    "r_graph = load_bi_recommendations()\n",
    "BipartiteFlow(r_graph)"
   ]
  },
  {
   "cell_type": "markdown",
   "id": "744948e3-6cfe-4c11-ba89-9ef014695028",
   "metadata": {
    "deletable": false,
    "editable": false
   },
   "source": [
    "Auf Basis vorangegangener Käufe oder Bewertungen kann geschätzt werden, wie geeignet eine bestimmte Werbung für einen Kunden ist. Wird diese Information als Gewicht einer Kante kodiert und der Algorithmus so modifiziert, dass nach einer Zuordnung mit einer maximalen Summe von Kantengewichten gesucht wird, sind die Werbeeinblendungen personalisiert."
   ]
  }
 ],
 "metadata": {
  "kernelspec": {
   "display_name": "Python 3 (ipykernel)",
   "language": "python",
   "name": "python3"
  },
  "language_info": {
   "codemirror_mode": {
    "name": "ipython",
    "version": 3
   },
   "file_extension": ".py",
   "mimetype": "text/x-python",
   "name": "python",
   "nbconvert_exporter": "python",
   "pygments_lexer": "ipython3",
   "version": "3.12.8"
  }
 },
 "nbformat": 4,
 "nbformat_minor": 5
}
