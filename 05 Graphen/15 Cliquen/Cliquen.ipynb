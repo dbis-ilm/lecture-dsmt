{
 "cells": [
  {
   "cell_type": "markdown",
   "id": "0",
   "metadata": {
    "deletable": false,
    "editable": false
   },
   "source": [
    "# Cliquen\n",
    "Cliquen sind spezielle Teilmengen innerhalb eines Graphen. Sie können zum Beispiel zur Analyse von sozialen Netzwerken verwendet werden, wenn nach besonders eng vernetzten Teilgruppen gesucht wird. In diesem Abschnitt beschäftigen wir uns mit deren Eigenschaften und Erkennung."
   ]
  },
  {
   "cell_type": "code",
   "execution_count": null,
   "id": "1",
   "metadata": {
    "deletable": false
   },
   "outputs": [],
   "source": [
    "from itertools import combinations\n",
    "import networkx as nx\n",
    "\n",
    "from tui_dsmt.graph import set_label, BronKerbosch\n",
    "from tui_dsmt.graph.datasets import load_cliques_small\n",
    "\n",
    "graph = load_cliques_small()"
   ]
  },
  {
   "cell_type": "markdown",
   "id": "2",
   "metadata": {
    "deletable": false,
    "editable": false
   },
   "source": [
    "## Inhaltsverzeichnis\n",
    "- [Definition und Einschränkung](#Definition-und-Einschränkung)\n",
    "- [Naiver Algorithmus](#Naiver-Algorithmus)\n",
    "- [Bron-Kerbosch-Algorithmus](#Bron-Kerbosch-Algorithmus)\n",
    "- [Clique-Percolation-Methode](#Clique-Percolation-Methode)"
   ]
  },
  {
   "cell_type": "markdown",
   "id": "3",
   "metadata": {
    "deletable": false,
    "editable": false
   },
   "source": [
    "## Definition und Einschränkung\n",
    "Eine **Clique** ist eine Teilmenge eines Graphen, die vollständig verbunden ist. In dieser Teilmenge besitzt also jedes Paar von Knoten eine Kante untereinander. (Eine triviale Clique hat daher genau zwei Knoten, die durch eine Kante verbunden sind.)\n",
    "\n",
    "Eine **maximale Clique** ist eine Clique, die nicht durch Hinzunahme eines weiteren Knoten zu einer größeren Clique werden kann.\n",
    "\n",
    "Eine **größte Clique** ist eine der Cliquen in einem Graphen, welche die größte Anzahl an Knoten unter allen Cliquen besitzen.\n",
    "\n",
    "---\n",
    "\n",
    "In der Regel wird aus mehreren Gründen nach maximalen Cliquen gesucht:\n",
    "1. Da jede Teilmenge einer maximalen Clique eine Clique ist, wächst die Ergebnismenge sehr schnell.\n",
    "2. Die Relevanz von kleinen Cliquen ist im Vergleich zu maximalen Cliquen als gering anzusehen.\n",
    "3. Algorithmen, die nach maximalen Cliquen suchen, können einfacher sein."
   ]
  },
  {
   "cell_type": "markdown",
   "id": "4",
   "metadata": {
    "deletable": false,
    "editable": false
   },
   "source": [
    "## Naiver Algorithmus\n",
    "Wie immer lässt sich das Problem durch einfaches Probieren lösen:\n",
    "1. Jeder Knoten kann entweder Teil des Subgraphen sein oder nicht. Eine Clique benötigt mindestens zwei Knoten. (Es gibt also $2^{\\left| V \\right|} - \\left| V \\right| - 1$ Kandidaten.)\n",
    "2. Für jeden Kandidaten wird in absteigender Größe die vollständige Verbundenheit geprüft.\n",
    "3. Ist der Kandidat eine Clique aber Teil einer bereits gefunden Clique, kann er nicht maximal sein und wird demnach verworfen.\n",
    "\n",
    "Ein kleiner Beispielgraph, der mehrere Cliquen enthält, sieht wie folgt aus:"
   ]
  },
  {
   "cell_type": "code",
   "execution_count": null,
   "id": "5",
   "metadata": {
    "deletable": false
   },
   "outputs": [],
   "source": [
    "nx.draw(graph, with_labels=True, font_color='whitesmoke')"
   ]
  },
  {
   "cell_type": "markdown",
   "id": "6",
   "metadata": {
    "deletable": false,
    "editable": false
   },
   "source": [
    "Der Python-Code unter Verwendung von NetworkX unternimmt nun die oben genannten Schritte:"
   ]
  },
  {
   "cell_type": "code",
   "execution_count": null,
   "id": "7",
   "metadata": {
    "deletable": false
   },
   "outputs": [],
   "source": [
    "# Generierung aller Kandidaten\n",
    "all_subgraphs = list(set(sub) for size in range(len(graph.nodes), 1, -1) for sub in combinations(graph.nodes, size))\n",
    "print(f'Anzahl der Subgraphen für {len(graph.nodes)} Knoten: {len(all_subgraphs)}')\n",
    "\n",
    "# Iteration über alle Kandidaten\n",
    "result = []\n",
    "\n",
    "for candidate in all_subgraphs:\n",
    "    # Herauslösen des Subgraphen\n",
    "    subgraph = graph.subgraph(candidate)\n",
    "\n",
    "    # Prüfung auf vollständige Verbundenheit\n",
    "    if len(subgraph.edges) < len(subgraph.nodes) * (len(subgraph.nodes) - 1) / 2:\n",
    "        continue\n",
    "\n",
    "    # Prüfung, ob bereits eine Obermenge enthalten ist\n",
    "    for previous in result:\n",
    "        if candidate.issubset(previous):\n",
    "            break\n",
    "    else:\n",
    "        result.append(candidate)\n",
    "\n",
    "result"
   ]
  },
  {
   "cell_type": "markdown",
   "id": "8",
   "metadata": {
    "deletable": false,
    "editable": false
   },
   "source": [
    "Wie üblich skaliert dieser Algorithmus schlecht, weshalb für Graphen in relevanter Größe andere Lösungen gefunden werden müssen."
   ]
  },
  {
   "cell_type": "markdown",
   "id": "9",
   "metadata": {
    "deletable": false,
    "editable": false
   },
   "source": [
    "## Bron-Kerbosch-Algorithmus\n",
    "Der Bron-Kerbosch-Algorithmus ist einer der bekanntesten Algorithmen, um maximale Cliquen in einem ungerichteten Graphen zu finden. Er wurde von Coenraad Bron und Joep Kerbosch bereits in den 1970er Jahren veröffentlicht und verarbeitet Graphen mit Hilfe von Rekursion und Backtracking.\n",
    "\n",
    "Der Algorithmus unterteilt die Knoten in drei verschiedene Mengen:\n",
    "1. $R$ enthält die Knoten der Clique, die zu einer maximalen Clique ausgebaut werden soll. Zu Beginn ist diese Menge leer.\n",
    "2. $P$ enthält die unerforschten Knoten. Zu Beginn enthält diese Menge alle Knoten des Graphen.\n",
    "3. $X$ enthält die Menge der bereits ausgeschlossenen Knoten. Zu Beginn ist diese Menge ebenfalls leer.\n",
    "\n",
    "Ziel des Algorithmus ist es nun eine maximale Clique in $R$ zu sammeln, die einen Teil der Knoten aus $P$ und keinen der Knoten aus $X$ enthält:\n",
    "- Wenn $P$ und $X$ leer sind, liegt eine maximale Clique in $R$ vor. (Rekursionsabbruch)\n",
    "- Andernfalls wird über die unerforschten Knoten $v \\in P$ iteriert und\n",
    "    - ein rekursiver Aufruf gestartet, bei dem\n",
    "        - $v$ zu $R$ hinzugefügt wird,\n",
    "        - die Nachbarn von $v$ mit $P$ geschnitten werden und\n",
    "        - die Nachbarn von $v$ mit $X$ geschnitten werden.\n",
    "    - der Knoten aus $P$ entfernt und $X$ hinzugefügt."
   ]
  },
  {
   "cell_type": "code",
   "execution_count": null,
   "id": "10",
   "metadata": {
    "deletable": false
   },
   "outputs": [],
   "source": [
    "def bron_kerbosch(graph, R, P, X):\n",
    "    # Abbruchbedingung\n",
    "    if len(P) == 0 and len(X) == 0:\n",
    "        yield R\n",
    "\n",
    "    # rekursive Aufrufe\n",
    "    for v in list(P):\n",
    "        neighbors = set(graph.neighbors(v))\n",
    "        yield from bron_kerbosch(graph, R.union({v}), P.intersection(neighbors), X.intersection(neighbors))\n",
    "\n",
    "        P.remove(v)\n",
    "        X.add(v)\n",
    "\n",
    "list(bron_kerbosch(graph, set(), set(graph.nodes), set()))"
   ]
  },
  {
   "cell_type": "markdown",
   "id": "11",
   "metadata": {
    "deletable": false,
    "editable": false
   },
   "source": [
    "$R$ wird in der nachfolgenden Animation in blau markert, während $P$ grau ist und $X$ rot dargestellt wird. Schwarz sind die Knoten, die in keiner der Mengen enthalten sind. Beachten Sie bitte, dass rekursive \"Rückschritte\" als einzelne Schritte dargestellt sind."
   ]
  },
  {
   "cell_type": "code",
   "execution_count": null,
   "id": "12",
   "metadata": {
    "deletable": false
   },
   "outputs": [],
   "source": [
    "BronKerbosch(graph)"
   ]
  },
  {
   "cell_type": "markdown",
   "id": "13",
   "metadata": {
    "deletable": false,
    "editable": false
   },
   "source": [
    "## Clique-Percolation-Methode\n",
    "Die Clique-Percolation-Methode ist ein weiterer Algorithmus zur Identifizierung von Communities in komplexen Netzwerken. Der Algorithmus verwendet Cliquen als Grundlage bei der Suche nach größeren Communities, indem Überlappungen zwischen diesen Cliquen betrachtet werden.\n",
    "\n",
    "Der Algorithmus arbeitet für einen vorgegebenen Parameter $k$ wie folgt:\n",
    "- Zuerst werden **alle** Cliquen der Größe $k$ bestimmt.\n",
    "- Anschließend wird ein Cliquen-Graph erstellt, in dem zwei Cliquen verbunden sind, wenn sie $k-1$ gemeinsame Knoten besitzen.\n",
    "- Die Komponenten des Graphs repräsentieren die gefundenen Communities."
   ]
  },
  {
   "cell_type": "code",
   "execution_count": null,
   "id": "14",
   "metadata": {
    "deletable": false
   },
   "outputs": [],
   "source": [
    "# Suche der k-Cliquen\n",
    "k = 3\n",
    "k_cliques = [frozenset(c) for c in nx.enumerate_all_cliques(graph) if len(c) == k]\n",
    "\n",
    "print(k_cliques)\n",
    "\n",
    "# Erstellen des Clique-Graphen\n",
    "clique_graph = nx.Graph()\n",
    "\n",
    "for c1 in k_cliques:\n",
    "    for c2 in k_cliques:\n",
    "        if len(c1.intersection(c2)) == k - 1:\n",
    "            clique_graph.add_edge(set_label(c1), set_label(c2))\n",
    "\n",
    "nx.draw(clique_graph, with_labels=True, font_size=10)\n",
    "\n",
    "# Extraction der Komponenten\n",
    "list(nx.connected_components(clique_graph))"
   ]
  }
 ],
 "metadata": {
  "kernelspec": {
   "display_name": "Python 3 (ipykernel)",
   "language": "python",
   "name": "python3"
  },
  "language_info": {
   "codemirror_mode": {
    "name": "ipython",
    "version": 3
   },
   "file_extension": ".py",
   "mimetype": "text/x-python",
   "name": "python",
   "nbconvert_exporter": "python",
   "pygments_lexer": "ipython3",
   "version": "3.10.12"
  }
 },
 "nbformat": 4,
 "nbformat_minor": 5
}
