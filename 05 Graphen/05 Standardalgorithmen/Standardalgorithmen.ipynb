{
 "cells": [
  {
   "cell_type": "markdown",
   "id": "9a015c03-b5bc-4b0c-904e-1c9dad3460f6",
   "metadata": {
    "deletable": false,
    "editable": false
   },
   "source": [
    "# Standardalgorithmen\n",
    "Zum Durchlaufen eines Graphen existieren einige Standardalgorithmen, die jeder Data Scientist kennen sollte."
   ]
  },
  {
   "cell_type": "code",
   "execution_count": null,
   "id": "c05ffcb2-a075-4e1f-a064-754ae1aa5363",
   "metadata": {
    "deletable": false
   },
   "outputs": [],
   "source": [
    "import math\n",
    "import networkx as nx\n",
    "from heapq import heappush, heappop\n",
    "\n",
    "from tui_dsmt.graph import dach_cities, BFS, DFS, Dijkstra"
   ]
  },
  {
   "cell_type": "markdown",
   "id": "450df3cd-e9bc-429a-aef7-aa9ef422b04a",
   "metadata": {
    "deletable": false,
    "editable": false
   },
   "source": [
    "## Inhaltsverzeichnis\n",
    "- [Vorbereitung](#Vorbereitung)\n",
    "- [Traversierung](#Traversierung)\n",
    "  - [Breitensuche](#Breitensuche)\n",
    "  - [Tiefensuche](#Tiefensuche)\n",
    "- [Algorithmus von Dijkstra](#Algorithmus-von-Dijkstra)"
   ]
  },
  {
   "cell_type": "markdown",
   "id": "57de0820-492d-4cf5-8c7a-bc1025c3698a",
   "metadata": {
    "deletable": false,
    "editable": false
   },
   "source": [
    "## Vorbereitung\n",
    "Der Beispielgraph enthält ausgewählte Städte aus Deutschland, Österreich und der Schweiz inklusive der ungefähren Distanz zwischen ihnen. (Wie immer ist die Position der Knoten nicht relevant. Es werden nur die Knoten und ihre Verbindungen untereinander betrachtet.)"
   ]
  },
  {
   "cell_type": "code",
   "execution_count": null,
   "id": "081b915e-3ccb-4441-9fdb-7e4689e52916",
   "metadata": {
    "deletable": false
   },
   "outputs": [],
   "source": [
    "pos = nx.spring_layout(dach_cities, seed=9)\n",
    "\n",
    "nx.draw_networkx_nodes(dach_cities, pos, node_size=700)\n",
    "nx.draw_networkx_edges(dach_cities, pos)\n",
    "nx.draw_networkx_labels(dach_cities, pos, font_size=9)\n",
    "nx.draw_networkx_edge_labels(dach_cities, pos, nx.get_edge_attributes(dach_cities, 'd'))\n",
    "\n",
    "pass"
   ]
  },
  {
   "cell_type": "markdown",
   "id": "64bbd925-13db-4b7e-827f-30dd68d506a9",
   "metadata": {
    "deletable": false,
    "editable": false
   },
   "source": [
    "Im Folgenden wollen wir diesen Graphen durchlaufen. Hannover dient dabei als Ausgangspunkt. Im Laufe der Algorithmen wird dabei auch jeweils ein kürzester Pfad zu allen anderen Knoten berechnet."
   ]
  },
  {
   "cell_type": "markdown",
   "id": "59b5529b-5cd1-4168-b07f-ba3bdbf37852",
   "metadata": {
    "deletable": false,
    "editable": false
   },
   "source": [
    "## Traversierung\n",
    "Die Traversierung eines Graphen ist ein grundlegender Algorithmus in der Informatik, der dazu dient, alle Knoten eines Graphen zu besuchen. Diese Operation kann in verschiedene Richtungen erfolgen und dient oft dazu, spezifische Informationen über den Graphen zu sammeln oder um eine bestimmte Suche durchzuführen. Die Traversierung eines Graphen beginnt typischerweise an einem bestimmten Startknoten, von dem aus der Algorithmus beginnt, sich durch den Graphen zu bewegen. Es gibt zwei grundlegende Traversierungsmethoden: die Tiefensuche (DFS) und die Breitensuche (BFS), die jeweils unterschiedliche Ansätze für die Reihenfolge bieten, in der die Knoten des Graphen besucht werden, und jeweils kurz demonstriert werden sollen."
   ]
  },
  {
   "cell_type": "markdown",
   "id": "64552084-ee0a-48fa-9713-d298656af462",
   "metadata": {
    "deletable": false,
    "editable": false
   },
   "source": [
    "### Breitensuche\n",
    "Die Breitensuche ist das erste von zwei einfachen Verfahren. Sie sucht - dem Namen entsprechend - zuerst in die Breite, bevor in die Tiefe gegangen wird. Das Verfahren funktioniert wie folgt:\n",
    "- Allen Knoten wird ein Attribut zugeordnet, dass sie als noch nicht besucht kennzeichnet.\n",
    "- Es wird eine Liste angelegt, die den Startknoten mit der Distanz $0$ enthält. Der Startknoten wird als besucht markiert.\n",
    "- Solange die Liste nicht leer ist\n",
    "  - wird das erste Element entnommen,\n",
    "  - die aktuelle Entfernung gespeichert und\n",
    "  - alle durch eine Kante erreichbaren mit der aktuellen Tiefe der Liste hinzugefügt und als besucht markiert, sofern diese nicht bereits zuvor besucht wurden. (Die letzte Bedingung ist relevant in Graphen, die Kreise enthalten.)\n",
    "\n",
    "Ausgehend vom Startknoten werden dann zuerst alle Knoten besucht, die eine Kante entfernt liegen, dann alle Knoten, die zwei Kanten entfernt liegen, usw..."
   ]
  },
  {
   "cell_type": "code",
   "execution_count": null,
   "id": "52ad955e-ff1b-42ec-91bc-7b98672f6198",
   "metadata": {
    "deletable": false
   },
   "outputs": [],
   "source": [
    "# \"besucht\" und \"Entfernundach_cities\" setzen\n",
    "for node in dach_cities:\n",
    "    dach_cities.nodes[node]['visited'] = False\n",
    "    dach_cities.nodes[node]['distance'] = 0\n",
    "\n",
    "# Besuchsliste anlegen und Startknoten als besucht markieren\n",
    "visit = [('Hannover', 0)]\n",
    "dach_cities.nodes['Hannover']['visited'] = True\n",
    "\n",
    "# solange die Liste nicht leer ist\n",
    "while len(visit) > 0:\n",
    "    # erstes Element entfernen\n",
    "    current_node, current_distance = visit.pop(0)\n",
    "    print(current_distance, current_node)\n",
    "\n",
    "    # als besucht markieren und Entfernung setzen\n",
    "    dach_cities.nodes[current_node]['distance'] = current_distance\n",
    "\n",
    "    # alle nicht besuchten Nachbarn der Liste hinzufügen\n",
    "    for neighbor in dach_cities.neighbors(current_node):\n",
    "        if not dach_cities.nodes[neighbor]['visited']:\n",
    "            dach_cities.nodes[neighbor]['visited'] = True\n",
    "            visit.append((neighbor, current_distance + 1))"
   ]
  },
  {
   "cell_type": "markdown",
   "id": "0748fb2a-afbe-42bc-88b2-035a31b42f6f",
   "metadata": {
    "deletable": false,
    "editable": false
   },
   "source": [
    "Da die Knoten in der Reihenfolge der Entfernung besucht werden, findet die Breitensuche kürzeste Wege zu jedem erreichbaren Knoten. Knoten, die nach dem Ende des Algorithmus nicht besucht wurden, können nicht vom Startknoten aus erreicht werden und sind folglich auch nicht mit diesem durch einen Pfad verbunden."
   ]
  },
  {
   "cell_type": "markdown",
   "id": "9f6273f0-7220-47b8-9ed4-cf62587093df",
   "metadata": {
    "deletable": false,
    "editable": false
   },
   "source": [
    "In der nachfolgenden Zelle haben Sie die Möglichkeit, dem Algorithmus Schritt für Schritt bei der Arbeit zuzusehen."
   ]
  },
  {
   "cell_type": "code",
   "execution_count": null,
   "id": "e24b483a-9bcf-4d39-96b4-cb9fa8f7c00c",
   "metadata": {
    "deletable": false
   },
   "outputs": [],
   "source": [
    "BFS(dach_cities, start_node='Hannover')"
   ]
  },
  {
   "cell_type": "markdown",
   "id": "ce6f4b5d-1531-4474-819c-06b069f943a9",
   "metadata": {
    "deletable": false,
    "editable": false
   },
   "source": [
    "### Tiefensuche\n",
    "Die Tiefensuche hingegen sucht dem Namen entsprechend zuerst in der Tiefe. Dafür wird ausgehend vom Startknoten ein Weg solange verfolgt, bis keine nicht mehr besuchten Nachbarn gefunden werden können. Danach wird nur so weit zurückgegangen, bis durch eine andere Kante wieder in die Tiefe gesucht werden kann.\n",
    "\n",
    "Der Algorithmus wird in der Regel rekursiv implementiert und verläuft nun wie folgt:\n",
    "- Alle Knoten werden als nicht besucht markiert.\n",
    "- Vom Startknoten ausgehend wird eine Funktion aufgerufen, die\n",
    "  - den Knoten als besucht markiert.\n",
    "  - sich selbst rekursiv für alle Nachbarknoten aufruft, die noch nicht besucht wurden.\n",
    "\n",
    "In Graphen mit Zyklen findet die einfache Tiefensuche nicht zwangsläufig einen kürzesten Pfad."
   ]
  },
  {
   "cell_type": "code",
   "execution_count": null,
   "id": "0492b284-50d8-4b99-92f1-562fea99fabb",
   "metadata": {
    "deletable": false
   },
   "outputs": [],
   "source": [
    "# \"besucht\" und \"Entfernung\" setzen\n",
    "for node in dach_cities:\n",
    "    dach_cities.nodes[node]['visited'] = False\n",
    "\n",
    "# Besuchsfunktion\n",
    "def visit(node, distance=0):\n",
    "    print('  ' * distance, node, sep='')\n",
    "\n",
    "    # Knoten als besucht markieren\n",
    "    dach_cities.nodes[node]['visited'] = True\n",
    "\n",
    "    # rekursiver Aufruf für noch nicht besuchte Nachbarn\n",
    "    for neighbor in dach_cities.neighbors(node):\n",
    "        if not dach_cities.nodes[neighbor]['visited']:\n",
    "            visit(neighbor, distance+1)\n",
    "\n",
    "# initialer Aufruf mit Startknoten\n",
    "visit('Hannover')"
   ]
  },
  {
   "cell_type": "markdown",
   "id": "d5a788d7-8ee6-4749-9ead-602d82e5395b",
   "metadata": {
    "deletable": false,
    "editable": false
   },
   "source": [
    "Die Einrückung repräsentiert die Tiefe des rekursiven Aufrufs. Zu erkennen ist, dass zuerst maximal in die Tiefe gegangen wird, bevor der Algorithmus zurückkehrt und andere Nachbarn besucht. Auch bei diesem Algorithmus sind Knoten nicht mit dem Startknoten verbunden, wenn sie nach dem Ende noch nicht besucht wurden."
   ]
  },
  {
   "cell_type": "markdown",
   "id": "aec13b38-ba06-4cba-a60a-577cd3603575",
   "metadata": {
    "deletable": false,
    "editable": false
   },
   "source": [
    "In der nachfolgenden Zelle haben Sie die Möglichkeit, dem Algorithmus Schritt für Schritt bei der Arbeit zuzusehen."
   ]
  },
  {
   "cell_type": "code",
   "execution_count": null,
   "id": "fc267377-f3dc-4e48-813a-966c45506914",
   "metadata": {
    "deletable": false
   },
   "outputs": [],
   "source": [
    "DFS(dach_cities, start_node='Hannover')"
   ]
  },
  {
   "cell_type": "markdown",
   "id": "9848919b-080c-45b1-bd0e-f9f20c89f171",
   "metadata": {
    "deletable": false,
    "editable": false
   },
   "source": [
    "## Algorithmus von Dijkstra\n",
    "Der Dijkstra-Algorithmus ist ein effizienter Algorithmus (schneller als die Breitensuche) zur Bestimmung des kürzesten Weges in einem gewichteten Graphen von einem Startknoten zu allen anderen Knoten. Der Algorithmus funktioniert wie folgt:\n",
    "\n",
    "1. Zuerst erhalten alle Knoten zwei zusätzliche Attribute, welche die minimal mögliche Entfernung zum Startknoten und die Erreichbarkeit repräsentieren sollen. Initialisiert wird dieses Attribut mit $0$ für den Startknoten und $\\infty$ für alle anderen Knoten. Eine Prioritätswarteschlange wird verwendet, um die Knoten mit ihren aktuellen Abstandswerten zu verfolgen.\n",
    "2. Der Algorithmus wählt den Knoten mit dem geringsten Abstandswert aus der Prioritätswarteschlange aus. Dieser Knoten wird als besucht markiert und aus der Warteschlange entfernt.\n",
    "3. Für jeden benachbarten Knoten des aktuellen Knotens überprüft der Algorithmus, ob der Pfad über den aktuellen Knoten zu diesem Nachbarn kürzer ist als der bisher bekannte Weg. Wenn ja, wird der Abstandswert des Nachbarn aktualisiert und der Knoten mit seinem neuen Abstandswert in die Prioritätswarteschlange eingefügt.\n",
    "4. Nach Abschluss des Algorithmus enthält jeder Knoten den Abstandswert zum Startknoten und damit den kürzesten Weg von diesem Knoten aus. Der Algorithmus liefert entweder die kürzesten Wege zu allen anderen Knoten oder den kürzesten Weg zu einem spezifischen Ziel."
   ]
  },
  {
   "cell_type": "code",
   "execution_count": null,
   "id": "eda5c333-815b-44f4-83e7-2820cd4598ed",
   "metadata": {
    "deletable": false
   },
   "outputs": [],
   "source": [
    "# Alle Knoten werden vorbereitet, indem die Attribute\n",
    "# visited und distance hinzugefügt werden.\n",
    "for node in dach_cities:\n",
    "    dach_cities.nodes[node]['visited'] = False\n",
    "    dach_cities.nodes[node]['distance'] = 0 if node == 'Hannover' else math.inf\n",
    "\n",
    "# Die Prioritätenliste wird initialisiert, indem\n",
    "# der Startknoten mit Distanz 0 hinzugefügt wird.\n",
    "queue = [(0, 'Hannover')]\n",
    "\n",
    "# Der Algorithmus läuft, solange die Prioritäten-\n",
    "# liste nicht leer ist.\n",
    "while len(queue) > 0:\n",
    "    # Der nächste Knoten und seine Distanz werden\n",
    "    # aus der Prioritätsliste entnommen.\n",
    "    node_distance_to_start, node = heappop(queue)\n",
    "\n",
    "    # Falls der Knoten bereits besucht wurde,\n",
    "    # wird er übersprungen. (Das kann z.B.\n",
    "    # der Fall sein, falls zwischenzeitlich\n",
    "    # ein kürzerer Weg zu diesem Knoten\n",
    "    # gefunden wurde.) Danach wird der Knoten\n",
    "    # als besucht markiert.\n",
    "    if dach_cities.nodes[node]['visited']:\n",
    "        continue\n",
    "\n",
    "    dach_cities.nodes[node]['visited'] = True\n",
    "\n",
    "    # Jeder Nachbar des aktuellen Knotens\n",
    "    # soll geprüft werden.\n",
    "    for neighbor in dach_cities.neighbors(node):\n",
    "        # Die Distanz zwischen Start- und\n",
    "        # dem jeweiligen Nachbarknoten über\n",
    "        # den aktuellen Knoten wird berechnet.\n",
    "        node_distance_to_neighbor = dach_cities.get_edge_data(node, neighbor)['d']\n",
    "        neighbor_distance_to_start = node_distance_to_start + node_distance_to_neighbor\n",
    "\n",
    "        # Nur falls die neue Distanz zwischen\n",
    "        # Start- und Nachbarknoten geringer\n",
    "        # als die bisher bekannte ist, wird\n",
    "        # die gespeicherte Distanz aktualisiert\n",
    "        # und der Nachbarknoten mit seiner\n",
    "        # neuen Distanz in die Prioritäten-\n",
    "        # liste eingefügt. (Jeder verbundene\n",
    "        # Knoten wird durch die\n",
    "        # Initialisisierung mit inf mindestens\n",
    "        # einmal aktualisiert.)\n",
    "        if neighbor_distance_to_start < dach_cities.nodes[neighbor]['distance']:\n",
    "            dach_cities.nodes[neighbor]['distance'] = neighbor_distance_to_start\n",
    "            heappush(queue, (neighbor_distance_to_start, neighbor))\n",
    "\n",
    "# Sobald der Algorithmus endet, enthält das\n",
    "# Distanzattribute jeweils die minimale\n",
    "# Distanz eines Knotens zum Startknoten.\n",
    "nx.get_node_attributes(dach_cities, 'distance')"
   ]
  },
  {
   "cell_type": "markdown",
   "id": "ef378f8e-f09c-4ce4-bb2a-501afb2e58a1",
   "metadata": {
    "deletable": false,
    "editable": false
   },
   "source": [
    "Auch diesem Algorithmus können Sie schrittweise bei der Arbeit verfolgen:"
   ]
  },
  {
   "cell_type": "code",
   "execution_count": null,
   "id": "c0b0fb7f-7ed6-4d73-93da-ca09c1e9d152",
   "metadata": {
    "deletable": false
   },
   "outputs": [],
   "source": [
    "Dijkstra(dach_cities, 'Hannover')"
   ]
  }
 ],
 "metadata": {
  "kernelspec": {
   "display_name": "Python 3 (ipykernel)",
   "language": "python",
   "name": "python3"
  },
  "language_info": {
   "codemirror_mode": {
    "name": "ipython",
    "version": 3
   },
   "file_extension": ".py",
   "mimetype": "text/x-python",
   "name": "python",
   "nbconvert_exporter": "python",
   "pygments_lexer": "ipython3",
   "version": "3.10.12"
  }
 },
 "nbformat": 4,
 "nbformat_minor": 5
}
