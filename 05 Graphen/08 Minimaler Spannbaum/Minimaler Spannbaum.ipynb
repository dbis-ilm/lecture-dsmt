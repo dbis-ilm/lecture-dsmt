{
 "cells": [
  {
   "cell_type": "markdown",
   "id": "0",
   "metadata": {
    "deletable": false,
    "editable": false
   },
   "source": [
    "# Minimaler Spannbaum\n",
    "Aus jedem zusammenhängenden Graph kann ein Teil der Kanten ausgewählt werden, sodass sich ein Baum ergibt. In diesem Abschnitt werden Spannbäume definiert und anhand eines gewichteten Graphen ein Beispiel konstruiert."
   ]
  },
  {
   "cell_type": "code",
   "execution_count": null,
   "id": "1",
   "metadata": {
    "deletable": false
   },
   "outputs": [],
   "source": [
    "import networkx as nx\n",
    "import matplotlib.pyplot as plt\n",
    "\n",
    "from tui_dsmt.graph import Kruskal\n",
    "from tui_dsmt.graph.datasets import load_tw_cities, draw_tw_cities\n",
    "\n",
    "tw_cities, tw_cities_pos = load_tw_cities()"
   ]
  },
  {
   "cell_type": "markdown",
   "id": "2",
   "metadata": {
    "deletable": false,
    "editable": false
   },
   "source": [
    "## Inhaltsverzeichnis\n",
    "- [Definition](#Definition)\n",
    "- [Beispiel: Klingeldraht](#Beispiel-Klingeldraht)\n",
    "- [Algorithmus von Kruskal](#Algorithmus-von-Kruskal)\n",
    "- [Animierter Algorithmus von Kruskal](#Animierter-Algorithmus-von-Kruskal)"
   ]
  },
  {
   "cell_type": "markdown",
   "id": "3",
   "metadata": {
    "deletable": false,
    "editable": false
   },
   "source": [
    "## Definition\n",
    "### Spannbaum\n",
    "Ein Spannbaum oder auch aufspannender Baum ist ein Teilgraph eines ungerichteten, zusammenhängenden Graphen, der alle Knoten enthält und gleichzeitig die Eigenschaften eines Baumes (zusammenhängend, kreisfrei) erfüllt. Wie das folgende Beispiel zeigt, können für einen Graphen mehrere Spannbäume existieren."
   ]
  },
  {
   "cell_type": "code",
   "execution_count": null,
   "id": "4",
   "metadata": {
    "deletable": false
   },
   "outputs": [],
   "source": [
    "complete_graph = nx.complete_graph(4)\n",
    "\n",
    "plt.subplot(121)\n",
    "nx.draw_circular(complete_graph, with_labels=True, font_color='whitesmoke',\n",
    "                 edge_color=['red', 'red', 'lightgray', 'lightgray', 'lightgray', 'red'])\n",
    "\n",
    "plt.subplot(122)\n",
    "nx.draw_circular(complete_graph, with_labels=True, font_color='whitesmoke',\n",
    "                 edge_color=['lightgray', 'lightgray', 'red', 'red', 'red', 'lightgray'])"
   ]
  },
  {
   "cell_type": "markdown",
   "id": "5",
   "metadata": {
    "deletable": false,
    "editable": false
   },
   "source": [
    "### Minimaler Spannbaum\n",
    "Wird den Kanten ein Gewicht zugeordnet bzw. handelt es sich um einen gewichteten Graphen, dann lässt sich zudem ein minimaler Spannbaum finden. Ein Spannbaum heißt genau dann minimal, wenn er die niedrigste Summe der Gewichte der hinzugefügten Kanten aller Spannbäume besitzt bzw. es keinen Spannbaum gibt, der eine niedrigere Gewichtssumme enthält.\n",
    "\n",
    "**Verständnisfrage:** Wie müssen die Gewichte für die Kanten gewählt werden, sodass der minimale Spannbaum mit dem Spannbaum mit der geringsten Anzahl an Kanten übereinstimmt?"
   ]
  },
  {
   "cell_type": "markdown",
   "id": "6",
   "metadata": {
    "deletable": false,
    "editable": false
   },
   "source": [
    "## Beispiel: Klingeldraht\n",
    "In diesem Szenario wird ein Provider dazu verpflichtet, jeden Ort mit einem kabelgebundenen Internetanschluss zu versorgen. Es werden dabei weder Vorgaben zur Topologie noch zur Redundanz gemacht. In einen Graphen transformiert könnte das Problem für ausgewählte Orte wie folgt dargestellt werden. Die Orte stellen dabei die Knoten, während die Kanten durch ein potentielles Kabel zwischen zwei Orten gebildet werden."
   ]
  },
  {
   "cell_type": "code",
   "execution_count": null,
   "id": "7",
   "metadata": {
    "deletable": false
   },
   "outputs": [],
   "source": [
    "draw_tw_cities(tw_cities, tw_cities_pos)"
   ]
  },
  {
   "cell_type": "markdown",
   "id": "8",
   "metadata": {
    "deletable": false,
    "editable": false
   },
   "source": [
    "Der Graph ist nicht vollständig, da auf Grund der Bodenbeschaffenheit nicht jede Gemeinde mit jeder anderen verbunden werden kann. Außerdem wird jeder Kante ein Gewicht zugeordnet, das die Baukosten für das entsprechende Kabel schätzt.\n",
    "\n",
    "Die Aufgabe ist nun im Sinne der Wirtschaftlichkeit klar: Es sollen Kabel so gewählt werden, dass die Aufgabe erfüllt und der Bau trotzdem möglichst günstig ist. Übertragen auf den Graphen bedeutet dies, dass eine Menge von Kanten ausgewählt werden muss, sodass ein minimaler Spannbaum entsteht."
   ]
  },
  {
   "cell_type": "markdown",
   "id": "9",
   "metadata": {
    "deletable": false,
    "editable": false
   },
   "source": [
    "## Algorithmus von Kruskal\n",
    "Der Algorithmus von Kruskal ist ein sehr einfacher Greedy-Algorithmus zur Berechnung **eines** minimalen Spannbaumes. Seine Funktionsweise lässt sich dabei sogar in einem Satz zusammenfassen: *Starte mit einer leeren Kantenmenge und füge in jedem Schritt genau die Kante hinzu, welche von den verbleibenden das geringste Gewicht besitzt und keinen Kreis im entstehenden Spannbaum bilden würde.*\n",
    "\n",
    "In Python lässt sich der Algorithmus wie folgt formulieren. Zuerst werden alle Kanten nach ihrem Gewicht sortiert:"
   ]
  },
  {
   "cell_type": "code",
   "execution_count": null,
   "id": "10",
   "metadata": {
    "deletable": false
   },
   "outputs": [],
   "source": [
    "edges = [(u, v, tw_cities.get_edge_data(u, v)['weight']) for u, v in tw_cities.edges]\n",
    "sorted_edges = sorted(edges, key=lambda x: x[2])\n",
    "\n",
    "sorted_edges"
   ]
  },
  {
   "cell_type": "markdown",
   "id": "11",
   "metadata": {
    "deletable": false,
    "editable": false
   },
   "source": [
    "Nachfolgend wird ein neuer Graph erstellt, der alle Knoten enthält."
   ]
  },
  {
   "cell_type": "code",
   "execution_count": null,
   "id": "12",
   "metadata": {
    "deletable": false
   },
   "outputs": [],
   "source": [
    "MST = nx.Graph()\n",
    "MST.add_nodes_from(tw_cities.nodes)\n",
    "\n",
    "str(MST)"
   ]
  },
  {
   "cell_type": "markdown",
   "id": "13",
   "metadata": {
    "deletable": false,
    "editable": false
   },
   "source": [
    "Zuletzt werden nach und nach alle Kanten in der Reihenfolge ihres Gewichts hinzugefügt, die keinen Kreis bilden:"
   ]
  },
  {
   "cell_type": "code",
   "execution_count": null,
   "id": "14",
   "metadata": {
    "deletable": false
   },
   "outputs": [],
   "source": [
    "for u, v, weight in sorted_edges:\n",
    "    # Kante hinzufügen\n",
    "    MST.add_edge(u, v, weight=weight)\n",
    "\n",
    "    # Prüfen, ob zwei Pfade zwischen Quell- und Ziel-\n",
    "    # Knoten existieren. Wenn das der Fall ist, fügt\n",
    "    # die Kante einen Kreis hinzu.\n",
    "    if len(list(nx.all_simple_paths(MST, u, v))) >= 2:\n",
    "        # Kante wieder entfernen, falls ein Kreis\n",
    "        # durch sie hinzugefügt wurde.\n",
    "        MST.remove_edge(u, v)\n",
    "\n",
    "str(MST)"
   ]
  },
  {
   "cell_type": "markdown",
   "id": "15",
   "metadata": {
    "deletable": false,
    "editable": false
   },
   "source": [
    "Der entstandene Baum sieht dann wie folgt aus."
   ]
  },
  {
   "cell_type": "code",
   "execution_count": null,
   "id": "16",
   "metadata": {
    "deletable": false
   },
   "outputs": [],
   "source": [
    "draw_tw_cities(MST, tw_cities_pos)"
   ]
  },
  {
   "cell_type": "markdown",
   "id": "17",
   "metadata": {
    "deletable": false,
    "editable": false
   },
   "source": [
    "## Animierter Algorithmus von Kruskal"
   ]
  },
  {
   "cell_type": "code",
   "execution_count": null,
   "id": "18",
   "metadata": {
    "deletable": false
   },
   "outputs": [],
   "source": [
    "Kruskal(tw_cities, tw_cities_pos)"
   ]
  }
 ],
 "metadata": {
  "kernelspec": {
   "display_name": "Python 3 (ipykernel)",
   "language": "python",
   "name": "python3"
  },
  "language_info": {
   "codemirror_mode": {
    "name": "ipython",
    "version": 3
   },
   "file_extension": ".py",
   "mimetype": "text/x-python",
   "name": "python",
   "nbconvert_exporter": "python",
   "pygments_lexer": "ipython3",
   "version": "3.10.12"
  }
 },
 "nbformat": 4,
 "nbformat_minor": 5
}
