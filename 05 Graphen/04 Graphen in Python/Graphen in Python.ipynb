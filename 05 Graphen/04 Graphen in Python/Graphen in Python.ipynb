{
 "cells": [
  {
   "cell_type": "markdown",
   "id": "0",
   "metadata": {
    "deletable": false,
    "editable": false
   },
   "source": [
    "# Graphen in Python\n",
    "Um Graphen mit Python zu verarbeiten, gibt es verschiedene Bibliotheken. Eine der einsteigerfreundlichsten ist NetworkX."
   ]
  },
  {
   "cell_type": "markdown",
   "id": "1",
   "metadata": {
    "deletable": false,
    "editable": false
   },
   "source": [
    "## Inhaltsverzeichnis\n",
    "- [Über NetworkX](#Über-NetworkX)\n",
    "- [Erstellung des Graphen](#Erstellung-des-Graphen)\n",
    "- [Adjazenzmatrix und -liste](#Adjazenzmatrix-und--liste)\n",
    "- [Pfade und Zusammenhang](#Pfade-und-Zusammenhang)\n",
    "- [Struktur des Graphen](#Struktur-des-Graphen)\n",
    "- [Graphen aus Dateien](#Graphen-aus-Dateien)"
   ]
  },
  {
   "cell_type": "markdown",
   "id": "2",
   "metadata": {
    "deletable": false,
    "editable": false
   },
   "source": [
    "## Über NetworkX\n",
    "NetworkX ist eine freie Python-Bibliothek zur Erstellung, Transformation und Analyse von Graphen und ähnlich gearteten Netzwerken. Neben verschiedenen Arten von Graphen stehen viele Standardalgorithmen, Analysefunktionen und Zeichnungsmethoden zur Verfügung, die demnach nicht selbst implementiert werden müssen. Die Bibliothek ist vollständig in Python geschrieben [und leidet bei großen Graphen deshalb unter Performanceproblemen](https://graph-tool.skewed.de/performance), ist dafür aber einfach zu installieren, bietet ein einfaches Interface und eine ausführliche Dokumentation.\n",
    "\n",
    "Importieren Sie als erstes das Paket `networkx`. Die Entwickler empfehlen, wie Sie das eventuell bereits von Pandas oder NumPy kennen, die Verwendung eines kurzen Alias."
   ]
  },
  {
   "cell_type": "code",
   "execution_count": null,
   "id": "3",
   "metadata": {
    "deletable": false
   },
   "outputs": [],
   "source": [
    "import networkx as nx"
   ]
  },
  {
   "cell_type": "markdown",
   "id": "4",
   "metadata": {
    "deletable": false,
    "editable": false
   },
   "source": [
    "## Erstellung des Graphen\n",
    "NetworkX unterstützt unterschiedliche Arten von Graphen. Der ungerichtete Graph mit einfachen Kanten wird als `Graph` bezeichnet. Ein gerichteter Graph mit einfach Kanten verwendet dagegen die Bezeichnung `DiGraph`."
   ]
  },
  {
   "cell_type": "code",
   "execution_count": null,
   "id": "5",
   "metadata": {
    "deletable": false
   },
   "outputs": [],
   "source": [
    "G = nx.Graph()"
   ]
  },
  {
   "cell_type": "markdown",
   "id": "6",
   "metadata": {
    "deletable": false,
    "editable": false
   },
   "source": [
    "Standardmäßig ist ein Graph leer. Er enthält also weder Knoten noch Kanten. Zum Hinzufügen von Knoten verwenden Sie entweder die Funktion `add_node`, um einzelne Knoten hinzuzufügen, oder `add_nodes_from`, um mehrere Knoten hinzuzufügen."
   ]
  },
  {
   "cell_type": "code",
   "execution_count": null,
   "id": "7",
   "metadata": {
    "deletable": false
   },
   "outputs": [],
   "source": [
    "G.add_node('Knoten 1')\n",
    "G.add_nodes_from(['Knoten 1', 'Knoten 2', 'Knoten 3', 'Knoten 4'])"
   ]
  },
  {
   "cell_type": "markdown",
   "id": "8",
   "metadata": {
    "deletable": false,
    "editable": false
   },
   "source": [
    "Knoten werden anhand ihres Namens identifiziert. Wird der selbe Name mehrfach verwendet, verbleibt dennoch nur ein einzelner Knoten mit eben diesem Namen im Graphen."
   ]
  },
  {
   "cell_type": "markdown",
   "id": "9",
   "metadata": {
    "deletable": false,
    "editable": false
   },
   "source": [
    "Kanten werden analog zu den Knoten mit den Funktion `add_edge` und `add_edges_from` hinzugefügt. Kanten sind immer Paare aus einem Startknoten und einem Zielknoten, die anhand ihres Namens vorgegeben werden. In Graphen mit einfachen Kanten wird das Hinzufügen einer zweiten Kante mit dem selben Start- und Zielknoten ignoriert. Verläuft eine Kante zwischen Knoten, die bisher noch nicht im Graphen enthalten sind, werden diese automatisch hinzugefügt. (In zusammenhängenden Graphen kommt man also vollständig ohne das explizite Hinzufügen von Knoten aus.)"
   ]
  },
  {
   "cell_type": "code",
   "execution_count": null,
   "id": "10",
   "metadata": {
    "deletable": false
   },
   "outputs": [],
   "source": [
    "G.add_edge('Knoten 1', 'Knoten 3')\n",
    "G.add_edge('Knoten 4', 'Knoten 5')  # Knoten 5 ist noch nicht vorhanden\n",
    "\n",
    "G.add_edges_from([\n",
    "    ('Knoten 1', 'Knoten 2'),\n",
    "    ('Knoten 1', 'Knoten 4'),\n",
    "    ('Knoten 5', 'Knoten 2')\n",
    "])"
   ]
  },
  {
   "cell_type": "markdown",
   "id": "11",
   "metadata": {
    "deletable": false,
    "editable": false
   },
   "source": [
    "Zum Zeichnen eines Graphen steht die Funktion `draw` zur Verfügung."
   ]
  },
  {
   "cell_type": "code",
   "execution_count": null,
   "id": "12",
   "metadata": {
    "deletable": false
   },
   "outputs": [],
   "source": [
    "nx.draw(G, with_labels=True)"
   ]
  },
  {
   "cell_type": "markdown",
   "id": "13",
   "metadata": {
    "deletable": false,
    "editable": false
   },
   "source": [
    "Einige [verwandte Funktionen](https://networkx.org/documentation/stable/reference/drawing.html) können zusätzlich andere Layouts erzeugen. Für kleine Graphen reicht jedoch die Funktion `draw` in der Regel aus."
   ]
  },
  {
   "cell_type": "markdown",
   "id": "14",
   "metadata": {
    "deletable": false,
    "editable": false
   },
   "source": [
    "## Adjazenzmatrix und -liste\n",
    "Ist der Graph einmal erstellt, lassen sich die üblichen Repräsentationen mit NetworkX leicht erstellt. Die Adjazenzliste wird durch die Funktion `generate_adjlist` erzeugt. Dabei wird von einem Generator jeder Knoten nacheinander aufgeführt. Der erste Eintrag ist dabei immer der Name des Quellknotens, während alle weiteren genannten Knoten durch eine Kante verbunden sind."
   ]
  },
  {
   "cell_type": "code",
   "execution_count": null,
   "id": "15",
   "metadata": {
    "deletable": false
   },
   "outputs": [],
   "source": [
    "list(nx.generate_adjlist(G))"
   ]
  },
  {
   "cell_type": "markdown",
   "id": "16",
   "metadata": {
    "deletable": false,
    "editable": false
   },
   "source": [
    "Die Adjazenzmatrix wird zum Beispiel durch die Funktion `to_numpy_array` erzeugt. Es gibt Alternativen, die andere Datenstrukturen zur Speicherung verwenden, wie beispielsweise `adjacency_matrix`."
   ]
  },
  {
   "cell_type": "code",
   "execution_count": null,
   "id": "17",
   "metadata": {
    "deletable": false
   },
   "outputs": [],
   "source": [
    "nx.to_numpy_array(G)"
   ]
  },
  {
   "cell_type": "markdown",
   "id": "18",
   "metadata": {
    "deletable": false,
    "editable": false
   },
   "source": [
    "## Pfade und Zusammenhang\n",
    "Zur Suche von Pfaden steht die Funktion `shortest_path` zur Verfügung. Dem Namen folgend bestimmt Sie den kürzesten Pfad zwischen zwei vorgegebenen Knoten."
   ]
  },
  {
   "cell_type": "code",
   "execution_count": null,
   "id": "19",
   "metadata": {
    "deletable": false
   },
   "outputs": [],
   "source": [
    "nx.shortest_path(G, 'Knoten 3', 'Knoten 5')"
   ]
  },
  {
   "cell_type": "markdown",
   "id": "20",
   "metadata": {
    "deletable": false,
    "editable": false
   },
   "source": [
    "Falls Sie an allen kürzesten Pfaden interessiert sind, existiert zusätzlich die Funktion `all_shortest_paths`."
   ]
  },
  {
   "cell_type": "code",
   "execution_count": null,
   "id": "21",
   "metadata": {
    "deletable": false
   },
   "outputs": [],
   "source": [
    "list(nx.all_shortest_paths(G, 'Knoten 3', 'Knoten 5'))"
   ]
  },
  {
   "cell_type": "markdown",
   "id": "22",
   "metadata": {
    "deletable": false,
    "editable": false
   },
   "source": [
    "Den Zusammenhang können Sie nun entweder durch Finden eines Pfades zwischen jeder paarweisen Kombination zweier Knoten prüfen oder mit Hilfe der Funktion `is_connected`. Gibt diese `False` zurück, ist der Graph nicht zusammenhängen. `True` lautet der Rückgabewert bei einem Zusammenhängenden Graphen."
   ]
  },
  {
   "cell_type": "code",
   "execution_count": null,
   "id": "23",
   "metadata": {
    "deletable": false
   },
   "outputs": [],
   "source": [
    "nx.is_connected(G)"
   ]
  },
  {
   "cell_type": "markdown",
   "id": "24",
   "metadata": {
    "deletable": false,
    "editable": false
   },
   "source": [
    "Mit `connected_components` gibt es außerdem die Möglichkeit, die einzelnen Komponenten aufzählen zu lassen. Diese Funktion gibt Liste mit Mengen von Knoten zurück, die jeweils einer Komponente angehören. Ist im Ergebnis nur eine Menge vorhanden, ist der Graph folglich zusammenhängend."
   ]
  },
  {
   "cell_type": "code",
   "execution_count": null,
   "id": "25",
   "metadata": {
    "deletable": false
   },
   "outputs": [],
   "source": [
    "list(nx.connected_components(G))"
   ]
  },
  {
   "cell_type": "markdown",
   "id": "26",
   "metadata": {
    "deletable": false,
    "editable": false
   },
   "source": [
    "## Struktur des Graphen"
   ]
  },
  {
   "cell_type": "markdown",
   "id": "27",
   "metadata": {
    "deletable": false,
    "editable": false
   },
   "source": [
    "Zur Bestimmung der **Dichte** stellt NetworkX die Funktion `density` bereit. Im Beispielgraphen sind fünf Kanten vorhanden, während der vollständig verbundene Graph $K_5$ zehn Kanten besitzt und damit die obere Grenze für die Anzahl an Kanten in einem Graphen mit fünf Knoten setzt."
   ]
  },
  {
   "cell_type": "code",
   "execution_count": null,
   "id": "28",
   "metadata": {
    "deletable": false
   },
   "outputs": [],
   "source": [
    "nx.density(G)"
   ]
  },
  {
   "cell_type": "markdown",
   "id": "29",
   "metadata": {
    "deletable": false,
    "editable": false
   },
   "source": [
    "Der **Knotengrad** repräsentiert ein einfaches Merkmal, um die Relevanz eines Knotens einzuschätzen. Die Funktion `degree` gibt ein Objekt zurück, das jedem Knoten seinen Grad zuordnet."
   ]
  },
  {
   "cell_type": "code",
   "execution_count": null,
   "id": "30",
   "metadata": {
    "deletable": false
   },
   "outputs": [],
   "source": [
    "nx.degree(G)"
   ]
  },
  {
   "cell_type": "markdown",
   "id": "31",
   "metadata": {
    "deletable": false,
    "editable": false
   },
   "source": [
    "## Graphen aus Dateien\n",
    "NetworkX erlaubt das Schreiben in und das Lesen aus Dateien. Zum Schreiben steht die Funktion `write_edgelist` bereit, die zeilenweise durch Leerzeichen getrennte Tupel bestehend aus Quellknoten, Zielknoten und Metadaten enthält. Mit den Parameters `data` und `delimiter` lassen sich gewöhnliche CSV-Dateien erzeugen."
   ]
  },
  {
   "cell_type": "code",
   "execution_count": null,
   "id": "32",
   "metadata": {
    "deletable": false
   },
   "outputs": [],
   "source": [
    "nx.write_edgelist(G, 'graph.csv', data=False, delimiter=',')"
   ]
  },
  {
   "cell_type": "markdown",
   "id": "33",
   "metadata": {
    "deletable": false,
    "editable": false
   },
   "source": [
    "Mit der Methode `read_edgelist` lassen sich diese Dateien auch wieder einlesen. Mit `is_isomorphic` lassen sich zwei Graphen auf Isomorphie prüfen. (Achtung: Bei großen Graphen kann diese Prüfung sehr viel Zeit in Anspruch nehmen!)"
   ]
  },
  {
   "cell_type": "code",
   "execution_count": null,
   "id": "34",
   "metadata": {
    "deletable": false
   },
   "outputs": [],
   "source": [
    "G2 = nx.read_edgelist('graph.csv', data=False, delimiter=',')\n",
    "\n",
    "nx.is_isomorphic(G, G2)"
   ]
  },
  {
   "cell_type": "markdown",
   "id": "35",
   "metadata": {
    "deletable": false,
    "editable": false
   },
   "source": [
    "Endet ein Dateiname mit `.gz` oder `.bz2`, wird automatisch eine Kompression oder Dekompression aktiviert. Außerdem stehen [weitere Formate](https://networkx.org/documentation/stable/reference/readwrite/index.html) zur Verfügung, sodass Graphen aus NetworkX in einer Vielzahl anderer Software geladen werden können und umgekehrt."
   ]
  }
 ],
 "metadata": {
  "kernelspec": {
   "display_name": "Python 3 (ipykernel)",
   "language": "python",
   "name": "python3"
  },
  "language_info": {
   "codemirror_mode": {
    "name": "ipython",
    "version": 3
   },
   "file_extension": ".py",
   "mimetype": "text/x-python",
   "name": "python",
   "nbconvert_exporter": "python",
   "pygments_lexer": "ipython3",
   "version": "3.10.12"
  }
 },
 "nbformat": 4,
 "nbformat_minor": 5
}
