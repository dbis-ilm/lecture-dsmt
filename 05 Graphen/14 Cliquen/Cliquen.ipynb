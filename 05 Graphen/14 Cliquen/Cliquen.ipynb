{
 "cells": [
  {
   "cell_type": "markdown",
   "id": "d3e330c3-bf1e-4d68-824d-a0c52f3c0dd4",
   "metadata": {
    "deletable": false,
    "editable": false
   },
   "source": [
    "# Cliquen\n",
    "Cliquen sind spezielle Teilmengen innerhalb eines Graphen. Sie können zum Beispiel zur Analyse von sozialen Netzwerken verwendet werden, wenn nach besonders eng vernetzten Teilgruppen gesucht wird. In diesem Abschnitt beschäftigen wir uns mit deren Eigenschaften und Erkennung."
   ]
  },
  {
   "cell_type": "code",
   "execution_count": null,
   "id": "9ef76074-96bf-4bc6-b825-34e80fee0b85",
   "metadata": {
    "deletable": false
   },
   "outputs": [],
   "source": [
    "from itertools import combinations\n",
    "import networkx as nx\n",
    "\n",
    "from tui_dsmt.graph import set_label, BronKerbosch\n",
    "from tui_dsmt.graph.datasets import load_cliques_small\n",
    "\n",
    "graph = load_cliques_small()"
   ]
  },
  {
   "cell_type": "markdown",
   "id": "0fea32fc-911a-4c9e-a777-b65686167fab",
   "metadata": {
    "deletable": false,
    "editable": false
   },
   "source": [
    "## Inhaltsverzeichnis\n",
    "- [Definition und Einschränkung](#Definition-und-Einschränkung)\n",
    "- [Naiver Algorithmus](#Naiver-Algorithmus)\n",
    "- [Bron-Kerbosch-Algorithmus](#Bron-Kerbosch-Algorithmus)\n",
    "- [Clique-Percolation-Methode](#Clique-Percolation-Methode)"
   ]
  },
  {
   "cell_type": "markdown",
   "id": "853e548b-db8e-4b34-adfa-8d6586f94f31",
   "metadata": {
    "deletable": false,
    "editable": false
   },
   "source": [
    "## Definition und Einschränkung\n",
    "Eine **Clique** ist eine Teilmenge eines Graphen, die vollständig verbunden ist. In dieser Teilmenge besitzt also jedes Paar von Knoten eine Kante untereinander. (Eine triviale Clique hat daher genau zwei Knoten, die durch eine Kante verbunden sind.)\n",
    "\n",
    "Eine **maximale Clique** ist eine Clique, die nicht durch Hinzunahme eines weiteren Knoten zu einer größeren Clique werden kann.\n",
    "\n",
    "Eine **größte Clique** ist eine der Cliquen in einem Graphen, welche die größte Anzahl an Knoten unter allen Cliquen besitzen.\n",
    "\n",
    "---\n",
    "\n",
    "In der Regel wird aus mehreren Gründen nach maximalen Cliquen gesucht:\n",
    "1. Da jede Teilmenge einer maximalen Clique eine Clique ist, wächst die Ergebnismenge sehr schnell.\n",
    "2. Die Relevanz von kleinen Cliquen ist im Vergleich zu maximalen Cliquen als gering anzusehen.\n",
    "3. Algorithmen, die nach maximalen Cliquen suchen, können einfacher sein."
   ]
  },
  {
   "cell_type": "markdown",
   "id": "3c5a5b00-74a9-434d-af03-3f042851a747",
   "metadata": {
    "deletable": false,
    "editable": false
   },
   "source": [
    "## Naiver Algorithmus\n",
    "Wie immer lässt sich das Problem durch einfaches Probieren lösen:\n",
    "1. Jeder Knoten kann entweder Teil des Subgraphen sein oder nicht. Eine Clique benötigt mindestens zwei Knoten. (Es gibt also $2^{\\left| V \\right|} - \\left| V \\right| - 1$ Kandidaten.)\n",
    "2. Für jeden Kandidaten wird in absteigender Größe die vollständige Verbundenheit geprüft.\n",
    "3. Ist der Kandidat eine Clique aber Teil einer bereits gefunden Clique, kann er nicht maximal sein und wird demnach verworfen.\n",
    "\n",
    "Ein kleiner Beispielgraph, der mehrere Cliquen enthält, sieht wie folgt aus:"
   ]
  },
  {
   "cell_type": "code",
   "execution_count": null,
   "id": "f1a44933-db64-4f79-a359-0073ae6933e2",
   "metadata": {
    "deletable": false
   },
   "outputs": [],
   "source": [
    "nx.draw(graph, with_labels=True, font_color='whitesmoke')"
   ]
  },
  {
   "cell_type": "markdown",
   "id": "beb59a18-9df7-4a80-91d5-5d3c3730e986",
   "metadata": {
    "deletable": false,
    "editable": false
   },
   "source": [
    "Der Python-Code unter Verwendung von NetworkX unternimmt nun die oben genannten Schritte:"
   ]
  },
  {
   "cell_type": "code",
   "execution_count": null,
   "id": "959084a9-6eb2-4616-b1ed-98386ab9221b",
   "metadata": {
    "deletable": false
   },
   "outputs": [],
   "source": [
    "# Generierung aller Kandidaten\n",
    "all_subgraphs = list(set(sub) for size in range(len(graph.nodes), 1, -1) for sub in combinations(graph.nodes, size))\n",
    "print(f'Anzahl der Subgraphen für {len(graph.nodes)} Knoten: {len(all_subgraphs)}')\n",
    "\n",
    "# Iteration über alle Kandidaten\n",
    "result = []\n",
    "\n",
    "for candidate in all_subgraphs:\n",
    "    # Herauslösen des Subgraphen\n",
    "    subgraph = graph.subgraph(candidate)\n",
    "\n",
    "    # Prüfung auf vollständige Verbundenheit\n",
    "    if len(subgraph.edges) < len(subgraph.nodes) * (len(subgraph.nodes) - 1) / 2:\n",
    "        continue\n",
    "\n",
    "    # Prüfung, ob bereits eine Obermenge enthalten ist\n",
    "    for previous in result:\n",
    "        if candidate.issubset(previous):\n",
    "            break\n",
    "    else:\n",
    "        result.append(candidate)\n",
    "\n",
    "result"
   ]
  },
  {
   "cell_type": "markdown",
   "id": "7f254232-0efc-4a78-afbd-106f48226f28",
   "metadata": {
    "deletable": false,
    "editable": false
   },
   "source": [
    "Wie üblich skaliert dieser Algorithmus schlecht, weshalb für Graphen in relevanter Größe andere Lösungen gefunden werden müssen."
   ]
  },
  {
   "cell_type": "markdown",
   "id": "1c45d00f-fd7d-491e-9141-7e66835b0c8a",
   "metadata": {
    "deletable": false,
    "editable": false
   },
   "source": [
    "## Bron-Kerbosch-Algorithmus\n",
    "Der Bron-Kerbosch-Algorithmus ist einer der bekanntesten Algorithmen, um maximale Cliquen in einem ungerichteten Graphen zu finden. Er wurde von Coenraad Bron und Joep Kerbosch bereits in den 1970er Jahren veröffentlicht und verarbeitet Graphen mit Hilfe von Rekursion und Backtracking.\n",
    "\n",
    "Der Algorithmus unterteilt die Knoten in drei verschiedene Mengen:\n",
    "1. $R$ enthält die Knoten der Clique, die zu einer maximalen Clique ausgebaut werden soll. Zu Beginn ist diese Menge leer.\n",
    "2. $P$ enthält die unerforschten Knoten. Zu Beginn enthält diese Menge alle Knoten des Graphen.\n",
    "3. $X$ enthält die Menge der bereits ausgeschlossenen Knoten. Zu Beginn ist diese Menge ebenfalls leer.\n",
    "\n",
    "Ziel des Algorithmus ist es nun eine maximale Clique in $R$ zu sammeln, die einen Teil der Knoten aus $P$ und keinen der Knoten aus $X$ enthält:\n",
    "- Wenn $P$ und $X$ leer sind, liegt eine maximale Clique in $R$ vor. (Rekursionsabbruch)\n",
    "- Andernfalls wird über die unerforschten Knoten $v \\in P$ iteriert und\n",
    "    - ein rekursiver Aufruf gestartet, bei dem\n",
    "        - $v$ zu $R$ hinzugefügt wird,\n",
    "        - die Nachbarn von $v$ mit $P$ geschnitten werden und\n",
    "        - die Nachbarn von $v$ mit $X$ geschnitten werden.\n",
    "    - der Knoten aus $P$ entfernt und $X$ hinzugefügt."
   ]
  },
  {
   "cell_type": "code",
   "execution_count": null,
   "id": "84cbad1e-2f30-4df7-a886-09ac9e1d4910",
   "metadata": {
    "deletable": false
   },
   "outputs": [],
   "source": [
    "def bron_kerbosch(graph, R, P, X):\n",
    "    # Abbruchbedingung\n",
    "    if len(P) == 0 and len(X) == 0:\n",
    "        yield R\n",
    "\n",
    "    # rekursive Aufrufe\n",
    "    for v in list(P):\n",
    "        neighbors = set(graph.neighbors(v))\n",
    "        yield from bron_kerbosch(graph, R.union({v}), P.intersection(neighbors), X.intersection(neighbors))\n",
    "\n",
    "        P.remove(v)\n",
    "        X.add(v)\n",
    "\n",
    "list(bron_kerbosch(graph, set(), set(graph.nodes), set()))"
   ]
  },
  {
   "cell_type": "markdown",
   "id": "fe4bc493-e7ff-48a0-8c14-011019527740",
   "metadata": {
    "deletable": false,
    "editable": false
   },
   "source": [
    "$R$ wird in der nachfolgenden Animation in blau markert, während $P$ grau ist und $X$ rot dargestellt wird. Schwarz sind die Knoten, die in keiner der Mengen enthalten sind. Beachten Sie bitte, dass rekursive \"Rückschritte\" als einzelne Schritte dargestellt sind."
   ]
  },
  {
   "cell_type": "code",
   "execution_count": null,
   "id": "c233921f-20fa-46ca-a0d3-8344a7de331c",
   "metadata": {
    "deletable": false
   },
   "outputs": [],
   "source": [
    "BronKerbosch(graph)"
   ]
  },
  {
   "cell_type": "markdown",
   "id": "baa9cd0f-4161-440f-8b1b-2a92c833bb0a",
   "metadata": {
    "deletable": false,
    "editable": false
   },
   "source": [
    "## Clique-Percolation-Methode\n",
    "Die Clique-Percolation-Methode ist ein weiterer Algorithmus zur Identifizierung von Communities in komplexen Netzwerken. Der Algorithmus verwendet Cliquen als Grundlage bei der Suche nach größeren Communities, indem Überlappungen zwischen diesen Cliquen betrachtet werden.\n",
    "\n",
    "Der Algorithmus arbeitet für einen vorgegebenen Parameter $k$ wie folgt:\n",
    "- Zuerst werden **alle** Cliquen der Größe $k$ bestimmt.\n",
    "- Anschließend wird ein Cliquen-Graph erstellt, in dem zwei Cliquen verbunden sind, wenn sie $k-1$ gemeinsame Knoten besitzen.\n",
    "- Die Komponenten des Graphs repräsentieren die gefundenen Communities."
   ]
  },
  {
   "cell_type": "code",
   "execution_count": null,
   "id": "a121dc83-7b93-40db-b9ef-e96e777c29f8",
   "metadata": {
    "deletable": false
   },
   "outputs": [],
   "source": [
    "# Suche der k-Cliquen\n",
    "k = 3\n",
    "k_cliques = [frozenset(c) for c in nx.enumerate_all_cliques(graph) if len(c) == k]\n",
    "\n",
    "print(k_cliques)\n",
    "\n",
    "# Erstellen des Clique-Graphen\n",
    "clique_graph = nx.Graph()\n",
    "\n",
    "for c1 in k_cliques:\n",
    "    for c2 in k_cliques:\n",
    "        if len(c1.intersection(c2)) == k - 1:\n",
    "            clique_graph.add_edge(set_label(c1), set_label(c2))\n",
    "\n",
    "nx.draw(clique_graph, with_labels=True, font_size=10)\n",
    "\n",
    "# Extraction der Komponenten\n",
    "list(nx.connected_components(clique_graph))"
   ]
  }
 ],
 "metadata": {
  "kernelspec": {
   "display_name": "Python 3 (ipykernel)",
   "language": "python",
   "name": "python3"
  },
  "language_info": {
   "codemirror_mode": {
    "name": "ipython",
    "version": 3
   },
   "file_extension": ".py",
   "mimetype": "text/x-python",
   "name": "python",
   "nbconvert_exporter": "python",
   "pygments_lexer": "ipython3",
   "version": "3.10.12"
  }
 },
 "nbformat": 4,
 "nbformat_minor": 5
}
