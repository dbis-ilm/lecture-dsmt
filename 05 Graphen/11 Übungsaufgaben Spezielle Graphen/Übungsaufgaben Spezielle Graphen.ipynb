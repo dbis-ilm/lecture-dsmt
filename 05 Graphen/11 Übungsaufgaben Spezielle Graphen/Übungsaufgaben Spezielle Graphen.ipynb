{
 "cells": [
  {
   "cell_type": "markdown",
   "id": "0",
   "metadata": {
    "deletable": false,
    "editable": false
   },
   "source": [
    "# Übungsaufgaben zu speziellen (Teil-) Graphen"
   ]
  },
  {
   "cell_type": "code",
   "execution_count": null,
   "id": "1",
   "metadata": {
    "deletable": false,
    "editable": false,
    "slideshow": {
     "slide_type": ""
    },
    "tags": []
   },
   "outputs": [],
   "source": [
    "import networkx as nx\n",
    "\n",
    "from tui_dsmt.graph.datasets import load_tw_cities, draw_tw_cities\n",
    "from tui_dsmt.graph.datasets import load_exams, draw_exams\n",
    "\n",
    "tw_cities, tw_cities_pos = load_tw_cities()\n",
    "exams = load_exams()"
   ]
  },
  {
   "cell_type": "markdown",
   "id": "2",
   "metadata": {
    "deletable": false,
    "editable": false,
    "slideshow": {
     "slide_type": ""
    },
    "tags": []
   },
   "source": [
    "## Aufgabe 1\n",
    "Zuerst betrachten wir noch einmal den Graphen mit allen Ortschaften und den Kosten der Bauarbeiten zwischen ihnen."
   ]
  },
  {
   "cell_type": "code",
   "execution_count": null,
   "id": "3",
   "metadata": {
    "deletable": false,
    "editable": false,
    "slideshow": {
     "slide_type": ""
    },
    "tags": []
   },
   "outputs": [],
   "source": [
    "draw_tw_cities(tw_cities, tw_cities_pos)"
   ]
  },
  {
   "cell_type": "markdown",
   "id": "4",
   "metadata": {
    "deletable": false,
    "editable": false,
    "slideshow": {
     "slide_type": ""
    },
    "tags": []
   },
   "source": [
    "In einem vergangenen Abschnitt haben Sie den Algorithmus von Kruskal bereits einmal in Aktion erlebt. Dieser findet einen minimalen Spannbaum und zwar immer den selben."
   ]
  },
  {
   "cell_type": "code",
   "execution_count": null,
   "id": "5",
   "metadata": {
    "deletable": false,
    "editable": false,
    "slideshow": {
     "slide_type": ""
    },
    "tags": []
   },
   "outputs": [],
   "source": [
    "def kruskal(graph):\n",
    "    edges = [(u, v, graph.get_edge_data(u, v)['weight']) for u, v in graph.edges]\n",
    "    sorted_edges = sorted(edges, key=lambda x: x[2])\n",
    "\n",
    "    MST = nx.Graph()\n",
    "    MST.add_nodes_from(graph.nodes)\n",
    "\n",
    "    for u, v, weight in sorted_edges:\n",
    "        MST.add_edge(u, v, weight=weight)\n",
    "\n",
    "        if len(list(nx.all_simple_paths(MST, u, v))) >= 2:\n",
    "            MST.remove_edge(u, v)\n",
    "\n",
    "    return MST\n",
    "\n",
    "\n",
    "mst = kruskal(tw_cities)\n",
    "\n",
    "print(mst, 'and sum of weights', mst.size(weight='weight'))\n",
    "draw_tw_cities(mst, tw_cities_pos)"
   ]
  },
  {
   "cell_type": "markdown",
   "id": "6",
   "metadata": {
    "deletable": false,
    "editable": false,
    "slideshow": {
     "slide_type": ""
    },
    "tags": []
   },
   "source": [
    "Es können in einem Graphen aber natürlich mehrere minimale Spannbäume existieren. Die Kante zwischen Sonnerberg und Steinach wird beispielsweise nur nicht aufgenommen, weil sie in der Liste der sortierten Kanten nach den Verbindungen zwischen Lauscha und Steinach und Lauscha und Sonneberg einsortiert wird. Da sie aber alle das gleiche Gewicht besitzen, können also zwei beliebige aus diesen drei Kanten ausgewählt werden.\n",
    "\n",
    "Verändern Sie den Algorithmus von Kruskal nun so, dass er alle minimalen Spannbäume als Liste zurückgibt."
   ]
  },
  {
   "cell_type": "code",
   "execution_count": null,
   "id": "7",
   "metadata": {
    "deletable": false,
    "editable": true,
    "slideshow": {
     "slide_type": ""
    },
    "tags": [
     "task-1"
    ]
   },
   "outputs": [],
   "source": [
    "all_msts = []\n",
    "\n",
    "...\n",
    "\n",
    "all_msts"
   ]
  },
  {
   "cell_type": "markdown",
   "id": "10",
   "metadata": {
    "deletable": false,
    "editable": false
   },
   "source": [
    "## Aufgabe 2"
   ]
  },
  {
   "cell_type": "markdown",
   "id": "11",
   "metadata": {
    "deletable": false,
    "editable": false,
    "slideshow": {
     "slide_type": ""
    },
    "tags": []
   },
   "source": [
    "Vor langer Zeit in einem weit, weit entfernten Modul musste eine Vorprüfungsleistung in Form einer Gruppenarbeit erbracht werden. Jede Gruppe sollte dafür ihr Ergebnis präsentieren. Um die Fairness bei der Terminvergabe zu wahren, sollte jede beteiligte Person verschiedene Zeiten angeben, sodass die Präsentation nicht mit weiteren, individuell belegten Vorlesungen kollidiert.\n",
    "\n",
    "Im Folgenden sehen Sie diesen Sachverhalt als Graphen modelliert. Linksseitig sind die einzelnen Gruppen zu sehen, während die Termine auf der rechten Seite zu finden sind. Eine (gerichtete) Kante zwischen beiden Seiten bedeutet, dass die Gruppe zu diesem Zeitpunkt präsentieren könnte. Jeder Kante wird außerdem ein Gewicht zugeordnet: $0$, falls zu diesem Termin beide Partner Zeit haben, $1$, falls zu diesem Termin nur einer der Partner erscheinen kann."
   ]
  },
  {
   "cell_type": "code",
   "execution_count": null,
   "id": "12",
   "metadata": {
    "deletable": false,
    "editable": false,
    "slideshow": {
     "slide_type": ""
    },
    "tags": []
   },
   "outputs": [],
   "source": [
    "draw_exams(exams)"
   ]
  },
  {
   "cell_type": "markdown",
   "id": "13",
   "metadata": {
    "deletable": false,
    "editable": false,
    "slideshow": {
     "slide_type": ""
    },
    "tags": []
   },
   "source": [
    "Suchen Sie nun eine Zuordnung mit den folgenden Bedingungen:\n",
    "- Jede Gruppe **muss** einen Termin erhalten. (Nicht alle Termine müssen ausgefüllt werden.)\n",
    "- Möglichst viele Gruppen **sollten** einen Termin erhalten, zu dem beide Gruppenmitglieder verfügbar sind."
   ]
  },
  {
   "cell_type": "code",
   "execution_count": null,
   "id": "14",
   "metadata": {
    "deletable": false,
    "editable": true,
    "slideshow": {
     "slide_type": ""
    },
    "tags": [
     "task-2"
    ]
   },
   "outputs": [],
   "source": [
    "matching = nx.DiGraph()\n",
    "matching.add_nodes_from(exams.nodes)\n",
    "\n",
    "...\n",
    "\n",
    "matching"
   ]
  },
  {
   "cell_type": "code",
   "execution_count": null,
   "id": "16",
   "metadata": {
    "deletable": false,
    "editable": false,
    "slideshow": {
     "slide_type": ""
    },
    "tags": []
   },
   "outputs": [],
   "source": [
    "draw_exams(matching)"
   ]
  }
 ],
 "metadata": {
  "kernelspec": {
   "display_name": "Python 3 (ipykernel)",
   "language": "python",
   "name": "python3"
  },
  "language_info": {
   "codemirror_mode": {
    "name": "ipython",
    "version": 3
   },
   "file_extension": ".py",
   "mimetype": "text/x-python",
   "name": "python",
   "nbconvert_exporter": "python",
   "pygments_lexer": "ipython3",
   "version": "3.10.12"
  }
 },
 "nbformat": 4,
 "nbformat_minor": 5
}
