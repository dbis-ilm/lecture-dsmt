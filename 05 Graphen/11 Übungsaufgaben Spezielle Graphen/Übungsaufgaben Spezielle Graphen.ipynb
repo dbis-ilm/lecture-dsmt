{
 "cells": [
  {
   "cell_type": "markdown",
   "id": "58083c93-4d7c-4822-b821-28c2c9dbbdf7",
   "metadata": {
    "deletable": false,
    "editable": false
   },
   "source": [
    "# Übungsaufgaben zu speziellen (Teil-) Graphen"
   ]
  },
  {
   "cell_type": "code",
   "execution_count": null,
   "id": "cb5b4b3f-65c2-4de2-995a-da7a2d5856da",
   "metadata": {
    "deletable": false,
    "editable": false,
    "slideshow": {
     "slide_type": ""
    },
    "tags": []
   },
   "outputs": [],
   "source": [
    "import networkx as nx\n",
    "\n",
    "from tui_dsmt.graph.datasets import load_tw_cities, draw_tw_cities\n",
    "from tui_dsmt.graph.datasets import load_exams, draw_exams\n",
    "\n",
    "tw_cities, tw_cities_pos = load_tw_cities()\n",
    "exams = load_exams()"
   ]
  },
  {
   "cell_type": "markdown",
   "id": "68022e31-3616-446e-86ba-b56451579b48",
   "metadata": {
    "deletable": false,
    "editable": false,
    "slideshow": {
     "slide_type": ""
    },
    "tags": []
   },
   "source": [
    "## Aufgabe 1\n",
    "Zuerst betrachten wir noch einmal den Graphen mit allen Ortschaften und den Kosten der Bauarbeiten zwischen ihnen."
   ]
  },
  {
   "cell_type": "code",
   "execution_count": null,
   "id": "550efcc0-bfa5-4d40-99e7-bff87a455a0a",
   "metadata": {
    "deletable": false,
    "editable": false,
    "slideshow": {
     "slide_type": ""
    },
    "tags": []
   },
   "outputs": [],
   "source": [
    "draw_tw_cities(tw_cities, tw_cities_pos)"
   ]
  },
  {
   "cell_type": "markdown",
   "id": "797dabe6-4864-4355-a3a6-26b6ee224adb",
   "metadata": {
    "deletable": false,
    "editable": false,
    "slideshow": {
     "slide_type": ""
    },
    "tags": []
   },
   "source": [
    "In einem vergangenen Abschnitt haben Sie den Algorithmus von Kruskal bereits einmal in Aktion erlebt. Dieser findet einen minimalen Spannbaum und zwar immer den selben."
   ]
  },
  {
   "cell_type": "code",
   "execution_count": null,
   "id": "fb52a641-eef7-43fa-8d96-3a0032dea5e5",
   "metadata": {
    "deletable": false,
    "editable": false,
    "slideshow": {
     "slide_type": ""
    },
    "tags": []
   },
   "outputs": [],
   "source": [
    "def kruskal(graph):\n",
    "    edges = [(u, v, graph.get_edge_data(u, v)['weight']) for u, v in graph.edges]\n",
    "    sorted_edges = sorted(edges, key=lambda x: x[2])\n",
    "\n",
    "    MST = nx.Graph()\n",
    "    MST.add_nodes_from(graph.nodes)\n",
    "\n",
    "    for u, v, weight in sorted_edges:\n",
    "        MST.add_edge(u, v, weight=weight)\n",
    "\n",
    "        if len(list(nx.all_simple_paths(MST, u, v))) >= 2:\n",
    "            MST.remove_edge(u, v)\n",
    "\n",
    "    return MST\n",
    "\n",
    "\n",
    "mst = kruskal(tw_cities)\n",
    "\n",
    "print(mst, 'and sum of weights', mst.size(weight='weight'))\n",
    "draw_tw_cities(mst, tw_cities_pos)"
   ]
  },
  {
   "cell_type": "markdown",
   "id": "51a03703-f974-4285-a028-23eb7102dcf2",
   "metadata": {
    "deletable": false,
    "editable": false,
    "slideshow": {
     "slide_type": ""
    },
    "tags": []
   },
   "source": [
    "Es können in einem Graphen aber natürlich mehrere minimale Spannbäume existieren. Die Kante zwischen Sonnerberg und Steinach wird beispielsweise nur nicht aufgenommen, weil sie in der Liste der sortierten Kanten nach den Verbindungen zwischen Lauscha und Steinach und Lauscha und Sonneberg einsortiert wird. Da sie aber alle das gleiche Gewicht besitzen, können also zwei beliebige aus diesen drei Kanten ausgewählt werden.\n",
    "\n",
    "Verändern Sie den Algorithmus von Kruskal nun so, dass er alle minimalen Spannbäume als Liste zurückgibt."
   ]
  },
  {
   "cell_type": "code",
   "execution_count": null,
   "id": "20001b56-a428-4c7f-909b-21ec03883bab",
   "metadata": {
    "deletable": false,
    "editable": true,
    "slideshow": {
     "slide_type": ""
    },
    "tags": [
     "task-1"
    ]
   },
   "outputs": [],
   "source": [
    "all_msts = []\n",
    "\n",
    "...\n",
    "\n",
    "all_msts"
   ]
  },
  {
   "cell_type": "markdown",
   "id": "cc4a4719-ed4e-4f30-8032-b38a2a50685d",
   "metadata": {
    "deletable": false,
    "editable": false
   },
   "source": [
    "## Aufgabe 2"
   ]
  },
  {
   "cell_type": "markdown",
   "id": "1c57bbd2-107b-4d65-9ad7-af6b6df0785b",
   "metadata": {
    "deletable": false,
    "editable": false,
    "slideshow": {
     "slide_type": ""
    },
    "tags": []
   },
   "source": [
    "Vor langer Zeit in einem weit, weit entfernten Modul musste eine Vorprüfungsleistung in Form einer Gruppenarbeit erbracht werden. Jede Gruppe sollte dafür ihr Ergebnis präsentieren. Um die Fairness bei der Terminvergabe zu wahren, sollte jede beteiligte Person verschiedene Zeiten angeben, sodass die Präsentation nicht mit weiteren, individuell belegten Vorlesungen kollidiert.\n",
    "\n",
    "Im Folgenden sehen Sie diesen Sachverhalt als Graphen modelliert. Linksseitig sind die einzelnen Gruppen zu sehen, während die Termine auf der rechten Seite zu finden sind. Eine (gerichtete) Kante zwischen beiden Seiten bedeutet, dass die Gruppe zu diesem Zeitpunkt präsentieren könnte. Jeder Kante wird außerdem ein Gewicht zugeordnet: $0$, falls zu diesem Termin beide Partner Zeit haben, $1$, falls zu diesem Termin nur einer der Partner erscheinen kann."
   ]
  },
  {
   "cell_type": "code",
   "execution_count": null,
   "id": "866f277d-fa1b-4f3e-a7b2-7f54fc97e46d",
   "metadata": {
    "deletable": false,
    "editable": false,
    "slideshow": {
     "slide_type": ""
    },
    "tags": []
   },
   "outputs": [],
   "source": [
    "draw_exams(exams)"
   ]
  },
  {
   "cell_type": "markdown",
   "id": "5fab5525-492c-4e63-837f-6eb3d118a306",
   "metadata": {
    "deletable": false,
    "editable": false,
    "slideshow": {
     "slide_type": ""
    },
    "tags": []
   },
   "source": [
    "Suchen Sie nun eine Zuordnung mit den folgenden Bedingungen:\n",
    "- Jede Gruppe **muss** einen Termin erhalten. (Nicht alle Termine müssen ausgefüllt werden.)\n",
    "- Möglichst viele Gruppen **sollten** einen Termin erhalten, zu dem beide Gruppenmitglieder verfügbar sind."
   ]
  },
  {
   "cell_type": "code",
   "execution_count": null,
   "id": "ddb6bff4-9d15-4f68-b7c5-e440e480b01d",
   "metadata": {
    "deletable": false,
    "editable": true,
    "slideshow": {
     "slide_type": ""
    },
    "tags": [
     "task-2"
    ]
   },
   "outputs": [],
   "source": [
    "matching = nx.DiGraph()\n",
    "matching.add_nodes_from(exams.nodes)\n",
    "\n",
    "...\n",
    "\n",
    "matching"
   ]
  },
  {
   "cell_type": "code",
   "execution_count": null,
   "id": "9d8981a9-e417-476f-b17f-d739d666a0ba",
   "metadata": {
    "deletable": false,
    "editable": false,
    "slideshow": {
     "slide_type": ""
    },
    "tags": []
   },
   "outputs": [],
   "source": [
    "draw_exams(matching)"
   ]
  }
 ],
 "metadata": {
  "kernelspec": {
   "display_name": "Python 3 (ipykernel)",
   "language": "python",
   "name": "python3"
  },
  "language_info": {
   "codemirror_mode": {
    "name": "ipython",
    "version": 3
   },
   "file_extension": ".py",
   "mimetype": "text/x-python",
   "name": "python",
   "nbconvert_exporter": "python",
   "pygments_lexer": "ipython3",
   "version": "3.10.12"
  }
 },
 "nbformat": 4,
 "nbformat_minor": 5
}
