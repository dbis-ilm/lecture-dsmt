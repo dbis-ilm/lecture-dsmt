{
 "cells": [
  {
   "cell_type": "markdown",
   "id": "54d9cb5e-f4d8-416a-af6b-cbdcc6df40ff",
   "metadata": {
    "deletable": false,
    "editable": false
   },
   "source": [
    "# Partitionierung\n",
    "Die Partitionierung von Graphen beschreibt einen Prozess, der die Knoten in disjunkte Mengen aufteilt. Diese Partitionierung findet unter anderem Anwendung beim parallelen Rechnen, der Komponentenplatzierung auf Microchips oder auch in der Analyse von Netzwerken."
   ]
  },
  {
   "cell_type": "code",
   "execution_count": null,
   "id": "ca9d17f1-2377-46cb-9e11-8878abd021ad",
   "metadata": {
    "deletable": false
   },
   "outputs": [],
   "source": [
    "import math\n",
    "import random\n",
    "import itertools\n",
    "\n",
    "import networkx as nx\n",
    "import numpy as np\n",
    "import matplotlib.pyplot as plt\n",
    "\n",
    "from tui_dsmt import hex_colors\n",
    "from tui_dsmt.graph import StoerWagner\n",
    "from tui_dsmt.graph.datasets import load_mp_small, load_mp_small_undirected, load_partitioning_example\n",
    "\n",
    "mp_g, mp_pos     = load_mp_small()\n",
    "mp_g_u, _        = load_mp_small_undirected()\n",
    "ex_graph, ex_pos = load_partitioning_example()"
   ]
  },
  {
   "cell_type": "markdown",
   "id": "ea5b36d8-c9fa-4d04-aa5c-5316d1f54e50",
   "metadata": {
    "deletable": false,
    "editable": false
   },
   "source": [
    "## Inhaltsverzeichnis\n",
    "- [Motivation](#Motivation)\n",
    "- [Definition](#Definition)\n",
    "- [Naiver Algorithmus](#Naiver-Algorithmus)\n",
    "- [Partitionierung ungerichteter Graphen](#Partitionierung-ungerichteter-Graphen)\n",
    "  - [Kernighan-Lin-Algorithmus](#Kernighan-Lin-Algorithmus)\n",
    "  - [Spektrale Partitionierung](#Spektrale-Partitionierung)\n",
    "  - [Spektrale Partitionierung in gewichteten Graphen](#Spektrale-Partitionierung-in-gewichteten-Graphen)\n",
    "  - [Stoer-Wagner-Algorithmus](#Stoer-Wagner-Algorithmus)\n",
    "  - [Metis-Algorithmus](#Metis-Algorithmus)\n",
    "- [Partitionierung gerichteter Graphen](#Partitionierung-gerichteter-Graphen)"
   ]
  },
  {
   "cell_type": "markdown",
   "id": "b682f978-c2a8-4594-abe4-54a8f1fda6ef",
   "metadata": {
    "deletable": false,
    "editable": false
   },
   "source": [
    "## Motivation\n",
    "Es existieren eine Reihe von Aufgaben, die von mehreren Computer abgearbeitet werden sollen. Zwischen diesen Aufgaben existieren aber Abhängigkeiten in der Form, dass eine Aufgabe vom Ergebnis einer anderen abhängig sein kann. Die Kommunikation zwischen Computern ist aber verhältnismäßig langsam, weshalb diese Zwischenergebnisse nach Möglichkeit nur selten verschickt werden sollen. Es wird also eine Aufteilung der Aufgaben gesucht, die Daten und Zwischenergebnisse mit möglichst hoher Lokalität bearbeitet.\n",
    "\n",
    "Das Problem wird nun als (gerichteter) Graph modelliert. Die Aufgaben werden zu Knoten, zwischen denen Kanten existieren, falls ein Zwischenergebnis weitergereicht werden muss. Ziel ist es nun eine Aufteilung der Aufgaben auf eine festgelegte Anzahl an Computern (Partitionen) zu finden, sodass möglichst möglichst wenige Zwischenergebnisse zwischen Computern (Kanten zwischen Partitionen) ausgetauscht werden müssen."
   ]
  },
  {
   "cell_type": "code",
   "execution_count": null,
   "id": "26dc54a0-670d-4f40-ae17-7e348f59a0a8",
   "metadata": {
    "deletable": false
   },
   "outputs": [],
   "source": [
    "nx.draw(mp_g, mp_pos,\n",
    "        with_labels=True, font_color='whitesmoke',\n",
    "        node_color=[hex_colors[0]] * 4 + [hex_colors[1]] * 5)"
   ]
  },
  {
   "cell_type": "markdown",
   "id": "6e98034d-d270-4fd6-9bd7-2d60622d3c68",
   "metadata": {
    "deletable": false,
    "editable": false
   },
   "source": [
    "Im Beispiel sehen Sie einen solchen Aufgabengraphen und eine von Hand vorgegebene Einteilung in zwei Partitionen. Lediglich eine Kante verläuft dabei zwischen den beiden Partitionen.\n",
    "\n",
    "Später werden wir diese Art der Aufteilung als *Minimum Cut* bezeichnen. Es existieren aber durchaus auch andere Anforderungen an eine Partitionierung als die Zahl der verbindenen Kanten zu minimieren."
   ]
  },
  {
   "cell_type": "markdown",
   "id": "1f9d278d-0569-46de-ae61-46618138c358",
   "metadata": {
    "deletable": false,
    "editable": false
   },
   "source": [
    "## Definition\n",
    "**Wiederholung**: Die Partitionierung einer Menge $M$ beschreibt die Unterteilung in disjunkte Teilmengen $A_1, \\dots, A_n$, sodass\n",
    "1. $\\bigcup_i A_i = M$\n",
    "2. $A_i \\cap A_j = \\emptyset \\leftrightarrow i \\neq j$\n",
    "\n",
    "Aus $(2)$ folgt außerdem, dass die Teilmengen $A_i$ nicht leer sind.\n",
    "\n",
    "---\n",
    "\n",
    "**Definition**: Die Partitionierung eines Graphen $G = (V, E)$ ist eine Zerlegung der *Knotenmenge* $V$ in disjunkte Teilmengen $V_1, \\dots, V_n$, sodass oben aufgezählte Bedingungen gelten.\n",
    "\n",
    "Zusätzliche Bedingungen dieser Partitionierung hängen dann von der Art der Anwendung bzw. der Art der Zielstellung ab. *Minimum Cut* Verfahren versuchen beispielsweise, möglichst wenige Kanten zwischen den Partitionen zu erreichen, während eine bipartite Partitionierung ausschließlich Kanten zwischen den Partitionen erlaubt."
   ]
  },
  {
   "cell_type": "markdown",
   "id": "bec05982-c66e-4c2d-a5b1-cc9b7f76c707",
   "metadata": {
    "deletable": false,
    "editable": false
   },
   "source": [
    "## Naiver Algorithmus\n",
    "Wie gewohnt soll zunächst ein Algorithmus gezeigt werden, der keine weiteren Annahmen verwendet und stattdessen alle Möglichkeiten probiert. In einem Graphen mit $n$ Knoten kann jeder dieser Knoten zu einer der $k$ Partitionen gehören. Für jeden Kanidaten wird geprüft, ob eine Partition leer bleibt und wie gut er hinsichtlich des vorgegebenen Kriteriums abschneidet.\n",
    "\n",
    "Der nachfolgende Algorithmus erledigt dies und sucht dabei nach einer Minimum-Cut-Lösung."
   ]
  },
  {
   "cell_type": "code",
   "execution_count": null,
   "id": "5f4c64d8-0152-4fe4-9159-3b2fcd7208b6",
   "metadata": {
    "deletable": false
   },
   "outputs": [],
   "source": [
    "def brute_force_partitions(graph, k):\n",
    "    best = math.inf\n",
    "    partitions = None\n",
    "\n",
    "    for a in itertools.product(range(k), repeat=len(graph)):\n",
    "        # leere Partitionen suchen\n",
    "        if len(set(a)) != k:\n",
    "            continue\n",
    "\n",
    "        # Kriterium prüfen\n",
    "        # hier: Anzahl der Kanten\n",
    "        e = 0\n",
    "        for u, v in graph.edges:\n",
    "            if a[u] != a[v]:\n",
    "                e += 1\n",
    "\n",
    "        if e < best:\n",
    "            best = e\n",
    "            partitions = a\n",
    "\n",
    "    return partitions"
   ]
  },
  {
   "cell_type": "code",
   "execution_count": null,
   "id": "1872740e-7138-41c3-af58-e2a79877fdb1",
   "metadata": {
    "deletable": false
   },
   "outputs": [],
   "source": [
    "partitions = brute_force_partitions(mp_g, 2)\n",
    "print(partitions)\n",
    "\n",
    "nx.draw(mp_g, mp_pos, with_labels=True, font_color='whitesmoke',\n",
    "        node_color=[hex_colors[i] for i in partitions])"
   ]
  },
  {
   "cell_type": "markdown",
   "id": "fb7a2f9d-bf84-422d-a430-07131c594412",
   "metadata": {
    "deletable": false,
    "editable": false
   },
   "source": [
    "Im Laufe des Algorithmus ergeben sich $k^n$ Kandiaten. In Graphen relevanter Größe ist das keine akzeptable Laufzeit.\n",
    "\n",
    "Der vorangestellte Algorithmus prüft übrigens nicht, ob die Partitionen in etwa die selbe Größe besitzen. Mit verändertem $k$ können Sie das daraus resultierende Problem schnell erkennen."
   ]
  },
  {
   "cell_type": "markdown",
   "id": "60c2ec95-7f82-4f42-a7c8-b324bcbfba1a",
   "metadata": {
    "deletable": false,
    "editable": false
   },
   "source": [
    "## Partitionierung ungerichteter Graphen"
   ]
  },
  {
   "cell_type": "markdown",
   "id": "6faca933-3d62-40a7-84fe-30d86eac01cf",
   "metadata": {
    "deletable": false,
    "editable": false
   },
   "source": [
    "### Kernighan-Lin-Algorithmus\n",
    "Der Kernighan-Lin-Algorithmus ist ein von Brian W. Kernighan und Shen Lin im Jahre 1969 vorgestellter, heuristischer Algorithmus zur Partitionierung von **ungerichteten** Graphen unter Berücksichtigung von **Kantengewichten**. Gefunden werden dabei in etwa **gleich große Partitionen**. Erfunden wurde er ursprünglich, um die Komponentenplatzierung auf Computerchips zu optimieren, wobei die Länge der Komponenten untereinander möglichst klein gehalten werden sollte.\n",
    "\n",
    "Zunächst benötigen wir für diesen Algorithmus ein Kostenmodell für jeden Knoten:\n",
    "- Die Funktion $w : V \\times V \\rightarrow \\mathbb{R}$ ordnet jedem Paar zweier Knoten eine reelle Zahl als Gewicht zu.\n",
    "- Die *internen Kosten* $I_v$ beschreiben die Summe der Kantengewichte von $v$ zu allen anderen Knoten innerhalb der selben Partition.\n",
    "- Die *externen Kosten* $E_v$ beschreiben die Summe der Kantengewichte von $v$ zu allen Knoten der anderen Partition.\n",
    "- Die *Differenzkosten* $D_v = E_v - I_v$ sind die Differenz zwischen externen und internen Kosten."
   ]
  },
  {
   "cell_type": "code",
   "execution_count": null,
   "id": "a81042ae-18a5-47f6-9d2f-fdc5d6e7d072",
   "metadata": {
    "deletable": false
   },
   "outputs": [],
   "source": [
    "def w(graph, u, v):\n",
    "    if (u, v) in graph.edges:\n",
    "        return graph.get_edge_data(u, v)['weight']\n",
    "    elif (v, u) in graph.edges:\n",
    "        return graph.get_edge_data(v, u)['weight']\n",
    "    else:\n",
    "        return 0\n",
    "\n",
    "def I_v(graph, A, B, v):\n",
    "    return sum(w(graph, u, v) for u in graph.neighbors(v) if (u in A and v in A) or (u in B and v in B))\n",
    "\n",
    "def E_v(graph, A, B, v):\n",
    "    return sum(w(graph, u, v) for u in graph.neighbors(v) if (u in A and v in B) or (u in B and v in A))\n",
    "\n",
    "def D_v(graph, A, B, v):\n",
    "    return E_v(graph, A, B, v) - I_v(graph, A, B, v)"
   ]
  },
  {
   "cell_type": "markdown",
   "id": "208a9225-67b9-47aa-9eaa-3da87230d41b",
   "metadata": {
    "deletable": false,
    "editable": false
   },
   "source": [
    "Das Ziel des Algorithmus ist dabei eine Unterteilung eines Graphen in zwei Partitionen, die in etwa die selbe Größe besitzen, sodass das summierte Gewicht der zwischen den Partitionen verlaufenden Kanten minimal ist. Das funktioniert wie folgt:\n",
    "1. Die Knoten werden zu gleichen Teilen in die Partitionen $A$ und $B$ aufgeteilt.\n",
    "2. Solange eine Verbesserung im vorigen Schleifendurchlauf erreicht wurde:\n",
    "    1. Für alle Knoten werden die Differenzkosten $D_v$ berechnet.\n",
    "    2. Angelegt werden die Listen $g_v$, $a_v$ und $b_v$.\n",
    "    3. Bis kein Paar von Knoten mehr gebildet werden kann, wird:\n",
    "        1. das Paar $a \\in A, b \\in B$ ausgewählt, das die höchste Kostenreduktion $g = D_a + D_b - 2 * w(a, b)$ verspricht,\n",
    "        2. die Knoten $a$ und $b$ für weiteres Vertauschen in dieser Iteration gesperrt,\n",
    "        3. $g \\rightarrow g_v, a \\rightarrow a_v, b \\rightarrow b_v$ und\n",
    "        4. die Differenzkosten aktualisiert für alle Knoten in $A \\setminus \\{a\\}$ und $B \\setminus \\{b\\}$.\n",
    "    4. Gesucht wird das $k$, sodass die Summe über $g_v[0], \\dots, g_v[k]$ maximal wird bzw. $\\underset{k}{\\operatorname{arg\\,max}} \\sum_{i=0}^k g_v[i]$.\n",
    "    5. Falls die Summe positiv ist, wird die Vertauschung bis einschließlich $k$ durchgeführt und ein weiterer Schleifendurchlauf erlaubt."
   ]
  },
  {
   "cell_type": "code",
   "execution_count": null,
   "id": "1c3a59b2-4fe3-4c92-833c-4cf5d8e3c57e",
   "metadata": {
    "deletable": false
   },
   "outputs": [],
   "source": [
    "def kernighan_lin(graph):\n",
    "    # Zufällige Aufteilung in zwei (nahezu) gleich\n",
    "    # große Teilmengen:\n",
    "    all_nodes = list(graph.nodes)\n",
    "    random.shuffle(all_nodes)\n",
    "\n",
    "    A = set(all_nodes[:len(all_nodes) // 2])\n",
    "    B = set(all_nodes[len(all_nodes) // 2:])\n",
    "\n",
    "    # solange eine Verbesserung erreicht wurde\n",
    "    # (siehe break am Ende)\n",
    "    while True:\n",
    "        # Arbeitskopien von A und B erstellen\n",
    "        new_A, new_B = A.copy(), B.copy()\n",
    "\n",
    "        # Menge für bereits getauschten / gesperrten Knoten\n",
    "        locked = set()\n",
    "\n",
    "        # Berechnung der Differenzkosten für jeden Knoten\n",
    "        ds = { node: D_v(graph, new_A, new_B, node) for node in graph }\n",
    "\n",
    "        # Listen\n",
    "        gv = []\n",
    "        av = []\n",
    "        bv = []\n",
    "\n",
    "        # solange tauschbare Knoten existieren\n",
    "        for i in range(len(graph) // 2):\n",
    "            # Suche nach Paar mit höchster Kostenreduktion\n",
    "            g, a, b = max(\n",
    "                (ds[a] + ds[b] - 2 * w(graph, a, b), a, b)\n",
    "                for a in A if a not in locked\n",
    "                for b in B if b not in locked\n",
    "            )\n",
    "\n",
    "            # Sperren der Knoten\n",
    "            locked.add(a)\n",
    "            locked.add(b)\n",
    "\n",
    "            # Erweitern der Listen\n",
    "            gv.append(g)\n",
    "            av.append(a)\n",
    "            bv.append(b)\n",
    "\n",
    "            # Anpassung der Differenzkosten\n",
    "            new_A.remove(a)\n",
    "            new_B.remove(b)\n",
    "\n",
    "            ds = { node: D_v(graph, new_A, new_B, node) for node in graph }\n",
    "\n",
    "        # k finden\n",
    "        g_max, k = max((sum(gv[:i]), i) for i in range(len(gv)))\n",
    "\n",
    "        # Vertauschung vornehmen oder Schleife abbrechen\n",
    "        if g_max > 0:\n",
    "            for a, b in zip(av[:k], bv[:k]):\n",
    "                A.remove(a)\n",
    "                B.add(a)\n",
    "\n",
    "                B.remove(b)\n",
    "                A.add(b)\n",
    "        else:\n",
    "            break\n",
    "\n",
    "    return [0 if node in A else 1 for node in graph]"
   ]
  },
  {
   "cell_type": "code",
   "execution_count": null,
   "id": "98d1869a-1344-43f5-974b-2f88344e43b3",
   "metadata": {
    "deletable": false
   },
   "outputs": [],
   "source": [
    "partitions = kernighan_lin(ex_graph)\n",
    "print(partitions)\n",
    "\n",
    "nx.draw(ex_graph, ex_pos, with_labels=True, font_color='whitesmoke',\n",
    "        node_color=[hex_colors[i] for i in partitions])\n",
    "nx.draw_networkx_edge_labels(ex_graph, ex_pos, edge_labels=nx.get_edge_attributes(ex_graph, 'weight'), font_color='black')\n",
    "\n",
    "plt.show()"
   ]
  },
  {
   "cell_type": "markdown",
   "id": "2c3d436e-f905-4826-8fb2-31ef1411926d",
   "metadata": {
    "deletable": false,
    "editable": false
   },
   "source": [
    "In den Schleifendurchläufen wird damit gierig (*greedy*) optimiert. Der Algorithmus findet damit auch lokale Optima, die von der zufälligen Startaufteilung abhängen.\n",
    "\n",
    "**Verständnisfrage:** Welches Ergebnis wird erreicht, wenn alle Kantengewichte im Graphen gleich groß sind?"
   ]
  },
  {
   "cell_type": "markdown",
   "id": "aa9881be-0142-4dd7-a2ea-2fafeda7cc5e",
   "metadata": {
    "deletable": false,
    "editable": false
   },
   "source": [
    "### Spektrale Partitionierung\n",
    "Spektrale Partitionierung beschäftigt sich mit der Partitionierung von Graphen mit Hilfe algebraischer Analysen der zugehörigen Matrizen. Sie eignet sich zur Partitionierung **ungerichteter** Graphen mit einer minimalen Anzahl an zwischen den Partitionen verlaufenden Kanten.\n",
    "\n",
    "- Bereits bekannt ist Ihnen die *Adjazenzmatrix*, die in der Regel mit $A$ bezeichnet wird und deren Einträge $A_{ij}=1$ sind, falls es eine Kante zwischen dem $i$-ten und $j$-ten Knoten gibt, und $0$ andernfalls.\n",
    "- Die *Gradmatrix* $D$ ist eine Diagonalmatrix, bei der ein Eintrag $D_{ii}$ dem Knotengrad des Knotens $i$ entspricht.\n",
    "- Die *Laplace-Matrix* $L$ beschreibt die Beziehung zwischen Knoten und Kanten. Sie wird gebildet als $L = D - A$ beziehungsweise $$\n",
    "L_{ij} = \\begin{cases}\n",
    "    deg(i) & \\text{falls } i = j                                                                         \\\\\n",
    "    -1     & \\text{falls } i \\neq j \\text{ und eine Kante zwischen } i \\text{ und } j \\text{ existiert}  \\\\\n",
    "    0      & \\text{sonst}\n",
    "\\end{cases}\n",
    "$$\n",
    "\n",
    "Die spektrale Partitionierung teilt nun den Graphen in zwei Teile und minimiert dabei die Anzahl der Kanten, die zwischen den beiden entstehenden Teilmengen der Knoten verlaufen. Dazu werden die Eigenwerte $\\lambda_i$ und die zugehörigen Eigenvektoren $v_i$ der Laplace-Matrix $L$ bestimmt. Zur Erinnerung: Ein Eigenwert mit dem zugehörigen (rechten) Eigenvektor entspricht der nachfolgenden Bedingung. $$ L * v_i = \\lambda_i * v_i $$\n",
    "\n",
    "Die gefundenen Eigenwerte der Matrix werden aufsteigend sortiert. Der kleinste Eigenwert, der nicht $0$ ist, wird auch als Fiedler-Wert bezeichnet. (Bei vollständig verbundenen Graphen erfüllt die Laplace-Matrix Eigenschaften, sodass dies immer der zweitkleinste Eigenwert ist.) Der ihm zugeordnete Fiedler-Vektor enthält wichtige Informationen über die Struktur des Graphen und kann zu dessen Partitionierung verwendet werden.\n",
    "\n",
    "Das nachfolgende Beispiel verwendet NumPy, um die Eigenvektoren und -werte effizient zu berechnen und anschließend den Fiedler-Vektor zu finden."
   ]
  },
  {
   "cell_type": "code",
   "execution_count": null,
   "id": "fb51ee1d-8e16-418c-b455-fa3cc6a7b8a1",
   "metadata": {
    "deletable": false
   },
   "outputs": [],
   "source": [
    "A = nx.to_numpy_array(mp_g_u)\n",
    "D = np.diag([d for _, d in mp_g_u.degree])\n",
    "L = D - A\n",
    "\n",
    "L"
   ]
  },
  {
   "cell_type": "code",
   "execution_count": null,
   "id": "3522da89-ad28-4134-a6f5-68c7c7b239de",
   "metadata": {
    "deletable": false
   },
   "outputs": [],
   "source": [
    "# Achtung: eigh eignet sich nur für symmetrische Matrizen,\n",
    "# ist dafür aber schneller als eig, liefert nur reelle\n",
    "# Eigenwerte und diese sogar direkt aufsteigend sortiert!\n",
    "values, vectors = np.linalg.eigh(L)\n",
    "fiedler_vector = vectors[:,1]\n",
    "\n",
    "fiedler_vector"
   ]
  },
  {
   "cell_type": "markdown",
   "id": "495a8c45-c8a6-4045-a0c7-f298c0cc29b3",
   "metadata": {
    "deletable": false,
    "editable": false
   },
   "source": [
    "Der Graph kann partitioniert werden, indem die Knoten den Werten im Fiedler-Vektor entsprechend in zwei Gruppen aufgeteilt werden. Ein einfacher Schwellwert zur Aufteilung der Mengen, der häufig verwendet wird, ist das Vorzeichen."
   ]
  },
  {
   "cell_type": "code",
   "execution_count": null,
   "id": "0197ab58-3f83-4b87-9ca4-c28eff392a10",
   "metadata": {
    "deletable": false
   },
   "outputs": [],
   "source": [
    "p1 = [node for val, node in zip(fiedler_vector, mp_g_u.nodes) if val < 0]\n",
    "p2 = [node for val, node in zip(fiedler_vector, mp_g_u.nodes) if val >= 0]\n",
    "\n",
    "p1, p2"
   ]
  },
  {
   "cell_type": "code",
   "execution_count": null,
   "id": "f7569055-923a-42b6-b0b1-9b95c16c970b",
   "metadata": {
    "deletable": false
   },
   "outputs": [],
   "source": [
    "partitions = [0 if node in p1 else 1 for node in mp_g_u.nodes]\n",
    "print(partitions)\n",
    "\n",
    "nx.draw(mp_g_u, mp_pos, with_labels=True, font_color='whitesmoke',\n",
    "        node_color=[hex_colors[i] for i in partitions])\n",
    "\n",
    "plt.show()"
   ]
  },
  {
   "cell_type": "markdown",
   "id": "35f17b65-0754-4d6f-b689-7a5e56807af9",
   "metadata": {
    "deletable": false,
    "editable": false
   },
   "source": [
    "Die Schwierigkeit der spektralen Partitionierung besteht also in der Berechnung der Eigenwerte und Eigenvektoren. Das ist als mathematisches Problem gelöst und in NumPy als effizienter Algorithmus enthalten.\n",
    "\n",
    "Da die Symmetrie der Adjazenzmatrix eine Rolle spielt (nicht nur wegen der Verwendung von `eigh`), lässt sich der Algorithmus nicht ohne Weiteres auf gerichtete Graphen übertragen. Für ungerichtete Graphen stellt die spektrale Partitionierung jedoch einen einfach umzusetzenden Algorithmus dar, um Partitionen zu finden."
   ]
  },
  {
   "cell_type": "markdown",
   "id": "5cd9ea3a-dcff-4ac2-8f4c-9d1edf7a193e",
   "metadata": {
    "deletable": false,
    "editable": false
   },
   "source": [
    "### Spektrale Partitionierung in gewichteten Graphen\n",
    "Durch geringfügige Anpassungen lässt sich die spektrale Partitionierung außerdem auf **gewichtete** Graphen (mit positiven Kantengewichten) übertragen: Sei $W$ zusätzlich eine Matrix, welche an der Position $i,j$ das Gewicht der Kante zwischen den Knoten $i$ und $j$ enthält, sofern diese durch eine Kante verbunden sind, und $0$ andernfalls.\n",
    "\n",
    "Dann wird die Diagonal-Gradmatrix $D$ so verändert, dass sie die Summe der Gewichte der adjazenten Kanten enthält:\n",
    "\n",
    "$$\n",
    "D_{ij} = \\begin{cases}\n",
    "    \\sum_k W_{ik} & \\text{falls } i=j \\\\\n",
    "    0             & \\text{sonst}\n",
    "\\end{cases}\n",
    "$$"
   ]
  },
  {
   "cell_type": "code",
   "execution_count": null,
   "id": "92b8e721-6f5f-4a10-9e57-75540628aced",
   "metadata": {
    "deletable": false
   },
   "outputs": [],
   "source": [
    "# Die Adjazenzmatrix enthält in NetworkX\n",
    "# automatisch die Gewichte der Kanten bei\n",
    "# gewichteten Graphen.\n",
    "W = nx.to_numpy_array(ex_graph)\n",
    "\n",
    "# Aufstellen der Gradmatrix\n",
    "degrees = np.sum(W, axis=1)\n",
    "D = np.diag(degrees)\n",
    "\n",
    "# Aufstellen von L\n",
    "L = D - W\n",
    "L"
   ]
  },
  {
   "cell_type": "markdown",
   "id": "a20f5033-76d0-4141-b7a1-907a8309cc83",
   "metadata": {
    "deletable": false,
    "editable": false
   },
   "source": [
    "Der restliche Algorithmus verläuft wie zuvor:"
   ]
  },
  {
   "cell_type": "code",
   "execution_count": null,
   "id": "0fb9474a-4dd6-41eb-83fe-1c6fb67bc13b",
   "metadata": {
    "deletable": false
   },
   "outputs": [],
   "source": [
    "# Eigenvektor zum zweitkleinsten Eigenwert finden\n",
    "values, vectors = np.linalg.eigh(L)\n",
    "fiedler_vector = vectors[:,1]\n",
    "\n",
    "# Partitionen bestimmen\n",
    "p1 = [node for val, node in zip(fiedler_vector, ex_graph.nodes) if val < 0]\n",
    "p2 = [node for val, node in zip(fiedler_vector, ex_graph.nodes) if val >= 0]\n",
    "\n",
    "p1, p2"
   ]
  },
  {
   "cell_type": "code",
   "execution_count": null,
   "id": "fe495626-9b4c-4b23-8c0e-000e8da1afd5",
   "metadata": {
    "deletable": false
   },
   "outputs": [],
   "source": [
    "partitions = [0 if node in p1 else 1 for node in ex_graph.nodes]\n",
    "print(partitions)\n",
    "\n",
    "nx.draw(ex_graph, ex_pos, with_labels=True, font_color='whitesmoke',\n",
    "        node_color=[hex_colors[i] for i in partitions])\n",
    "nx.draw_networkx_edge_labels(ex_graph, ex_pos, edge_labels=nx.get_edge_attributes(ex_graph, 'weight'), font_color='black')\n",
    "\n",
    "pass"
   ]
  },
  {
   "cell_type": "markdown",
   "id": "a38a265e-2f26-46cf-a474-476cc8ef7508",
   "metadata": {
    "deletable": false,
    "editable": false
   },
   "source": [
    "### Stoer-Wagner-Algorithmus\n",
    "Der Stoer-Wagner-Algorithmus ist ein weiterer Algorithmus, der dazu verwendet wird, den **minimalen Schnitt** in einem **ungerichteten, gewichteten** Graphen (mit positiven Kantengewichten) zu finden. Der Algorithmus garantiert darüber hinaus, dass tatsächlich der minimale Schnitt gefunden wird, beachtet dabei aber nicht die Größe der Partitionen. Veröffentlicht wurde er von Mechthild Stoer und Frank Wagner im Jahr 1995.\n",
    "\n",
    "Der Algorithmus durchläuft für einen Graphen $G = (V, E)$ immer $|V| - 1$ Phasen:\n",
    "- In jeder Phase $i$ wird ein Schnitt in einem Graphen $G_i = (V_i, E_i)$ berechnet.\n",
    "- $G_1 = G$ entspricht dem Ausgangsgraphen. $G_i$ entsteht durch Verschmelzen von $G_{i-1}$ mit *geeigneten* Knoten.\n",
    "\n",
    "Im Detail laufen die Phasen wie folgt ab:\n",
    "- Begonnen wird mit einem beliebigen Knoten $v \\in V$. Dann sei die Menge $S_i = \\{v\\}$.\n",
    "- Iterativ wird der am stärksten zu $S_i$ verbundene Knoten (größtes Kantengewicht) zu $S_i$ hinzugefügt.\n",
    "- Seien $s$ und $t$ die als vorletztes bzw. als letztes zu $S_i$ hinzugefügten Knoten. Dann ist $(V_i \\setminus \\{t\\}, \\{t\\})$ der Schnitt der Phase $i$.\n",
    "- $G_{i+1}$ entsteht aus $G_i$ durch Verschmelzen der Knoten $s$ und $t$.\n",
    "\n",
    "Nach Abschluss aller Phasen wird der Schnitt ausgewählt, der das minimale summierte Gewicht der zwischen den Partitionen verlaufenden Kanten besitzt."
   ]
  },
  {
   "cell_type": "markdown",
   "id": "0935aad9-c6e7-4178-bec9-2050d40285fb",
   "metadata": {
    "deletable": false,
    "editable": false
   },
   "source": [
    "Zur Implementierung müssen einige Details beachtet werden. Beim Verschmelzen zweier Knoten in einem Graphen ist das Ziel die Verringerung der Anzahl der Knoten. Die durch die Kanten und insbesondere die Gewichte enthaltene Information soll dabei aber nicht verloren gehen. Bei der Verschmelzung der Knoten $s$ und $t$ zu einem neuen Knoten $s,t$ werden daher Kanten zu allen Nachbarn von $s$ und $t$ inklusive der Gewichte eingefügt. Falls $s$ und $t$ sich einen Nachbarn teilen, wird das Gewicht beider Kanten aufsummiert.\n",
    "\n",
    "Im nachstehenden Beispiel werden die Knoten $1$ und $3$ zusammengefasst. Zwischen $1$ und $4$ existiert eine Kante mit dem Gewicht $3$ - diese wird übernommen. Zwischen $1$ und $4$ und $3$ und $4$ existiert jeweils eine Kante, sodass die Gewichte summiert werden.\n",
    "\n",
    "<img src=\"data:image/png;base64,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\" width=\"500\">\n",
    "\n",
    "Mit NetworkX könnte der Code zum Vereinigen in etwa so aussehen:"
   ]
  },
  {
   "cell_type": "code",
   "execution_count": null,
   "id": "b6a5231b-679f-429d-a062-0c6d12a16656",
   "metadata": {
    "deletable": false
   },
   "outputs": [],
   "source": [
    "def merge_nodes(graph, s, t):\n",
    "    # Kanten und Gewichte zu Nachbarn sammeln\n",
    "    merged_weights = {}\n",
    "    for node in (s, t):\n",
    "        for neighbor in graph.neighbors(node):\n",
    "            if neighbor not in (s, t):\n",
    "                edge_weight = graph.get_edge_data(node, neighbor)['weight']\n",
    "                merged_weights[neighbor] = merged_weights.get(neighbor, 0) + edge_weight\n",
    "\n",
    "    # Kopie des Graphen anlegen\n",
    "    # s und t entfernen\n",
    "    # neuen Knoten mit passenden Gewichten einsetzen\n",
    "    merged_graph = graph.copy()\n",
    "    merged_graph.remove_nodes_from((s, t))\n",
    "    for neighbor, weight in merged_weights.items():\n",
    "        merged_graph.add_edge(f'{s},{t}', neighbor, weight=weight)\n",
    "\n",
    "    return merged_graph"
   ]
  },
  {
   "cell_type": "markdown",
   "id": "9ee19251-30c9-44aa-ae79-142d75dc3c97",
   "metadata": {
    "deletable": false,
    "editable": false
   },
   "source": [
    "Auf Grund der Speicherung der kombinierten Knoten als Zeichenkette müssen diese später wieder \"aufgetrennt\" werden."
   ]
  },
  {
   "cell_type": "code",
   "execution_count": null,
   "id": "d9f56e85-f547-4fbf-bba8-c6cee795802f",
   "metadata": {
    "deletable": false
   },
   "outputs": [],
   "source": [
    "def split_nodes(*nodes):\n",
    "    return [\n",
    "        y\n",
    "        for node in nodes\n",
    "        for y in (\n",
    "            list(map(int, node.split(','))) if isinstance(node, str)\n",
    "            else [node]\n",
    "        )\n",
    "    ]"
   ]
  },
  {
   "cell_type": "markdown",
   "id": "6d201e2e-94e3-483d-b2f7-97e8a882032a",
   "metadata": {
    "deletable": false,
    "editable": false
   },
   "source": [
    "Der zweite Baustein besteht in der Formulierung der Phasenlogik."
   ]
  },
  {
   "cell_type": "code",
   "execution_count": null,
   "id": "235e37b0-3d72-42e7-b709-6815811f7e3f",
   "metadata": {
    "deletable": false
   },
   "outputs": [],
   "source": [
    "def minimum_cut_phase(graph, a):\n",
    "    # Anlegen der Menge S_i\n",
    "    S = [a]\n",
    "\n",
    "    # Anlegen der Variablen für s und t\n",
    "    s, t = None, None\n",
    "\n",
    "    # Iteration in Länge der Knotenmenge - 1\n",
    "    for _ in range(len(graph) - 1):\n",
    "        # Suche nach dem Knoten mit der stärksten\n",
    "        # Verbindung zur Menge S_i\n",
    "        ranking = {}\n",
    "\n",
    "        for node in S:\n",
    "            for neighbor in graph.neighbors(node):\n",
    "                if neighbor in S:\n",
    "                    continue\n",
    "\n",
    "                edge_weight = graph.get_edge_data(node, neighbor)['weight']\n",
    "                ranking[neighbor] = ranking.get(neighbor, 0) + edge_weight\n",
    "\n",
    "        # Auswahl des Knotens mit der stärksten\n",
    "        # Verbindung Hinzufügen zur Menge S_i\n",
    "        best = max(ranking.keys(), key=ranking.get)\n",
    "        S.append(best)\n",
    "\n",
    "        # Aktualisieren von s und t\n",
    "        s = t\n",
    "        t = best\n",
    "\n",
    "    # Schnitt wie zuvor beschrieben bestimmen\n",
    "    # und Zeichenketten dabei auftrennen\n",
    "    cut = split_nodes(*S[:-1]), split_nodes(t)\n",
    "\n",
    "    # Knoten im Graphen zusammenfassen\n",
    "    # im letzten Durchlauf ist s = None!\n",
    "    if s is not None:\n",
    "        next_graph = merge_nodes(graph, s, t)\n",
    "    else:\n",
    "        next_graph = None\n",
    "\n",
    "    # Schnitt, Graphen mit zusammengefassten Knoten\n",
    "    # und Gewicht zurückgeben\n",
    "    return cut, next_graph, ranking[best]"
   ]
  },
  {
   "cell_type": "markdown",
   "id": "b4e65018-8719-4f2b-b878-1ea6791ee0b3",
   "metadata": {
    "deletable": false,
    "editable": false
   },
   "source": [
    "Zuletzt lassen sich die Funktionen zum Stoer-Wagner-Algorithmus kombinieren:"
   ]
  },
  {
   "cell_type": "code",
   "execution_count": null,
   "id": "8c3f76ce-6503-4419-b9c7-088da80662c7",
   "metadata": {
    "deletable": false
   },
   "outputs": [],
   "source": [
    "def stoer_wagner(graph):\n",
    "    # Variablen zum Speichern des besten Schnitts\n",
    "    best_weight = math.inf\n",
    "    best_cut = graph\n",
    "\n",
    "    # zufälliger Startknoten\n",
    "    random_node = random.choice(list(graph.nodes))\n",
    "    print(f'Zufälliger Startknoten: {random_node}')\n",
    "\n",
    "    # Iterationen\n",
    "    for i in range(1, len(graph)):\n",
    "        cut, graph, weight = minimum_cut_phase(graph, random_node)\n",
    "\n",
    "        print(f'Schnitt {i}: {cut} mit Gewicht {weight}')\n",
    "\n",
    "        if weight < best_weight:\n",
    "            best_weight = weight\n",
    "            best_cut = cut\n",
    "\n",
    "    return best_cut\n",
    "\n",
    "\n",
    "p1, p2 = stoer_wagner(ex_graph)\n",
    "p1, p2"
   ]
  },
  {
   "cell_type": "code",
   "execution_count": null,
   "id": "b75a5950-6b12-441e-9d03-cb1103e5f733",
   "metadata": {
    "deletable": false
   },
   "outputs": [],
   "source": [
    "partitions = [0 if node in p1 else 1 for node in ex_graph.nodes]\n",
    "print(partitions)\n",
    "\n",
    "nx.draw(ex_graph, ex_pos, with_labels=True, font_color='whitesmoke',\n",
    "        node_color=[hex_colors[i] for i in partitions])\n",
    "nx.draw_networkx_edge_labels(ex_graph, ex_pos, edge_labels=nx.get_edge_attributes(ex_graph, 'weight'), font_color='black')\n",
    "\n",
    "plt.show()"
   ]
  },
  {
   "cell_type": "markdown",
   "id": "38a0717f-9726-4fe7-8dae-0fafcd67d5c3",
   "metadata": {
    "deletable": false,
    "editable": false
   },
   "source": [
    "Im Folgenden finden Sie einen beispielhaften Durchlauf de Algorithmus. Denken Sie aber daran, dass jeder Cut zwischengespeichert und zum Schluss der beste ausgewählt wird. Der letzte Frame der Animation stellt also nicht das Endergebnis dar!"
   ]
  },
  {
   "cell_type": "code",
   "execution_count": null,
   "id": "1c6eac11-c244-4bce-b333-3bd66b7c51d3",
   "metadata": {
    "deletable": false
   },
   "outputs": [],
   "source": [
    "StoerWagner(ex_graph, ex_pos, 2)"
   ]
  },
  {
   "cell_type": "markdown",
   "id": "d9478237-287a-4a5b-ab6b-f3d7b78b7069",
   "metadata": {
    "deletable": false,
    "editable": false
   },
   "source": [
    "### Metis-Algorithmus\n",
    "Der Metis Algorithmus ist eine ebenfalls weit verbreitete Methode zur Graphpartitionierung, die darauf abzielt, einen Graphen in mehrere Teilgraphen zu unterteilen, sodass die Anzahl der Kanten, die zwischen diesen Teilgraphen verlaufen, minimiert wird. Er wurde von George Karypis und Vipin Kumar entwickelt, wobei das Wort Metis der griechischen Mythologie entstammt und in etwa Weisheit oder Scharfsinn bedeutet.\n",
    "\n",
    "Für einen **ungerichteten, gewichteten** Graphen $G = (V, E)$ verläuft der Algorithmus in drei Stufen:\n",
    "\n",
    "1. **Verkleinerung (*Coarsening*):** Der Graph wird schrittweise in einer Sequenz von Graphen $G_0 = (V, E), G_1 = (V_1, E_1), \\dots, G_n = (V_n, E_n)$ verkleinert, wobei $G_0 = G$ der Originalgraph ist und für alle $i<j$ gilt, dass $|V_i| > |V_j|$. Diese Verkleinerung wird erreicht, indem Paare von Knoten zusammengefasst werden, bis der Graph eine handhabbare Größe erreicht. Die Knotenpaare müssen so gewählt werden, dass sie stark miteinander verbunden sind, was die Wahrscheinlichkeit verringert, dass die späteren Partitionen viele Kanten untereinander besitzen.\n",
    "2. **Initiale Partitionierung:** Der stark reduzierte Graph wird partitioniert. Da dieser relativ klein ist, können genaue und aufwendige Methoden zur Partitionierung verwendet werden. Das Ziel ist es, eine anfängliche Partitionierung zu finden, welche die Anzahl der zwischen den Teilgraphen verlaufenden Kanten minimiert.\n",
    "3. **Vergrößerung (*Refinement*):** Der Graph wird schrittweise in seine ursprüngliche Größe zurückverwandelt. Bei jedem Schritt werden die Partitionen des verkleinerten Graphen auf den nächstgrößeren übertragen und zusätzlich verfeinert.\n",
    "\n",
    "Im Folgenden werden die drei Stufen als einzelne Funktionen dargestellt und wie üblich zum Ende kombiniert."
   ]
  },
  {
   "cell_type": "markdown",
   "id": "61e89c4a-d122-43c0-9541-2435df2e6905",
   "metadata": {
    "deletable": false,
    "editable": false
   },
   "source": [
    "Die **Verkleinerung** besteht daraus, Paare adjazenter Knoten zu finden und diese zusammenzufassen. Diese Paare werden gierig (*greedy*) entweder zufällig zugeordnet oder anhand des größten Kantengewichts. Beim Zusammenfassen ist darauf zu achten, dass die Kanten zwischen den entstehenden Gruppen insofern erhalten bleiben, dass ihre Kantengewichte wie zuvor addiert werden."
   ]
  },
  {
   "cell_type": "code",
   "execution_count": null,
   "id": "f663b09a-c917-4ce2-b9f8-55982ca3bfed",
   "metadata": {
    "deletable": false
   },
   "outputs": [],
   "source": [
    "def coarsen_graph(graph):\n",
    "    smaller_graph = graph.copy()\n",
    "\n",
    "    # Paare von Knoten finden\n",
    "    all_nodes = list(graph.nodes)\n",
    "    random.shuffle(all_nodes)\n",
    "\n",
    "    while len(all_nodes) >= 2:\n",
    "        # Knoten entnehmen\n",
    "        v = all_nodes.pop()\n",
    "\n",
    "        # Suche nach dem Nachbarn, der bisher\n",
    "        # noch keiner Gruppe zugeordnet wurde\n",
    "        # und mit dem größten Kantengewicht\n",
    "        # der verbleibenden verbunden ist\n",
    "        remaining_neighbors = [node for node in graph.neighbors(v) if node in all_nodes]\n",
    "        if len(remaining_neighbors) == 0:\n",
    "            continue\n",
    "\n",
    "        w = max(remaining_neighbors, key=lambda node: smaller_graph.get_edge_data(v, node)['weight'])\n",
    "\n",
    "        # Knoten vereinigen und auch w aus\n",
    "        # der Liste entfernen\n",
    "        smaller_graph = merge_nodes(smaller_graph, v, w)\n",
    "        all_nodes.remove(w)\n",
    "\n",
    "    return smaller_graph\n",
    "\n",
    "\n",
    "new_G1 = coarsen_graph(ex_graph)\n",
    "\n",
    "new_G1_pos = nx.spring_layout(new_G1)\n",
    "nx.draw(new_G1, new_G1_pos, with_labels=True, font_color='black')\n",
    "nx.draw_networkx_edge_labels(new_G1, new_G1_pos, edge_labels=nx.get_edge_attributes(new_G1, 'weight'), font_color='black')"
   ]
  },
  {
   "cell_type": "markdown",
   "id": "4fa8fa41-7f2f-43d9-af03-e436bfa841c6",
   "metadata": {
    "deletable": false,
    "editable": false
   },
   "source": [
    "Die **initiale Partitionierung** erfolgt durch einen beliebigen Partitionierungsalgorithmus. Da der Graph nun relativ klein ist, können auch ineffiziente Algorithmen angewendet werden."
   ]
  },
  {
   "cell_type": "code",
   "execution_count": null,
   "id": "d79c6d82-625e-440d-a3e0-9090770423f2",
   "metadata": {
    "deletable": false
   },
   "outputs": [],
   "source": [
    "partitions = kernighan_lin(new_G1)\n",
    "print(partitions)\n",
    "\n",
    "nx.draw(new_G1, new_G1_pos, with_labels=True, font_color='black',\n",
    "        node_color=[hex_colors[i] for i in partitions])\n",
    "nx.draw_networkx_edge_labels(new_G1, new_G1_pos, edge_labels=nx.get_edge_attributes(new_G1, 'weight'), font_color='black')"
   ]
  },
  {
   "cell_type": "markdown",
   "id": "eb751b1f-b490-4a2a-a628-1af4e66df6d5",
   "metadata": {
    "deletable": false,
    "editable": false
   },
   "source": [
    "Die **Vergrößerung** überträgt zunächst die Partitionierung des kleinen Graphen $G_i$ auf den nächst größeren $G_{i-1}$. Anschließend wird versucht, die aktuelle Partitionierung zu verbessern. Nachfolgend wird dazu geprüft, ob das Verschieben einzelner Knoten in die jeweils andere Partition eine Verbesserung zur Folge hätte."
   ]
  },
  {
   "cell_type": "code",
   "execution_count": null,
   "id": "02f7530c-af52-4ace-86f6-066b3dae5670",
   "metadata": {
    "deletable": false
   },
   "outputs": [],
   "source": [
    "def uncoarse_graph(original_graph, coarsed_graph, coarsed_partitions):\n",
    "    original_partitions = []\n",
    "\n",
    "    for original_node in original_graph.nodes:\n",
    "        for coarsed_node, partition in zip(coarsed_graph.nodes, coarsed_partitions):\n",
    "            if str(original_node) in coarsed_node:\n",
    "                original_partitions.append(partition)\n",
    "\n",
    "    return original_partitions"
   ]
  },
  {
   "cell_type": "code",
   "execution_count": null,
   "id": "6a858c75-4771-498a-bc64-f31bd16118cd",
   "metadata": {
    "deletable": false
   },
   "outputs": [],
   "source": [
    "G0_partitions = uncoarse_graph(ex_graph, new_G1, partitions)\n",
    "print(ex_graph)\n",
    "\n",
    "nx.draw(ex_graph, ex_pos, with_labels=True, font_color='black',\n",
    "        node_color=[hex_colors[i] for i in G0_partitions])\n",
    "nx.draw_networkx_edge_labels(ex_graph, ex_pos, edge_labels=nx.get_edge_attributes(ex_graph, 'weight'), font_color='black')"
   ]
  },
  {
   "cell_type": "code",
   "execution_count": null,
   "id": "2c6a9532-a2b5-46d5-a324-a1ed7e1e3390",
   "metadata": {
    "deletable": false
   },
   "outputs": [],
   "source": [
    "def refine_partitions(graph, partitions):\n",
    "    p1 = set(node for node, partition in zip(graph.nodes, partitions) if partition == 0)\n",
    "    p2 = set(node for node, partition in zip(graph.nodes, partitions) if partition == 1)\n",
    "\n",
    "    for node in list(p1):\n",
    "        if D_v(graph, p1, p2, node) > 0:\n",
    "            print(f'verschiebe {node} von p1 nach p2')\n",
    "            p1.remove(node)\n",
    "            p2.add(node)\n",
    "\n",
    "    for node in list(p2):\n",
    "        if D_v(graph, p1, p2, node) > 0:\n",
    "            print(f'verschiebe {node} von p2 nach p1')\n",
    "            p2.remove(node)\n",
    "            p1.add(node)\n",
    "\n",
    "    return [0 if node in p1 else 1 for node in graph.nodes]\n",
    "\n",
    "\n",
    "refine_partitions(ex_graph, G0_partitions)"
   ]
  },
  {
   "cell_type": "markdown",
   "id": "e955054e-605c-44a2-ae8c-80812778dcf2",
   "metadata": {
    "deletable": false,
    "editable": false
   },
   "source": [
    "Um den Originalgraph wiederherzustellen, muss das Vergrößern und Verbessern so oft angewendet werden wie das Verkleinern."
   ]
  },
  {
   "cell_type": "markdown",
   "id": "2d209486-5d52-4810-b755-56fdc3569e85",
   "metadata": {
    "deletable": false,
    "editable": false
   },
   "source": [
    "Beachten Sie, dass es sich bei der gezeigten Variante um eine stark vereinfachte Version des Metis-Algorithmus handelt. In einer echten Anwendung sind zahlreiche Verfeinerungen und Optimierungen möglich, die nicht nur die Qualität der Partitionen verbessern, sondern auch die Laufzeit massiv senken und von Parallelisierung profitieren."
   ]
  },
  {
   "cell_type": "markdown",
   "id": "b1d5d271-34e1-4c0e-8885-068de4840359",
   "metadata": {
    "deletable": false,
    "editable": false
   },
   "source": [
    "## Partitionierung gerichteter Graphen\n",
    "Die einfachste Idee zur Partitionierung gerichteter Graphen besteht in der Umwandlung dieser in ungerichtete Graphen. Zwei Methoden sind dabei besonders verbreitet:\n",
    "\n",
    "1. Die einfachste Transformation ignoriert die Richtung der Kanten: $$ W_u = W + W^T $$ Da jegliche Information über die Kantenrichtung verloren geht, sollte sie natürlich nicht verwendet werden, wenn die Richtung für die Partitionierung eine Rolle spielt. Mit NetworkX lässt sich dazu beispielsweise die Funktion `to_undirected` verwenden.\n",
    "2. Die [bibliometrische Symmetrisierung](https://dl.acm.org/doi/abs/10.1145/1951365.1951407) eignet sich besonders für Ziationsnetzwerke in der wissenschaftlichen Literatur und Netzwerken mit ähnlicher Struktur: $$ W_u = W^T W + W W^T $$"
   ]
  }
 ],
 "metadata": {
  "kernelspec": {
   "display_name": "Python 3 (ipykernel)",
   "language": "python",
   "name": "python3"
  },
  "language_info": {
   "codemirror_mode": {
    "name": "ipython",
    "version": 3
   },
   "file_extension": ".py",
   "mimetype": "text/x-python",
   "name": "python",
   "nbconvert_exporter": "python",
   "pygments_lexer": "ipython3",
   "version": "3.10.12"
  }
 },
 "nbformat": 4,
 "nbformat_minor": 5
}
