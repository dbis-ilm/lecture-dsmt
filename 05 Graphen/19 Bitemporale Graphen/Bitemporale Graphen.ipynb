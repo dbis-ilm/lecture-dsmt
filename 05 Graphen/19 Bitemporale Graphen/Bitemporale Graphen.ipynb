{
 "cells": [
  {
   "cell_type": "markdown",
   "id": "e82e0a31-8875-4fc5-a810-f67c79e2dee9",
   "metadata": {
    "deletable": false,
    "editable": false
   },
   "source": [
    "# Bitemporale Graphen\n",
    "Bitemporale Graphen sind eine spezielle Art von Graphen, die neben Beziehungen zwischen Knoten auch mehrere zeitliche Aspekte berücksichtigen."
   ]
  },
  {
   "cell_type": "code",
   "execution_count": null,
   "id": "0daeb879-7004-4caf-a14a-a4c37f8ed736",
   "metadata": {
    "deletable": false
   },
   "outputs": [],
   "source": [
    "from datetime import date\n",
    "import networkx as nx"
   ]
  },
  {
   "cell_type": "markdown",
   "id": "ba00040d-7331-4d52-9723-201671becf48",
   "metadata": {
    "deletable": false,
    "editable": false
   },
   "source": [
    "## Inhaltsverzeichnis\n",
    "- [Einführung und Definitionen](#Einführung-und-Definitionen)\n",
    "- [Umsetzung mit NetworkX](#Umsetzung-mit-NetworkX)\n",
    "- [Visualisierung](#Visualisierung)\n",
    "- [Zusammenfassung](#Zusammenfassung)"
   ]
  },
  {
   "cell_type": "markdown",
   "id": "26a78e03-d6e6-4e0b-85ed-5b06b650588a",
   "metadata": {
    "deletable": false,
    "editable": false
   },
   "source": [
    "## Einführung und Definitionen\n",
    "Nach einem Umzug muss innerhalb von 14 Tagen eine Ummeldung beim Einwohnermeldeamt erfolgen. Wer also am 1. Juni durch den Einzug einen Fakt schafft, kann trotzdem fristgerecht am 12. Juni in der Datenbank des Einwohnermeldeamtes eine neue Adresse erhalten. Wird nur eine der beiden Angaben gespeichert, geht entweder die historische Realität (Umzugsdatum) oder die Historie im System (Verbuchungsdatum) verloren.\n",
    "\n",
    "In einem bitemporalen Graphen werden deshalb jedem Knoten und jeder Kante zwei Zeitstempel bzw. Zeitdimensionen (deshalb **bi**temporal) hinzugefügt:\n",
    "- Die **Gültigkeitszeit** (*Valid Time*) gibt an, wann ein durch den Graph repräsentierter Fakt in der realen Welt gültig war.\n",
    "- Die **Transaktionszeit** (*Transaction Time*) gibt an, wann ein durch den Graph repräsentierter Fakt gespeichert oder geändert wurde.\n",
    "\n",
    "Umgesetzt werden diese beiden zusätzlichen Attribute durch zwei Funktionen, die ähnlich wie das Gewicht modelliert werden:\n",
    "- $from_v, to_v : (V \\cup E) \\rightarrow \\Omega_{v}$ bilden einen Knoten oder eine Kante auf eine Start- und eine Endzeit aus der Menge der **Gültigkeit**szeiten ab.\n",
    "- $from_t, to_v : (V \\cup E) \\rightarrow \\Omega_{t}$ bildet einen Knoten oder eine Kante auf eine Start- und eine Endzeit aus der Menge der **Transaktion**szeiten ab.\n",
    "\n",
    "Zusätzlich werden einige Anforderungen formuliert:\n",
    "1. $\\forall e \\in V \\cup E : from_v(e) < to_v(e)$\n",
    "2. $\\forall e \\in V \\cup E : from_t(e) < to_t(e)$\n",
    "3. $\\forall e = (u, v) \\in E : from_v(e) \\geq max(from_v(u), from_v(v)) \\land to_v(e) \\leq min(to_v(u), to_t(v))$\n",
    "4. $\\forall e = (u, v) \\in E : from_t(e) \\geq max(from_t(u), from_t(v)) \\land to_t(e) \\leq min(to_t(u), to_t(v))$\n",
    "\n",
    "bzw:\n",
    "\n",
    "1. Der Startzeitpunkt muss für beide Angaben immer vor dem Endzeitpunkt liegen.\n",
    "2. Die Zeiten für Kanten werden durch die Zeiten der zur Kante gehörenden Knoten beschränkt.\n",
    "\n",
    "Im Gegensatz zu nicht-temporalen Graphen müssen die Knoten und Kanten außerdem nicht eindeutig sein. Relevant ist nur, dass sie Transaktionszeiten besitzen, die sich nicht überschneiden."
   ]
  },
  {
   "cell_type": "markdown",
   "id": "1b4b2813",
   "metadata": {
    "deletable": false,
    "editable": false
   },
   "source": [
    "## Umsetzung mit NetworkX\n",
    "NetworkX bietet keine direkte Unterstützung für bitemporale Graphen. Durch Hinzufügen separater Attribute zu Knoten und Kanten und Anpassung der verwendeten Algorithmen, kann allerdings diese Funktionalität trotzdem modelliert werden."
   ]
  },
  {
   "cell_type": "code",
   "execution_count": null,
   "id": "37999826-7407-42fb-a9a0-85a488881432",
   "metadata": {
    "deletable": false
   },
   "outputs": [],
   "source": [
    "G = nx.DiGraph()\n",
    "\n",
    "G.add_edge('Person', 'Wohnung A',\n",
    "           valid_time=(date(2025, 1, 1), date(2025, 5, 31)),\n",
    "           transaction_time=(date(2025, 1, 2), date(2025, 1, 2)))\n",
    "\n",
    "G.add_edge('Person', 'Wohnung B',\n",
    "           valid_time=(date(2025, 6, 1), None),\n",
    "           transaction_time=(date(2025, 6, 12), date(2025, 6, 12)))\n",
    "\n",
    "for u, v, data in G.edges(data=True):\n",
    "    print(f'{u} -> {v}: {data}')"
   ]
  },
  {
   "cell_type": "markdown",
   "id": "7a967077-f503-40b1-a243-a667c1521c9b",
   "metadata": {
    "deletable": false,
    "editable": false
   },
   "source": [
    "Für die Abfrage der zur einem spezifischen Zeitpunkt gültigen Informationen, müssen dann die Algorithmen angepasst werden:"
   ]
  },
  {
   "cell_type": "code",
   "execution_count": null,
   "id": "4cd0b020-3661-48f7-aeb8-6b8a3b15d803",
   "metadata": {
    "deletable": false
   },
   "outputs": [],
   "source": [
    "ts = date(2025, 5, 15)\n",
    "\n",
    "for u, v, data in G.edges(data=True):\n",
    "    transaction_start, transaction_end = data['transaction_time']\n",
    "    if transaction_end < ts:\n",
    "        print(f'{u} -> {v}: {data}')"
   ]
  },
  {
   "cell_type": "markdown",
   "id": "e895feb4-c7e8-45d5-9fbe-7527e575f580",
   "metadata": {
    "deletable": false,
    "editable": false
   },
   "source": [
    "### Umsetzung in SQL:2011\n",
    "SQL:2011 bietet Unterstützung für temporale Daten. Dazu wurden unter anderem Zeitintervalle (`PERIOD FOR`), temporale Primärschlüssel (`WITHOUT OVERLAPS`) eingeführt und automatische Versionierung (`WITH SYSTEM VERSIONING`) eingeführt.\n",
    "\n",
    "```sql\n",
    "CREATE TABLE Wohnsitz (\n",
    "    Person            VARCHAR,\n",
    "    Wohnung           VARCHAR,\n",
    "    valid_from        DATE,\n",
    "    valid_to          DATE,\n",
    "    transaction_from  TIMESTAMP GENERATED ALWAYS AS ROW START,\n",
    "    transaction_end   TIMESTAMP GENERATED ALWAYS AS ROW END,\n",
    "    PERIOD FOR valid_time (valid_from, valid_to),\n",
    "    PERIOD FOR SYSTEM_TIME (transaction_start, transaction_end),\n",
    "    PRIMARY KEY (Person, valid_time WITHOUT OVERLAPS)\n",
    ") WITH SYSTEM VERSIONING\n",
    "```\n",
    "\n",
    "In dieser Datenbank lässt sich nun beispielsweise nach gültigen Werten zu einem bestimmten Zeitpunkt (`FOR SYSTEM_TIME AS OF`) suchen.\n",
    "\n",
    "```sql\n",
    "SELECT *\n",
    "FROM Wohnsitz\n",
    "FOR SYSTEM_TIME AS OF DATE '2025-05-15'\n",
    "```\n",
    "\n",
    "Die Unterstützung für temporale Daten ist vom verwendeten Datenbanksystem abhängig. Manche [unterstützen nativ einen Teil](https://mariadb.com/kb/en/system-versioned-tables/) der vorgeschlagenen Definitionen und Abfragemuster, andere verwenden [Plugins zur Erweiterung der Kernfunktionalität](https://wiki.postgresql.org/wiki/Temporal_Extensions)."
   ]
  },
  {
   "cell_type": "markdown",
   "id": "b942020e-eca8-4728-86ac-969a12923793",
   "metadata": {
    "deletable": false,
    "editable": false
   },
   "source": [
    "## Visualisierung\n",
    "Nicht alle Informationen eines bitemporalen Graphen sind zu jedem beliebigen Zeitpunkt gültig. Die Visualisierung bitemporaler Graphen erfordert daher eine gewisse Dynamik. Dazu können Animationen eingesetzt werden, welche das Durchschreiten der Zeit in einer Art Timeline erlauben, aber auch Entwicklungen können durch Differenzen oder Heatmaps dargestellt werden."
   ]
  },
  {
   "cell_type": "markdown",
   "id": "b3d4995d-8c40-472f-9a9f-ef94737b5977",
   "metadata": {
    "deletable": false,
    "editable": false
   },
   "source": [
    "## Zusammenfassung\n",
    "In diesem Abschnitt wurden bitemporale Graphen in Ansätzen vorgestellt. Sie eignen sich für Modellierungen, in denen zwei zeitliche Aspekte eine Rolle spielen und Analysen zu einem spezifischen Zeitpunkt relevant sind."
   ]
  }
 ],
 "metadata": {
  "kernelspec": {
   "display_name": "Python 3 (ipykernel)",
   "language": "python",
   "name": "python3"
  },
  "language_info": {
   "codemirror_mode": {
    "name": "ipython",
    "version": 3
   },
   "file_extension": ".py",
   "mimetype": "text/x-python",
   "name": "python",
   "nbconvert_exporter": "python",
   "pygments_lexer": "ipython3",
   "version": "3.12.10"
  }
 },
 "nbformat": 4,
 "nbformat_minor": 5
}
