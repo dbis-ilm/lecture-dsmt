{
 "cells": [
  {
   "cell_type": "markdown",
   "id": "592bdd85-7716-4926-b578-729d1e4470ec",
   "metadata": {
    "deletable": false,
    "editable": false
   },
   "source": [
    "# Communities\n",
    "Communities sind Gruppen oder Clustern von Knoten in einem Graphen, deren Verbindungen untereinander dichter sind als mit Knoten außerhalb der Gruppe. In einem sozialen Netzwerk könnte das beispielsweise bedeuten, dass eine Gruppe von Personen untereinander häufiger kommuniziert als mit Personen außerhalb der Gruppe. Die Erkennung der Communities kann somit strukturelle Muster oder soziale Gruppierungen innerhalb des Netzwerks enthüllen."
   ]
  },
  {
   "cell_type": "code",
   "execution_count": null,
   "id": "d6a44622-62d1-4aea-9e43-e73e7fd3a281",
   "metadata": {
    "deletable": false
   },
   "outputs": [],
   "source": [
    "import math\n",
    "import random\n",
    "from functools import reduce\n",
    "from itertools import combinations\n",
    "\n",
    "import numpy as np\n",
    "import networkx as nx\n",
    "\n",
    "np.set_printoptions(threshold=np.inf)\n",
    "np.set_printoptions(linewidth=np.inf)\n",
    "\n",
    "from tui_dsmt.graph import LabelPropagation, RandomWalk\n",
    "from tui_dsmt.graph.datasets import load_community_tiny, load_community_small\n",
    "\n",
    "tiny_community = load_community_tiny()\n",
    "small_communities = load_community_small()"
   ]
  },
  {
   "cell_type": "markdown",
   "id": "f4d4bbb7-5959-4b31-b93b-db2ec687de75",
   "metadata": {
    "deletable": false,
    "editable": false
   },
   "source": [
    "## Inhaltsverzeichnis\n",
    "- [Clustering-Koeffizient](#Clustering-Koeffizient)\n",
    "  - [Definition](#Definition)\n",
    "  - [Schlichte Berechnung](#Schlichte-Berechnung)\n",
    "  - [Schlichte Berechnung mit Adjazenzmatrix](#Schlichte-Berechnung-mit-Adjazenzmatrix)\n",
    "  - [Berechnung mit Stichprobe](#Berechnung-mit-Stichprobe)\n",
    "- [Communities](#Communities)\n",
    "  - [Arten der Erkennung](#Arten-der-Erkennung)\n",
    "  - [Label-Propagation-Algorithmus](#Label-Propagation-Algorithmus)\n",
    "  - [Markov Cluster Algorithmus (MCL)](#Markov-Cluster-Algorithmus-MCL)"
   ]
  },
  {
   "cell_type": "markdown",
   "id": "4f361ea8-aabf-46db-b626-abfc2d5b1808",
   "metadata": {
    "deletable": false,
    "editable": false
   },
   "source": [
    "## Clustering-Koeffizient\n",
    "### Definition\n",
    "Der Clustering-Koeffizient ist eine Maßzahl, die angibt, wie stark die Nachbarschaft eines Knotens in einem Graphen untereinander verbunden ist. Der Clustering-Koeffizient eines Knotens wird typischerweise als Verhältnis der tatsächlichen Anzahl der Kanten zwischen den Nachbarknoten dieses Knotens zur maximal möglichen Anzahl von Kanten definiert. Ein hoher Clustering-Koeffizient deutet darauf hin, dass die Nachbarn eines Knotens stark miteinander verbunden sind, während ein niedrigerer Wert auf eine geringere lokale Verbundenheit hinweist."
   ]
  },
  {
   "cell_type": "markdown",
   "id": "a62f6c4c-09e8-4ddb-9703-d596ebd1c9c0",
   "metadata": {
    "deletable": false,
    "editable": false
   },
   "source": [
    "Um den **Clustering-Koeffizienten eines einzelnen Knotens** zu berechnen, betrachten wir die Anzahl der möglichen Kanten zwischen den Nachbarknoten dieses Knotens und die tatsächliche Anzahl der vorhandenen Kanten zwischen diesen Nachbarn. Der Clustering-Koeffizient für einen Knoten $v_i$ wird mit einer Anzahl an Nachbarn $d_i$ und $k_i$ Kanten zwischen den Nachbarn wie folgt berechnet: $$ C_i = \\begin{cases} \\frac{k_i}{d_i * (d_i - 1) / 2} & \\text{falls } d_i > 1 \\\\ 0 & \\text{sonst} \\end{cases} $$\n",
    "\n",
    "Alternativ kann der Clustering-Koeffizient durch den Quotienten aus der Anzahl der Dreiecke, an denen der Knoten beteiligt ist, und der Anzahl der Tripel, in denen der Knoten der mittlere Knoten ist, bestimmt werden."
   ]
  },
  {
   "cell_type": "markdown",
   "id": "011670ce-bacc-45c6-9ffe-b6d62f47d09d",
   "metadata": {
    "deletable": false,
    "editable": false
   },
   "source": [
    "Ein Clustering-Koeffizient von $0$ bedeutet, dass keine der Nachbarknoten des betrachteten Knotens miteinander verbunden sind. Dies kann in einem Netzwerk auftreten, das vollständig zufällig oder stark zerstreut ist, ohne lokale Verbindungen zwischen den Knoten. Ein Clustering-Koeffizient von $1$ bedeutet dagegen, dass alle Nachbarknoten des betrachteten Knotens miteinander verbunden sind."
   ]
  },
  {
   "cell_type": "markdown",
   "id": "a8256a91-db59-480a-aad6-6ebd3ba33559",
   "metadata": {
    "deletable": false,
    "editable": false
   },
   "source": [
    "Der **globale Clustering-Koeffizient** bezeichnet dagegen den Durchschnitt der Clustering-Koeffizienten aller Knoten: $$ C = \\sum_{i=1}^{n} \\frac{C_i}{n} $$\n",
    "\n",
    "Alternativ kann der Quotient aus der dreifachen Anzahl der Dreiecke im Graphen und der Anzahl der verbundenen Tripel im Graphen gebildet werden."
   ]
  },
  {
   "cell_type": "markdown",
   "id": "aa1943ac-9af2-4087-838b-82214ee2fa4b",
   "metadata": {
    "deletable": false,
    "editable": false
   },
   "source": [
    "**Beispiel**:"
   ]
  },
  {
   "cell_type": "code",
   "execution_count": null,
   "id": "b41e86ea-b1f2-4e47-9093-6f3ea74a5dab",
   "metadata": {
    "deletable": false
   },
   "outputs": [],
   "source": [
    "nx.draw(tiny_community, with_labels=True, font_color='whitesmoke')"
   ]
  },
  {
   "cell_type": "markdown",
   "id": "a06eb904-dbb1-48b6-aaa3-95cba2ce9e34",
   "metadata": {
    "deletable": false,
    "editable": false
   },
   "source": [
    "Im vorangeganenen Graphen besitzen die Knoten also nun die folgenden Clustering-Koeffizienten:\n",
    "\n",
    "| Knoten | $k_i$ | $d_i$ | $C_i$         |\n",
    "| ------ | ----- | ----- | ------------- |\n",
    "| $1$    | $1$   | $2$   | $1$           |\n",
    "| $2$    | $1$   | $3$   | $\\frac{1}{3}$ |\n",
    "| $3$    | $0$   | $2$   | $0$           |\n",
    "| $4$    | $0$   | $3$   | $0$           |\n",
    "| $5$    | $1$   | $3$   | $\\frac{1}{3}$ |\n",
    "| $6$    | $0$   | $1$   | $0$           |\n",
    "\n",
    "Der globale Clustering-Koeffizient liegt somit bei etwa $C = 0.27$ und ist als niedrig einzustufen."
   ]
  },
  {
   "cell_type": "markdown",
   "id": "e659be8f-335e-425e-a495-8534ab2895a7",
   "metadata": {
    "deletable": false,
    "editable": false
   },
   "source": [
    "### Schlichte Berechnung\n",
    "Wie üblich lässt sich die Formel in Code übersetzen, wobei - ebenfalls wie üblich - das Finden der Lösung vergleichbar langsam erfolgt."
   ]
  },
  {
   "cell_type": "code",
   "execution_count": null,
   "id": "73e87cd7-8858-445f-8f32-b4b59fb83aab",
   "metadata": {
    "deletable": false
   },
   "outputs": [],
   "source": [
    "C_i = {}\n",
    "\n",
    "# über alle Knoten im Graphen iterieren\n",
    "for node in tiny_community.nodes:\n",
    "    # Nachbarn finden\n",
    "    neighbors = list(tiny_community.neighbors(node))\n",
    "\n",
    "    # Anzahl der Nachbarn speichern\n",
    "    d_i = len(neighbors)\n",
    "\n",
    "    # Anzahl der Kanten initialisieren\n",
    "    k_i = 0\n",
    "\n",
    "    # über alle Kombinationen benachbarter\n",
    "    # Knoten iterieren\n",
    "    for u, v in combinations(neighbors, 2):\n",
    "        # falls Kante zwischen dem Paar\n",
    "        # existiert, wird gezählt\n",
    "        if tiny_community.has_edge(u, v):\n",
    "            k_i += 1\n",
    "\n",
    "    # Bestimmung von C_i nach Formel\n",
    "    if d_i > 1:\n",
    "        C_i[node] = k_i / (d_i * (d_i - 1) / 2)\n",
    "    else:\n",
    "        C_i[node] = 0\n",
    "\n",
    "C_i"
   ]
  },
  {
   "cell_type": "markdown",
   "id": "077c75a4-ef49-436c-a794-3c94beff6fea",
   "metadata": {
    "deletable": false,
    "editable": false
   },
   "source": [
    "**Verständnisfrage:** Wie würde sich der Code verändern, wenn statt der Anzahl der Kanten unter den Nachbarn die Dreiecke gezählt würden?"
   ]
  },
  {
   "cell_type": "code",
   "execution_count": null,
   "id": "7a9c52ac-1c72-4390-b58b-0a95f9beb288",
   "metadata": {
    "deletable": false
   },
   "outputs": [],
   "source": [
    "C = sum(C_i.values()) / len(C_i)\n",
    "C"
   ]
  },
  {
   "cell_type": "markdown",
   "id": "8cc09959-f149-4e62-8316-b789aa98e0c3",
   "metadata": {
    "deletable": false,
    "editable": false
   },
   "source": [
    "### Schlichte Berechnung mit Adjazenzmatrix\n",
    "Da jeder Graph eindeutig durch seine Adjazenzmatrix beschreibbar ist, eignet auch diese sich zur Berechnung des Clustering-Koeffizienten. Die Matrix für den Graphen `tiny_community` sieht wie folgt aus:"
   ]
  },
  {
   "cell_type": "code",
   "execution_count": null,
   "id": "18287c39-d616-4b5f-9067-b9f9da813491",
   "metadata": {
    "deletable": false
   },
   "outputs": [],
   "source": [
    "A = nx.to_numpy_array(tiny_community)\n",
    "A"
   ]
  },
  {
   "cell_type": "markdown",
   "id": "173f3470-592e-4409-8c65-76d63e6871ca",
   "metadata": {
    "deletable": false,
    "editable": false
   },
   "source": [
    "Sei nun $k_i$ die Anzahl der $1$ in der Reihe $i$ bzw. $k_i = \\sum_j A_{ij}$.\n",
    "\n",
    "Dann lässt sich der globale Clustering-Koeffizient ausdrücken als:\n",
    "$$\n",
    "C = \\frac{\\sum_{ijk} A_{ij} A_{jk} A_{ki}}{\\sum_i k_i * (k_i - 1)}\n",
    "$$"
   ]
  },
  {
   "cell_type": "code",
   "execution_count": null,
   "id": "34a908c2-df72-4279-ae9f-fba456abc1bf",
   "metadata": {
    "deletable": false
   },
   "outputs": [],
   "source": [
    "numerator = 0.\n",
    "for i in range(len(A)):\n",
    "    for j in range(len(A)):\n",
    "        for k in range(len(A)):\n",
    "            numerator += A[i,j] * A[j,k] * A[k,i]\n",
    "\n",
    "denominator = 0.\n",
    "for i in range(len(A)):\n",
    "    denominator += sum(A[i]) * (sum(A[i]) - 1)\n",
    "\n",
    "numerator / denominator"
   ]
  },
  {
   "cell_type": "markdown",
   "id": "c430debe-027d-4774-84f6-15657b6496c8",
   "metadata": {
    "deletable": false,
    "editable": false
   },
   "source": [
    "Auch für diesen Wert müssen aber in großen Graphen zahlreiche Matrizenmultiplikationen durchgeführt werden."
   ]
  },
  {
   "cell_type": "markdown",
   "id": "2c8c06ad-1cdc-4172-bad4-0fb0ac720c70",
   "metadata": {
    "deletable": false,
    "editable": false
   },
   "source": [
    "### Berechnung mit Stichprobe\n",
    "Alternativ lassen sich approximative Verfahren anwenden, die basierend auf einer Stichprobe den Wert ermitteln."
   ]
  },
  {
   "cell_type": "code",
   "execution_count": null,
   "id": "e8302474-33c5-4144-ac40-cf61208483e9",
   "metadata": {
    "deletable": false
   },
   "outputs": [],
   "source": [
    "C_i = {}\n",
    "\n",
    "# über eine zufällige Stichprobe aller\n",
    "# Knoten im Graphen iterieren\n",
    "for node in random.choices(tuple(tiny_community.nodes), k=3):\n",
    "    # Nachbarn finden\n",
    "    neighbors = list(tiny_community.neighbors(node))\n",
    "\n",
    "    # Anzahl der Nachbarn speichern\n",
    "    d_i = len(neighbors)\n",
    "\n",
    "    # Anzahl der Kanten initialisieren\n",
    "    k_i = 0\n",
    "\n",
    "    # über alle Kombinationen benachbarter\n",
    "    # Knoten iterieren\n",
    "    for u, v in combinations(neighbors, 2):\n",
    "        # falls Kante zwischen dem Paar\n",
    "        # existiert, wird gezählt\n",
    "        if tiny_community.has_edge(u, v):\n",
    "            k_i += 1\n",
    "\n",
    "    # Bestimmung von C_i nach Formel\n",
    "    if d_i > 1:\n",
    "        C_i[node] = k_i / (d_i * (d_i - 1) / 2)\n",
    "    else:\n",
    "        C_i[node] = 0\n",
    "\n",
    "C = sum(C_i.values()) / len(C_i)\n",
    "C"
   ]
  },
  {
   "cell_type": "markdown",
   "id": "7d44f567-4872-4b78-a1d7-0614a3710ab2",
   "metadata": {
    "deletable": false,
    "editable": false
   },
   "source": [
    "In einem solch kleinen Graphen schwankt die ermittelte Größe natürlich stark in Abhängigkeit der gewählten Stichprobengröße. In größeren Graphen ist dagegen mit einem besseren Ergebnis zu rechnen, während der Aufwand der Berechnung stark reduziert wird."
   ]
  },
  {
   "cell_type": "markdown",
   "id": "ebf280f5-40dd-4c39-a070-7a914bd9ea6c",
   "metadata": {
    "deletable": false,
    "editable": false
   },
   "source": [
    "## Communities\n",
    "Communities sind eine Teilmenge von Knoten in einem Graphen, die untereinander stärker verbunden sind als mit Knoten außerhalb ihrer eigenen Community. Informell betrachtet könnte in einem Netzwerk aus Nutzern eines Messenger-Dienstes beispielsweise eine Community aus Menschen bestehen, die untereinander häufiger Textnachrichten austauschen als mit Menschen außerhalb ihrer Community.\n",
    "\n",
    "Die Erkennung von Communities teilt sich dabei in zwei unterschiedliche Bereiche."
   ]
  },
  {
   "cell_type": "markdown",
   "id": "037bff5c-0a1e-4c53-ac1d-fb00632977c5",
   "metadata": {
    "deletable": false,
    "editable": false
   },
   "source": [
    "### Arten der Erkennung\n",
    "Der **memberbasierte** Ansatz zur Identifizierung von Communities konzentriert sich auf die Eigenschaften einzelner Knoten, um darauf basierend die Zugehörigkeit zu diesen Communities festzustellen. Dafür wird jeder Knoten einzeln betrachtet und anschließend bestimmt, welcher Community er am wahrscheinlichsten angehört.\n",
    "\n",
    "Der **gruppenbasierte** Ansatz betrachtet die Beziehungen und Verbindungen innerhalb einer Gruppe als gemeinsame Eigenschaft, um Communitites zu erkennen.\n",
    "\n",
    "Die Einordnung ist nicht immer trennscharf. So weist der nachfolgende Algorithmus zwar den Knoten eine Community zu, indem ausschließlich die lokale Nachbarschaft betrachtet wird, über die Iterationen hinweg verbreitet sich diese Information jedoch in Abhängigkeit der Verbindungen untereinander potentiell über den gesamten Graphen."
   ]
  },
  {
   "cell_type": "markdown",
   "id": "fdb96bce-6520-4ff3-ab8b-4b4e3f9378ae",
   "metadata": {
    "deletable": false,
    "editable": false
   },
   "source": [
    "### Label-Propagation-Algorithmus\n",
    "Der Label Propagation Algorithmus ist ein einfacher Algorithmus zur Erkennung von Communities in einem ungerichteten Graphen. Er basiert auf der Idee, dass Informationen (Labels) über die Zugehörigkeit zu Clustern oder Gemeinschaften innerhalb des Graphen von Knoten zu Knoten propagiert werden. Der Algorithmus ist besonders gut geeignet für große Graphen, in denen die Struktur der Gemeinschaften nicht stark ausgeprägt ist.\n",
    "\n",
    "Der Algorithmus durchläuft folgende Schritte:\n",
    "1. **Initialisierung**: Jeder Knoten im Graph wird zunächst mit einem eindeutigen Label versehen. (Bei der Verwendung von NetworkX sind Knotennamen eindeutig.)\n",
    "2. **Label-Propagation:** In jeder Iteration des Algorithmus wird für jeden Knoten das Label basierend auf den Labels seiner Nachbarn aktualisiert. Dazu wird ein Mehrheitssystem eingesetzt, sodass ein Knoten das Label übernimmt, das innerhalb seiner Nachbarschaft am häufigsten vorkommt. (Falls mehrere Labels gleich häufig vorkommen, wird eines zufällig ausgewählt.)\n",
    "3. **Einteilung:** Nach erreichen eines stabilen Zustands, werden die Knoten entsprechend ihrer Labels in Communities aufgeteilt. Knoten mit dem selben Label gehören zur selben Community.\n",
    "\n",
    "Das Ergebnis ist von der Reihenfolge der Iteration über die Knoten abhängig. Eine zufällige Reihenfolge zu wählen verhindert, dass der Algorithmus in lokalen Minima oder Maxima steckenbleibt."
   ]
  },
  {
   "cell_type": "markdown",
   "id": "e59272e1-edc4-473d-bb2d-6c0805b61373",
   "metadata": {
    "deletable": false,
    "editable": false
   },
   "source": [
    "Als Beispiel verwenden wir einen Graphen, der etwas größer ist und offensichtlich drei Communities enthält."
   ]
  },
  {
   "cell_type": "code",
   "execution_count": null,
   "id": "08445aa7-f0aa-476b-9b14-dd34796a62c4",
   "metadata": {
    "deletable": false
   },
   "outputs": [],
   "source": [
    "nx.draw(small_communities, with_labels=True, font_color='whitesmoke')"
   ]
  },
  {
   "cell_type": "markdown",
   "id": "962d70f6-dcdc-4601-ba6e-762257c93c29",
   "metadata": {
    "deletable": false,
    "editable": false
   },
   "source": [
    "Mit NetworkX sieht der Algorithmus dann wie folgt aus:"
   ]
  },
  {
   "cell_type": "code",
   "execution_count": null,
   "id": "91b0d463-1857-4e23-8455-652e8a609dca",
   "metadata": {
    "deletable": false
   },
   "outputs": [],
   "source": [
    "# Das Label aller Knoten wird auf den eindeutigen\n",
    "# Namen des Knotens gesetzt.\n",
    "for node in small_communities:\n",
    "    small_communities.nodes[node]['label'] = node\n",
    "\n",
    "# Die Variable steuert die Schleife. Die Schleife\n",
    "# soll so lang laufen, wie noch Änderungen an\n",
    "# den Labels gemacht werden.\n",
    "changes = True\n",
    "\n",
    "while changes:\n",
    "    # Die Variable wird auf False gesetzt, sodass\n",
    "    # nach dem Schleifendurchlauf abgebrochen wird,\n",
    "    # sofern keine Änderungen gemacht werden.\n",
    "    changes = False\n",
    "\n",
    "    # Jeder Knoten im Graphen wird in zufälliger\n",
    "    # Reihenfolge betrachtet.\n",
    "    nodes = list(small_communities.nodes)\n",
    "    random.shuffle(nodes)\n",
    "\n",
    "    for node in nodes:\n",
    "        # Die Labels aller Nachbarn werden zusammen\n",
    "        # mit ihrer Häufigkeit gespeichert.\n",
    "        neighbor_labels = {}\n",
    "\n",
    "        for neighbor in small_communities.neighbors(node):\n",
    "            n_label = small_communities.nodes[neighbor]['label']\n",
    "            neighbor_labels[n_label] = neighbor_labels.get(n_label, 0) + 1\n",
    "\n",
    "        # Eines (!) der häufigsten Label unter\n",
    "        # den Nachbarn wird herausgesucht.\n",
    "        mc_labels_max = max(neighbor_labels.values())\n",
    "        mc_labels = [nl for nl in neighbor_labels if neighbor_labels[nl] == mc_labels_max]\n",
    "        mc_label = random.choice(mc_labels)\n",
    "\n",
    "        # Falls dem betrachteten Knoten nicht bereits\n",
    "        # dieses Label zugeordnet wurde, wird es\n",
    "        # aktualisiert und der nächste Schleifen-\n",
    "        # durchlauf durch Setzen der Variable\n",
    "        # erlaubt.\n",
    "        if mc_label != small_communities.nodes[node]['label']:\n",
    "            small_communities.nodes[node]['label'] = mc_label\n",
    "            changes = True\n",
    "\n",
    "# Zuletzt werden die Knoten nach dem zugeordneten\n",
    "# Label gruppiert.\n",
    "communities = {}\n",
    "\n",
    "for node in small_communities:\n",
    "    label = small_communities.nodes[node]['label']\n",
    "    communities[label] = communities.get(label, []) + [node]\n",
    "\n",
    "communities"
   ]
  },
  {
   "cell_type": "markdown",
   "id": "a9545db4-c327-449d-a069-ef629cc5d721",
   "metadata": {
    "deletable": false,
    "editable": false
   },
   "source": [
    "Sie können dem Algorithmus auch schrittweise folgen. Wie bereits erwähnt wurde, kann das mehrfache Ausführen durch den Zufallsanteil zu unterschiedlichen Ergebnissen führen."
   ]
  },
  {
   "cell_type": "code",
   "execution_count": null,
   "id": "fc74466d-fa16-4abe-912c-dded22b59305",
   "metadata": {
    "deletable": false
   },
   "outputs": [],
   "source": [
    "LabelPropagation(small_communities)"
   ]
  },
  {
   "cell_type": "markdown",
   "id": "4bbadc98-3680-452d-9cbd-ea6b08eb2d93",
   "metadata": {
    "deletable": false,
    "editable": false
   },
   "source": [
    "### Markov Cluster Algorithmus (MCL)\n",
    "Der [Markov Cluster Algorithmus](https://doi.org/10.1137/040608635) ist ein weiterer Algorithmus zur Community-Erkennung in Graphen. Er basiert auf dem Konzept der Markov-Ketten und simuliert den Prozess der Ausbreitung von Informationen in einem Graphen. Eine Markov-Kette ist dabei ein stochastisches System, dessen nächster Zustand ausschließlich vom aktuellen Zustand und den gegebenen Übergangswahrscheinlichkeiten abhängt."
   ]
  },
  {
   "cell_type": "markdown",
   "id": "da820823-2ab3-442f-994e-1881a3d31822",
   "metadata": {
    "deletable": false,
    "editable": false
   },
   "source": [
    "Die zugrundeliegende Idee für den Algorithmus sind sogenannte *Random Walks*, bei denen ausgehend von einem der Knoten eine zufällige Kantenfolge gewählt und abgeschritten wird. Die ausgehenden Kanten eines Knotens markieren die von dort erreichbaren Zustände bzw. Knoten - es können also innerhalb eines Schrittes nur direkte Nachbarn erreicht werden. Dabei ergeben sich automatisch Muster:\n",
    "- Ist der Graph in mehrere Komponenten zerfallen, werden nur Knoten innerhalb der Komponente erreicht, in der gestartet wird.\n",
    "- Die Wahrscheinlichkeit innerhalb einer Community zu bleiben ist höher als sie zu verlassen.\n",
    "- Knoten, die eine verbindende Funktion aufweisen, werden häufiger durchschritten als Knoten, die \"Sackgassen\" darstellen."
   ]
  },
  {
   "cell_type": "markdown",
   "id": "838d0f18-115a-45fc-a237-025e424ebfe8",
   "metadata": {
    "deletable": false,
    "editable": false
   },
   "source": [
    "Die nachfolgende Zelle zeigt Ihnen einen Random Walk im bereits zuvor gezeigten Graphen. Mit dem Parameter `steps` können Sie die Anzahl der Schritte verändern. Führen Sie die Zelle mehrfach aus und beobachten Sie den Verlauf, da jedes Mal ein zufälliger Startknoten gewählt wird."
   ]
  },
  {
   "cell_type": "code",
   "execution_count": null,
   "id": "637b998b-323c-410c-aba8-98fa09c4a583",
   "metadata": {
    "deletable": false
   },
   "outputs": [],
   "source": [
    "RandomWalk(small_communities, steps=80)"
   ]
  },
  {
   "cell_type": "markdown",
   "id": "e157a009-4de0-47a0-b653-7320277d9157",
   "metadata": {
    "deletable": false,
    "editable": false
   },
   "source": [
    "Als *Markov-Ketten-Matrix* wird die Adjazenzmatrix des Graphen verwendet. Um als Wahrscheinlichkeitsverteilung des Übergangs von einem Knoten zum nächsten zu fungieren, muss diese jedoch spaltenweise normalisiert werden."
   ]
  },
  {
   "cell_type": "code",
   "execution_count": null,
   "id": "58773cbb-82fe-428a-ac7f-408b886a5d70",
   "metadata": {
    "deletable": false
   },
   "outputs": [],
   "source": [
    "def normalize(M):\n",
    "    return M / M.sum(axis=0)[np.newaxis, :]"
   ]
  },
  {
   "cell_type": "code",
   "execution_count": null,
   "id": "9f40a6fd-764e-4965-b402-5049f2df0304",
   "metadata": {
    "deletable": false
   },
   "outputs": [],
   "source": [
    "adj = nx.to_numpy_array(small_communities)\n",
    "n_adj = normalize(adj)\n",
    "\n",
    "np.round(n_adj, 2)"
   ]
  },
  {
   "cell_type": "markdown",
   "id": "0b912db4-9c87-4ea5-a54b-ad67f67b191a",
   "metadata": {
    "deletable": false,
    "editable": false
   },
   "source": [
    "Der Random Walk wird dann simuliert durch zwei abwechselnde Operationen:\n",
    "- Die *Expansion* sorgt für die Ausbreitung der Wahrscheinlichkeiten innerhalb des Graphen. Der Schritt wird durchgeführt, indem die Markov-Ketten-Matrix mit sich selbst multipliziert wird. (Dies kann auch mit einer höheren Potenz als $2$ geschehen!)\n",
    "- Die *Inflation* stärkt stark verbundene Knoten und schwächt schwach verbundene Knoten weiter ab. Dazu werden die Werte der Markov-Ketten-Matrix elementweise potenziert und anschließend (erneut) normalisiert. Die Wahl der Potenz hat starken Einfluss auf die Granularität der entstehenden Communities."
   ]
  },
  {
   "cell_type": "code",
   "execution_count": null,
   "id": "7138de4f-b50b-49ee-abc8-cb85509f0a4c",
   "metadata": {
    "deletable": false
   },
   "outputs": [],
   "source": [
    "def expand(M, e=2):\n",
    "    return reduce(np.dot, (M,) * e)\n",
    "\n",
    "def inflate(M, r):\n",
    "    return normalize(M ** r)"
   ]
  },
  {
   "cell_type": "markdown",
   "id": "f9a22072-e532-4ebf-a0db-b83693210fa2",
   "metadata": {
    "deletable": false,
    "editable": false
   },
   "source": [
    "Der Algorithmus führt die beiden Operationen nun ausgehend von der normalisierten Adjazenzmatrix aus und wiederholt die Schritte so lang, bis das Ergebnis konvergiert:"
   ]
  },
  {
   "cell_type": "code",
   "execution_count": null,
   "id": "b2042faf-dcc8-49c2-ae45-e7a27ce241ab",
   "metadata": {
    "deletable": false
   },
   "outputs": [],
   "source": [
    "e = 3\n",
    "r = 3\n",
    "\n",
    "M = n_adj\n",
    "last_M = np.zeros(M.shape)\n",
    "\n",
    "while abs(M - last_M).sum() / math.prod(M.shape) > 1e-3:\n",
    "    last_M = M\n",
    "\n",
    "    M = expand(M, e)\n",
    "    M = inflate(M, r)\n",
    "\n",
    "np.round(M, 3)"
   ]
  },
  {
   "cell_type": "markdown",
   "id": "3e8d5e4c-157d-4290-952f-5799def67562",
   "metadata": {
    "deletable": false,
    "editable": false
   },
   "source": [
    "In der Regel konvertieren die Matrizen entgegen einer dünn besetzten Matrix, in der pro Zeile alle Werte, die nicht $0$ sind, ungefähr die gleiche Größe besitzen. Zuletzt muss die entstandene Matrix allerdings noch interpretiert werden. Dazu werden die Knoten in sogenannte anziehende und normale Knoten unterteilt, wobei erstere mindestens einen positiven Wert in ihrer Reihe besitzen.\n",
    "\n",
    "Anziehende Knoten werden mit anderen zu einer Community zusammengefasst, wenn zwischen ihnen laut der konvergierten Matrix ein Anziehungsverhältnis besteht."
   ]
  },
  {
   "cell_type": "code",
   "execution_count": null,
   "id": "86c537d5-64d0-4201-b2d5-1845fb6bdec8",
   "metadata": {
    "deletable": false
   },
   "outputs": [],
   "source": [
    "communities = [set((row,)) for row in range(M.shape[0])]\n",
    "\n",
    "for row in range(M.shape[0]):\n",
    "    for col in range(M.shape[1]):\n",
    "        if M[row, col] > 1e-9:\n",
    "            communities[row].update(communities[col])\n",
    "            communities[col] = communities[row]\n",
    "\n",
    "set(map(frozenset, communities))"
   ]
  }
 ],
 "metadata": {
  "kernelspec": {
   "display_name": "Python 3 (ipykernel)",
   "language": "python",
   "name": "python3"
  },
  "language_info": {
   "codemirror_mode": {
    "name": "ipython",
    "version": 3
   },
   "file_extension": ".py",
   "mimetype": "text/x-python",
   "name": "python",
   "nbconvert_exporter": "python",
   "pygments_lexer": "ipython3",
   "version": "3.10.12"
  }
 },
 "nbformat": 4,
 "nbformat_minor": 5
}
