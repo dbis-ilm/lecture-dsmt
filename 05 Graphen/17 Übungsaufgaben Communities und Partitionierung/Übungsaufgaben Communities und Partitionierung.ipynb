{
 "cells": [
  {
   "cell_type": "markdown",
   "id": "0",
   "metadata": {
    "deletable": false,
    "editable": false,
    "slideshow": {
     "slide_type": ""
    },
    "tags": []
   },
   "source": [
    "# Übungsaufgaben Communities und Partitionierung\n",
    "Verwenden Sie zur Lösung, falls vorhanden, die in NetworkX enthaltenen Methoden."
   ]
  },
  {
   "cell_type": "code",
   "execution_count": null,
   "id": "1",
   "metadata": {
    "deletable": false,
    "editable": false,
    "slideshow": {
     "slide_type": ""
    },
    "tags": []
   },
   "outputs": [],
   "source": [
    "import numpy as np\n",
    "import networkx as nx\n",
    "from networkx.algorithms import clique, community\n",
    "\n",
    "from tui_dsmt.graph.datasets import load_dewiki_softwarearchitektur"
   ]
  },
  {
   "cell_type": "code",
   "execution_count": null,
   "id": "2",
   "metadata": {
    "deletable": false,
    "editable": false,
    "slideshow": {
     "slide_type": ""
    },
    "tags": []
   },
   "outputs": [],
   "source": [
    "dewiki = load_dewiki_softwarearchitektur()\n",
    "str(dewiki)"
   ]
  },
  {
   "cell_type": "code",
   "execution_count": null,
   "id": "3",
   "metadata": {
    "deletable": false,
    "editable": false,
    "slideshow": {
     "slide_type": ""
    },
    "tags": []
   },
   "outputs": [],
   "source": [
    "nx.is_connected(dewiki)"
   ]
  },
  {
   "cell_type": "markdown",
   "id": "4",
   "metadata": {
    "deletable": false,
    "editable": false,
    "slideshow": {
     "slide_type": ""
    },
    "tags": []
   },
   "source": [
    "## Aufgabe 1: Relevanz"
   ]
  },
  {
   "cell_type": "markdown",
   "id": "5",
   "metadata": {
    "deletable": false,
    "editable": false,
    "slideshow": {
     "slide_type": ""
    },
    "tags": []
   },
   "source": [
    "### 1. Knotengrad\n",
    "Fügen Sie das Attribut `degree` zu allen Knoten hinzu und setzen Sie es entsprechend des Knotengrades. Lassen Sie anschließend die Eigenschaften des Artikels `Datenbankmodell` ausgeben."
   ]
  },
  {
   "cell_type": "code",
   "execution_count": null,
   "id": "6",
   "metadata": {
    "deletable": false,
    "editable": true,
    "slideshow": {
     "slide_type": ""
    },
    "tags": [
     "task-1-1"
    ]
   },
   "outputs": [],
   "source": [
    "..."
   ]
  },
  {
   "cell_type": "markdown",
   "id": "8",
   "metadata": {
    "deletable": false,
    "editable": false,
    "slideshow": {
     "slide_type": ""
    },
    "tags": []
   },
   "source": [
    "Sortieren Sie die Knoten absteigend nach dem Knotengrad und geben Sie die zehn Knoten mit dem höchsten Knotengrad aus."
   ]
  },
  {
   "cell_type": "code",
   "execution_count": null,
   "id": "9",
   "metadata": {
    "deletable": false,
    "editable": true,
    "slideshow": {
     "slide_type": ""
    },
    "tags": [
     "task-1-1"
    ]
   },
   "outputs": [],
   "source": [
    "sorted_nodes = ['node_with_highest_degree', ..., 'node_with_lowest_degree']\n",
    "sorted_nodes[:10]"
   ]
  },
  {
   "cell_type": "markdown",
   "id": "11",
   "metadata": {
    "deletable": false,
    "editable": false,
    "slideshow": {
     "slide_type": ""
    },
    "tags": []
   },
   "source": [
    "### 2. Betweenness-Zentralität\n",
    "Fügen Sie das Attribut `betweenness` zu allen Knoten hinzu und setzen Sie es entsprechend der Betweenness-Zentralität. Lassen Sie anschließend die Eigenschaften des Artikels `Datenbankmodell` ausgeben."
   ]
  },
  {
   "cell_type": "code",
   "execution_count": null,
   "id": "12",
   "metadata": {
    "deletable": false,
    "editable": true,
    "slideshow": {
     "slide_type": ""
    },
    "tags": [
     "task-1-2"
    ]
   },
   "outputs": [],
   "source": [
    "..."
   ]
  },
  {
   "cell_type": "markdown",
   "id": "14",
   "metadata": {
    "deletable": false,
    "editable": false,
    "slideshow": {
     "slide_type": ""
    },
    "tags": []
   },
   "source": [
    "Sortieren Sie die Knoten absteigend nach der Betweenness-Zentralität und geben Sie die zehn Knoten mit dem höchsten Wert aus."
   ]
  },
  {
   "cell_type": "code",
   "execution_count": null,
   "id": "15",
   "metadata": {
    "deletable": false,
    "editable": true,
    "slideshow": {
     "slide_type": ""
    },
    "tags": [
     "task-1-2"
    ]
   },
   "outputs": [],
   "source": [
    "sorted_nodes = ['node_with_highest_betweenness', ..., 'node_with_lowest_betweenness']\n",
    "sorted_nodes[:10]"
   ]
  },
  {
   "cell_type": "markdown",
   "id": "17",
   "metadata": {
    "deletable": false,
    "editable": false,
    "slideshow": {
     "slide_type": ""
    },
    "tags": []
   },
   "source": [
    "### 3. Eigenvektorzentralität\n",
    "Fügen Sie das Attribut `eigenvector` zu allen Knoten hinzu und setzen Sie es entsprechend der Eigenvektorzentralität. Lassen Sie anschließend die Eigenschaften des Artikels `Datenbankmodell` ausgeben."
   ]
  },
  {
   "cell_type": "code",
   "execution_count": null,
   "id": "18",
   "metadata": {
    "deletable": false,
    "editable": true,
    "slideshow": {
     "slide_type": ""
    },
    "tags": [
     "task-1-3"
    ]
   },
   "outputs": [],
   "source": [
    "..."
   ]
  },
  {
   "cell_type": "markdown",
   "id": "20",
   "metadata": {
    "deletable": false,
    "editable": false
   },
   "source": [
    "Sortieren Sie die Knoten absteigend nach der Eigenvektorzentralität und geben Sie die zehn Knoten mit dem höchsten Wert aus."
   ]
  },
  {
   "cell_type": "code",
   "execution_count": null,
   "id": "21",
   "metadata": {
    "deletable": false,
    "editable": true,
    "slideshow": {
     "slide_type": ""
    },
    "tags": [
     "task-1-3"
    ]
   },
   "outputs": [],
   "source": [
    "sorted_nodes = ['node_with_highest_eigenvector', ..., 'node_with_lowest_eigenvector']\n",
    "sorted_nodes[:10]"
   ]
  },
  {
   "cell_type": "markdown",
   "id": "23",
   "metadata": {
    "deletable": false,
    "editable": false
   },
   "source": [
    "## Aufgabe 2: Communities\n",
    "Bestimmen Sie die im Graphen enthaltenen Communities."
   ]
  },
  {
   "cell_type": "code",
   "execution_count": null,
   "id": "24",
   "metadata": {
    "deletable": false,
    "editable": true,
    "slideshow": {
     "slide_type": ""
    },
    "tags": [
     "task-2"
    ]
   },
   "outputs": [],
   "source": [
    "communities = []\n",
    "len(communities)"
   ]
  },
  {
   "cell_type": "markdown",
   "id": "26",
   "metadata": {
    "deletable": false,
    "editable": false,
    "slideshow": {
     "slide_type": ""
    },
    "tags": []
   },
   "source": [
    "Fügen Sie das Attribut `community` zu allen Knoten hinzu und setzen Sie es entsprechend der Community des Knotens. Verwenden Sie dazu den Index der entsprechenden Community. Lassen Sie anschließend die Eigenschaften des Artikels `Datenbankmodell` ausgeben."
   ]
  },
  {
   "cell_type": "code",
   "execution_count": null,
   "id": "27",
   "metadata": {
    "deletable": false,
    "editable": true,
    "slideshow": {
     "slide_type": ""
    },
    "tags": [
     "task-2"
    ]
   },
   "outputs": [],
   "source": [
    "..."
   ]
  },
  {
   "cell_type": "markdown",
   "id": "29",
   "metadata": {
    "deletable": false,
    "editable": false
   },
   "source": [
    "Welche Knoten gehören zur gleichen Community wie der Artikel `Datenbankmodell`?"
   ]
  },
  {
   "cell_type": "code",
   "execution_count": null,
   "id": "30",
   "metadata": {
    "deletable": false,
    "editable": true,
    "slideshow": {
     "slide_type": ""
    },
    "tags": [
     "task-2"
    ]
   },
   "outputs": [],
   "source": [
    "datenbankmodell_community = []\n",
    "sorted(datenbankmodell_community)"
   ]
  },
  {
   "cell_type": "markdown",
   "id": "32",
   "metadata": {
    "deletable": false,
    "editable": false
   },
   "source": [
    "## Aufgabe 3: Cliquen\n",
    "Bestimmen Sie die im Graphen enthaltenen **nichttrivialen** (mehr als zwei Knoten) Cliquen. Transformieren Sie das Ergebnis in eine Liste."
   ]
  },
  {
   "cell_type": "code",
   "execution_count": null,
   "id": "33",
   "metadata": {
    "deletable": false,
    "editable": true,
    "slideshow": {
     "slide_type": ""
    },
    "tags": [
     "task-3"
    ]
   },
   "outputs": [],
   "source": [
    "cliques = []\n",
    "len(cliques)"
   ]
  },
  {
   "cell_type": "markdown",
   "id": "35",
   "metadata": {
    "deletable": false,
    "editable": false
   },
   "source": [
    "Bestimmen Sie die größte Clique."
   ]
  },
  {
   "cell_type": "code",
   "execution_count": null,
   "id": "36",
   "metadata": {
    "deletable": false,
    "editable": true,
    "slideshow": {
     "slide_type": ""
    },
    "tags": [
     "task-3"
    ]
   },
   "outputs": [],
   "source": [
    "max_clique = ...\n",
    "max_clique"
   ]
  },
  {
   "cell_type": "markdown",
   "id": "38",
   "metadata": {
    "deletable": false,
    "editable": false
   },
   "source": [
    "## Aufgabe 4: Partitionierung\n",
    "Der Graph soll zur weiteren Berechnung auf zwei PCs aufgeteilt werden. Wenden Sie Spectral Clustering an, um zwei **etwa gleich große** Partitionen zu erstellen."
   ]
  },
  {
   "cell_type": "code",
   "execution_count": null,
   "id": "39",
   "metadata": {
    "deletable": false,
    "editable": true,
    "slideshow": {
     "slide_type": ""
    },
    "tags": [
     "task-4-1"
    ]
   },
   "outputs": [],
   "source": [
    "L = ..."
   ]
  },
  {
   "cell_type": "code",
   "execution_count": null,
   "id": "43",
   "metadata": {
    "deletable": false,
    "editable": true,
    "slideshow": {
     "slide_type": ""
    },
    "tags": [
     "task-4-1"
    ]
   },
   "outputs": [],
   "source": [
    "fiedler_vector = ...\n",
    "fiedler_vector"
   ]
  },
  {
   "cell_type": "code",
   "execution_count": null,
   "id": "45",
   "metadata": {
    "deletable": false,
    "editable": true,
    "slideshow": {
     "slide_type": ""
    },
    "tags": [
     "task-4-1"
    ]
   },
   "outputs": [],
   "source": [
    "p1 = []\n",
    "p2 = []\n",
    "\n",
    "len(p1), len(p2)"
   ]
  },
  {
   "cell_type": "markdown",
   "id": "47",
   "metadata": {
    "deletable": false,
    "editable": false
   },
   "source": [
    "Wie viele der Kanten verlaufen zwischen den Partitionen? Wie viele der Kanten verlaufen innerhalb der Partitionen?"
   ]
  },
  {
   "cell_type": "code",
   "execution_count": null,
   "id": "48",
   "metadata": {
    "deletable": false,
    "editable": true,
    "slideshow": {
     "slide_type": ""
    },
    "tags": [
     "task4-2"
    ]
   },
   "outputs": [],
   "source": [
    "in_p1 = 0\n",
    "in_p2 = 0\n",
    "between = 0\n",
    "\n",
    "...\n",
    "\n",
    "in_p1, in_p2, between"
   ]
  },
  {
   "cell_type": "markdown",
   "id": "50",
   "metadata": {
    "deletable": false,
    "editable": false
   },
   "source": [
    "Schätzen Sie die Qualität der Partitionierung anhand der Kanten ein."
   ]
  }
 ],
 "metadata": {
  "kernelspec": {
   "display_name": "Python 3 (ipykernel)",
   "language": "python",
   "name": "python3"
  },
  "language_info": {
   "codemirror_mode": {
    "name": "ipython",
    "version": 3
   },
   "file_extension": ".py",
   "mimetype": "text/x-python",
   "name": "python",
   "nbconvert_exporter": "python",
   "pygments_lexer": "ipython3",
   "version": "3.10.12"
  }
 },
 "nbformat": 4,
 "nbformat_minor": 5
}
