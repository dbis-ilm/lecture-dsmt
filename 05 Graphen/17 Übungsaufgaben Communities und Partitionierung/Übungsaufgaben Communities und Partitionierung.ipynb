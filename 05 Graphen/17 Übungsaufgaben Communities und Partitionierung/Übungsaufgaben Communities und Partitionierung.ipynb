{
 "cells": [
  {
   "cell_type": "markdown",
   "id": "6fa4a13a-7474-4ce7-bad0-198dafb8b3d8",
   "metadata": {
    "deletable": false,
    "editable": false
   },
   "source": [
    "# Übungsaufgaben Communities und Partitionierung\n",
    "Verwenden Sie zur Lösung, falls vorhanden, die in NetworkX enthaltenen Methoden."
   ]
  },
  {
   "cell_type": "code",
   "execution_count": null,
   "id": "13995ea1-cbb8-40ec-bb7b-daad1f0b75b1",
   "metadata": {
    "deletable": false,
    "editable": false
   },
   "outputs": [],
   "source": [
    "import numpy as np\n",
    "import networkx as nx\n",
    "from networkx.algorithms import clique, community\n",
    "\n",
    "from tui_dsmt.graph.datasets import load_dewiki_softwarearchitektur"
   ]
  },
  {
   "cell_type": "code",
   "execution_count": null,
   "id": "ad56092e-8d3d-4174-a173-03faf388c7fa",
   "metadata": {
    "deletable": false,
    "editable": false
   },
   "outputs": [],
   "source": [
    "dewiki = load_dewiki_softwarearchitektur()\n",
    "str(dewiki)"
   ]
  },
  {
   "cell_type": "code",
   "execution_count": null,
   "id": "dab97a20-65ff-4b78-9408-874596896588",
   "metadata": {
    "deletable": false,
    "editable": false
   },
   "outputs": [],
   "source": [
    "nx.is_connected(dewiki)"
   ]
  },
  {
   "cell_type": "markdown",
   "id": "4a33efc5-8620-4bd8-98b8-6724cc504afd",
   "metadata": {
    "deletable": false,
    "editable": false
   },
   "source": [
    "## Aufgabe 1: Relevanz"
   ]
  },
  {
   "cell_type": "markdown",
   "id": "b734ecea-cdfe-404f-bb34-0fabf63e563b",
   "metadata": {
    "deletable": false,
    "editable": false
   },
   "source": [
    "### 1. Knotengrad\n",
    "Fügen Sie das Attribut `degree` zu allen Knoten hinzu und setzen Sie es entsprechend des Knotengrades. Lassen Sie anschließend die Eigenschaften des Artikels `Datenbankmodell` ausgeben."
   ]
  },
  {
   "cell_type": "code",
   "execution_count": null,
   "id": "5e9a2c82-cf56-46c4-bb35-edb25b0852cb",
   "metadata": {
    "deletable": false
   },
   "outputs": [],
   "source": [
    "..."
   ]
  },
  {
   "cell_type": "markdown",
   "id": "6c8f14e4-5b1c-47b5-97b7-7afcc038383d",
   "metadata": {
    "deletable": false,
    "editable": false
   },
   "source": [
    "Sortieren Sie die Knoten absteigend nach dem Knotengrad und geben Sie die zehn Knoten mit dem höchsten Knotengrad aus."
   ]
  },
  {
   "cell_type": "code",
   "execution_count": null,
   "id": "71bbc486-61da-4f43-b5ff-fe63a02547c8",
   "metadata": {
    "deletable": false
   },
   "outputs": [],
   "source": [
    "sorted_notes = ..."
   ]
  },
  {
   "cell_type": "markdown",
   "id": "664293ff-9d19-4fc0-88c4-da7c6fe9506e",
   "metadata": {
    "deletable": false,
    "editable": false
   },
   "source": [
    "### 2. Betweenness-Zentralität\n",
    "Fügen Sie das Attribut `betweenness` zu allen Knoten hinzu und setzen Sie es entsprechend der Betweenness-Zentralität. Lassen Sie anschließend die Eigenschaften des Artikels `Datenbankmodell` ausgeben."
   ]
  },
  {
   "cell_type": "code",
   "execution_count": null,
   "id": "e5b29e39-709a-4329-891c-624018cead2f",
   "metadata": {
    "deletable": false
   },
   "outputs": [],
   "source": [
    "..."
   ]
  },
  {
   "cell_type": "markdown",
   "id": "9a6d6cf6-ffbf-421d-9a91-dcd356e17744",
   "metadata": {
    "deletable": false,
    "editable": false
   },
   "source": [
    "Sortieren Sie die Knoten absteigend nach der Betweenness-Zentralität und geben Sie die zehn Knoten mit dem höchsten Wert aus."
   ]
  },
  {
   "cell_type": "code",
   "execution_count": null,
   "id": "931dfa3c-3437-4175-b525-e8dffeafd8fe",
   "metadata": {
    "deletable": false
   },
   "outputs": [],
   "source": [
    "sorted_notes = ..."
   ]
  },
  {
   "cell_type": "markdown",
   "id": "59b525af-65a4-4a73-a5c0-b2c6c5199b64",
   "metadata": {
    "deletable": false,
    "editable": false
   },
   "source": [
    "### 3. Eigenvektorzentralität\n",
    "Fügen Sie das Attribut `eigenvector` zu allen Knoten hinzu und setzen Sie es entsprechend der Eigenvektorzentralität. Lassen Sie anschließend die Eigenschaften des Artikels `Datenbankmodell` ausgeben."
   ]
  },
  {
   "cell_type": "code",
   "execution_count": null,
   "id": "d463a176-a1c0-4cb8-b0ea-b1551d7a5a10",
   "metadata": {
    "deletable": false
   },
   "outputs": [],
   "source": [
    "..."
   ]
  },
  {
   "cell_type": "markdown",
   "id": "1f433fe1-e926-442f-9f27-9fe13be12478",
   "metadata": {
    "deletable": false,
    "editable": false
   },
   "source": [
    "Sortieren Sie die Knoten absteigend nach der Eigenvektorzentralität und geben Sie die zehn Knoten mit dem höchsten Wert aus."
   ]
  },
  {
   "cell_type": "code",
   "execution_count": null,
   "id": "8e92674b-53c8-4ed1-8ad0-7e0aaa51836c",
   "metadata": {
    "deletable": false
   },
   "outputs": [],
   "source": [
    "sorted_notes = ..."
   ]
  },
  {
   "cell_type": "markdown",
   "id": "4da8b121-c2a7-4231-ad2b-48805d8a115c",
   "metadata": {
    "deletable": false,
    "editable": false
   },
   "source": [
    "## Aufgabe 2: Communities\n",
    "Bestimmen Sie die im Graphen enthaltenen Communities."
   ]
  },
  {
   "cell_type": "code",
   "execution_count": null,
   "id": "31211479-9b94-4cd1-857a-3d98c818f5a0",
   "metadata": {
    "deletable": false
   },
   "outputs": [],
   "source": [
    "communities = []\n",
    "len(communities)"
   ]
  },
  {
   "cell_type": "code",
   "execution_count": null,
   "id": "342e655a-dd14-45d3-903b-2d5c4fff3f67",
   "metadata": {
    "deletable": false
   },
   "outputs": [],
   "source": [
    "communities = community.greedy_modularity_communities(dewiki)\n",
    "len(communities)"
   ]
  },
  {
   "cell_type": "markdown",
   "id": "7b111c84-124a-4935-806d-01d11029ea26",
   "metadata": {
    "deletable": false,
    "editable": false
   },
   "source": [
    "Fügen Sie das Attribut `community` zu allen Knoten hinzu und setzen Sie es entsprechend der Community des Knotens. Verwenden Sie dazu den Index der entsprechenden Community. Lassen Sie anschließend die Eigenschaften des Artikels `Datenbankmodell` ausgeben."
   ]
  },
  {
   "cell_type": "code",
   "execution_count": null,
   "id": "f3d186d2-f91b-43d4-bdf3-d1c92eb0d223",
   "metadata": {
    "deletable": false
   },
   "outputs": [],
   "source": [
    "..."
   ]
  },
  {
   "cell_type": "markdown",
   "id": "5f7d6958-6c9b-4983-bc32-b6470ddd5620",
   "metadata": {
    "deletable": false,
    "editable": false
   },
   "source": [
    "Welche Knoten gehören zur gleichen Community wie der Artikel `Datenbankmodell`?"
   ]
  },
  {
   "cell_type": "code",
   "execution_count": null,
   "id": "79f89e5a-2837-486a-ac30-aabdc065790c",
   "metadata": {
    "deletable": false
   },
   "outputs": [],
   "source": [
    "datenbankmodell_community = []\n",
    "sorted(datenbankmodell_community)"
   ]
  },
  {
   "cell_type": "code",
   "execution_count": null,
   "id": "e44e5983-3712-4e0a-9e35-495faed9d07f",
   "metadata": {
    "deletable": false
   },
   "outputs": [],
   "source": [
    "datenbankmodell_community = [n\n",
    "                             for n in dewiki\n",
    "                             if dewiki.nodes[n]['community'] == dewiki.nodes['Datenbankmodell']['community']]\n",
    "sorted(datenbankmodell_community)"
   ]
  },
  {
   "cell_type": "markdown",
   "id": "72706722-15fd-49ec-a7ec-aadcbd5e5280",
   "metadata": {
    "deletable": false,
    "editable": false
   },
   "source": [
    "## Aufgabe 3: Cliquen\n",
    "Bestimmen Sie die im Graphen enthaltenen **nichttrivialen** (mehr als zwei Knoten) Cliquen. Transformieren Sie das Ergebnis in eine Liste."
   ]
  },
  {
   "cell_type": "code",
   "execution_count": null,
   "id": "eeb4939a-2b81-463b-a33f-4a47048c8719",
   "metadata": {
    "deletable": false
   },
   "outputs": [],
   "source": [
    "cliques = []\n",
    "len(cliques)"
   ]
  },
  {
   "cell_type": "markdown",
   "id": "b31ff44f-1965-41a6-babe-f39556d08a8a",
   "metadata": {
    "deletable": false,
    "editable": false
   },
   "source": [
    "Bestimmen Sie die größte Clique."
   ]
  },
  {
   "cell_type": "code",
   "execution_count": null,
   "id": "b13a42c7-b11a-4e9b-afe6-56acb6a3c257",
   "metadata": {
    "deletable": false
   },
   "outputs": [],
   "source": [
    "max_clique = ...\n",
    "max_clique"
   ]
  },
  {
   "cell_type": "markdown",
   "id": "73332757-0cf1-41f5-8247-37c92610350c",
   "metadata": {
    "deletable": false,
    "editable": false
   },
   "source": [
    "## Aufgabe 4: Partitionierung\n",
    "Der Graph soll zur weiteren Berechnung auf zwei PCs aufgeteilt werden. Wenden Sie Spectral Clustering an, um zwei **etwa gleich große** Partitionen zu erstellen."
   ]
  },
  {
   "cell_type": "code",
   "execution_count": null,
   "id": "9a014bbb-04e7-4bc7-8c89-f71cc9e1da69",
   "metadata": {
    "deletable": false
   },
   "outputs": [],
   "source": [
    "L = ..."
   ]
  },
  {
   "cell_type": "code",
   "execution_count": null,
   "id": "24de07fb-0eb5-4db5-b6ce-07d5dc4d4e84",
   "metadata": {
    "deletable": false
   },
   "outputs": [],
   "source": [
    "fiedler_vector = ...\n",
    "fiedler_vector"
   ]
  },
  {
   "cell_type": "code",
   "execution_count": null,
   "id": "37598b78-7fe2-498f-95f2-eceb876c4d89",
   "metadata": {
    "deletable": false
   },
   "outputs": [],
   "source": [
    "p1 = []\n",
    "p2 = []\n",
    "\n",
    "len(p1), len(p2)"
   ]
  },
  {
   "cell_type": "markdown",
   "id": "3a19c371-88bd-4193-aa6b-7341b6d2998a",
   "metadata": {
    "deletable": false,
    "editable": false
   },
   "source": [
    "Wie viele der Kanten verlaufen zwischen den Partitionen? Wie viele der Kanten verlaufen innerhalb der Partitionen?"
   ]
  },
  {
   "cell_type": "code",
   "execution_count": null,
   "id": "9824d542-5289-4dc1-9391-303194b87c39",
   "metadata": {
    "deletable": false
   },
   "outputs": [],
   "source": [
    "in_p1 = 0\n",
    "in_p2 = 0\n",
    "between = 0\n",
    "\n",
    "...\n",
    "\n",
    "in_p1, in_p2, between"
   ]
  },
  {
   "cell_type": "markdown",
   "id": "8fab3917-0af4-4f37-b106-88a225e1188e",
   "metadata": {
    "deletable": false,
    "editable": false
   },
   "source": [
    "Schätzen Sie die Qualität der Partitionierung anhand der Kanten ein."
   ]
  }
 ],
 "metadata": {
  "kernelspec": {
   "display_name": "Python 3 (ipykernel)",
   "language": "python",
   "name": "python3"
  },
  "language_info": {
   "codemirror_mode": {
    "name": "ipython",
    "version": 3
   },
   "file_extension": ".py",
   "mimetype": "text/x-python",
   "name": "python",
   "nbconvert_exporter": "python",
   "pygments_lexer": "ipython3",
   "version": "3.10.12"
  }
 },
 "nbformat": 4,
 "nbformat_minor": 5
}
