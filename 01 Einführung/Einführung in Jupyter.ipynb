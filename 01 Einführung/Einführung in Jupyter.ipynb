{
 "cells": [
  {
   "cell_type": "markdown",
   "id": "753a593b",
   "metadata": {
    "deletable": false,
    "editable": false
   },
   "source": [
    "# Herzlichen Glückwunsch\n",
    "Sie haben erfolgreich ein Jupyter Notebook geladen."
   ]
  },
  {
   "cell_type": "markdown",
   "id": "94d73c9a",
   "metadata": {
    "deletable": false,
    "editable": false
   },
   "source": [
    "## Ein erster Test\n",
    "Führen Sie die folgende Zelle aus, um die korrekte Funktion des Python Kernels sicherzustellen."
   ]
  },
  {
   "cell_type": "code",
   "execution_count": null,
   "id": "c1a4bf43",
   "metadata": {
    "deletable": false
   },
   "outputs": [],
   "source": [
    "1 + 1 == 2"
   ]
  },
  {
   "cell_type": "markdown",
   "id": "abc1ecb4",
   "metadata": {
    "deletable": false,
    "editable": false
   },
   "source": [
    "## Programmzustand\n",
    "1. In der ersten Zelle wird die Variable `a` definiert und mit dem Wert $0$ initialisiert. Führen Sie die erste Zelle einmalig aus.\n",
    "2. In der zweiten Zelle wird der Inhalt der Variable `a` um $1$ erhöht und das Ergebnis ausgegeben. Führen Sie die zweite Zelle mindestens zweimal aus.\n",
    "3. In der dritten Zelle wird die Variable `a` auf den Wert $100$ gesetzt. Führen Sie die dritte Zelle einmalig aus.\n",
    "4. Führen Sie die zweite Zelle erneut mindestens zweimal aus."
   ]
  },
  {
   "cell_type": "code",
   "execution_count": null,
   "id": "e44f10f4",
   "metadata": {
    "deletable": false
   },
   "outputs": [],
   "source": [
    "a = 0"
   ]
  },
  {
   "cell_type": "code",
   "execution_count": null,
   "id": "1c071f44",
   "metadata": {
    "deletable": false
   },
   "outputs": [],
   "source": [
    "a = a + 1\n",
    "a"
   ]
  },
  {
   "cell_type": "code",
   "execution_count": null,
   "id": "c65be295-c60c-47dd-ac45-2348446b8a1a",
   "metadata": {
    "deletable": false
   },
   "outputs": [],
   "source": [
    "a = 100"
   ]
  }
 ],
 "metadata": {
  "kernelspec": {
   "display_name": "Python 3 (ipykernel)",
   "language": "python",
   "name": "python3"
  },
  "language_info": {
   "codemirror_mode": {
    "name": "ipython",
    "version": 3
   },
   "file_extension": ".py",
   "mimetype": "text/x-python",
   "name": "python",
   "nbconvert_exporter": "python",
   "pygments_lexer": "ipython3",
   "version": "3.10.2"
  }
 },
 "nbformat": 4,
 "nbformat_minor": 5
}
