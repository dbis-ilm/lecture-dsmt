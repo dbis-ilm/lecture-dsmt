{
 "cells": [
  {
   "cell_type": "markdown",
   "id": "d5efda96",
   "metadata": {
    "deletable": false,
    "editable": false
   },
   "source": [
    "# Normalisierung\n",
    "In Fällen, in denen Achsen stark unterschiedlich skaliert sind, hat beispielsweise bei der Verwendung der euklidischen Distanz eine Achse stärkeren Einfluss auf den berechneten Abstand. Es kann daher vor dem Anwenden von k-Means oder DBScan nützlich sein, die Achsen gleichermaßen zu skalieren."
   ]
  },
  {
   "cell_type": "code",
   "execution_count": null,
   "id": "c645669c-0e66-435c-bdea-c67d540e0900",
   "metadata": {
    "deletable": false
   },
   "outputs": [],
   "source": [
    "import pandas as pd\n",
    "import plotly.express as px\n",
    "\n",
    "from tui_dsmt.clustering.datasets import clustering_example2"
   ]
  },
  {
   "cell_type": "code",
   "execution_count": null,
   "id": "5340f73a",
   "metadata": {
    "deletable": false
   },
   "outputs": [],
   "source": [
    "px.scatter(clustering_example2, x='x', y='y')"
   ]
  },
  {
   "cell_type": "markdown",
   "id": "2248a54b",
   "metadata": {
    "deletable": false,
    "editable": false
   },
   "source": [
    "`sklearn` bietet dazu verschiedene Methoden. Der Klasse `MinMaxScaler` kann ein Bereich übergeben werden, in den alle enthaltenen Werte abgebildet werden."
   ]
  },
  {
   "cell_type": "code",
   "execution_count": null,
   "id": "3052ccea",
   "metadata": {
    "deletable": false
   },
   "outputs": [],
   "source": [
    "from sklearn.preprocessing import MinMaxScaler\n",
    "\n",
    "df_scaled = MinMaxScaler((0, 1)).fit_transform(clustering_example2)\n",
    "df_scaled = pd.DataFrame(df_scaled, columns=clustering_example2.columns)\n",
    "\n",
    "px.scatter(df_scaled, x='x', y='y')"
   ]
  },
  {
   "cell_type": "markdown",
   "id": "c5710b18",
   "metadata": {
    "deletable": false,
    "editable": false
   },
   "source": [
    "Die Klasse `StandardScaler` hingegen bildet die enthaltenen Werte so ab, dass diese mittelwertfrei sind und Einheitsvarianz besitzen."
   ]
  },
  {
   "cell_type": "code",
   "execution_count": null,
   "id": "85406182",
   "metadata": {
    "deletable": false
   },
   "outputs": [],
   "source": [
    "from sklearn.preprocessing import StandardScaler\n",
    "\n",
    "df_scaled = StandardScaler().fit_transform(clustering_example2)\n",
    "df_scaled = pd.DataFrame(df_scaled, columns=clustering_example2.columns)\n",
    "\n",
    "px.scatter(df_scaled, x='x', y='y')"
   ]
  }
 ],
 "metadata": {
  "kernelspec": {
   "display_name": "Python 3 (ipykernel)",
   "language": "python",
   "name": "python3"
  },
  "language_info": {
   "codemirror_mode": {
    "name": "ipython",
    "version": 3
   },
   "file_extension": ".py",
   "mimetype": "text/x-python",
   "name": "python",
   "nbconvert_exporter": "python",
   "pygments_lexer": "ipython3",
   "version": "3.10.12"
  }
 },
 "nbformat": 4,
 "nbformat_minor": 5
}
