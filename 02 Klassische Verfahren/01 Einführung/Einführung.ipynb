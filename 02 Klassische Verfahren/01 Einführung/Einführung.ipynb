{
 "cells": [
  {
   "cell_type": "markdown",
   "id": "c2467027",
   "metadata": {
    "deletable": false,
    "editable": false
   },
   "source": [
    "# Einführung\n",
    "Als Clustering oder auch Clusteranalyse werden Algorithmen bezeichnet, die Daten basierend auf ihrer Ähnlichkeit untereinander in verschiedene Gruppen sortiert. Ziel dabei ist es, eine Zuordnung zu sogenannten Clustern zu finden, sodass Objekte im gleichen Cluster möglichst ähnlich sind und solche in verschiedenen Clustern möglichst unterschiedlich sind.\n",
    "\n",
    "Dafür ist lediglich eine Funktion von Nöten, die für zwei gegebene Daten einen Abstand berechnet. Lassen sich die relevanten Merkmale in einem kartesischen Koordinatensystem darstellen, genügt häufig die euklidische Distanz."
   ]
  },
  {
   "cell_type": "code",
   "execution_count": null,
   "id": "2b13261d-19bf-4fd2-9920-069df46a12df",
   "metadata": {
    "deletable": false
   },
   "outputs": [],
   "source": [
    "from tui_dsmt.clustering import draw\n",
    "from tui_dsmt.clustering.datasets import clustering_example1, clustering_example2"
   ]
  },
  {
   "cell_type": "markdown",
   "id": "0079f10f",
   "metadata": {
    "deletable": false,
    "editable": false
   },
   "source": [
    "## Beispiele\n",
    "Im folgenden Graphen finden Sie einen künstlichen Datensatz mit zwei Merkmalen `x` und `y`. Die Cluster sind leicht zu erkennen. Sie können sie durch Setzen des Hakens einfärben."
   ]
  },
  {
   "cell_type": "code",
   "execution_count": null,
   "id": "90e5362a",
   "metadata": {
    "deletable": false
   },
   "outputs": [],
   "source": [
    "draw(clustering_example1)"
   ]
  },
  {
   "cell_type": "markdown",
   "id": "a32ab31e",
   "metadata": {
    "deletable": false,
    "editable": false
   },
   "source": [
    "Es muss sich bei Clustern jedoch nicht um konvexe Mengen handeln, die sich um einen Häufungspunkt scharen. Im folgenden Beispiel werden Sie vermutlich zügig drei Cluster ausmachen können. Im weiteren Verlauf dieses Kapitels können Sie jedoch feststellen, dass diese Anordnung für eine Art von Algorithmen problematisch ist."
   ]
  },
  {
   "cell_type": "code",
   "execution_count": null,
   "id": "8bfd6367",
   "metadata": {
    "deletable": false
   },
   "outputs": [],
   "source": [
    "draw(clustering_example2)"
   ]
  }
 ],
 "metadata": {
  "kernelspec": {
   "display_name": "Python 3 (ipykernel)",
   "language": "python",
   "name": "python3"
  },
  "language_info": {
   "codemirror_mode": {
    "name": "ipython",
    "version": 3
   },
   "file_extension": ".py",
   "mimetype": "text/x-python",
   "name": "python",
   "nbconvert_exporter": "python",
   "pygments_lexer": "ipython3",
   "version": "3.10.12"
  }
 },
 "nbformat": 4,
 "nbformat_minor": 5
}
