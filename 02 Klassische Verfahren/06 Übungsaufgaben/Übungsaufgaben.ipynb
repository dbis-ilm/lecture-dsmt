{
 "cells": [
  {
   "cell_type": "markdown",
   "id": "8e4d7ac3",
   "metadata": {
    "deletable": false,
    "editable": false
   },
   "source": [
    "# Übungsaufgaben\n",
    "Für dieses Übungsblatt erhalten Sie einen Datensatz, der zu einigen Schauspielern zwei Spalten enthält:\n",
    "- `adult_ratio` gibt an, welcher prozentuale Anteil der Filme eines Schauspielers keine Jugendfreigabe erhielten.\n",
    "- `movie_vote_average` gibt die durchschnittliche Bewertung aller Werke an, an denen ein Schauspieler mitwirkte.\n",
    "\n",
    "Im Laufe des Übungsblatt stellen Sie diesen grafisch dar und wenden verschiedene Clusteralgorithmen an, um Häufungen zu finden. Beginnen Sie mit dem Import der Algorithmen und der Tests für dieses Übungsblatt."
   ]
  },
  {
   "cell_type": "code",
   "execution_count": null,
   "id": "dd4829f3",
   "metadata": {
    "deletable": false,
    "editable": false
   },
   "outputs": [],
   "source": [
    "import pandas as pd\n",
    "import plotly.express as px\n",
    "\n",
    "from sklearn.cluster import KMeans, DBSCAN\n",
    "from sklearn.preprocessing import MinMaxScaler\n",
    "from sklearn.metrics import silhouette_score\n",
    "\n",
    "from tests import *"
   ]
  },
  {
   "cell_type": "markdown",
   "id": "4b66a84f",
   "metadata": {
    "deletable": false,
    "editable": false
   },
   "source": [
    "## Aufgabe 1\n",
    "Laden Sie den Datensatz aus der Datei `clustering.csv`."
   ]
  },
  {
   "cell_type": "code",
   "execution_count": null,
   "id": "1a25c91f",
   "metadata": {
    "deletable": false,
    "tags": [
     "task-1"
    ]
   },
   "outputs": [],
   "source": [
    "df = ...\n",
    "df"
   ]
  },
  {
   "cell_type": "markdown",
   "id": "a870bf11",
   "metadata": {
    "deletable": false,
    "editable": false
   },
   "source": [
    "Übertragen Sie die Spalte `movie_vote_average` ins Intervall $[0, 1]$."
   ]
  },
  {
   "cell_type": "code",
   "execution_count": null,
   "id": "6b1a6b11",
   "metadata": {
    "deletable": false,
    "tags": [
     "task-1"
    ]
   },
   "outputs": [],
   "source": [
    "df['movie_vote_average'] = df['movie_vote_average']"
   ]
  },
  {
   "cell_type": "code",
   "execution_count": null,
   "id": "075b36aa",
   "metadata": {
    "deletable": false,
    "editable": false
   },
   "outputs": [],
   "source": [
    "aufgabe1(df)"
   ]
  },
  {
   "cell_type": "markdown",
   "id": "6f07a529",
   "metadata": {
    "deletable": false,
    "editable": false
   },
   "source": [
    "Stellen Sie den Datensatz als Streudiagramm mit Plotly dar."
   ]
  },
  {
   "cell_type": "code",
   "execution_count": null,
   "id": "16674ce1",
   "metadata": {
    "deletable": false,
    "tags": [
     "task-1"
    ]
   },
   "outputs": [],
   "source": [
    "..."
   ]
  },
  {
   "cell_type": "markdown",
   "id": "5603c816",
   "metadata": {
    "deletable": false,
    "editable": false
   },
   "source": [
    "Fallen Ihnen bereits Cluster auf?"
   ]
  },
  {
   "cell_type": "markdown",
   "id": "4fe79ca0",
   "metadata": {
    "deletable": false,
    "editable": false
   },
   "source": [
    "## Aufgabe 2\n",
    "Fügen Sie dem DataFrame eine Spalte `kmeans` hinzu und füllen Sie diese mit den Ausgaben eines k-Means-Clustering. Verwenden Sie dazu die Funktionen aus dem Paket `sklearn.cluster` und wählen Sie einen sinnvollen Wert für `k`."
   ]
  },
  {
   "cell_type": "code",
   "execution_count": null,
   "id": "c1e94c1b",
   "metadata": {
    "deletable": false,
    "tags": [
     "task-2"
    ]
   },
   "outputs": [],
   "source": [
    "df['kmeans'] = ...\n",
    "df"
   ]
  },
  {
   "cell_type": "code",
   "execution_count": null,
   "id": "ece45e89",
   "metadata": {
    "deletable": false,
    "editable": false
   },
   "outputs": [],
   "source": [
    "aufgabe2(df)"
   ]
  },
  {
   "cell_type": "code",
   "execution_count": null,
   "id": "ca6137e6",
   "metadata": {
    "deletable": false,
    "editable": false
   },
   "outputs": [],
   "source": [
    "df['kmeans'] = df['kmeans'].astype(str)\n",
    "px.scatter(df, x='adult_ratio', y='movie_vote_average', color='kmeans')"
   ]
  },
  {
   "cell_type": "markdown",
   "id": "a1bbbb5d",
   "metadata": {
    "deletable": false,
    "editable": false
   },
   "source": [
    "## Aufgabe 3\n",
    "Fügen Sie dem DataFrame eine Spalte `dbscan` hinzu und füllen Sie diese mit den Ausgaben eines DBScan-Clustering. Verwenden Sie dazu die Funktionen aus dem Paket `sklearn.cluster` und wählen Sie sinnvolle Werte für `eps` und `min_pts`."
   ]
  },
  {
   "cell_type": "code",
   "execution_count": null,
   "id": "ae3591f0",
   "metadata": {
    "deletable": false,
    "tags": [
     "task-3"
    ]
   },
   "outputs": [],
   "source": [
    "df['dbscan'] = ..."
   ]
  },
  {
   "cell_type": "code",
   "execution_count": null,
   "id": "9f573d2a",
   "metadata": {
    "deletable": false,
    "editable": false
   },
   "outputs": [],
   "source": [
    "aufgabe3(df)"
   ]
  },
  {
   "cell_type": "code",
   "execution_count": null,
   "id": "d44d1d3a",
   "metadata": {
    "deletable": false,
    "editable": false
   },
   "outputs": [],
   "source": [
    "df['dbscan'] = df['dbscan'].astype(str)\n",
    "px.scatter(df, x='adult_ratio', y='movie_vote_average', color='dbscan')"
   ]
  },
  {
   "cell_type": "markdown",
   "id": "0c52be21",
   "metadata": {
    "deletable": false,
    "editable": false
   },
   "source": [
    "## Aufgabe 4\n",
    "Berechnen Sie für die Ergebnisse beider Clustering-Algorithmen den Silhouetten-Koeffizienten."
   ]
  },
  {
   "cell_type": "code",
   "execution_count": null,
   "id": "86695c0f",
   "metadata": {
    "deletable": false,
    "tags": [
     "task-4"
    ]
   },
   "outputs": [],
   "source": [
    "kmeans_silhouette = 0\n",
    "dbscan_silhouette = 0\n",
    "\n",
    "...\n",
    "\n",
    "kmeans_silhouette, dbscan_silhouette"
   ]
  },
  {
   "cell_type": "code",
   "execution_count": null,
   "id": "dd122036",
   "metadata": {
    "deletable": false,
    "editable": false
   },
   "outputs": [],
   "source": [
    "aufgabe4(kmeans_silhouette, dbscan_silhouette)"
   ]
  },
  {
   "attachments": {
    "1.png": {
     "image/png": "[encoded data removed]"
    }
   },
   "cell_type": "markdown",
   "id": "df1f139a",
   "metadata": {
    "deletable": false,
    "editable": false
   },
   "source": [
    "## Hinweise zum Datensatz\n",
    "Ein Teil der Ihnen zur Verfügung gestellten Daten wurden mit Hilfe der TMDb API erzeugt. Die Verwendung wird weder von TMDb unterstützt noch zertifiziert.\n",
    "\n",
    "[![TMDb Logo](attachment:1.png)](https://developers.themoviedb.org/3)"
   ]
  }
 ],
 "metadata": {
  "kernelspec": {
   "display_name": "Python 3 (ipykernel)",
   "language": "python",
   "name": "python3"
  },
  "language_info": {
   "codemirror_mode": {
    "name": "ipython",
    "version": 3
   },
   "file_extension": ".py",
   "mimetype": "text/x-python",
   "name": "python",
   "nbconvert_exporter": "python",
   "pygments_lexer": "ipython3",
   "version": "3.10.12"
  }
 },
 "nbformat": 4,
 "nbformat_minor": 5
}
