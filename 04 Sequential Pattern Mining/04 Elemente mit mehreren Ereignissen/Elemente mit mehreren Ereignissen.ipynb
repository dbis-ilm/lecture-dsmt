{
 "cells": [
  {
   "cell_type": "markdown",
   "id": "0",
   "metadata": {
    "deletable": false,
    "editable": false
   },
   "source": [
    "# Elemente mit mehreren Ereignissen\n",
    "Ereignisse können auch zeitgleich auftreten und dann in Gruppen von Ereignissen geordnet werden. Wenn beispielsweise die Reihenfolge der Artikel in einem Warenkorb nicht bestimmt ist, einem Kundenkonto aber in zeitlicher Ordnung mehrere Warenkörbe zugeordnet werden können, ergeben sich auch daraus Muster."
   ]
  },
  {
   "cell_type": "code",
   "execution_count": null,
   "id": "1",
   "metadata": {
    "deletable": false
   },
   "outputs": [],
   "source": [
    "from tui_dsmt.fpm import SequentialDatabase, SequentialItemset, Itemset, NoneItemset\n",
    "from tui_dsmt.fpm import orders, gsp_nested_join_example, prefixspan_nested_projection_example"
   ]
  },
  {
   "cell_type": "markdown",
   "id": "2",
   "metadata": {
    "deletable": false,
    "editable": false
   },
   "source": [
    "## Inhaltsverzeichnis\n",
    "- [Beispiel](#Beispiel)\n",
    "- [GSP Erweiterung](#GSP-Erweiterung)\n",
    "- [PrefixSpan Erweiterung](#PrefixSpan-Erweiterung)"
   ]
  },
  {
   "cell_type": "markdown",
   "id": "3",
   "metadata": {
    "deletable": false,
    "editable": false
   },
   "source": [
    "## Beispiel\n",
    "Nachfolgend ist eine Transaktionsdatenbank aufgelistet. Die Sequenzen enthalten in zeitlicher Reihenfolge sortierte Einkäufe, die einem bestimmten Kunden zugeordnet wurden. Die Elemente der Sequenzen können dabei mehrere Items besitzen."
   ]
  },
  {
   "cell_type": "code",
   "execution_count": null,
   "id": "4",
   "metadata": {
    "deletable": false
   },
   "outputs": [],
   "source": [
    "orders"
   ]
  },
  {
   "cell_type": "markdown",
   "id": "5",
   "metadata": {
    "deletable": false,
    "editable": false
   },
   "source": [
    "Beim näheren Betrachten fällt auf, dass in zwei Fällen auf den Kauf der Kombination Pizzastein und Teigrolle auch Olivenöl gekauft wurde. Nur einmal wurde aber das Trio mit dem Pizzaschneider vor dem Olivenöl verkauft.\n",
    "\n",
    "| Subsequenz                                                                                     | Support |\n",
    "| ---------------------------------------------------------------------------------------------- | ------- |\n",
    "| $<\\!(\\text{Backofenreiniger}, \\text{Pizzastein}), (\\text{Olivenöl})\\!>                       $ | $2$     |\n",
    "| $<\\!(\\text{Backofenreiniger}, \\text{Pizzaschneider}, \\text{Pizzastein}), (\\text{Olivenöl})\\!>$ | $1$     |"
   ]
  },
  {
   "cell_type": "markdown",
   "id": "6",
   "metadata": {
    "deletable": false,
    "editable": false
   },
   "source": [
    "Nachfolgend wollen wir die beiden zur vorgestellten Algorithmen erweitern, um solche Muster auch aus Sequenzen, deren Elemente aus mehreren Ereignissen bestehen, zu extrahieren."
   ]
  },
  {
   "cell_type": "markdown",
   "id": "7",
   "metadata": {
    "deletable": false,
    "editable": false
   },
   "source": [
    "## GSP Erweiterung\n",
    "Für den GSP Algorithmus muss insbesondere der Join Schritt überarbeitet werden. Wir unterscheiden dazu zwei Fälle:\n",
    "\n",
    "#### Basisfall ($k=2$)\n",
    "Zwei häufige 1-Sequenzen $<\\!(i_1)\\!>$ und $<\\!(i_2)\\!>$ werden zu **zwei** 2-Sequenzen $<\\!(i_1), (i_2)\\!>$ und $<\\!(i_1, i_2)\\!>$ kombiniert.\n",
    "\n",
    "#### Allgemeiner Fall ($k>2$)\n",
    "Wir erzeugen zwei Teilsequenzen:\n",
    "- $\\overline{s_1}$ entspricht $s_1$ ohne das erste Ereignis.\n",
    "- $\\overline{s_2}$ entspricht $s_2$ ohne das letzte Ereignis.\n",
    "\n",
    "Wenn nun $\\overline{s_1} = \\overline{s_2}$ gilt, wird die erste Sequenz $s_1$ um das letzte Ereignis aus $s_2$ erweitert, indem\n",
    "- das letzte Ereignis aus $s_2$ Teil des letzten Elements von $s_1$ wird, **falls** die beiden letzten Ereignisse aus $s_2$ zum gleichen Element gehören.\n",
    "- das letzte Ereignis aus $s_2$ ein separates Element in der neuen Sequenz, andernfalls.\n",
    "\n",
    "#### Beispiele\n",
    "- $s_1 = <\\!(1),(2,3),(4)\\!>$ und $s_2 = <\\!(2,3),(4,5)\\!>$ $\\leadsto$ $<\\!(1),(2,3),(4,5)\\!>$\n",
    "- $s_1 = <\\!(1),(2,3),(4)\\!>$ und $s_2 = <\\!(2,3),(4),(5)\\!>$ $\\leadsto$ $<\\!(1),(2,3),(4),(5)\\!>$\n",
    "\n",
    "Eine angepasste Join Funktion könnte dann beispielsweise wie folgt aussehen:"
   ]
  },
  {
   "cell_type": "code",
   "execution_count": null,
   "id": "8",
   "metadata": {
    "deletable": false
   },
   "outputs": [],
   "source": [
    "def gsp_join(s1, s2, k):\n",
    "    # Basisfall\n",
    "    if k == 2:\n",
    "        if s1 == s2:\n",
    "            return [s1 + s2]\n",
    "        else:\n",
    "            return [s1 + s2, SequentialItemset(s1[0] + s2[0])]\n",
    "\n",
    "    # Allgemeiner Fall\n",
    "    else:\n",
    "        if len(s1[0]) == 1:\n",
    "            s1_ = s1[1:]\n",
    "        else:\n",
    "            s1_ = Itemset(s1[0][1:]) + s1[1:]\n",
    "\n",
    "        if len(s2[-1]) == 1:\n",
    "            s2_ = s2[:-1]\n",
    "        else:\n",
    "            s2_ = s2[:-1] + Itemset(s2[-1][:-1])\n",
    "\n",
    "        if s1_ == s2_:\n",
    "            if len(s2[-1]) == 2:\n",
    "                return [s1[:-1] + Itemset(s1[-1] + s2[-1][-1:])]\n",
    "            else:\n",
    "                return [s1 + s2[-1:]]\n",
    "\n",
    "    # kein Join möglich\n",
    "    return []"
   ]
  },
  {
   "cell_type": "code",
   "execution_count": null,
   "id": "9",
   "metadata": {
    "deletable": false
   },
   "outputs": [],
   "source": [
    "for tid1, s1 in gsp_nested_join_example:\n",
    "    for tid2, s2 in gsp_nested_join_example:\n",
    "        if s1 < s2:\n",
    "            print(f'{s1:<19}', f'{s2:<18}', ' -> ', gsp_join(s1, s2, k=5))"
   ]
  },
  {
   "cell_type": "markdown",
   "id": "10",
   "metadata": {
    "deletable": false,
    "editable": false
   },
   "source": [
    "Natürlich muss auch das Finden der 1-Itemsets, das Pruning und das Zählen des Supports angepasst werden."
   ]
  },
  {
   "cell_type": "markdown",
   "id": "11",
   "metadata": {
    "deletable": false,
    "editable": false
   },
   "source": [
    "Die Funktion `nested_subsets` erzeugt alle Teilmengen der Länge `k` einer Sequenz."
   ]
  },
  {
   "cell_type": "code",
   "execution_count": null,
   "id": "12",
   "metadata": {
    "deletable": false
   },
   "outputs": [],
   "source": [
    "print('Transaktion:', orders[0][1])\n",
    "print()\n",
    "\n",
    "for subset in orders[0][1].nested_subsets(k=2):\n",
    "    print(subset)"
   ]
  },
  {
   "cell_type": "markdown",
   "id": "18",
   "metadata": {
    "deletable": false,
    "editable": false
   },
   "source": [
    "## PrefixSpan Erweiterung\n",
    "Auch PrefixSpan lässt sich anpassen. Dazu muss insbesondere die Projektion der Datenbanken nach den folgenden Regeln abgeändert werden:\n",
    "- Das erste Auftauchen eines Ereignisses innerhalb eines Elements wird gezählt.\n",
    "- Ist ein Element nach dem Entfernen des Präfix nicht leer, wird das Präfix durch $\\_$ ersetzt.\n",
    "\n",
    "#### Beispiele\n",
    "- $<\\! (A), (A, B, C), (A, C), (D), (C, F) \\!> \\xrightarrow{A} <\\! (A, B, C), (A, C), (D), (C, F) \\!>$\n",
    "- $<\\! (E, F), (A, B), (D, F), (C), (B) \\!> \\xrightarrow{A} <\\! (\\_, B), (D, F), (C), (B) \\!>$\n",
    "- $<\\! (E, F), (B), (D, F), (C), (B) \\!> \\xrightarrow{A}$ *Transaktion wird entfernt*"
   ]
  },
  {
   "cell_type": "markdown",
   "id": "19",
   "metadata": {
    "deletable": false,
    "editable": false
   },
   "source": [
    "Eine angepasste Projektionsfunktion, die als Wert für entfernte Ereignisse `None` einsetzt, könnte wie folgt aussehen:"
   ]
  },
  {
   "cell_type": "code",
   "execution_count": null,
   "id": "20",
   "metadata": {
    "deletable": false
   },
   "outputs": [],
   "source": [
    "def project_transaction(transaction, prefix):\n",
    "    for item_i, item in enumerate(transaction, start=1):\n",
    "        for event_i, event in enumerate(item, start=1):\n",
    "            if event == prefix:\n",
    "                if event_i == len(item):\n",
    "                    return transaction[item_i:]\n",
    "                else:\n",
    "                    return SequentialItemset(NoneItemset + item[event_i:], *transaction[item_i:])\n",
    "\n",
    "    return None"
   ]
  },
  {
   "cell_type": "code",
   "execution_count": null,
   "id": "21",
   "metadata": {
    "deletable": false
   },
   "outputs": [],
   "source": [
    "for _, transaction in prefixspan_nested_projection_example:\n",
    "    print(f'{transaction:<37}', ' -A-> ', project_transaction(transaction, 'A'))"
   ]
  },
  {
   "cell_type": "markdown",
   "id": "22",
   "metadata": {
    "deletable": false,
    "editable": false
   },
   "source": [
    "Ein Problem ergibt sich dann, wenn Ereignisse mehrfach vorkommen."
   ]
  },
  {
   "cell_type": "code",
   "execution_count": null,
   "id": "23",
   "metadata": {
    "deletable": false
   },
   "outputs": [],
   "source": [
    "orders[0][1]"
   ]
  },
  {
   "cell_type": "markdown",
   "id": "24",
   "metadata": {
    "deletable": false,
    "editable": false
   },
   "source": [
    "Wird diese Transaktion mit dem Präfix *Backofenreiniger* projiziert, dann wird die eventuell häufig vorkommende Sequenz *<(Backofenreiniger, Pizzastein)>* nur dann gefunden, wenn auch *<(Backofenreiniger), (Backofenreiniger, Pizzastein)>* häufig ist."
   ]
  },
  {
   "cell_type": "code",
   "execution_count": null,
   "id": "25",
   "metadata": {
    "deletable": false
   },
   "outputs": [],
   "source": [
    "project_transaction(orders[0][1], 'Backofenreiniger')"
   ]
  },
  {
   "cell_type": "markdown",
   "id": "26",
   "metadata": {
    "deletable": false,
    "editable": false
   },
   "source": [
    "Erneut muss die Suche nach 1-Sequenzen sowie das Zählen des Supports angepasst werden. Aber auch in mehreren Elementen vorkommende Ereignisse muss besonders gehandhabt werden."
   ]
  }
 ],
 "metadata": {
  "kernelspec": {
   "display_name": "Python 3 (ipykernel)",
   "language": "python",
   "name": "python3"
  },
  "language_info": {
   "codemirror_mode": {
    "name": "ipython",
    "version": 3
   },
   "file_extension": ".py",
   "mimetype": "text/x-python",
   "name": "python",
   "nbconvert_exporter": "python",
   "pygments_lexer": "ipython3",
   "version": "3.12.8"
  }
 },
 "nbformat": 4,
 "nbformat_minor": 5
}
