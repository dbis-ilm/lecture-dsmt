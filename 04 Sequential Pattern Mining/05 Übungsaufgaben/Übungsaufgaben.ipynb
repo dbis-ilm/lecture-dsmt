{
 "cells": [
  {
   "cell_type": "markdown",
   "id": "0",
   "metadata": {
    "deletable": false,
    "editable": false
   },
   "source": [
    "# Übungsaufgaben\n",
    "Ein Firma bietet knapp $100$ Produkte auf ihrer Website an. Zusätzlich zur Startseite und den Produktseiten existieren einige Unterseiten, die weitere Informationen über die Firma enthalten. Zu Anfang eines Besuchs beginnt ein jeder auf der Startseite und wählt von dort einen eigenen Weg.\n",
    "\n",
    "Um die Website zu optimieren wurde nun ein Tracker integriert, der jeden einzelnen Klick aufzeichnet und einem Nutzer zuordnet. Es ergibt sich damit eine Transaktionsdatenbank, die den Verlauf aller Besuche der Firmenwebsite beinhaltet:"
   ]
  },
  {
   "cell_type": "code",
   "execution_count": null,
   "id": "1",
   "metadata": {
    "deletable": false,
    "editable": false,
    "slideshow": {
     "slide_type": ""
    },
    "tags": []
   },
   "outputs": [],
   "source": [
    "from tui_dsmt.fpm import SequentialItemset\n",
    "from tui_dsmt.fpm.datasets import load_website_tracking, load_website_tracking2\n",
    "\n",
    "website_tracking = load_website_tracking()\n",
    "website_tracking[12]"
   ]
  },
  {
   "cell_type": "markdown",
   "id": "2",
   "metadata": {
    "deletable": false,
    "editable": false,
    "slideshow": {
     "slide_type": ""
    },
    "tags": []
   },
   "source": [
    "## Aufgabe 1\n",
    "Um eine schnellere Navigation zu ermöglichen, sollen am unteren Ende der Seite weiterführende Links in Abhängigkeit der aktuellen Seite eingeblendet werden. Suchen Sie dazu alle Paare häufiger auftretender Items mit einem minimalen Support von $0.1$, indem Sie einen der in der Vorlesung vorgestellten Algorithmen implementieren."
   ]
  },
  {
   "cell_type": "code",
   "execution_count": null,
   "id": "3",
   "metadata": {
    "deletable": false,
    "editable": true,
    "slideshow": {
     "slide_type": ""
    },
    "tags": [
     "task-1"
    ]
   },
   "outputs": [],
   "source": [
    "min_supp = 0.1\n",
    "\n",
    "...\n",
    "\n",
    "itemsets2 = set((('Blog', 'Datenschutz'), ...))\n",
    "itemsets2"
   ]
  },
  {
   "cell_type": "markdown",
   "id": "6",
   "metadata": {
    "deletable": false,
    "editable": false,
    "slideshow": {
     "slide_type": ""
    },
    "tags": []
   },
   "source": [
    "## Aufgabe 2\n",
    "Von besonderem Interesse ist es außerdem, welche Seiten als Brücken gesehen werden können. Brücken sind einflussreiche Unterseiten, die häufiger als andere innerhalb von Sequenzen mit mindestens drei Items auftauchen. Sortieren Sie die Unterseiten absteigend nach der Häufigkeit ihres Auftauchens als Brücke."
   ]
  },
  {
   "cell_type": "code",
   "execution_count": null,
   "id": "7",
   "metadata": {
    "deletable": false,
    "editable": true,
    "slideshow": {
     "slide_type": ""
    },
    "tags": [
     "task-2"
    ]
   },
   "outputs": [],
   "source": [
    "bridges = [...]"
   ]
  },
  {
   "cell_type": "markdown",
   "id": "9",
   "metadata": {
    "deletable": false,
    "editable": false,
    "slideshow": {
     "slide_type": ""
    },
    "tags": []
   },
   "source": [
    "## Aufgabe 3\n",
    "Ebenfalls von Interesse sind natürlich die Seiten, mit denen Besuche der Website abgeschlossen oder abgebrochen werden (`visit_cancellations`). Untersuchen Sie Auffälligkeiten bei diesen und vergleichen Sie sie mit den Unterseiten, mit denen am häufigsten Sequenzen abgebrochen werden (`sequence_cancellations`). Gibt es eine Schnittmenge?"
   ]
  },
  {
   "cell_type": "code",
   "execution_count": null,
   "id": "10",
   "metadata": {
    "deletable": false,
    "editable": true,
    "slideshow": {
     "slide_type": ""
    },
    "tags": [
     "task-3"
    ]
   },
   "outputs": [],
   "source": [
    "visit_cancellations = [...]\n",
    "sequence_cancellations = [...]"
   ]
  },
  {
   "cell_type": "code",
   "execution_count": null,
   "id": "13",
   "metadata": {
    "deletable": false,
    "editable": false,
    "slideshow": {
     "slide_type": ""
    },
    "tags": [
     "task-3"
    ]
   },
   "outputs": [],
   "source": [
    "set(visit_cancellations) & set(sequence_cancellations)"
   ]
  },
  {
   "cell_type": "markdown",
   "id": "14",
   "metadata": {
    "deletable": false,
    "editable": false,
    "slideshow": {
     "slide_type": ""
    },
    "tags": []
   },
   "source": [
    "## Zusatzaufgabe\n",
    "Einige Besucher arbeiten exzessiv mit Tabs in ihren Browsern: Sie öffnen mehrere neue Seiten, während sie die aktuelle Seite oder die aktuelle Gruppe von Seiten anschauen."
   ]
  },
  {
   "cell_type": "code",
   "execution_count": null,
   "id": "15",
   "metadata": {
    "deletable": false,
    "editable": false,
    "slideshow": {
     "slide_type": ""
    },
    "tags": []
   },
   "outputs": [],
   "source": [
    "website_tracking2 = load_website_tracking2()\n",
    "website_tracking2[39]"
   ]
  },
  {
   "cell_type": "markdown",
   "id": "16",
   "metadata": {
    "deletable": false,
    "editable": false,
    "slideshow": {
     "slide_type": ""
    },
    "tags": []
   },
   "source": [
    "Erweitern Sie den verwendeten Algorithmus zum Suchen von häufigen Sequenzen auf Transaktionen mit mehreren Ereignissen und suchen Sie nach häufigen Mustern mit einem minimalen Support von $0.01$."
   ]
  },
  {
   "cell_type": "code",
   "execution_count": null,
   "id": "17",
   "metadata": {
    "deletable": false,
    "editable": true,
    "slideshow": {
     "slide_type": ""
    },
    "tags": [
     "task-4"
    ]
   },
   "outputs": [],
   "source": [
    "result = [((...,),)]"
   ]
  },
  {
   "cell_type": "code",
   "execution_count": null,
   "id": "21",
   "metadata": {
    "deletable": false,
    "editable": false,
    "slideshow": {
     "slide_type": ""
    },
    "tags": []
   },
   "outputs": [],
   "source": [
    "list(filter(lambda x: all(len(y) > 1 for y in x), result))"
   ]
  }
 ],
 "metadata": {
  "kernelspec": {
   "display_name": "Python 3 (ipykernel)",
   "language": "python",
   "name": "python3"
  },
  "language_info": {
   "codemirror_mode": {
    "name": "ipython",
    "version": 3
   },
   "file_extension": ".py",
   "mimetype": "text/x-python",
   "name": "python",
   "nbconvert_exporter": "python",
   "pygments_lexer": "ipython3",
   "version": "3.12.8"
  }
 },
 "nbformat": 4,
 "nbformat_minor": 5
}
