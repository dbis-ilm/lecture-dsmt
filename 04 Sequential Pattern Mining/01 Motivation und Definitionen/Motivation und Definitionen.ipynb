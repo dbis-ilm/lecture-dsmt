{
 "cells": [
  {
   "cell_type": "markdown",
   "id": "0",
   "metadata": {
    "deletable": false,
    "editable": false
   },
   "source": [
    "# Motivation und Definitionen\n",
    "Sequential Pattern Mining ist eine Data-Mining-Technik, die verwendet wird, um interessante sequenzielle Muster in Datensätzen zu entdecken. Im Gegensatz zu den zuvor gezeigten Problemen und Lösungsansätzen spielt also die Reihenfolge eine Rolle."
   ]
  },
  {
   "cell_type": "code",
   "execution_count": null,
   "id": "90711dd8-2780-4ca6-9422-371a6d4cd361",
   "metadata": {
    "deletable": false
   },
   "outputs": [],
   "source": [
    "from tui_dsmt.fpm import sequential_receipts"
   ]
  },
  {
   "cell_type": "markdown",
   "id": "1",
   "metadata": {
    "deletable": false,
    "editable": false
   },
   "source": [
    "## Inhaltsverzeichnis\n",
    "- [Anwendung: Warenkorbanalyse](#Anwendung-Warenkorbanalyse)\n",
    "- [Definitionen](#Definitionen)\n",
    "- [Trivialer Algorithmus](#Trivialer-Algorithmus)"
   ]
  },
  {
   "cell_type": "markdown",
   "id": "2",
   "metadata": {
    "deletable": false,
    "editable": false
   },
   "source": [
    "## Anwendung: Warenkorbanalyse\n",
    "Durch Self-Scanning lassen sich nicht nur Warteschlangen im Kassenbereich vermeiden, sondern auch die Reihenfolge der ausgewählten Lebensmittel minutiös nachverfolgen. Die folgenden Transaktionen könnten beispielsweise einem solchen Self-Scanning Prozess entstamment und sind daher mit fester Sortierung gegeben."
   ]
  },
  {
   "cell_type": "code",
   "execution_count": null,
   "id": "4c87eec7-da30-44b9-ab34-417220995338",
   "metadata": {
    "deletable": false
   },
   "outputs": [],
   "source": [
    "sequential_receipts"
   ]
  },
  {
   "cell_type": "markdown",
   "id": "583754f3-8efc-4637-82dd-891b34006960",
   "metadata": {
    "deletable": false,
    "editable": false
   },
   "source": [
    "Ziel ist es nun, Muster zu finden, welche die Reihenfolge der Items respektiert. Beispiele für diese sind:\n",
    "- $Brot \\rightarrow Milch$ mit den zwei Transaktionen $1$, $4$ und $5$. ($5$ gehört dazu, obwohl durch Eier unterbrochen wird.)\n",
    "- $Brot \\rightarrow Milch \\rightarrow Käse$ mit den zwei Transaktionen $1$ und $4$."
   ]
  },
  {
   "cell_type": "markdown",
   "id": "3",
   "metadata": {
    "deletable": false,
    "editable": false
   },
   "source": [
    "## Definitionen\n",
    "- Eine **diskrete Sequenz** $S$ ist eine endliche, geordnete Liste von Items $S = <i_1, i_2, \\dots, i_n>$ mit $i_j \\in I$.\n",
    "- Eine **Datenbank** $D$ besteht aus verschiedenen Sequenzen $D = \\{ S_1, S_2, \\dots, S_N \\}$.\n",
    "- Die **Länge einer Sequenz** $|S|$ ist die Anzahl der in dieser Sequenz enthaltenen Items.\n",
    "- Eine **k-Sequenz** ist eine Sequenz der Länge $k$.\n",
    "\n",
    "---\n",
    "\n",
    "- Eine **zusammenhängende Subsequenz** $R = <r_1, r_2, \\dots, r_m>$ von $S = <s_1, s_2, \\dots, s_n>$ ist eine Sequenz derart, dass $r_1 = s_j$, $r_2 = s_{j+1}$, $\\dots$, $r_m = s_{j+m-1}$ mit $1 \\leq j \\leq n - m + 1$. $R$ ist dann in $S$ enthalten oder auch $R \\subseteq S$.\n",
    "- Eine **(beliebige) Subsequenz** $R$ von $S$ bedeutet, dass alle Elemente aus $R$ in $S$ in der richtigen Reihenfolge enthalten sein müssen. Lücken zwischen den Einträgen sind im Gegensatz zu zusammenhängendenen Subsequenzen erlaubt: $r_1 = s_{a_1}$, $r_2 = s_{a_2}$, $\\dots$, $r_m = s_{a_m}$ mit $a_1 < a_2 < \\dots < a_m$\n",
    "- Ein **Präfix** der Länge $i$ einer Sequenz $S$ mit Länge $n$ ist eine zusammenhängende Subsequenz der Form $S[1:i] = <s_1, s_2, \\dots, s_i>$ mit $0 \\leq i \\leq n$.\n",
    "- Ein **Suffix** der Länge $i$ einer Sequenz $S$ mit Länge $n$ ist eine zusammenhängende Subsequenz der Form $S[i:n] = <s_{i}, s_{i+1}, \\dots, s_{n}>$ mit $1 \\leq i \\leq n+1$."
   ]
  },
  {
   "cell_type": "markdown",
   "id": "4",
   "metadata": {
    "deletable": false,
    "editable": false
   },
   "source": [
    "## Trivialer Algorithmus\n",
    "Analog zu den häufigen Itemsets lassen auch sequentielle Muster über einen Brute-Force Ansatz finden. Dafür werden wie bereits zuvor alle möglichen Muster erzeugt und deren Häufigkeit in der Datenbank festgestellt."
   ]
  },
  {
   "cell_type": "code",
   "execution_count": null,
   "id": "5",
   "metadata": {
    "deletable": false
   },
   "outputs": [],
   "source": [
    "min_supp = 2"
   ]
  },
  {
   "cell_type": "code",
   "execution_count": null,
   "id": "6",
   "metadata": {
    "deletable": false
   },
   "outputs": [],
   "source": [
    "for _, i in sequential_receipts.item_powerset:\n",
    "    support = i.count_in(sequential_receipts)\n",
    "    if support >= min_supp:\n",
    "        print(f'{support=}', ' ', i, sep='')"
   ]
  },
  {
   "cell_type": "markdown",
   "id": "7",
   "metadata": {
    "deletable": false,
    "editable": false
   },
   "source": [
    "Die Funktion `item_powerset` generiert nur Sequenzen, deren maximale Länge der maximalen Länge der in der Datenbank enthaltenen Sequenzen entspricht. Da die Reihenfolge entscheidend ist, ergibt sich die Anzahl der zu betrachtenden Sequenzen für $N=$ Anzahl der Items und $k=$ maximale Länge der Sequenzen in der Transaktionsdatenbank: $$ \\sum_{i=1}^{k} \\frac{N!}{(N-i)!} $$\n",
    "\n",
    "Im oben gezeigten Fall mit fünf verschiedenen Items und einer maximalen Sequenzlänge von vier sind das bereits $205$ Kandidaten. Dies also erneut kein Ansatz, der auf nichttriviale Transaktionsdatenbanken angewendet werden kann."
   ]
  }
 ],
 "metadata": {
  "kernelspec": {
   "display_name": "Python 3 (ipykernel)",
   "language": "python",
   "name": "python3"
  },
  "language_info": {
   "codemirror_mode": {
    "name": "ipython",
    "version": 3
   },
   "file_extension": ".py",
   "mimetype": "text/x-python",
   "name": "python",
   "nbconvert_exporter": "python",
   "pygments_lexer": "ipython3",
   "version": "3.12.8"
  }
 },
 "nbformat": 4,
 "nbformat_minor": 5
}
