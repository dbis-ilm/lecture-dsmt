{
 "cells": [
  {
   "cell_type": "markdown",
   "id": "1c175e00",
   "metadata": {
    "deletable": false,
    "editable": false
   },
   "source": [
    "# k-Means\n",
    "Der k-Means-Algorithmus ist eines der beliebtesten Verfahren zur Clusteranalyse. Es lässt sich sehr einfach implementieren und findet schnell entsprechende Clusterzentren."
   ]
  },
  {
   "cell_type": "code",
   "execution_count": null,
   "id": "311bd644-0afc-401d-9a5b-9633eaa7f40b",
   "metadata": {
    "deletable": false
   },
   "outputs": [],
   "source": [
    "import numpy as np\n",
    "\n",
    "from tui_dsmt.clustering import kmeans, animate_kmeans, interactive_kmeans\n",
    "from tui_dsmt.clustering.datasets import clustering_example1, clustering_example2"
   ]
  },
  {
   "cell_type": "markdown",
   "id": "5cb97c64",
   "metadata": {
    "deletable": false,
    "editable": false
   },
   "source": [
    "## Inhaltsverzeichnis\n",
    "- [Clustering durch Varianzminimierung](#Clustering-durch-Varianzminimierung)\n",
    "  - [Zentroide](#Zentroide)\n",
    "  - [Kompaktheit](#Kompaktheit)\n",
    "  - [Algorithmus](#Algorithmus)\n",
    "  - [Verbesserte Initialisierung](#Verbesserte-Initialisierung)\n",
    "- [k-Means](#k-Means)\n",
    "- [Erweiterte Implementierungen](#Erweiterte-Implementierungen)\n",
    "- [Probleme](#Probleme)"
   ]
  },
  {
   "cell_type": "markdown",
   "id": "e48b8f20",
   "metadata": {
    "deletable": false,
    "editable": false
   },
   "source": [
    "## Clustering durch Varianzminimierung"
   ]
  },
  {
   "cell_type": "markdown",
   "id": "ea30d344-4c7d-43a3-89fc-79df3f576531",
   "metadata": {
    "deletable": false,
    "editable": false
   },
   "source": [
    "### Zentroide\n",
    "k-Means verwendet sogenannte Zentroide, also künstliche Punkte, die als Repräsentanten für jeweils einen Cluster gelten. Das Ziel ist, eine feste Anzahl dieser Zentroide genau so zu verteilen, dass die Varianz innerhalb der Cluster möglichst gering wird. Es ist also ein Abstandsmaß $dist$ notwendig, wobei im Folgenden die euklidische Distanz zur Anwendung kommt."
   ]
  },
  {
   "cell_type": "markdown",
   "id": "a470b086-28b9-4752-b994-1b2fab98929b",
   "metadata": {
    "deletable": false,
    "editable": false
   },
   "source": [
    "### Kompaktheit\n",
    "Zur Durchführung wird ein Qualitätskriterium benötigt, das im Verlaufe des Algorithmus optimiert wird. Die **Kompaktheit** beim Clustering durch Varianzminimierung und auch beim k-Means-Algorithmus beschreibt, wie eng die Datenpunkte innerhalb jedes Clusters um dessen Mittelpunkt (Zentroid) liegen. Sie wird durch die Minimierung der Summe der quadratischen Abstände aller Punkte zu ihrem jeweiligen Centroid erreicht, was eine möglichst dichte Gruppierung der Punkte sicherstellt.\n",
    "\n",
    "Die Kompaktheit $TD^2$ für einen spezifischen Cluster $C$ kann wie folgt formuliert werden, wobei $\\overline{x}_C$ den Zentroiden des Clusters bezeichnet:\n",
    "$$\n",
    "TD^2(C) = \\sum_{p \\in C} dist(p, \\overline{x}_C)^2\n",
    "$$\n",
    "\n",
    "Die Kompaktheit eines Clusterings definiert sich dann als Summe über die Kompaktheit aller entstandener Cluster:\n",
    "$$\n",
    "TD^2 = \\sum_{i=1}^{k} TD^2(C_i)\n",
    "$$"
   ]
  },
  {
   "cell_type": "markdown",
   "id": "488f8066-2ed1-4f99-8813-2c68677ded2f",
   "metadata": {
    "deletable": false,
    "editable": false
   },
   "source": [
    "### Algorithmus\n",
    "k-Means basiert auf einem Algorithmus, der als *Clustering durch Varianzminimierung* bezeichnet wird. Der Algorithmus verläuft wie folgt:\n",
    "1. Ordne alle Punkte zufällig einem der $k$ Cluster zu. Die Anzahl $k$ muss also vorher bekannt sein. (Cluster dürfen nicht leer sein!)\n",
    "2. wiederhole bis zur Konvergenz:\n",
    "  1. Jeder Punkt wird dem Cluster zugeordnet, dessen Zentrum er am nächsten liegt.\n",
    "  2. Jedes Clusterzentrum wird als Mittelpunkt aller zugehörigen Punkte neu bestimmt."
   ]
  },
  {
   "cell_type": "markdown",
   "id": "6355ab1c-e979-429c-a9b6-27a6a3510d47",
   "metadata": {
    "deletable": false,
    "editable": false
   },
   "source": [
    "Zuerst implementieren wir eine Hilfsfunktion, die Zentroide auf Basis der ihnen zugeordneten Punkte berechnet."
   ]
  },
  {
   "cell_type": "code",
   "execution_count": null,
   "id": "c79b5daa-4f37-481d-bdf7-4be0d42f5ca9",
   "metadata": {
    "deletable": false
   },
   "outputs": [],
   "source": [
    "def calculate_centroids(xs, ys, clusters, k):\n",
    "    # Alle Punkte und ihre jeweilige Clusterzuordnung\n",
    "    # werden verwendet, um eine Summe über die x- und\n",
    "    # y-Koordinaten zu bilden und die Anzahl der Punkte\n",
    "    # pro Cluster zu bestimmen.\n",
    "    centroids_x_sum = np.zeros(k)\n",
    "    centroids_y_sum = np.zeros(k)\n",
    "    centroids_len = np.zeros(k)\n",
    "\n",
    "    for x, y, c in zip(xs, ys, clusters):\n",
    "        centroids_x_sum[c] += x\n",
    "        centroids_y_sum[c] += y\n",
    "        centroids_len[c] += 1\n",
    "\n",
    "    # Clustermittelpunkte, denen keine Punkte zugeordnet\n",
    "    # wurden, werden zufällig verteilt, um leere Cluster\n",
    "    # zu vermeiden.\n",
    "    for i in range(len(centroids_len)):\n",
    "        if centroids_len[i] == 0:\n",
    "            random_index = np.random.randint(0, len(xs))\n",
    "            centroids_x_sum[i] = xs[random_index]\n",
    "            centroids_y_sum[i] = ys[random_index]\n",
    "            centroids_len[i] = 1\n",
    "\n",
    "    # Der Durchschschnitt der Punkte pro Cluster bildet\n",
    "    # die Zentroide.\n",
    "    return centroids_x_sum / centroids_len, centroids_y_sum / centroids_len"
   ]
  },
  {
   "cell_type": "markdown",
   "id": "12500f68-729d-4dd9-b19b-d066fafd3f92",
   "metadata": {
    "deletable": false,
    "editable": false
   },
   "source": [
    "Die folgende Funktion arbeitet als Generator und gibt immer wieder neue Clusterzentren zurück, bis sie nicht mehr aufgerufen wird. Die Prüfung des Abbruchkriteriums fällt damit in die Verantwortung des aufrufenden Programmbestandteils."
   ]
  },
  {
   "cell_type": "code",
   "execution_count": null,
   "id": "65fdd0e0",
   "metadata": {
    "deletable": false
   },
   "outputs": [],
   "source": [
    "def cdvm(xs, ys, k):\n",
    "    # Allen Punkten wird zufällig ein Cluster zugeordnet.\n",
    "    clusters = np.concatenate((\n",
    "        np.arange(0, k),\n",
    "        np.random.randint(0, k, size=len(xs) - k)\n",
    "    ))\n",
    "    np.random.shuffle(clusters)\n",
    "\n",
    "    # Die Clusterzentren der aktuellen Konfiguration werden bestimmt.\n",
    "    centroids_x, centroids_y = calculate_centroids(xs, ys, clusters, k)\n",
    "    yield centroids_x, centroids_y\n",
    "\n",
    "    # Die Clusterzentren werden wiederholt neu bestimmt.\n",
    "    while True:\n",
    "        # Die Clusterzugehörigkeit wird für alle Punkte neu bestimmt.\n",
    "        for i, (x, y) in enumerate(zip(xs, ys)):\n",
    "            # Dazu wird die Distanz zu jedem Clustermittelpunkt berechnet.\n",
    "            distances = np.sqrt((centroids_x - x) ** 2 + (centroids_y - y) ** 2)\n",
    "\n",
    "            # Der Cluster des Punktes wird auf den nächstgelegenen\n",
    "            # Zentroiden gesetzt.\n",
    "            closest_centroid_index = distances.argmin()\n",
    "            clusters[i] = closest_centroid_index\n",
    "\n",
    "        # Die Zentroide werden neu bestimmt.\n",
    "        centroids_x, centroids_y = calculate_centroids(xs, ys, clusters, k)\n",
    "        yield centroids_x, centroids_y"
   ]
  },
  {
   "cell_type": "markdown",
   "id": "02cc46c3",
   "metadata": {
    "deletable": false,
    "editable": false
   },
   "source": [
    "Der implementierte Algorithmus kann nun auf den Datensatz angewendet werden. Clustering durch Varianzminimierung ist stark von der zufälligen Initialisierung abhängig. Führen Sie die Zelle mehrfach aus und beobachten Sie die Entwicklung basierend auf den Zentroiden im ersten Frame."
   ]
  },
  {
   "cell_type": "code",
   "execution_count": null,
   "id": "de55333b-a967-459d-925d-8f12a82986ad",
   "metadata": {
    "deletable": false
   },
   "outputs": [],
   "source": [
    "animate_kmeans(cdvm, clustering_example1, k=15)"
   ]
  },
  {
   "cell_type": "markdown",
   "id": "5ca24f17-ab69-4fec-b2cb-4b5c07de46e2",
   "metadata": {
    "deletable": false,
    "editable": false
   },
   "source": [
    "### Verbesserte Initialisierung\n",
    "Die Zentroide befinden sich auf Grund der zufälligen Zuweisung der Punkte und Bilden des Durchschnitts zu Beginn des Algorithmus überwiegend in der *Mitte* des Datensatzes und bleiben gegebenenfalls im weiteren Verlauf auch dort \"gefangen\". Eine einfache Alternative zur Initialisierung besteht in der Zuordnung der Zentroide zu einzelnen Punkten. Dadurch ist die Wahrscheinlichkeit höher, dass einzelne Zentroide zum Start des Algorithmus in äußere Bereichen gelegt werden."
   ]
  },
  {
   "cell_type": "code",
   "execution_count": null,
   "id": "920bf1fc-2ea7-4343-bd2d-be71ade33eae",
   "metadata": {
    "deletable": false
   },
   "outputs": [],
   "source": [
    "def cdvm2(xs, ys, k):\n",
    "    # Die Zentroide werden zufällig aus der Menge der\n",
    "    # Punkte ausgewählt.\n",
    "    random_indices = np.random.randint(0, len(xs), k)\n",
    "    centroids_x, centroids_y = xs[random_indices], ys[random_indices]\n",
    "    yield centroids_x, centroids_y\n",
    "\n",
    "    # Die Clusterzentren werden wiederholt neu bestimmt.\n",
    "    clusters = np.zeros(len(xs), dtype=int)\n",
    "\n",
    "    while True:\n",
    "        # Die Clusterzugehörigkeit wird für alle Punkte neu bestimmt.\n",
    "        for i, (x, y) in enumerate(zip(xs, ys)):\n",
    "            # Dazu wird die Distanz zu jedem Clustermittelpunkt berechnet.\n",
    "            distances = np.sqrt((centroids_x - x) ** 2 + (centroids_y - y) ** 2)\n",
    "\n",
    "            # Der Cluster des Punktes wird auf den nächstgelegenen\n",
    "            # Zentroiden gesetzt.\n",
    "            closest_centroid_index = distances.argmin()\n",
    "            clusters[i] = closest_centroid_index\n",
    "\n",
    "        # Die Zentroide werden neu bestimmt.\n",
    "        centroids_x, centroids_y = calculate_centroids(xs, ys, clusters, k)\n",
    "        yield centroids_x, centroids_y"
   ]
  },
  {
   "cell_type": "markdown",
   "id": "1842ad36-0a8d-4d6c-aaae-515f77ad8e4a",
   "metadata": {
    "deletable": false,
    "editable": false
   },
   "source": [
    "Führen Sie auch diesen Algorithmus mehrfach aus und beobachten Sie die Auswirkungen der geänderten Initialisierung."
   ]
  },
  {
   "cell_type": "code",
   "execution_count": null,
   "id": "2561e843-077a-463c-8be8-ed688f53271e",
   "metadata": {
    "deletable": false
   },
   "outputs": [],
   "source": [
    "animate_kmeans(cdvm2, clustering_example1, k=15)"
   ]
  },
  {
   "cell_type": "markdown",
   "id": "75d824fa-03cf-4669-86ca-1aa2b0e126a2",
   "metadata": {
    "deletable": false,
    "editable": false
   },
   "source": [
    "## k-Means\n",
    "k-Means ist eine Variante des Basisalgorithmus, bei der die Zentroide jedes Mal direkt aktualisiert werden, wenn ein Punkt in einen anderen Cluster wechselt. Um nicht jedes Mal alle Cluster neu zu berechnen, werden nur die beiden Zentroide des Clusters $C_1$, der einen Punkt abgibt, und $C_2$, der einen Punkt hinzugewinnt, aktualisiert. Die neuen Zentroide der veränderten Cluster $C_1^,$ und $C_2^,$ ergeben sich dann wie folgt:\n",
    "\n",
    "$$\n",
    "\\overline{x}_j(C_1^,) = \\frac{1}{n_{C_1}-1} * (n_{C_1} * \\overline{x}_j(C_1) - x_j^p)\n",
    "$$\n",
    "\n",
    "$$\n",
    "\\overline{x}_j(C_2^,) = \\frac{1}{n_{C_1}+1} * (n_{C_2} * \\overline{x}_j(C_2) + x_j^p)\n",
    "$$\n",
    "\n",
    "$n_{C_i}$ bezeichnet dabei die Anzahl der Punkte, die sich im Cluster $C_i$ befindet."
   ]
  },
  {
   "cell_type": "markdown",
   "id": "6d6a0531-491c-490b-9dea-54911443ca24",
   "metadata": {
    "deletable": false,
    "editable": false
   },
   "source": [
    "Die Anpassung kann zum Beispiel wie folgt in unseren Basisalgorithmus eingebracht werden."
   ]
  },
  {
   "cell_type": "code",
   "execution_count": null,
   "id": "0c96b1e1-d2c6-4b8f-8f26-5b70c30189bd",
   "metadata": {
    "deletable": false
   },
   "outputs": [],
   "source": [
    "def kmeans(xs, ys, k):\n",
    "    # Allen Punkten wird zufällig ein Cluster zugeordnet.\n",
    "    clusters = np.concatenate((\n",
    "        np.arange(0, k),\n",
    "        np.random.randint(0, k, size=len(xs) - k)\n",
    "    ))\n",
    "    np.random.shuffle(clusters)\n",
    "\n",
    "    # Die Clusterzentren der aktuellen Konfiguration werden bestimmt.\n",
    "    centroids_x, centroids_y = calculate_centroids(xs, ys, clusters, k)\n",
    "    yield centroids_x, centroids_y\n",
    "\n",
    "    # Die Clusterzentren werden wiederholt neu bestimmt.\n",
    "    while True:\n",
    "        # Die Clusterzugehörigkeit wird für alle Punkte neu bestimmt.\n",
    "        for i, (x, y) in enumerate(zip(xs, ys)):\n",
    "            # Dazu wird die Distanz zu jedem Clustermittelpunkt berechnet.\n",
    "            distances = np.sqrt((centroids_x - x) ** 2 + (centroids_y - y) ** 2)\n",
    "\n",
    "            old_cluster = clusters[i]\n",
    "            new_cluster = distances.argmin()\n",
    "\n",
    "            # Wenn sich die Clusterzuordnung eines Punktes verändert,\n",
    "            # werden die Zentroide sofort neu bestimmt.\n",
    "            if old_cluster != new_cluster:\n",
    "                n_old_cluster = np.sum(clusters == old_cluster)\n",
    "                centroids_x[old_cluster] = 1 / (n_old_cluster - 1) * (n_old_cluster * centroids_x[old_cluster] - x)\n",
    "                centroids_y[old_cluster] = 1 / (n_old_cluster - 1) * (n_old_cluster * centroids_y[old_cluster] - y)\n",
    "\n",
    "                n_new_cluster = np.sum(clusters == new_cluster)\n",
    "                centroids_x[new_cluster] = 1 / (n_new_cluster + 1) * (n_new_cluster * centroids_x[new_cluster] + x)\n",
    "                centroids_y[new_cluster] = 1 / (n_new_cluster + 1) * (n_new_cluster * centroids_y[new_cluster] + y)\n",
    "\n",
    "                clusters[i] = new_cluster\n",
    "\n",
    "        # Die Zentroide werden erst nach der Iteration über alle Punkte\n",
    "        # zurückgegeben, um nicht zu viele Bilder zu erzeugen.\n",
    "        yield centroids_x, centroids_y"
   ]
  },
  {
   "cell_type": "markdown",
   "id": "7f4aed86-9e3b-46ac-8fea-949d343eb7e8",
   "metadata": {
    "deletable": false,
    "editable": false
   },
   "source": [
    "Auch diesen Algorithmus können Sie bei der Arbeit betrachten."
   ]
  },
  {
   "cell_type": "code",
   "execution_count": null,
   "id": "d1222992-2d39-4f10-b4cd-bae81c1e7207",
   "metadata": {
    "deletable": false
   },
   "outputs": [],
   "source": [
    "animate_kmeans(kmeans, clustering_example1, k=15)"
   ]
  },
  {
   "cell_type": "markdown",
   "id": "a15cb73a",
   "metadata": {
    "deletable": false,
    "editable": false
   },
   "source": [
    "## Erweiterte Implementierungen\n",
    "Wie Sie gesehen haben, hängt der Algorithmus von der Initialisierung des Zufallszahlengenerators ab. Sie können daher beobachten, dass einige der Häufungen im äußeren Bereich aufgeteilt werden, während sich übergreifende Cluster in der Mitte bilden. Es kann sich daher lohnen, die Methode mehrfach auszuführen und das beste Ergebnis auszuwählen. Eine fertige Implementierung, die den k-Means-Algorithmus mehrfach ausführt und weitere Verbesserungen enthält, entstammt dem Paket `sklearn`.\n",
    "\n",
    "Initialisieren Sie dazu ein Objekt der Klasse `KMeans` und übergeben Sie dem Parameter die Anzahl der Clusterzentren. Rufen Sie anschließend `fit_predict` mit einem DataFrame auf, das die Angaben zu den entsprechenden Dimensionen enthält. Zurückgegeben wird ein Array aus Clusterindizes."
   ]
  },
  {
   "cell_type": "code",
   "execution_count": null,
   "id": "3d7780d4",
   "metadata": {
    "deletable": false
   },
   "outputs": [],
   "source": [
    "from sklearn.cluster import KMeans\n",
    "\n",
    "k = 15\n",
    "KMeans(k).fit_predict(clustering_example1[['x', 'y']])"
   ]
  },
  {
   "cell_type": "markdown",
   "id": "92a90239-7ab1-4993-8ccf-e01db74e7fb9",
   "metadata": {
    "deletable": false,
    "editable": false
   },
   "source": [
    "In der nachfolgenden Zelle haben Sie die Möglichkeit mit dem Parameter $k$ zu experimentieren."
   ]
  },
  {
   "cell_type": "code",
   "execution_count": null,
   "id": "81df2281-5342-47f6-8169-2d8ebc1d6759",
   "metadata": {
    "deletable": false
   },
   "outputs": [],
   "source": [
    "interactive_kmeans(clustering_example1)"
   ]
  },
  {
   "cell_type": "markdown",
   "id": "8a551962",
   "metadata": {
    "deletable": false,
    "editable": false
   },
   "source": [
    "## Probleme\n",
    "Der k-Means Algorithmus eignet sich jedoch nicht für alle Daten. Mengen, die nicht konvex sind, können beispielsweise nicht korrekt in Cluster eingeteilt werden. Die ineinandergreifenden Spiralen demonstrieren anschaulich die Grenzen des Algorithmus."
   ]
  },
  {
   "cell_type": "code",
   "execution_count": null,
   "id": "db218558-92bd-4e2b-9a72-fabbbc13a96e",
   "metadata": {
    "deletable": false
   },
   "outputs": [],
   "source": [
    "animate_kmeans(kmeans, clustering_example2, k=3)"
   ]
  }
 ],
 "metadata": {
  "kernelspec": {
   "display_name": "Python 3 (ipykernel)",
   "language": "python",
   "name": "python3"
  },
  "language_info": {
   "codemirror_mode": {
    "name": "ipython",
    "version": 3
   },
   "file_extension": ".py",
   "mimetype": "text/x-python",
   "name": "python",
   "nbconvert_exporter": "python",
   "pygments_lexer": "ipython3",
   "version": "3.11.10"
  }
 },
 "nbformat": 4,
 "nbformat_minor": 5
}
