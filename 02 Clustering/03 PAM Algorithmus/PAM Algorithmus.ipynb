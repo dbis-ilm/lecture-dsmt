{
 "cells": [
  {
   "cell_type": "markdown",
   "id": "0",
   "metadata": {
    "deletable": false,
    "editable": false
   },
   "source": [
    "# PAM Algorithmus\n",
    "Der PAM-Algorithmus (Partitioning Around Medoids) ist ein Clustering-Algorithmus, der iterativ Medoide auswählt, um Cluster zu bilden."
   ]
  },
  {
   "cell_type": "code",
   "execution_count": null,
   "id": "1",
   "metadata": {
    "deletable": false
   },
   "outputs": [],
   "source": [
    "import random\n",
    "import math\n",
    "\n",
    "import plotly.express as px\n",
    "\n",
    "from tui_dsmt.clustering import PAM\n",
    "from tui_dsmt.clustering.datasets import clustering_example4"
   ]
  },
  {
   "cell_type": "markdown",
   "id": "2",
   "metadata": {
    "deletable": false,
    "editable": false
   },
   "source": [
    "## Inhaltsverzeichnis\n",
    "- [Voraussetzungen](#Voraussetzungen)\n",
    "  - [Definition: Medoid](#Definition-Medoid)\n",
    "  - [Abstandsmaß](#Abstandsmaß)\n",
    "  - [Kompaktheit](#Kompaktheit)\n",
    "- [Algorithmus](#Algorithmus)\n",
    "- [Implementierung in scikit-learn](#Implementierung-in-scikit-learn)\n",
    "- [Zusammenfassung](#Zusammenfassung)"
   ]
  },
  {
   "cell_type": "markdown",
   "id": "3",
   "metadata": {
    "deletable": false,
    "editable": false
   },
   "source": [
    "## Voraussetzungen\n",
    "### Definition: Medoid\n",
    "Ein Medoid ist ein Punkt, der einen Cluster repräsentiert. Im Gegensatz zum Zentroiden ist der Medoid kein künstlicher Punkt, sondern tatsächlich ein Objekt des Datensatzes.\n",
    "\n",
    "### Abstandsmaß\n",
    "Als Abstandsmaß kommt in diesem Notebook erneut der euklidische Abstand zum Einsatz:"
   ]
  },
  {
   "cell_type": "code",
   "execution_count": null,
   "id": "4",
   "metadata": {
    "deletable": false
   },
   "outputs": [],
   "source": [
    "def dist(o1, o2):\n",
    "    return math.sqrt(sum((c1 - c2) ** 2 for c1, c2 in zip(o1, o2)))"
   ]
  },
  {
   "cell_type": "markdown",
   "id": "5",
   "metadata": {
    "deletable": false,
    "editable": false
   },
   "source": [
    "### Kompaktheit\n",
    "Die Kompaktheit für einen spezifischen Cluster $C$ definiert sich wie folgt: $$ TD(C) = \\sum_{p \\in C} dist(p, m_c) $$\n",
    "\n",
    "Die Kompaktheit für das gesamte Clustering wird dagegen als Summe der Kompaktheit aller Cluster ausgedrückt: $$ TD = \\sum_{i=1}^{k} TD(C_i) $$"
   ]
  },
  {
   "cell_type": "markdown",
   "id": "6",
   "metadata": {
    "deletable": false,
    "editable": false
   },
   "source": [
    "Wir verwenden an dieser Stelle die Funktion `pam_td`. Sie ordnet jedes Objekt dem nächstgelegenen Medoiden zu und berechnet parallel die Kompaktheit für das Clustering."
   ]
  },
  {
   "cell_type": "code",
   "execution_count": null,
   "id": "7",
   "metadata": {
    "deletable": false
   },
   "outputs": [],
   "source": [
    "def pam_td(dataset, medoids):\n",
    "    clusters = [\n",
    "        min(\n",
    "            (i for i in range(len(medoids))),\n",
    "            key=lambda i: dist(o, medoids[i])\n",
    "        )\n",
    "        for o in dataset\n",
    "    ]\n",
    "\n",
    "    td = sum(dist(o, medoids[i]) for o, i in zip(dataset, clusters))\n",
    "\n",
    "    return clusters, td"
   ]
  },
  {
   "cell_type": "markdown",
   "id": "8",
   "metadata": {
    "deletable": false,
    "editable": false
   },
   "source": [
    "## Algorithmus\n",
    "Beim PAM-Algorithmus handelt es sich um einen iterativen Algorithmus, der schrittweise versucht die Rolle eines Medoiden einem anderen Punkt des Datensatzes zuzuweisen, um die Kompaktheit des Clusterings zu senken.\n",
    "\n",
    "Zuerst werden nun initiale Medoiden zufällig bestimmt, z.B. durch Sampling aus dem gesamten Datensatz. Ihre Anzahl entspricht dabei der Anzahl der gewünschten Cluster. In jedem Durchlauf werden nun die folgenden Schritte wiederholt, bis keine Verringerung der Kompaktheit mehr möglich ist:\n",
    "- Für alle Paare bestehend aus einem Medoiden $M$ und einem Nicht-Medoiden $N$ wird die zu erwartende Änderung der Kompaktheit berechnet.\n",
    "- Es wird das Paar mit der maximalen Reduktion der Kompaktheit ausgewählt.\n",
    "- Verbessert die maximale Reduktion das Ergebnis, d.h. die Kompaktheit sinkt, wird der entsprechende Medoid mit dem Nicht Medoiden vertauscht und mit der nächsten Iteration fortgefahren."
   ]
  },
  {
   "cell_type": "code",
   "execution_count": null,
   "id": "9",
   "metadata": {
    "deletable": false
   },
   "outputs": [],
   "source": [
    "def pam(dataset, k):\n",
    "    # Die Medoide werden zufällig aus dem Datensatz ausgewählt.\n",
    "    medoids = random.sample(dataset, k=k)\n",
    "\n",
    "    # Solange eine Verringerung von TD im letzten Durchlauf\n",
    "    # erreicht wurde ...\n",
    "    delta_TD = -math.inf\n",
    "    while delta_TD < 0:\n",
    "        # Zur Berechnung der Veränderung der Kompaktheit muss\n",
    "        # zuerst die Kompaktheit bestimmt werden.\n",
    "        _, TD = pam_td(dataset, medoids)\n",
    "\n",
    "        # Jedes Paar aus Medoid und Nicht-Medoid soll\n",
    "        # betrachtet werden, um den vielversprechendsten\n",
    "        # Tausch bezüglich der Verringerung der\n",
    "        # Kompaktheit zu finden.\n",
    "        best_pair, delta_TD = None, math.inf\n",
    "\n",
    "        for i, M in enumerate(medoids):\n",
    "            for N in dataset:\n",
    "                if M == N:\n",
    "                    continue\n",
    "\n",
    "                # Vertauschen\n",
    "                medoids[i] = N\n",
    "\n",
    "                # neuen TD-Wert unter Annahme des Tauschs\n",
    "                # berechnen\n",
    "                _, TD_MN = pam_td(dataset, medoids)\n",
    "                if delta_TD > TD_MN - TD:\n",
    "                    best_pair = (i, N)\n",
    "                    delta_TD = TD_MN - TD\n",
    "\n",
    "                # Zurücktauschen\n",
    "                medoids[i] = M\n",
    "\n",
    "        # Tausch des besten Paares durchführen\n",
    "        if delta_TD < 0:\n",
    "            i, N = best_pair\n",
    "            medoids[i] = N\n",
    "\n",
    "    return medoids"
   ]
  },
  {
   "cell_type": "markdown",
   "id": "10",
   "metadata": {
    "deletable": false,
    "editable": false
   },
   "source": [
    "Das Ergebnis lässt sich am Beispieldatensatz veranschaulichen. Bitte beachten Sie, dass die x- und y-Achsen möglicherweise **nicht** gleich skaliert sind!"
   ]
  },
  {
   "cell_type": "code",
   "execution_count": null,
   "id": "11",
   "metadata": {
    "deletable": false
   },
   "outputs": [],
   "source": [
    "dataset = list(zip(clustering_example4['x'], clustering_example4['y']))\n",
    "medoids = pam(dataset, 3)\n",
    "clusters, _ = pam_td(dataset, medoids)\n",
    "\n",
    "px.scatter(clustering_example4, x='x', y='y',\n",
    "           color=['M' if dataset[i] in medoids else str(c) for i, c in enumerate(clusters)])"
   ]
  },
  {
   "cell_type": "markdown",
   "id": "12",
   "metadata": {
    "deletable": false,
    "editable": false
   },
   "source": [
    "Auch diesen Algorithmus können Sie schrittweise bei der Arbeit verfolgen:"
   ]
  },
  {
   "cell_type": "code",
   "execution_count": null,
   "id": "13",
   "metadata": {
    "deletable": false
   },
   "outputs": [],
   "source": [
    "PAM(dataset, k=3)"
   ]
  },
  {
   "cell_type": "markdown",
   "id": "14",
   "metadata": {
    "deletable": false,
    "editable": false
   },
   "source": [
    "## Implementierung in scikit-learn\n",
    "In `scikit-learn` direkt existiert keine Implementierung des PAM-Algorithmus. Sie ist dagegen in der Erweiterung `scikit-learn-extra` enthalten und wird analog zu k-Means angewendet:"
   ]
  },
  {
   "cell_type": "code",
   "execution_count": null,
   "id": "15",
   "metadata": {
    "deletable": false
   },
   "outputs": [],
   "source": [
    "from sklearn_extra.cluster import KMedoids\n",
    "\n",
    "KMedoids(3, method='pam').fit_predict(clustering_example4[['x', 'y']])"
   ]
  },
  {
   "cell_type": "markdown",
   "id": "16",
   "metadata": {
    "deletable": false,
    "editable": false
   },
   "source": [
    "## Zusammenfassung\n",
    "Der PAM-Algorithmus findet Medoide, also Stellvertreter eines Clusters, die tatsächlich Teil des Datensatzes sind. Durch die häufigen Vertauschungsoperationen mit anschließender Prüfung der Kompaktheit besitzt der Algorithmus jedoch eine hohe Laufzeit."
   ]
  }
 ],
 "metadata": {
  "kernelspec": {
   "display_name": "Python 3 (ipykernel)",
   "language": "python",
   "name": "python3"
  },
  "language_info": {
   "codemirror_mode": {
    "name": "ipython",
    "version": 3
   },
   "file_extension": ".py",
   "mimetype": "text/x-python",
   "name": "python",
   "nbconvert_exporter": "python",
   "pygments_lexer": "ipython3",
   "version": "3.10.12"
  }
 },
 "nbformat": 4,
 "nbformat_minor": 5
}
