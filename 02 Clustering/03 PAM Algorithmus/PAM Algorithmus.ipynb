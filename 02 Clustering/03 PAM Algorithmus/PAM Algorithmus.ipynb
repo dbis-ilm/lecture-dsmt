{
 "cells": [
  {
   "cell_type": "markdown",
   "id": "0b374505-2bef-42a9-b634-2a3f4387b360",
   "metadata": {
    "deletable": false,
    "editable": false
   },
   "source": [
    "# PAM Algorithmus\n",
    "Der PAM-Algorithmus (Partitioning Around Medoids) ist ein Clustering-Algorithmus, der iterativ Medoide auswählt, um Cluster zu bilden."
   ]
  },
  {
   "cell_type": "code",
   "execution_count": null,
   "id": "c884a1c3-1211-469b-85e5-c3844a53ff37",
   "metadata": {
    "deletable": false
   },
   "outputs": [],
   "source": [
    "import random\n",
    "import math\n",
    "\n",
    "import plotly.express as px\n",
    "\n",
    "from tui_dsmt.clustering import PAM\n",
    "from tui_dsmt.clustering.datasets import clustering_example4"
   ]
  },
  {
   "cell_type": "markdown",
   "id": "49cdf1e4-4b73-48ea-905a-3e4dd26c6a2c",
   "metadata": {
    "deletable": false,
    "editable": false
   },
   "source": [
    "## Inhaltsverzeichnis\n",
    "- [Voraussetzungen](#Voraussetzungen)\n",
    "  - [Definition: Medoid](#Definition-Medoid)\n",
    "  - [Abstandsmaß](#Abstandsmaß)\n",
    "  - [Kompaktheit](#Kompaktheit)\n",
    "- [Algorithmus](#Algorithmus)\n",
    "- [Implementierung in scikit-learn](#Implementierung-in-scikit-learn)\n",
    "- [Zusammenfassung](#Zusammenfassung)"
   ]
  },
  {
   "cell_type": "markdown",
   "id": "5e8a61af-c364-4d40-bc2d-388b6441a805",
   "metadata": {
    "deletable": false,
    "editable": false
   },
   "source": [
    "## Voraussetzungen\n",
    "### Definition: Medoid\n",
    "Ein Medoid ist ein Punkt, der einen Cluster repräsentiert. Im Gegensatz zum Zentroiden ist der Medoid kein künstlicher Punkt, sondern tatsächlich ein Objekt des Datensatzes.\n",
    "\n",
    "### Abstandsmaß\n",
    "Als Abstandsmaß kommt in diesem Notebook erneut der euklidische Abstand zum Einsatz:"
   ]
  },
  {
   "cell_type": "code",
   "execution_count": null,
   "id": "4b1821e9-c649-45c4-8fc2-b9c81d223112",
   "metadata": {
    "deletable": false
   },
   "outputs": [],
   "source": [
    "def dist(o1, o2):\n",
    "    return math.sqrt(sum((c1 - c2) ** 2 for c1, c2 in zip(o1, o2)))"
   ]
  },
  {
   "cell_type": "markdown",
   "id": "a42efbe2-0f39-46e9-8562-2b90477a66e5",
   "metadata": {
    "deletable": false,
    "editable": false
   },
   "source": [
    "### Kompaktheit\n",
    "Die Kompaktheit für einen spezifischen Cluster $C$ definiert sich wie folgt: $$ TD(C) = \\sum_{p \\in C} dist(p, m_c) $$\n",
    "\n",
    "Die Kompaktheit für das gesamte Clustering wird dagegen als Summe der Kompaktheit aller Cluster ausgedrückt: $$ TD = \\sum_{i=1}^{k} TD(C_i) $$"
   ]
  },
  {
   "cell_type": "markdown",
   "id": "c3b55a49-cfe8-4fc7-8ace-68168ecb9cd9",
   "metadata": {
    "deletable": false,
    "editable": false
   },
   "source": [
    "Wir verwenden an dieser Stelle die Funktion `pam_td`. Sie ordnet jedes Objekt dem nächstgelegenen Medoiden zu und berechnet parallel die Kompaktheit für das Clustering."
   ]
  },
  {
   "cell_type": "code",
   "execution_count": null,
   "id": "210e3334-d547-483e-8180-27178b78911b",
   "metadata": {
    "deletable": false
   },
   "outputs": [],
   "source": [
    "def pam_td(dataset, medoids):\n",
    "    clusters = [\n",
    "        min(\n",
    "            (i for i in range(len(medoids))),\n",
    "            key=lambda i: dist(o, medoids[i])\n",
    "        )\n",
    "        for o in dataset\n",
    "    ]\n",
    "\n",
    "    td = sum(dist(o, medoids[i]) for o, i in zip(dataset, clusters))\n",
    "\n",
    "    return clusters, td"
   ]
  },
  {
   "cell_type": "markdown",
   "id": "1e937734-fec7-4c0b-87a4-0b9e960b7bda",
   "metadata": {
    "deletable": false,
    "editable": false
   },
   "source": [
    "## Algorithmus\n",
    "Beim PAM-Algorithmus handelt es sich um einen iterativen Algorithmus, der schrittweise versucht die Rolle eines Medoiden einem anderen Punkt des Datensatzes zuzuweisen, um die Kompaktheit des Clusterings zu senken.\n",
    "\n",
    "Zuerst werden nun initiale Medoiden zufällig bestimmt, z.B. durch Sampling aus dem gesamten Datensatz. Ihre Anzahl entspricht dabei der Anzahl der gewünschten Cluster. In jedem Durchlauf werden nun die folgenden Schritte wiederholt, bis keine Verringerung der Kompaktheit mehr möglich ist:\n",
    "- Für alle Paare bestehend aus einem Medoiden $M$ und einem Nicht-Medoiden $N$ wird die zu erwartende Änderung der Kompaktheit berechnet.\n",
    "- Es wird das Paar mit der maximalen Reduktion der Kompaktheit ausgewählt.\n",
    "- Verbessert die maximale Reduktion das Ergebnis, d.h. die Kompaktheit sinkt, wird der entsprechende Medoid mit dem Nicht Medoiden vertauscht und mit der nächsten Iteration fortgefahren."
   ]
  },
  {
   "cell_type": "code",
   "execution_count": null,
   "id": "5bcf6996-f807-410e-bceb-efac1164532a",
   "metadata": {
    "deletable": false
   },
   "outputs": [],
   "source": [
    "def pam(dataset, k):\n",
    "    # Die Medoide werden zufällig aus dem Datensatz ausgewählt.\n",
    "    medoids = random.sample(dataset, k=3)\n",
    "\n",
    "    # Solange eine Verringerung von TD im letzten Durchlauf\n",
    "    # erreicht wurde ...\n",
    "    delta_TD = -math.inf\n",
    "    while delta_TD < 0:\n",
    "        # Zur Berechnung der Veränderung der Kompaktheit muss\n",
    "        # zuerst die Kompaktheit bestimmt werden.\n",
    "        _, TD = pam_td(dataset, medoids)\n",
    "\n",
    "        # Jedes Paar aus Medoid und Nicht-Medoid soll\n",
    "        # betrachtet werden, um den vielversprechendsten\n",
    "        # Tausch bezüglich der Verringerung der\n",
    "        # Kompaktheit zu finden.\n",
    "        best_pair, delta_TD = None, math.inf\n",
    "\n",
    "        for i, M in enumerate(medoids):\n",
    "            for N in dataset:\n",
    "                if M == N:\n",
    "                    continue\n",
    "\n",
    "                # Vertauschen\n",
    "                medoids[i] = N\n",
    "\n",
    "                # neuen TD-Wert unter Annahme des Tauschs\n",
    "                # berechnen\n",
    "                _, TD_MN = pam_td(dataset, medoids)\n",
    "                if delta_TD > TD_MN - TD:\n",
    "                    best_pair = (i, N)\n",
    "                    delta_TD = TD_MN - TD\n",
    "\n",
    "                # Zurücktauschen\n",
    "                medoids[i] = M\n",
    "\n",
    "        # Tausch des besten Paares durchführen\n",
    "        if delta_TD < 0:\n",
    "            i, N = best_pair\n",
    "            medoids[i] = N\n",
    "\n",
    "    return medoids"
   ]
  },
  {
   "cell_type": "markdown",
   "id": "e5aa05f7-c5c0-40c5-913d-9b161bf8eb47",
   "metadata": {
    "deletable": false,
    "editable": false
   },
   "source": [
    "Das Ergebnis lässt sich am Beispieldatensatz veranschaulichen. Bitte beachten Sie, dass die x- und y-Achsen möglicherweise **nicht** gleich skaliert sind!"
   ]
  },
  {
   "cell_type": "code",
   "execution_count": null,
   "id": "8237607b-a8b3-45c9-a182-a35c12638a70",
   "metadata": {
    "deletable": false
   },
   "outputs": [],
   "source": [
    "dataset = list(zip(clustering_example4['x'], clustering_example4['y']))\n",
    "medoids = pam(dataset, 3)\n",
    "clusters, _ = pam_td(dataset, medoids)\n",
    "\n",
    "px.scatter(clustering_example4, x='x', y='y',\n",
    "           color=['M' if dataset[i] in medoids else str(c) for i, c in enumerate(clusters)])"
   ]
  },
  {
   "cell_type": "markdown",
   "id": "ac382660-62b2-4577-99c8-3b2a34b91728",
   "metadata": {
    "deletable": false,
    "editable": false
   },
   "source": [
    "Auch diesen Algorithmus können Sie schrittweise bei der Arbeit verfolgen:"
   ]
  },
  {
   "cell_type": "code",
   "execution_count": null,
   "id": "8849043f-9e0c-4e76-a1a8-f6f4a0a89cf3",
   "metadata": {
    "deletable": false
   },
   "outputs": [],
   "source": [
    "PAM(dataset, k=3)"
   ]
  },
  {
   "cell_type": "markdown",
   "id": "945aca24-97ca-4455-9a88-b83be97230ce",
   "metadata": {
    "deletable": false,
    "editable": false
   },
   "source": [
    "## Implementierung in scikit-learn\n",
    "In `scikit-learn` direkt existiert keine Implementierung des PAM-Algorithmus. Sie ist dagegen in der Erweiterung `scikit-learn-extra` enthalten und wird analog zu k-Means angewendet:"
   ]
  },
  {
   "cell_type": "code",
   "execution_count": null,
   "id": "c0349928-e542-48c8-bbe8-6d0814783933",
   "metadata": {
    "deletable": false
   },
   "outputs": [],
   "source": [
    "from sklearn_extra.cluster import KMedoids\n",
    "\n",
    "KMedoids(3, method='pam').fit_predict(clustering_example4[['x', 'y']])"
   ]
  },
  {
   "cell_type": "markdown",
   "id": "0984a0d7-dffa-4578-bbba-8128abdf30a3",
   "metadata": {
    "deletable": false,
    "editable": false
   },
   "source": [
    "## Zusammenfassung\n",
    "Der PAM-Algorithmus findet Medoide, also Stellvertreter eines Clusters, die tatsächlich Teil des Datensatzes sind. Durch die häufigen Vertauschungsoperationen mit anschließender Prüfung der Kompaktheit besitzt der Algorithmus jedoch eine hohe Laufzeit."
   ]
  }
 ],
 "metadata": {
  "kernelspec": {
   "display_name": "Python 3 (ipykernel)",
   "language": "python",
   "name": "python3"
  },
  "language_info": {
   "codemirror_mode": {
    "name": "ipython",
    "version": 3
   },
   "file_extension": ".py",
   "mimetype": "text/x-python",
   "name": "python",
   "nbconvert_exporter": "python",
   "pygments_lexer": "ipython3",
   "version": "3.10.12"
  }
 },
 "nbformat": 4,
 "nbformat_minor": 5
}
