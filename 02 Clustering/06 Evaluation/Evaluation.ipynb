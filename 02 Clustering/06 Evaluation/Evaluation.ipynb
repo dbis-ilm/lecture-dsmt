{
 "cells": [
  {
   "cell_type": "markdown",
   "id": "c500d8ec",
   "metadata": {
    "deletable": false,
    "editable": false
   },
   "source": [
    "# Evaluation\n",
    "Bisher hatten Sie ausschließlich die Möglichkeit, die Ergebnisse des Clusterings optisch zu bewerten. In diesem Abschnitt werden deshalb Kriterien vorgestellt, die zur Bewertung der Güte eines Clusterings herangezogen werden können.\n",
    "\n",
    "Importieren Sie zunächst die benötigten Bibliotheken und laden Sie die bereits bekannten Datensätze."
   ]
  },
  {
   "cell_type": "code",
   "execution_count": null,
   "id": "e0b31bb5",
   "metadata": {
    "deletable": false
   },
   "outputs": [],
   "source": [
    "import pandas as pd\n",
    "import plotly.express as px\n",
    "from sklearn.cluster import KMeans\n",
    "\n",
    "from tui_dsmt.clustering import interactive_td2, td2_graph, silhouette_graph\n",
    "from tui_dsmt.clustering.datasets import clustering_example1, clustering_example2"
   ]
  },
  {
   "cell_type": "markdown",
   "id": "35cd03b7",
   "metadata": {
    "deletable": false,
    "editable": false
   },
   "source": [
    "## Inhaltsverzeichnis\n",
    "- [Kompaktheit](#Kompaktheit)\n",
    "- [Silhouetten](#Silhouetten)"
   ]
  },
  {
   "cell_type": "markdown",
   "id": "bca40a98",
   "metadata": {
    "deletable": false,
    "editable": false
   },
   "source": [
    "## Kompaktheit\n",
    "Kompaktheit ist ein Maß für die Güte eines Clusterings mit Zentroiden, wie sie beispielsweise bei k-Means verwendet werden.\n",
    "\n",
    "Um die Kompaktheit eines Clusters $C$ zu ermitteln, wird die Summe der quadratischen Distanz zum Zentroid $\\overline{x}_C$ gebildet. $dist$ steht dabei für eine beliebige Distanzfunktion. In den bisherigen Beispielen kam ausschließlich die euklidische Distanz zur Anwendung.\n",
    "\n",
    "$$\n",
    "TD^2(C) = \\sum_{p \\in C} dist(p, \\overline{x}_C)^2\n",
    "$$\n",
    "\n",
    "Zur Berechnung der Kompaktheit eines Clusterings mit $k$ Clustern werden die Ergebnisse aller Cluster aufsummiert.\n",
    "\n",
    "$$\n",
    "TD^2 = \\sum_{i=1}^{k} TD^2(C_i)\n",
    "$$\n",
    "\n",
    "In Python lässt sich $TD^2$ wie folgt ausdrücken. (`df` wird dabei um zwei Spalten `cx` und `cy` für die Koordinaten des zugehörigen Clusterzentrums erweitert. Auf Basis dieser wird anschließend die quadrierte euklidische Distanz berechnet und aufsummiert.)"
   ]
  },
  {
   "cell_type": "code",
   "execution_count": null,
   "id": "9d8452bc",
   "metadata": {
    "deletable": false
   },
   "outputs": [],
   "source": [
    "def TD2(df, centroids):\n",
    "    cx = df['cluster'].map(lambda i: centroids[i][0])\n",
    "    cy = df['cluster'].map(lambda i: centroids[i][1])\n",
    "\n",
    "    return sum((df['x'] - cx) ** 2 + (df['y'] - cy) ** 2)"
   ]
  },
  {
   "cell_type": "markdown",
   "id": "eab257ef",
   "metadata": {
    "deletable": false,
    "editable": false
   },
   "source": [
    "Die folgende Zelle gibt Ihnen die Möglichkeit, erneut mit der Anzahl der Clusterzentren zu experimentieren und dabei den Kompaktheitswert zu beobachten."
   ]
  },
  {
   "cell_type": "code",
   "execution_count": null,
   "id": "1c1be95d",
   "metadata": {
    "deletable": false
   },
   "outputs": [],
   "source": [
    "interactive_td2(clustering_example1)"
   ]
  },
  {
   "cell_type": "markdown",
   "id": "1f631765",
   "metadata": {
    "deletable": false,
    "editable": false
   },
   "source": [
    "Wie Sie feststellen können, sinkt die Kompaktheit monoton (nicht streng) mit einer zunehmenden Anzahl an Clustern. Steigt die Clusteranzahl bis zur Anzahl der Punkte, liegt die Kompaktheit sogar bei $0$.\n",
    "\n",
    "Insbesondere in der logarithmischen Darstellung der Kompaktheit in Abhängigkeit der Clusteranzahl können Sie dennoch ein Muster ausmachen, das Ihnen potentiell bei der Suche nach einer geeigneten Clusteranzahl helfen kann. Nach Überschreiten der optimalen Clusteranzahl scheint die Kompaktheit deutlich langsamer zu sinken als zuvor."
   ]
  },
  {
   "cell_type": "code",
   "execution_count": null,
   "id": "31f7eed1",
   "metadata": {
    "deletable": false
   },
   "outputs": [],
   "source": [
    "td2_graph(clustering_example1)"
   ]
  },
  {
   "cell_type": "markdown",
   "id": "2f7422f2-c87f-450b-a762-247754bd14cb",
   "metadata": {
    "deletable": false,
    "editable": false
   },
   "source": [
    "Dieses Verhalten lässt sich allerdings nicht bei Datensätzen beobachten, die sich nicht mit dem k-Means-Algorithmus einteilen lassen, wie beispielsweise den Ihnen bereits bekannten ineinandergreifenden Spiralen."
   ]
  },
  {
   "cell_type": "code",
   "execution_count": null,
   "id": "736634b0-8939-42de-bf5c-f78fd34e9b29",
   "metadata": {
    "deletable": false
   },
   "outputs": [],
   "source": [
    "td2_graph(clustering_example2)"
   ]
  },
  {
   "cell_type": "markdown",
   "id": "d1c61f4e",
   "metadata": {
    "deletable": false,
    "editable": false
   },
   "source": [
    "## Silhouetten\n",
    "Der sogenannte Silhouettenkoeffizient gibt als Kennzahl an, wie gut die Zuordnung der Punkte zu den jeweils zwei nächstgelegenen Clustern ist. Es fließt also ein, wie nah ein Objekt am eigenen Cluster und wie entfernt das Objekt vom nächsten Cluster liegt. Der Wert ist dabei unabhängig von der Clusteranzahl und kann dementsprechend auch für Cluster berechnet werden, die beispielsweise mit DBScan erzeugt wurden.\n",
    "\n",
    "Nun sei $o$ ein Punkt in den Daten, $a(o)$ die durchschnittliche Distanz zu anderen Punkten des zugehörigen Cluster und $b(o)$ die durchschnittliche Distanz zu Punkten des nächstgelegenen Clusters, dem $o$ nicht angehört. Die Silhouette des Objekts $o$ berechnet sich dann wie folgt:\n",
    "\n",
    "$$\n",
    "s(o) = \\begin{cases}\n",
    "0                                    & \\text{falls $o$ das einzige Element in seinem Cluster ist} \\\\\n",
    "\\dfrac{b(o) - a(o)}{max(a(o), b(o))} & \\text{sonst}\n",
    "\\end{cases}\n",
    "$$\n",
    "\n",
    "Es ergeben sich Werte im Intervall $[-1, 1]$. Dabei stehen Werte nahe $1$ für eine passende Zuordnung, während Werte um $0$  eine uneindeutige und Werte nahe $-1$ eine schlechte Zuordnung repräsentieren.\n",
    "\n",
    "Um den Silhouettenkoeffizient für ein vollständiges Clustering zu berechnen, werden die Werte aller Objekte aller Cluster aufsummiert und durch die Anzahl der Objekte dividiert:\n",
    "\n",
    "$$\n",
    "S(C_M) = \\dfrac{\\sum_{C \\in C_M} \\sum_{o \\in C} s(o)}{|O|}\n",
    "$$\n",
    "\n",
    "Je höher das Ergebnis ist, desto besser ist das Clustering. So spricht man bei Werten im Intervall\n",
    "- $(0.7, 1.0]$ von einer starken,\n",
    "- $(0.5, 0.7]$ von einer brauchbaren,\n",
    "- $(0.25, 0.5]$ von einer schwachen und\n",
    "- $[0, 0.25]$ von keiner Struktur.\n",
    "\n",
    "Wie üblich lässt sich diese Berechnung auch mit Hilfe von Pandas in Python abbilden..."
   ]
  },
  {
   "cell_type": "code",
   "execution_count": null,
   "id": "b4a13e53",
   "metadata": {
    "deletable": false
   },
   "outputs": [],
   "source": [
    "def s(df, o):\n",
    "    # Spalte d enthält die Distanz jedes Objekts zum Objekt o\n",
    "    df['d'] = (df['x'] - o['x']) ** 2 + (df['y'] - o['y']) ** 2\n",
    "\n",
    "    # durchschnittlicher Abstand zum eigenen Cluster\n",
    "    o_cluster = df[df['cluster'] == o['cluster']]\n",
    "    a = o_cluster['d'].sum() / (len(o_cluster) - 1)\n",
    "\n",
    "    # durchschnittlicher Abstand zum nächstgelegenen Cluster\n",
    "    other_clusters = df[df['cluster'] != o['cluster']]\n",
    "    min_dist = other_clusters.groupby('cluster')['d'].sum().nsmallest(1)\n",
    "\n",
    "    next_cluster_id = min_dist.index[0]\n",
    "    next_cluster_d, = min_dist\n",
    "    next_cluster_size = len(df[df['cluster'] == next_cluster_id])\n",
    "\n",
    "    b = next_cluster_d / next_cluster_size\n",
    "\n",
    "    # Berechnung von s(o)\n",
    "    return (b - a) / max(a, b)\n",
    "\n",
    "\n",
    "def S(df):\n",
    "    df['s'] = df.apply(lambda o: s(df, o), axis=1)\n",
    "    return df['s'].sum() / len(df)"
   ]
  },
  {
   "cell_type": "markdown",
   "id": "7d736aa9",
   "metadata": {
    "deletable": false,
    "editable": false
   },
   "source": [
    "... und anschließend nutzen, um beispielsweise die beste Anzahl an Clustern für den k-Means Algorithmus ausfindig zu machen. Beachten Sie dabei, dass für den ersten Datensatz ein Maximum bei $k=15$ zu erkennen ist. (Da die zufällige Initialisierung bei k-Means das Ergebnis verändern kann, wird hier ein fixer Wert für die Initialisierung des Zufallszahlengenerators verwendet.)"
   ]
  },
  {
   "cell_type": "code",
   "execution_count": null,
   "id": "31f19e9f",
   "metadata": {
    "deletable": false
   },
   "outputs": [],
   "source": [
    "silhouette_graph(clustering_example1, random_state=1)"
   ]
  },
  {
   "cell_type": "markdown",
   "id": "6117d221-e2dd-4a93-b142-0505904fa1a8",
   "metadata": {
    "deletable": false,
    "editable": false
   },
   "source": [
    "Für den zweiten, spiralförmigen Datensatz dagegen scheint der Koeffizient mit der Anzahl der Clusterzentren zu wachsen. Er erreicht dabei aber nie den Wert einer starken Struktur, was ein Indiz gegen die Anwendbarkeit des k-Means Algorithmus ist."
   ]
  },
  {
   "cell_type": "code",
   "execution_count": null,
   "id": "5b0a5711-5e70-4c90-8b0b-e1bf26ffe5e2",
   "metadata": {
    "deletable": false
   },
   "outputs": [],
   "source": [
    "silhouette_graph(clustering_example2, random_state=1)"
   ]
  },
  {
   "cell_type": "markdown",
   "id": "ed29aa75",
   "metadata": {
    "deletable": false,
    "editable": false
   },
   "source": [
    "Natürlich existiert auch für den Silhouetten-Koeffizient eine effiziente Implementierung in `scikit-learn`. Auch wenn die Ergebnisse auf Grund der komplexeren Implementierung geringfügig abweichen, können Sie dennoch mit Leichtigkeit die optimale Clusteranzahl ablesen."
   ]
  },
  {
   "cell_type": "code",
   "execution_count": null,
   "id": "5e0845df",
   "metadata": {
    "deletable": false
   },
   "outputs": [],
   "source": [
    "from sklearn.metrics import silhouette_score\n",
    "\n",
    "px.bar(pd.DataFrame({\n",
    "    'k': range(2, 30),\n",
    "    'S': (silhouette_score(clustering_example1, KMeans(k, random_state=1).fit_predict(clustering_example1))\n",
    "          for k in range(2, 30))\n",
    "}), x='k', y='S')"
   ]
  }
 ],
 "metadata": {
  "kernelspec": {
   "display_name": "Python 3 (ipykernel)",
   "language": "python",
   "name": "python3"
  },
  "language_info": {
   "codemirror_mode": {
    "name": "ipython",
    "version": 3
   },
   "file_extension": ".py",
   "mimetype": "text/x-python",
   "name": "python",
   "nbconvert_exporter": "python",
   "pygments_lexer": "ipython3",
   "version": "3.10.12"
  }
 },
 "nbformat": 4,
 "nbformat_minor": 5
}
