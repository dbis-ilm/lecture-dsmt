{
 "cells": [
  {
   "cell_type": "markdown",
   "id": "620a6755-ff36-4e2d-9eeb-fdb6e48797ab",
   "metadata": {
    "deletable": false,
    "editable": false
   },
   "source": [
    "# Parameterbestimmung bei dichtebasierten Verfahren\n",
    "Während der einzige Parameter für k-Means mit Hilfe des Silhouettenkoeffizienten relativ einfach gefunden werden kann, sind für DBScan zwei verschiedene Parameter notwendig. In diesem Abschnitt wird daher eine Herangehensweise für die Bestimmung von $min\\_pts$ und $\\epsilon$ betrachtet."
   ]
  },
  {
   "cell_type": "code",
   "execution_count": null,
   "id": "dd632dfc-7264-4caa-b341-472778cb09cd",
   "metadata": {
    "deletable": false
   },
   "outputs": [],
   "source": [
    "import numpy as np\n",
    "import pandas as pd\n",
    "import plotly.express as px\n",
    "\n",
    "from sklearn.cluster import DBSCAN\n",
    "from sklearn.neighbors import NearestNeighbors\n",
    "\n",
    "from tui_dsmt.clustering.datasets import clustering_example1"
   ]
  },
  {
   "cell_type": "markdown",
   "id": "85a01535-9219-438a-bd6d-241724a55f29",
   "metadata": {
    "deletable": false,
    "editable": false
   },
   "source": [
    "## Inhaltsverzeichnis\n",
    "- [Datensatz](#Datensatz)\n",
    "- [Literaturbezug](#Literaturbezug)\n",
    "- [min_pts](#minpts)\n",
    "- [$\\epsilon$](#epsilon)\n",
    "- [Ergebnis](#Ergebnis)\n",
    "- [Zusammenfassung](#Zusammenfassung)"
   ]
  },
  {
   "cell_type": "markdown",
   "id": "7af11fb9-514a-47e2-8f6a-f34f33a14afe",
   "metadata": {
    "deletable": false,
    "editable": false
   },
   "source": [
    "## Datensatz\n",
    "Wir verwenden den bereits häufiger in Erscheinung getretenen Datensatz mit $15$ Häufungen in zwei Dimensionen."
   ]
  },
  {
   "cell_type": "code",
   "execution_count": null,
   "id": "e0be3b6c-a838-47b1-9731-4d0c3a16bb4d",
   "metadata": {
    "deletable": false
   },
   "outputs": [],
   "source": [
    "px.scatter(clustering_example1, x='x', y='y', color='c')"
   ]
  },
  {
   "cell_type": "markdown",
   "id": "a4d1f27a-2f95-4141-8115-7d0c1c15db3f",
   "metadata": {
    "deletable": false,
    "editable": false
   },
   "source": [
    "## Literaturbezug\n",
    "DBScan wurde im Paper mit dem Titel [*A Density-Based Algorithm for Discovering Clusters in Large Spatial Databases with Noise*](https://cdn.aaai.org/KDD/1996/KDD96-037.pdf) von Ester et al. (1996) vorgestellt.\n",
    "\n",
    "Sander et al. (1998) haben in ihrem Paper [*Density-Based Clustering in Spatial Databases: The Algorithm GDBSCAN and Its Applications*](https://link.springer.com/article/10.1023/A:1009745219419) den Algorithmus GDBSCAN - eine Generalisierung von DBScan - vorgestellt. Sie gehen dabei auch auf die Parameterbestimmung für DBScan ein."
   ]
  },
  {
   "cell_type": "markdown",
   "id": "c0609d73-b615-4e18-b276-ac8f903e1d8f",
   "metadata": {
    "deletable": false,
    "editable": false
   },
   "source": [
    "## min_pts\n",
    "Für zweidimensionale Daten empfehlen Ester et al. $k = 4$ zu wählen und $min\\_pts$ ebenfalls auf diesen Wert zu setzen."
   ]
  },
  {
   "cell_type": "code",
   "execution_count": null,
   "id": "25926ad0-7a4c-4e55-b447-2d2a4e3b0f21",
   "metadata": {
    "deletable": false
   },
   "outputs": [],
   "source": [
    "k = 4\n",
    "min_pts = 4"
   ]
  },
  {
   "cell_type": "markdown",
   "id": "0d2f9ac0-0afa-4022-a69a-2792aab8b7ad",
   "metadata": {
    "deletable": false,
    "editable": false
   },
   "source": [
    "Sander et al. empfehlen im Allgemeinen ein $k$ zu wählen, das in etwa $2 * dim - 1$ entspricht, wobei $dim$ die Dimension der Daten beschreibt. Kleine Änderungen für $k$ führten in ihren Experimenten aber nicht zu essentiellen Änderungen im Ergebnis. $min\\_pts$ ergibt sich dann als $k + 1$ bzw $2 * dim$. Für zweidimensionale Daten wird also geraten, $k = 3$ und $min\\_pts = 4$ zu wählen."
   ]
  },
  {
   "cell_type": "markdown",
   "id": "18ef8779-f3d9-4fe3-acc6-b338039c9272",
   "metadata": {
    "deletable": false,
    "editable": false
   },
   "source": [
    "## $\\epsilon$\n",
    "Für den Parameter $\\epsilon$ lässt sich dagegen keine einfache Empfehlung formulieren, die ausschließlich auf der Anzahl der Dimensionen basiert. Stattdessen soll $\\epsilon$ so gewählt werden, dass der Algorithmus Rauschen von tatsächlichen Clusterpunkten trennt. Die Wahl ist also abhängig vom Datensatz.\n",
    "\n",
    "Zusammen mit $min\\_pts$ wurde auch ein $k$ bestimmt. Dieses wird nun verwendet, um ein sogenanntes $k$-Distanz Diagramm zu erzeugen. Die $k$-Distanz ist dabei der durchschnittliche Abstand zu den $k$ nächsten Nachbarn eines spezifischen Objekts im Datensatz und wird auf der y-Achse abgetragen. Auf der x-Achse sind alle Objekte im Datensatz abgetragen, nachdem sie absteigend nach der ihnen zugeordneten $k$-Distanz sortiert wurden. (Der Aufwand bei der Berechnung der $k$-Distanz ist ein gutes Argument, $k$ eher klein zu wählen.)\n",
    "\n",
    "Für den Datensatz sieht das $(k\\!=\\!4)$-Distanz Diagramm wie folgt aus."
   ]
  },
  {
   "cell_type": "code",
   "execution_count": null,
   "id": "12cc439c-68a6-4c29-91a0-79e84eef89f2",
   "metadata": {
    "deletable": false
   },
   "outputs": [],
   "source": [
    "neighbors = NearestNeighbors(n_neighbors=k)\n",
    "neighbors_fit = neighbors.fit(clustering_example1[['x', 'y']])\n",
    "\n",
    "distances, _ = neighbors_fit.kneighbors(clustering_example1[['x', 'y']])\n",
    "sorted_distances = np.sort(distances, axis=0)[:,1]\n",
    "\n",
    "fig = px.line(\n",
    "    pd.DataFrame({ 'o': range(len(sorted_distances), 0, -1), 'd': sorted_distances }),\n",
    "    x='o', y='d'\n",
    ")\n",
    "fig.add_vline(x=26, line_width=0.5, line_dash='dash', line_color='red')\n",
    "\n",
    "fig"
   ]
  },
  {
   "cell_type": "markdown",
   "id": "2d889212-e5a1-43ed-903f-5da501094359",
   "metadata": {
    "deletable": false,
    "editable": false
   },
   "source": [
    "Das Diagramm kann nun interpretiert werden: Der Benutzer sucht *visuell* ein Grenzobjekt, das sich im ersten *Tal* befindet. Dieses Tal stellt eine Art Knick in der Darstellung dar, an dem sich die Verringerung der $k$-Distanz zwischen den Objekten das erste Mal deutlich verlangsamt. Links dieses Grenzobjekts befindet sich das Rauschen - diese Objekte haben eine relativ hohe $k$-Distanz zu ihren Nachbarn und sollten demnach keinen Clustern zugeordnet werden - und rechtsseitig die Clusterpunkte - diese Objekte haben eine im Vergleich geringe $k$-Distanz zu ihren Nachbarn und sollten Clustern zugeordnet werden.\n",
    "\n",
    "$\\epsilon$ wird nun als $k$-Distanz des Grenzobjekts gewählt. Sie können die $k$-Distanz entweder auf der $y$-Achse ablesen oder alternativ die Interaktivität von Plotly verwenden, um den Wert für ein mit der Maus markiertes Objekt zu erhalten.\n",
    "\n",
    "Im Diagramm ist **beispielhaft** das Objekt mit der Nummer $26$ und einer $k$-Distanz von $0.2808$ markiert. Wählen Sie dagegen ein Grenzobjekt, das sich weiter links befindet, vergrößert sich $\\epsilon$ und weniger Punkte werden als Rauschen erkannt. Wählen Sie ein Grenzobjekt, das sich weiter rechts befindet, wird $\\epsilon$ geringer und die Rauscherkennung im Algorithmus aggressiver."
   ]
  },
  {
   "cell_type": "code",
   "execution_count": null,
   "id": "d26700a5-09f8-4296-95df-b11857bf2edd",
   "metadata": {
    "deletable": false
   },
   "outputs": [],
   "source": [
    "e = 0.2808"
   ]
  },
  {
   "cell_type": "markdown",
   "id": "4704c714-3edb-4cbd-a5f5-e38af210d6c8",
   "metadata": {
    "deletable": false,
    "editable": false
   },
   "source": [
    "## Ergebnis\n",
    "Die nachfolgende Zelle erzeugt ein Clustering mit DBScan mit Hilfe der ermittelten Parameter. In der Legende können Sie das Rauschen ($-1$) ein- und ausblenden."
   ]
  },
  {
   "cell_type": "code",
   "execution_count": null,
   "id": "76454269-24ad-46fa-811b-87ca7be41b24",
   "metadata": {
    "deletable": false
   },
   "outputs": [],
   "source": [
    "clustering_example1['dbscan'] = DBSCAN(eps=e, min_samples=min_pts).fit_predict(clustering_example1[['x', 'y']]).astype(str)\n",
    "px.scatter(clustering_example1, x='x', y='y', color='dbscan')"
   ]
  },
  {
   "cell_type": "markdown",
   "id": "93fe2faa-3a48-4f9b-a7cc-614ca399bd64",
   "metadata": {
    "deletable": false,
    "editable": false
   },
   "source": [
    "Probieren Sie auch andere Grenzobjekte aus."
   ]
  },
  {
   "cell_type": "markdown",
   "id": "59d0dc0d-d510-40f0-bfdb-fac2248bcc74",
   "metadata": {
    "deletable": false,
    "editable": false
   },
   "source": [
    "## Zusammenfassung\n",
    "In den wissenschaftlichen Arbeiten zu DBScan und davon abgeleiteten Algorithmen lassen sich Hinweise zur korrekten Parameterwahl finden. Mit Python und den bekannten Bibliotheken umgesetzt, erlauben Sie ein einfaches Auffinden von $min\\_pts$ und $\\epsilon$."
   ]
  }
 ],
 "metadata": {
  "kernelspec": {
   "display_name": "Python 3 (ipykernel)",
   "language": "python",
   "name": "python3"
  },
  "language_info": {
   "codemirror_mode": {
    "name": "ipython",
    "version": 3
   },
   "file_extension": ".py",
   "mimetype": "text/x-python",
   "name": "python",
   "nbconvert_exporter": "python",
   "pygments_lexer": "ipython3",
   "version": "3.12.10"
  }
 },
 "nbformat": 4,
 "nbformat_minor": 5
}
