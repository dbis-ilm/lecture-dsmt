{
 "cells": [
  {
   "cell_type": "markdown",
   "id": "ff34f6e0",
   "metadata": {
    "deletable": false,
    "editable": false
   },
   "source": [
    "# DBScan\n",
    "**D**ensity-**B**ased **S**patial **C**lustering of **A**pplications with **N**oise (dt. Dichtebasiertes räumliches Clustering von Anwendungen mit Rauschen) verwendet einen dichtebasierten Ansatz, bei dem jeder Punkt anhand seiner Umgebung bewertet wird. Zu einem Cluster gehören immer die Punkte, die untereinander \"dichte-verbunden\" sind. Da keine berechneten Repräsentanten für die Cluster gesucht werden, sind beliebige Formen möglich.\n",
    "\n",
    "Im Gegensatz zu k-Means ist es bei DBScan nicht notwendig, die Anzahl der Cluster vorher festzulegen. Jedoch müssen $\\epsilon$ und $minPts$ passend gewählt werden. DBScan wird außerdem weniger stark von Rauschen beeinflusst."
   ]
  },
  {
   "cell_type": "code",
   "execution_count": null,
   "id": "9426d5cb-87f1-41ed-aa03-618c0241cb80",
   "metadata": {
    "deletable": false
   },
   "outputs": [],
   "source": [
    "import numpy as np\n",
    "\n",
    "from tui_dsmt.clustering import animate_dbscan, interactive_dbscan\n",
    "from tui_dsmt.clustering.datasets import clustering_example1, clustering_example2"
   ]
  },
  {
   "cell_type": "markdown",
   "id": "aef3ae15",
   "metadata": {
    "deletable": false,
    "editable": false
   },
   "source": [
    "## Inhaltsverzeichnis\n",
    "- [Der Algorithmus](#Der-Algorithmus)\n",
    "- [Visualisierung](#Visualisierung)\n",
    "- [Erweiterte Implementierungen](#Erweiterte-Implementierungen)"
   ]
  },
  {
   "cell_type": "markdown",
   "id": "b7dba440",
   "metadata": {
    "deletable": false,
    "editable": false
   },
   "source": [
    "## Der Algorithmus\n",
    "DBScan benötigt zwei Parameter:\n",
    "- `eps`: $\\epsilon$ beschreibt einen Abstand, den zwei Punkte untereinander maximal besitzen dürfen, um noch als Nachbarn zu zählen.\n",
    "- `minPts`: $minPts$ gibt an, wie viele Punkte sich mindestens in einer Nachbarschaft befinden müssen, um eine dichte Region zu bilden.\n",
    "\n",
    "Für den Algorithmus existieren drei verschiedene Arten von Punkten:\n",
    "- *Kernobjekte* besitzen in einem Umkreis mit dem Radius $\\epsilon$ mindestens $minPts$ Punkte.\n",
    "- *Randobjekte* sind dichte-erreichbar, d.h. sie liegen im Radius eines Kernobjekts, sind aber selbst auf Grund zu weniger Nachbarn keine Kernobjekte.\n",
    "- *Rauschen* sind übrig bleibende Punkte, die zu keinem Cluster zugeordnet werden und stattdessen als Ausreißer oder Messfehler angesehen werden."
   ]
  },
  {
   "cell_type": "markdown",
   "id": "622d918d-bf7a-4b88-acb2-b126dd0ff694",
   "metadata": {
    "deletable": false,
    "editable": false
   },
   "source": [
    "Der Algorithmus besitzt drei Funktionen:\n",
    "1. `dbscan` wählt Punkte aus, die noch zu keinem Cluster gehören und nicht als Rauschen gekennzeichnet sind."
   ]
  },
  {
   "cell_type": "code",
   "execution_count": null,
   "id": "874a41e0",
   "metadata": {
    "deletable": false
   },
   "outputs": [],
   "source": [
    "def dbscan(xs, ys, eps, min_pts):\n",
    "    # Zuerst wird eine Liste mit Clustern angelegt.\n",
    "    clusters = [None for _ in xs]\n",
    "    yield clusters\n",
    "\n",
    "    # Der aktuelle Klassenindex wird auf 1 gesetzt.\n",
    "    C = 1\n",
    "\n",
    "    # Es wird über alle Punkte iteriert.\n",
    "    for P in range(len(xs)):\n",
    "        # Punkte, die bereits Teil einer Klasse oder Rauschen sind,\n",
    "        # werden übersprungen.\n",
    "        if clusters[P] is not None and clusters[P] > 0:\n",
    "            continue\n",
    "\n",
    "        # N ist die Menge aller Punkte in der Umgebung von P.\n",
    "        # P ist ebenfalls in N enthalten!\n",
    "        N = region_query(xs, ys, eps, P)\n",
    "\n",
    "        # Falls die Umgebung zu klein ist, wird P als Rauschen\n",
    "        # deklariert.\n",
    "        if len(N) < min_pts:\n",
    "            clusters[P] = 0\n",
    "            yield clusters\n",
    "\n",
    "        # Sonst wird der Klassenindex um 1 erhöht und die Funktion\n",
    "        # expand_cluster aufgerufen, um einen Cluster um P zu\n",
    "        # finden.\n",
    "        else:\n",
    "            yield from expand_cluster(xs, ys, eps, min_pts, clusters, N, C, P)\n",
    "            C += 1"
   ]
  },
  {
   "cell_type": "markdown",
   "id": "a5ca1250-4591-44f3-8c3b-a586ba79a519",
   "metadata": {
    "deletable": false,
    "editable": false
   },
   "source": [
    "2. `expand_cluster` sucht in der Nachbarschaft eines Punktes weitere Punkte, die in den selben Cluster aufgenommen werden sollen."
   ]
  },
  {
   "cell_type": "code",
   "execution_count": null,
   "id": "12344e9f-78ab-4628-b6f5-b73d06e5ed6c",
   "metadata": {
    "deletable": false
   },
   "outputs": [],
   "source": [
    "def expand_cluster(xs, ys, eps, min_pts, clusters, N, C, P):\n",
    "    # Die Zugehörigkeit von P zum Cluster C wird gespeichert.\n",
    "    clusters[P] = C\n",
    "    yield clusters\n",
    "\n",
    "    # Zur Iteration wird ein Index verwendet, da im weiteren\n",
    "    # Verlauf die Menge N erweitert wird.\n",
    "    Qi = 0\n",
    "\n",
    "    while Qi < len(N):\n",
    "        # Q ist der Punkt an Position Q_i in der Menge N.\n",
    "        Q = N[Qi]\n",
    "        Qi += 1\n",
    "\n",
    "        # Falls Q noch nicht besucht wurde, wird die\n",
    "        # Region M um Q gesucht und, falls sie selbst\n",
    "        # ausreichend Elemente enthält, mit N vereinigt.\n",
    "        if clusters[Q] is None:\n",
    "            M = region_query(xs, ys, eps, Q)\n",
    "            if len(M) >= min_pts:\n",
    "                N.extend(M)\n",
    "\n",
    "        # Q wird dem aktuellen Cluster zugeordnet.\n",
    "        if clusters[Q] is None or clusters[Q] == 0:\n",
    "            clusters[Q] = C\n",
    "            yield clusters"
   ]
  },
  {
   "cell_type": "markdown",
   "id": "51f2ead1-2475-4067-a934-4b64b8237aeb",
   "metadata": {
    "deletable": false,
    "editable": false
   },
   "source": [
    "3. `region_query` gibt alle Punkte im Umkreis eines Punktes zurück, die weniger als $\\epsilon$ entfernt sind."
   ]
  },
  {
   "cell_type": "code",
   "execution_count": null,
   "id": "b4f9e4cc-80ef-4464-bd17-98d9a6df6596",
   "metadata": {
    "deletable": false
   },
   "outputs": [],
   "source": [
    "def region_query(xs, ys, eps, P):\n",
    "    # Die Distanzen zu allen Punkten wird berechnet.\n",
    "    distances = np.sqrt((xs - xs[P]) ** 2 + (ys - ys[P]) ** 2)\n",
    "\n",
    "    # Alle Punkte, deren Distanz kleiner als eps ist,\n",
    "    # werden zurückgegeben.\n",
    "    return np.where(distances < eps)[0].tolist()"
   ]
  },
  {
   "cell_type": "markdown",
   "id": "ad4b1332",
   "metadata": {
    "deletable": false,
    "editable": false
   },
   "source": [
    "## Visualisierung"
   ]
  },
  {
   "cell_type": "markdown",
   "id": "986e6d98",
   "metadata": {
    "deletable": false,
    "editable": false
   },
   "source": [
    "Die folgende Zelle lädt den spiralförmigen Datensatz, mischt ihn zufällig und wendet DBScan Schritt für Schritt darauf an."
   ]
  },
  {
   "cell_type": "code",
   "execution_count": null,
   "id": "ea9894bc",
   "metadata": {
    "deletable": false
   },
   "outputs": [],
   "source": [
    "df = clustering_example2.sample(frac=1).reset_index()\n",
    "animate_dbscan(dbscan, df, eps=2, min_pts=3)"
   ]
  },
  {
   "cell_type": "markdown",
   "id": "55830677",
   "metadata": {
    "deletable": false,
    "editable": false
   },
   "source": [
    "Auch auf den Datensatz, mit dem k-Means bereits gute Ergebnisse erzielte, lässt sich DBScan anwenden. Dann müssen jedoch die Werte `eps` und `min_pts` angepasst werden. Punkte, die DBScan als Rauschen erkennt, lassen sich dabei sehr gut ausmachen."
   ]
  },
  {
   "cell_type": "code",
   "execution_count": null,
   "id": "03c67e04",
   "metadata": {
    "deletable": false
   },
   "outputs": [],
   "source": [
    "df = clustering_example1.sample(frac=1).reset_index()\n",
    "animate_dbscan(dbscan, df, eps=0.3, min_pts=5)"
   ]
  },
  {
   "cell_type": "markdown",
   "id": "2b9d7b4a",
   "metadata": {
    "deletable": false,
    "editable": false
   },
   "source": [
    "## Erweiterte Implementierungen\n",
    "Auch für DBScan existiert eine Implementierung in `sklearn`. Initialisieren Sie ein Objekt der Klasse `DBSCAN` und übergeben Sie passende Werte für `eps` und `min_samples` (`min_pts`). Rufen Sie anschließend `fit_predict` mit einem DataFrame auf. Die Rückgabe enthält ein Array mit Klassenzuordnungen."
   ]
  },
  {
   "cell_type": "code",
   "execution_count": null,
   "id": "53fe3e9d",
   "metadata": {
    "deletable": false
   },
   "outputs": [],
   "source": [
    "from sklearn.cluster import DBSCAN\n",
    "\n",
    "eps=2.4\n",
    "min_samples=5\n",
    "DBSCAN(eps=eps, min_samples=min_samples).fit_predict(df)"
   ]
  },
  {
   "cell_type": "markdown",
   "id": "880d2707-58b2-460a-a299-ae1af83d4f8b",
   "metadata": {
    "deletable": false,
    "editable": false
   },
   "source": [
    "In der nachfolgenden Zelle haben Sie die Möglichkeit mit den Parametern $eps$ und $min\\_samples$ zu experimentieren."
   ]
  },
  {
   "cell_type": "code",
   "execution_count": null,
   "id": "274b5040-08e8-4c39-a790-d4eb33f3dc94",
   "metadata": {
    "deletable": false
   },
   "outputs": [],
   "source": [
    "interactive_dbscan(clustering_example1)"
   ]
  }
 ],
 "metadata": {
  "kernelspec": {
   "display_name": "Python 3 (ipykernel)",
   "language": "python",
   "name": "python3"
  },
  "language_info": {
   "codemirror_mode": {
    "name": "ipython",
    "version": 3
   },
   "file_extension": ".py",
   "mimetype": "text/x-python",
   "name": "python",
   "nbconvert_exporter": "python",
   "pygments_lexer": "ipython3",
   "version": "3.11.10"
  }
 },
 "nbformat": 4,
 "nbformat_minor": 5
}
