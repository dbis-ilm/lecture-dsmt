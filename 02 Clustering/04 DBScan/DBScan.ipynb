{
 "cells": [
  {
   "cell_type": "markdown",
   "id": "0",
   "metadata": {
    "deletable": false,
    "editable": false
   },
   "source": [
    "# DBScan\n",
    "**D**ensity-**B**ased **S**patial **C**lustering of **A**pplications with **N**oise (dt. Dichtebasiertes räumliches Clustering von Anwendungen mit Rauschen) verwendet einen dichtebasierten Ansatz, bei dem jeder Punkt anhand seiner Umgebung bewertet wird. Zu einem Cluster gehören immer die Punkte, die untereinander \"dichte-verbunden\" sind. Da keine berechneten Repräsentanten für die Cluster gesucht werden, sind beliebige Formen möglich.\n",
    "\n",
    "Im Gegensatz zu k-Means ist es bei DBScan nicht notwendig, die Anzahl der Cluster vorher festzulegen. Jedoch müssen $\\epsilon$ und $minPts$ passend gewählt werden. DBScan wird außerdem weniger stark von Rauschen beeinflusst."
   ]
  },
  {
   "cell_type": "code",
   "execution_count": null,
   "id": "1",
   "metadata": {
    "deletable": false
   },
   "outputs": [],
   "source": [
    "import numpy as np\n",
    "\n",
    "from tui_dsmt.clustering import animate_dbscan, interactive_dbscan\n",
    "from tui_dsmt.clustering.datasets import clustering_example1, clustering_example2"
   ]
  },
  {
   "cell_type": "markdown",
   "id": "2",
   "metadata": {
    "deletable": false,
    "editable": false
   },
   "source": [
    "## Inhaltsverzeichnis\n",
    "- [Der Algorithmus](#Der-Algorithmus)\n",
    "- [Visualisierung](#Visualisierung)\n",
    "- [Erweiterte Implementierungen](#Erweiterte-Implementierungen)\n",
    "- [Randnotiz](#Randnotiz)"
   ]
  },
  {
   "cell_type": "markdown",
   "id": "3",
   "metadata": {
    "deletable": false,
    "editable": false
   },
   "source": [
    "## Der Algorithmus\n",
    "DBScan benötigt zwei Parameter:\n",
    "- `eps`: $\\epsilon$ beschreibt einen Abstand, den zwei Punkte untereinander maximal besitzen dürfen, um noch als Nachbarn zu zählen.\n",
    "- `minPts`: $minPts$ gibt an, wie viele Punkte sich mindestens in einer Nachbarschaft befinden müssen, um eine dichte Region zu bilden.\n",
    "\n",
    "Für den Algorithmus existieren drei verschiedene Arten von Punkten:\n",
    "- *Kernobjekte* besitzen in einem Umkreis mit dem Radius $\\epsilon$ mindestens $minPts$ Punkte.\n",
    "- *Randobjekte* sind dichte-erreichbar, d.h. sie liegen im Radius eines Kernobjekts, sind aber selbst auf Grund zu weniger Nachbarn keine Kernobjekte.\n",
    "- *Rauschen* sind übrig bleibende Punkte, die zu keinem Cluster zugeordnet werden und stattdessen als Ausreißer oder Messfehler angesehen werden."
   ]
  },
  {
   "cell_type": "markdown",
   "id": "4",
   "metadata": {
    "deletable": false,
    "editable": false
   },
   "source": [
    "Der Algorithmus besitzt drei Funktionen:\n",
    "1. `dbscan` wählt Punkte aus, die noch zu keinem Cluster gehören und nicht als Rauschen gekennzeichnet sind."
   ]
  },
  {
   "cell_type": "code",
   "execution_count": null,
   "id": "5",
   "metadata": {
    "deletable": false
   },
   "outputs": [],
   "source": [
    "def dbscan(xs, ys, eps, min_pts):\n",
    "    # Zuerst wird eine Liste mit Clustern angelegt.\n",
    "    clusters = [None for _ in xs]\n",
    "    yield clusters\n",
    "\n",
    "    # Der aktuelle Klassenindex wird auf 1 gesetzt.\n",
    "    C = 1\n",
    "\n",
    "    # Es wird über alle Punkte iteriert.\n",
    "    for P in range(len(xs)):\n",
    "        # Punkte, die bereits Teil einer Klasse oder Rauschen sind,\n",
    "        # werden übersprungen.\n",
    "        if clusters[P] is not None and clusters[P] > 0:\n",
    "            continue\n",
    "\n",
    "        # N ist die Menge aller Punkte in der Umgebung von P.\n",
    "        # P ist ebenfalls in N enthalten!\n",
    "        N = region_query(xs, ys, eps, P)\n",
    "\n",
    "        # Falls die Umgebung zu klein ist, wird P als Rauschen\n",
    "        # deklariert.\n",
    "        if len(N) < min_pts:\n",
    "            clusters[P] = 0\n",
    "            yield clusters\n",
    "\n",
    "        # Sonst wird der Klassenindex um 1 erhöht und die Funktion\n",
    "        # expand_cluster aufgerufen, um einen Cluster um P zu\n",
    "        # finden.\n",
    "        else:\n",
    "            yield from expand_cluster(xs, ys, eps, min_pts, clusters, N, C, P)\n",
    "            C += 1"
   ]
  },
  {
   "cell_type": "markdown",
   "id": "6",
   "metadata": {
    "deletable": false,
    "editable": false
   },
   "source": [
    "2. `expand_cluster` sucht in der Nachbarschaft eines Punktes weitere Punkte, die in den selben Cluster aufgenommen werden sollen."
   ]
  },
  {
   "cell_type": "code",
   "execution_count": null,
   "id": "7",
   "metadata": {
    "deletable": false
   },
   "outputs": [],
   "source": [
    "def expand_cluster(xs, ys, eps, min_pts, clusters, N, C, P):\n",
    "    # Die Zugehörigkeit von P zum Cluster C wird gespeichert.\n",
    "    clusters[P] = C\n",
    "    yield clusters\n",
    "\n",
    "    # Zur Iteration wird ein Index verwendet, da im weiteren\n",
    "    # Verlauf die Menge N erweitert wird.\n",
    "    Qi = 0\n",
    "\n",
    "    while Qi < len(N):\n",
    "        # Q ist der Punkt an Position Q_i in der Menge N.\n",
    "        Q = N[Qi]\n",
    "        Qi += 1\n",
    "\n",
    "        # Falls Q noch nicht besucht wurde, wird die\n",
    "        # Region M um Q gesucht und, falls sie selbst\n",
    "        # ausreichend Elemente enthält, mit N vereinigt.\n",
    "        if clusters[Q] is None:\n",
    "            M = region_query(xs, ys, eps, Q)\n",
    "            if len(M) >= min_pts:\n",
    "                N.extend(M)\n",
    "\n",
    "        # Q wird dem aktuellen Cluster zugeordnet.\n",
    "        if clusters[Q] is None or clusters[Q] == 0:\n",
    "            clusters[Q] = C\n",
    "            yield clusters"
   ]
  },
  {
   "cell_type": "markdown",
   "id": "8",
   "metadata": {
    "deletable": false,
    "editable": false
   },
   "source": [
    "3. `region_query` gibt alle Punkte im Umkreis eines Punktes zurück, die weniger als $\\epsilon$ entfernt sind."
   ]
  },
  {
   "cell_type": "code",
   "execution_count": null,
   "id": "9",
   "metadata": {
    "deletable": false
   },
   "outputs": [],
   "source": [
    "def region_query(xs, ys, eps, P):\n",
    "    # Die Distanzen zu allen Punkten wird berechnet.\n",
    "    distances = np.sqrt((xs - xs[P]) ** 2 + (ys - ys[P]) ** 2)\n",
    "\n",
    "    # Alle Punkte, deren Distanz kleiner als eps ist,\n",
    "    # werden zurückgegeben.\n",
    "    return np.where(distances < eps)[0].tolist()"
   ]
  },
  {
   "cell_type": "markdown",
   "id": "10",
   "metadata": {
    "deletable": false,
    "editable": false
   },
   "source": [
    "## Visualisierung"
   ]
  },
  {
   "cell_type": "markdown",
   "id": "11",
   "metadata": {
    "deletable": false,
    "editable": false
   },
   "source": [
    "Die folgende Zelle lädt den spiralförmigen Datensatz, mischt ihn zufällig und wendet DBScan Schritt für Schritt darauf an."
   ]
  },
  {
   "cell_type": "code",
   "execution_count": null,
   "id": "12",
   "metadata": {
    "deletable": false
   },
   "outputs": [],
   "source": [
    "df = clustering_example2.sample(frac=1).reset_index()\n",
    "animate_dbscan(dbscan, df, eps=2, min_pts=3)"
   ]
  },
  {
   "cell_type": "markdown",
   "id": "13",
   "metadata": {
    "deletable": false,
    "editable": false
   },
   "source": [
    "Auch auf den Datensatz, mit dem k-Means bereits gute Ergebnisse erzielte, lässt sich DBScan anwenden. Dann müssen jedoch die Werte `eps` und `min_pts` angepasst werden. Punkte, die DBScan als Rauschen erkennt, lassen sich dabei sehr gut ausmachen."
   ]
  },
  {
   "cell_type": "code",
   "execution_count": null,
   "id": "14",
   "metadata": {
    "deletable": false
   },
   "outputs": [],
   "source": [
    "df = clustering_example1.sample(frac=1).reset_index()\n",
    "animate_dbscan(dbscan, df, eps=0.3, min_pts=5)"
   ]
  },
  {
   "cell_type": "markdown",
   "id": "15",
   "metadata": {
    "deletable": false,
    "editable": false
   },
   "source": [
    "## Erweiterte Implementierungen\n",
    "Auch für DBScan existiert eine Implementierung in `sklearn`. Initialisieren Sie ein Objekt der Klasse `DBSCAN` und übergeben Sie passende Werte für `eps` und `min_samples` (`min_pts`). Rufen Sie anschließend `fit_predict` mit einem DataFrame auf. Die Rückgabe enthält ein Array mit Klassenzuordnungen."
   ]
  },
  {
   "cell_type": "code",
   "execution_count": null,
   "id": "16",
   "metadata": {
    "deletable": false
   },
   "outputs": [],
   "source": [
    "from sklearn.cluster import DBSCAN\n",
    "\n",
    "eps=2.4\n",
    "min_samples=5\n",
    "DBSCAN(eps=eps, min_samples=min_samples).fit_predict(df)"
   ]
  },
  {
   "cell_type": "markdown",
   "id": "17",
   "metadata": {
    "deletable": false,
    "editable": false
   },
   "source": [
    "In der nachfolgenden Zelle haben Sie die Möglichkeit mit den Parametern $eps$ und $min\\_samples$ zu experimentieren."
   ]
  },
  {
   "cell_type": "code",
   "execution_count": null,
   "id": "18",
   "metadata": {
    "deletable": false
   },
   "outputs": [],
   "source": [
    "interactive_dbscan(clustering_example1)"
   ]
  },
  {
   "cell_type": "markdown",
   "id": "4f228610-1a86-4154-991a-9f3fe19ab161",
   "metadata": {
    "deletable": false,
    "editable": false
   },
   "source": [
    "## Randnotiz\n",
    "Auch wenn DBScan bereits mehrere Jahrzehnte alt ist, werden Abwandlungen dieses Algorithmus noch immer eingesetzt. So verwendet beispielsweise die [freie Foto-Verwaltungssoftware Immich](https://immich.app/) DBScan, um [erkannte Gesichter zu clustern](https://immich.app/docs/features/facial-recognition/) und somit Personen zuzordnen."
   ]
  }
 ],
 "metadata": {
  "kernelspec": {
   "display_name": "Python 3 (ipykernel)",
   "language": "python",
   "name": "python3"
  },
  "language_info": {
   "codemirror_mode": {
    "name": "ipython",
    "version": 3
   },
   "file_extension": ".py",
   "mimetype": "text/x-python",
   "name": "python",
   "nbconvert_exporter": "python",
   "pygments_lexer": "ipython3",
   "version": "3.12.10"
  }
 },
 "nbformat": 4,
 "nbformat_minor": 5
}
