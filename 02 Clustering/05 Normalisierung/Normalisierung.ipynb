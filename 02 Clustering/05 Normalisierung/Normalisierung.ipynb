{
 "cells": [
  {
   "cell_type": "markdown",
   "id": "0",
   "metadata": {
    "deletable": false,
    "editable": false
   },
   "source": [
    "# Normalisierung\n",
    "In Fällen, in denen Achsen stark unterschiedlich skaliert sind, hat beispielsweise bei der Verwendung der euklidischen Distanz eine Achse stärkeren Einfluss auf den berechneten Abstand. Es kann daher vor dem Anwenden von k-Means oder DBScan nützlich sein, die Achsen gleichermaßen zu skalieren."
   ]
  },
  {
   "cell_type": "code",
   "execution_count": null,
   "id": "1",
   "metadata": {
    "deletable": false
   },
   "outputs": [],
   "source": [
    "import pandas as pd\n",
    "import plotly.express as px\n",
    "\n",
    "from tui_dsmt.clustering.datasets import clustering_example2"
   ]
  },
  {
   "cell_type": "code",
   "execution_count": null,
   "id": "2",
   "metadata": {
    "deletable": false
   },
   "outputs": [],
   "source": [
    "px.scatter(clustering_example2, x='x', y='y')"
   ]
  },
  {
   "cell_type": "markdown",
   "id": "3",
   "metadata": {
    "deletable": false,
    "editable": false
   },
   "source": [
    "`sklearn` bietet dazu verschiedene Methoden. Der Klasse `MinMaxScaler` kann ein Intervall $[a, b]$ übergeben werden, in den alle Werte abgebildet werden. Dabei werden alle Dimensionen separat behandelt. Für einen Wert $x$, entlang dessen Achse das Minimum $x_{min}$ und das Maximum $x_{max}$ gilt, lässt sich das wie folgt ausdrücken:\n",
    "\n",
    "$$\n",
    "x_{scaled} = \\frac{x - x_{min}}{x_{max} - x_{min}} * (b - a) + a\n",
    "$$\n",
    "\n",
    "Für das häufig verwendete Intervall $[0, 1]$ entfallen $a$ und $b$ aus der Gleichung."
   ]
  },
  {
   "cell_type": "code",
   "execution_count": null,
   "id": "4",
   "metadata": {
    "deletable": false
   },
   "outputs": [],
   "source": [
    "from sklearn.preprocessing import MinMaxScaler\n",
    "\n",
    "df_scaled = MinMaxScaler((0, 1)).fit_transform(clustering_example2)\n",
    "df_scaled = pd.DataFrame(df_scaled, columns=clustering_example2.columns)\n",
    "\n",
    "px.scatter(df_scaled, x='x', y='y')"
   ]
  },
  {
   "cell_type": "markdown",
   "id": "5",
   "metadata": {
    "deletable": false,
    "editable": false
   },
   "source": [
    "Die Klasse `StandardScaler` hingegen bildet die enthaltenen Werte so ab, dass diese mittelwertfrei sind und Einheitsvarianz ($1$) besitzen."
   ]
  },
  {
   "cell_type": "code",
   "execution_count": null,
   "id": "6",
   "metadata": {
    "deletable": false
   },
   "outputs": [],
   "source": [
    "from sklearn.preprocessing import StandardScaler\n",
    "\n",
    "df_scaled = StandardScaler().fit_transform(clustering_example2)\n",
    "df_scaled = pd.DataFrame(df_scaled, columns=clustering_example2.columns)\n",
    "\n",
    "px.scatter(df_scaled, x='x', y='y')"
   ]
  }
 ],
 "metadata": {
  "kernelspec": {
   "display_name": "Python 3 (ipykernel)",
   "language": "python",
   "name": "python3"
  },
  "language_info": {
   "codemirror_mode": {
    "name": "ipython",
    "version": 3
   },
   "file_extension": ".py",
   "mimetype": "text/x-python",
   "name": "python",
   "nbconvert_exporter": "python",
   "pygments_lexer": "ipython3",
   "version": "3.10.12"
  }
 },
 "nbformat": 4,
 "nbformat_minor": 5
}
