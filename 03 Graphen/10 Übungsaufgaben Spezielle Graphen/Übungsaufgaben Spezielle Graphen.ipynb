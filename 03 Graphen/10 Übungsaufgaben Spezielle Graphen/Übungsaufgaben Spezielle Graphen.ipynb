{
 "cells": [
  {
   "cell_type": "markdown",
   "id": "58083c93-4d7c-4822-b821-28c2c9dbbdf7",
   "metadata": {
    "deletable": false,
    "editable": false
   },
   "source": [
    "# Übungsaufgaben zu speziellen (Teil-) Graphen"
   ]
  },
  {
   "cell_type": "code",
   "execution_count": null,
   "id": "cb5b4b3f-65c2-4de2-995a-da7a2d5856da",
   "metadata": {
    "deletable": false,
    "editable": false
   },
   "outputs": [],
   "source": [
    "import networkx as nx\n",
    "import matplotlib.pyplot as plt\n",
    "\n",
    "from graph_data import draw, G, pos"
   ]
  },
  {
   "cell_type": "markdown",
   "id": "68022e31-3616-446e-86ba-b56451579b48",
   "metadata": {
    "deletable": false,
    "editable": false
   },
   "source": [
    "## Aufgabe 1\n",
    "Zuerst betrachten wir noch einmal den Graphen mit allen Ortschaften und den Kosten der Bauarbeiten zwischen ihnen."
   ]
  },
  {
   "cell_type": "code",
   "execution_count": null,
   "id": "550efcc0-bfa5-4d40-99e7-bff87a455a0a",
   "metadata": {
    "deletable": false,
    "editable": false
   },
   "outputs": [],
   "source": [
    "draw(G, pos)"
   ]
  },
  {
   "cell_type": "markdown",
   "id": "797dabe6-4864-4355-a3a6-26b6ee224adb",
   "metadata": {
    "deletable": false,
    "editable": false
   },
   "source": [
    "In einem vergangenen Abschnitt haben Sie den Algorithmus von Kruskal bereits einmal in Aktion erlebt. Dieser findet einen minimalen Spannbaum und (wenn der Sortieralgorithmus stabil ist) immer den selben."
   ]
  },
  {
   "cell_type": "code",
   "execution_count": null,
   "id": "fb52a641-eef7-43fa-8d96-3a0032dea5e5",
   "metadata": {
    "deletable": false,
    "editable": false
   },
   "outputs": [],
   "source": [
    "def kruskal(graph):\n",
    "    edges = [(u, v, graph.get_edge_data(u, v)['weight']) for u, v in graph.edges]\n",
    "    sorted_edges = sorted(edges, key=lambda x: x[2])\n",
    "\n",
    "    MST = nx.Graph()\n",
    "    MST.add_nodes_from(graph.nodes)\n",
    "\n",
    "    for u, v, weight in sorted_edges:\n",
    "        MST.add_edge(u, v, weight=weight)\n",
    "\n",
    "        if len(list(nx.all_simple_paths(MST, u, v))) >= 2:\n",
    "            MST.remove_edge(u, v)\n",
    "\n",
    "    return MST\n",
    "\n",
    "draw(kruskal(G), pos)"
   ]
  },
  {
   "cell_type": "markdown",
   "id": "51a03703-f974-4285-a028-23eb7102dcf2",
   "metadata": {
    "deletable": false,
    "editable": false
   },
   "source": [
    "Es können in einem Graphen aber natürlich mehrere minimale Spannbäume existieren. Die Kante zwischen Sonnerberg und Steinach wird nur nicht aufgenommen, weil sie in der Liste der sortierten Kanten nach den Verbindungen zwischen Lauscha und Steinach und Lauscha und Sonneberg einsortiert wird. Da sie abe alle das gleiche Gewicht besitzen, können also zwei beliebige aus diesen drei Kanten ausgewählt werden.\n",
    "\n",
    "Verändern Sie den Algorithmus von Kruskal nun so, dass er alle minimalen Spannbäume als Liste zurückgibt."
   ]
  },
  {
   "cell_type": "code",
   "execution_count": null,
   "id": "20001b56-a428-4c7f-909b-21ec03883bab",
   "metadata": {
    "deletable": false
   },
   "outputs": [],
   "source": [
    "all_msts = []\n",
    "\n",
    "...\n",
    "\n",
    "all_msts"
   ]
  },
  {
   "cell_type": "code",
   "execution_count": null,
   "id": "d24bfc61-de89-45fa-b8c3-cce4bb921d4d",
   "metadata": {
    "deletable": false,
    "editable": false
   },
   "outputs": [],
   "source": [
    "for mst in all_msts:\n",
    "    draw(mst, pos)\n",
    "    plt.show()"
   ]
  }
 ],
 "metadata": {
  "kernelspec": {
   "display_name": "Python 3 (ipykernel)",
   "language": "python",
   "name": "python3"
  },
  "language_info": {
   "codemirror_mode": {
    "name": "ipython",
    "version": 3
   },
   "file_extension": ".py",
   "mimetype": "text/x-python",
   "name": "python",
   "nbconvert_exporter": "python",
   "pygments_lexer": "ipython3",
   "version": "3.10.12"
  }
 },
 "nbformat": 4,
 "nbformat_minor": 5
}
