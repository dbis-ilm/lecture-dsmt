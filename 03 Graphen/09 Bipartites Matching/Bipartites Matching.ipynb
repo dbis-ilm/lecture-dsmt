{
 "cells": [
  {
   "cell_type": "markdown",
   "id": "d1fb8949-ab57-4301-8588-419524f4c342",
   "metadata": {
    "deletable": false,
    "editable": false
   },
   "source": [
    "# Bipartites Matching\n",
    "Bipartite Graphen lassen sich in zwei Teilmengen unterteilen, sodass Kanten nur zwischen diesen, nicht aber innerhalb dieser Teilmengen verlaufen. Mit ihnen lassen sich spezielle Zuordnungsprobleme modellieren, die in diesem Abschnitt betrachtet werden sollen."
   ]
  },
  {
   "cell_type": "code",
   "execution_count": null,
   "id": "311e921c-dcea-4b8d-9b59-49829c421b12",
   "metadata": {
    "deletable": false
   },
   "outputs": [],
   "source": [
    "import networkx as nx\n",
    "from graph_data import powerset, neighbors, draw, small_G"
   ]
  },
  {
   "cell_type": "markdown",
   "id": "ebf68a3c-195c-4b90-a610-e1e3d0871dde",
   "metadata": {
    "deletable": false,
    "editable": false
   },
   "source": [
    "## Inhaltsverzeichnis\n",
    "- [Beispiel: Praktika](#Beispiel-Praktika)\n",
    "- [Definition](#Definition)\n",
    "- [Naiver Ansatz](#Naiver-Ansatz)\n",
    "- [Satz von Hall](#Satz-von-Hall)\n",
    "- [Maximum Flow Algorithmen](#Maximum-Flow-Algorithmen)"
   ]
  },
  {
   "cell_type": "markdown",
   "id": "c175110a-2ff7-4aa7-9aab-b63f65ce9591",
   "metadata": {
    "deletable": false,
    "editable": false
   },
   "source": [
    "## Beispiel: Praktika\n",
    "Studenten müssen ein Praktikum in einem der vielen Praktikumsbetriebe absolvieren. Allerdings schränkt jeder Praktikumsbetrieb sein Angebot auf bestimmte Fachrichtungen und Vorkenntnisse ein. Es kommt also nicht jeder Student für jeden Praktikumsplatz in Frage.\n",
    "\n",
    "Modelliert man jeweils Studenten (Buchstaben) und Betriebe (Ziffern) als Knoten und die Möglichkeit eines Praktikums als Kante, ergibt sich das bereits bekannte Bild:"
   ]
  },
  {
   "cell_type": "code",
   "execution_count": null,
   "id": "7a0fed15-eec9-42e6-95aa-9aa5496e9d2f",
   "metadata": {
    "deletable": false
   },
   "outputs": [],
   "source": [
    "draw(small_G)"
   ]
  },
  {
   "cell_type": "markdown",
   "id": "67d64d49-1a1e-410e-aacd-6eef05b319ef",
   "metadata": {
    "deletable": false,
    "editable": false
   },
   "source": [
    "Um ein gutes Matching zu gewährleisten, müssen nun aber einige Dinge beachtet werden:\n",
    "- $A$ und $D$ können jeweils nur einem Betrieb zugeordnet werden. Wird eine andere Person den besagten Betrieben zugeordnet, so gehen $A$ oder $D$ leer aus.\n",
    "- Für Betrieb $3$ kommt nur Student $C$ in Frage. Wird dieser nicht Betrieb $3$ zugeordnet, geht Betrieb $3$ leer aus."
   ]
  },
  {
   "cell_type": "markdown",
   "id": "37908e38-72dc-447e-bb30-a80a1abd2f9e",
   "metadata": {
    "deletable": false,
    "editable": false
   },
   "source": [
    "## Definition\n",
    "Ein Graph $G = (V, E)$ ist genau dann bipartit, wenn sich seine Knoten $V$ in zwei disjunkte Teilmengen $A$ und $B$ aufteilen lassen, sodass keine Kanten innerhalb der Mengen verlaufen. Es gilt also $A \\cup B = V$ und $A \\cap B = \\emptyset$ und $\\forall (a, b) \\in E : a \\in A \\land b \\in B \\lor a \\in B \\land b \\in A$.\n",
    "\n",
    "Eine Menge $M \\subseteq E$ heißt Matching, wenn jeder Knoten im Graph $(V, M)$ maximal Knotengrad $1$ besitzt bzw. keine zwei Kanten aus $M$ einen Knoten gemeinsam haben. (Jeder Knoten wird also maximal einem anderen Knoten zugeordnet.) Je nach Modellierung des Problems lassen sich Matchings in verschiedene Kategorien einteilen:\n",
    "1. Ein Matching heißt **größtmöglich**, falls es die größte Kantenanzahl unter allen Matchings des Graphen besitzt.\n",
    "2. Ein Matching heißt **perfekt**, falls jeder Knoten gematcht wurde bzw. halb so viele Kanten in $M$ enthalten sind wie $V$ Knoten besitzt."
   ]
  },
  {
   "cell_type": "markdown",
   "id": "11832f0b-c760-43cb-8738-2ccd0f0abd89",
   "metadata": {
    "deletable": false,
    "editable": false
   },
   "source": [
    "## Naiver Ansatz\n",
    "Brute-Force funktioniert (fast) immer. Ein erster Ansatz könnte also sein, alle möglichen Kombinationen von Kanten zu testen und die vielversprechendsten Kandidaten zu übernehmen. Vorgegangen wird nach folgendem Schema:\n",
    "- Jede verfügbare Kante aus $E$ kann entweder in $M$ übernommen oder nicht übernommen werden. Es ergeben sich daher $2^{|E|}$ potentielle Kandidaten.\n",
    "- Sobald ein Knoten innerhalb eines Kandidaten den Grad $2$ erreicht, ist das Matching ungültig.\n",
    "- Die verbleibenden Kandidaten für $M$ werden bewertet und der beste ausgewählt."
   ]
  },
  {
   "cell_type": "code",
   "execution_count": null,
   "id": "584f46db-f87d-4b6f-9488-03ed3d67b908",
   "metadata": {
    "deletable": false
   },
   "outputs": [],
   "source": [
    "# Diese Funktion bewertet ein Matching.\n",
    "def rate_matching(graph):\n",
    "    degree_sum = 0\n",
    "\n",
    "    for node, degree in graph.degree:\n",
    "        # Matchings mit Knotengrad > 1 ausschließen\n",
    "        if degree > 1:\n",
    "            return None\n",
    "\n",
    "        # Matchings mit Punktzahl versehen\n",
    "        degree_sum += degree\n",
    "\n",
    "    return degree_sum\n",
    "\n",
    "\n",
    "# Diese Funktion generiert alle 2^|E| Kandidaten für das Matching.\n",
    "def enumerate_matchings(graph, edges):\n",
    "    # keine Kanten mehr vorhanden\n",
    "    # Rekursionsabbruch\n",
    "    if len(edges) == 0:\n",
    "        # Matching bewerten\n",
    "        rating = rate_matching(graph)\n",
    "\n",
    "        # falls Matching gültig ist\n",
    "        if rating is not None:\n",
    "            yield graph.copy(), rating\n",
    "\n",
    "        return\n",
    "\n",
    "    # eine Kante entnehmen\n",
    "    edge = edges[0]\n",
    "\n",
    "    # rekursiver Aufruf mit dieser Kante\n",
    "    graph.add_edge(*edge)\n",
    "    yield from enumerate_matchings(graph, edges[1:])\n",
    "\n",
    "    # rekursiver Aufruf ohne diese Kante\n",
    "    graph.remove_edge(*edge)\n",
    "    yield from enumerate_matchings(graph, edges[1:])\n",
    "\n",
    "\n",
    "# Anlegen des leeren Graphen und der Kantenliste\n",
    "empty_matching = nx.Graph()\n",
    "small_G_edges = list(small_G.edges)\n",
    "\n",
    "# alle Matchings generieren\n",
    "matchings = list(enumerate_matchings(empty_matching, small_G_edges))\n",
    "\n",
    "# beste Matchings suchen\n",
    "_, max_rating = max(matchings, key=lambda x: x[1])\n",
    "best_matchings = [graph for graph, rating in matchings if rating == max_rating]\n",
    "\n",
    "for graph in best_matchings:\n",
    "    draw(graph)"
   ]
  },
  {
   "cell_type": "markdown",
   "id": "3112306c-2225-4520-8354-26e32244922e",
   "metadata": {
    "deletable": false,
    "editable": false
   },
   "source": [
    "Für nicht-triviale Graphen ergibt sich aber das Problem der Komplexität. Bei zehn möglichen Kanten müssen $1024$ Kandidaten geprüft werden. Bei zwanzig möglichen Kanten sind es bereits mehr als eine Million Kandidaten. Auch wenn es durch Umbau des Algorithmus möglich ist, viele potentielle Matchings bereits sehr früh auszuschließen, ist eine erschöpfende Suche in größeren Graphen keine realistische Option."
   ]
  },
  {
   "cell_type": "markdown",
   "id": "c75b2bef-c844-49a6-8ecd-429ee31cffe6",
   "metadata": {
    "deletable": false,
    "editable": false
   },
   "source": [
    "## Satz von Hall\n",
    "Der Satz von Hall ist ein notwendiges und (nicht offensichtlich) sogar hinreichendes Kriterium zur Existenz eines Matchings. Der Satz ist auch als Heiratssatz bekannt, da das zugrundeliegende Problem häufig mit Damen, die verheiratet werden sollten, aber nicht mit jedem zur Verfügung stehenden Kandidaten zufrieden sind, veranschaulicht wurde.\n",
    "\n",
    "Sei der Graph nun wieder gegeben als $G = (V, E)$ und bipartit, es gibt also disjunkte Teilmengen $A$ und $B$ der Knotenmenge $V$. Weiterhin existiert eine Abbildung $N$, die jeder Menge von Knoten die ihnen durch eine Kante verbundenen Knoten bzw. Nachbarn zuordnet:\n",
    "\n",
    "$$\n",
    "N(A) = \\{ b \\in B : \\exists (a, b) \\in E \\land a \\in A \\}\n",
    "$$\n",
    "\n",
    "\n",
    "Nach dem Satz von Hall sind nun die folgenden Aussagen äquivalent:\n",
    "1. Es gibt ein Matching, in dem jedem Knoten von $A$ ein Knoten aus $B$ zugeordnet wird.\n",
    "2. Für jede Teilmenge $S \\subseteq A$ gilt $|N(S)| \\geq |S|$."
   ]
  },
  {
   "cell_type": "markdown",
   "id": "99d377dc-b489-4a1e-a765-d3e9046d112c",
   "metadata": {
    "deletable": false,
    "editable": false
   },
   "source": [
    "Auch zur Prüfung dieses Kriteriums ist die Berechnung aller Teilmengen von $A$ und $B$ notwendig, sodass insgesamt $2^{|A|+|B|}$ Teilmengen betrachtet werden müssen."
   ]
  },
  {
   "cell_type": "code",
   "execution_count": null,
   "id": "33ef6837-5b3c-4a14-9069-8d2d0cd74288",
   "metadata": {
    "deletable": false
   },
   "outputs": [],
   "source": [
    "A = {'A', 'B', 'C', 'D'}\n",
    "B = {'1', '2', '3', '4'}"
   ]
  },
  {
   "cell_type": "code",
   "execution_count": null,
   "id": "721d0f55-7eee-475e-99d9-a0bc93688664",
   "metadata": {
    "deletable": false
   },
   "outputs": [],
   "source": [
    "# TODO schöne Animation\n",
    "# - vollständiger Graphen\n",
    "# - Hervorheben der aktuell betrachteten Teilmenge\n",
    "# - Hervorheben der verbundenen Nachbarn\n",
    "# - Überprüfung des Kriteriums für den gegebenen Graphen"
   ]
  },
  {
   "cell_type": "markdown",
   "id": "7f73be19-db6c-4c9f-988a-9134a691cf66",
   "metadata": {
    "deletable": false,
    "editable": false
   },
   "source": [
    "## Maximum Flow Algorithmen\n",
    "Eine der einfachsten Methoden zur Lösung des Matching-Problems ist die Anwendung von Maximum-Flow-Algorithmen. Dazu werden die künstlichen Knoten für die Quelle $s$ und die Senke $t$ eingefügt. $s$ erhält jeweils eine Kante zu allen Knoten der Teilmenge $A$, während $t$ analog eine Kante zu jedem Knoten der Teilmenge $B$ erhält. Als Kapazität wird für jede einzelne Kante zunächst $1$ angenommen."
   ]
  },
  {
   "cell_type": "code",
   "execution_count": null,
   "id": "58405717-3b14-424e-9203-f276f6c4ba9c",
   "metadata": {
    "deletable": false
   },
   "outputs": [],
   "source": [
    "# TODO Darstellung ähnlich zu bipartit\n",
    "# s nach links, t nach rechts - unabhängig vom Rest\n",
    "flow_G = nx.Graph()\n",
    "\n",
    "for source, target in small_G.edges:\n",
    "    flow_G.add_edge(source, target, capacity=1)\n",
    "for node in A:\n",
    "    flow_G.add_edge('s', node, capacity=1)\n",
    "for node in B:\n",
    "    flow_G.add_edge(node, 't', capacity=1)\n",
    "\n",
    "nx.draw(flow_G, with_labels=True)"
   ]
  },
  {
   "cell_type": "code",
   "execution_count": null,
   "id": "2a5694d9-506d-4a3d-9b8b-9cd55ab6ac79",
   "metadata": {
    "deletable": false
   },
   "outputs": [],
   "source": [
    "# TODO Darstellung mit Hervorheben der Kanten\n",
    "nx.maximum_flow(flow_G, 's', 't')"
   ]
  },
  {
   "cell_type": "markdown",
   "id": "379ab559-e194-4da3-8cc3-3ca895aa297b",
   "metadata": {
    "deletable": false,
    "editable": false
   },
   "source": [
    "**Verständnisfrage:** Wie müssen die Kapazitäten verändert werden, wenn beispielsweise ein Betrieb mehrere Studenten aufnehmen kann."
   ]
  }
 ],
 "metadata": {
  "kernelspec": {
   "display_name": "Python 3 (ipykernel)",
   "language": "python",
   "name": "python3"
  },
  "language_info": {
   "codemirror_mode": {
    "name": "ipython",
    "version": 3
   },
   "file_extension": ".py",
   "mimetype": "text/x-python",
   "name": "python",
   "nbconvert_exporter": "python",
   "pygments_lexer": "ipython3",
   "version": "3.10.12"
  }
 },
 "nbformat": 4,
 "nbformat_minor": 5
}
