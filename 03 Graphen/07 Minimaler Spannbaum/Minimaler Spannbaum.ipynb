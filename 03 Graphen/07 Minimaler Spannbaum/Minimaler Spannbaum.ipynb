{
 "cells": [
  {
   "cell_type": "markdown",
   "id": "bb36d075-1de7-41cc-86f9-ae88968e68ce",
   "metadata": {
    "deletable": false,
    "editable": false
   },
   "source": [
    "# Minimaler Spannbaum\n",
    "Aus jedem zusammenhängenden Graph kann ein Teil der Kanten ausgewählt werden, sodass sich ein Baum ergibt. In diesem Abschnitt werden Spannbäume definiert und anhand eines gewichteten Graphen ein Beispiel konstruiert."
   ]
  },
  {
   "cell_type": "code",
   "execution_count": null,
   "id": "890f70a9-4955-48fa-a516-d18d0e43fa89",
   "metadata": {
    "deletable": false
   },
   "outputs": [],
   "source": [
    "import networkx as nx\n",
    "import matplotlib.pyplot as plt\n",
    "\n",
    "from graph_data import draw, G, pos"
   ]
  },
  {
   "cell_type": "markdown",
   "id": "d98dcc55-0079-4308-942f-de15a4ff3a73",
   "metadata": {
    "deletable": false,
    "editable": false
   },
   "source": [
    "## Inhaltsverzeichnis\n",
    "- [Definition](#Definition)\n",
    "- [Beispiel: Klingeldraht](#Beispiel-Klingeldraht)\n",
    "- [Algorithmus von Kruskal](#Algorithmus-von-Kruskal)\n",
    "- [Animierter Algorithmus von Kruskal](#Animierter-Algorithmus-von-Kruskal)"
   ]
  },
  {
   "cell_type": "markdown",
   "id": "580bd24f-690e-497b-b4d7-210a4b497856",
   "metadata": {
    "deletable": false,
    "editable": false
   },
   "source": [
    "## Definition\n",
    "### Spannbaum\n",
    "Ein Spannbaum oder auch aufspannender Baum ist ein Teilgraph eines ungerichteten, zusammenhängenden Graphen, der alle Knoten enthält und gleichzeitig die Eigenschaften eines Baumes (zusammenhängend, kreisfrei) erfüllt. Wie das folgende Beispiel zeigt, können für einen Graphen mehrere Spannbäume existieren."
   ]
  },
  {
   "cell_type": "code",
   "execution_count": null,
   "id": "9572d2b6-6193-4213-bf22-47c9a467f704",
   "metadata": {
    "deletable": false
   },
   "outputs": [],
   "source": [
    "complete_graph = nx.complete_graph(4)\n",
    "\n",
    "plt.subplot(121)\n",
    "nx.draw_circular(complete_graph, with_labels=True, font_color='whitesmoke',\n",
    "                 edge_color=['red', 'red', 'lightgray', 'lightgray', 'lightgray', 'red'])\n",
    "\n",
    "plt.subplot(122)\n",
    "nx.draw_circular(complete_graph, with_labels=True, font_color='whitesmoke',\n",
    "                 edge_color=['lightgray', 'lightgray', 'red', 'red', 'red', 'lightgray'])"
   ]
  },
  {
   "cell_type": "markdown",
   "id": "5d993203-ee99-4189-a5ad-352b640df950",
   "metadata": {
    "deletable": false,
    "editable": false
   },
   "source": [
    "### Minimaler Spannbaum\n",
    "Wird den Kanten ein Gewicht zugeordnet bzw. handelt es sich um einen gewichteten Graphen, dann lässt sich zudem ein minimaler Spannbaum finden. Ein Spannbaum heißt genau dann minimal, wenn er die niedrigste Summe der Gewichte der hinzugefügten Kanten aller Spannbäume besitzt bzw. es keinen Spannbaum gibt, der eine niedrigere Gewichtssumme enthält.\n",
    "\n",
    "**Verständnisfrage:** Wie müssen die Gewichte für die Kanten gewählt werden, sodass der minimale Spannbaum mit dem Spannbaum mit der geringsten Anzahl an Kanten übereinstimmt?"
   ]
  },
  {
   "cell_type": "markdown",
   "id": "060856f6-d965-4ec0-993b-4a47601eebab",
   "metadata": {
    "deletable": false,
    "editable": false
   },
   "source": [
    "## Beispiel: Klingeldraht\n",
    "In diesem Szenario wird ein Provider dazu verpflichtet, jeden Ort mit einem kabelgebundenen Internetanschluss zu versorgen. Es werden dabei weder Vorgaben zur Topologie noch zur Redundanz gemacht. In einen Graphen transformiert könnte das Problem für ausgewählte Orte wie folgt dargestellt werden. Die Orte stellen dabei die Knoten, während die Kanten durch ein potentielles Kabel zwischen zwei Orten gebildet werden."
   ]
  },
  {
   "cell_type": "code",
   "execution_count": null,
   "id": "7521616b-782e-4af8-98a7-668e419d7be9",
   "metadata": {
    "deletable": false
   },
   "outputs": [],
   "source": [
    "draw(G, pos)"
   ]
  },
  {
   "cell_type": "markdown",
   "id": "a76ebb85-7995-4711-b5f5-45aad872564c",
   "metadata": {
    "deletable": false,
    "editable": false
   },
   "source": [
    "Der Graph ist nicht vollständig, da auf Grund der Bodenbeschaffenheit nicht jede Gemeinde mit jeder anderen verbunden werden kann. Außerdem wird jeder Kante ein Gewicht zugeordnet, das die Baukosten für das entsprechende Kabel schätzt.\n",
    "\n",
    "Die Aufgabe ist nun im Sinne der Wirtschaftlichkeit klar: Es sollen Kabel so gewählt werden, dass die Aufgabe erfüllt und der Bau trotzdem möglichst günstig ist. Übertragen auf den Graphen bedeutet dies, dass eine Menge von Kanten ausgewählt werden muss, sodass ein minimaler Spannbaum entsteht."
   ]
  },
  {
   "cell_type": "markdown",
   "id": "5db459ab-8e10-469c-82a7-76f5f7bacdeb",
   "metadata": {
    "deletable": false,
    "editable": false
   },
   "source": [
    "## Algorithmus von Kruskal\n",
    "Der Algorithmus von Kruskal ist ein sehr einfacher Greedy-Algorithmus zur Berechnung **eines** minimalen Spannbaumes. Seine Funktionsweise lässt sich dabei sogar in einem Satz zusammenfassen: *Starte mit einer leeren Kantenmenge und füge in jedem Schritt genau die Kante hinzu, welche von den verbleibenden das geringste Gewicht besitzt und keinen Kreis im entstehenden Spannbaum bilden würde.*\n",
    "\n",
    "In Python lässt sich der Algorithmus wie folgt formulieren. Zuerst werden alle Kanten nach ihrem Gewicht sortiert:"
   ]
  },
  {
   "cell_type": "code",
   "execution_count": null,
   "id": "7f8172f9-0d74-4db2-845f-9b186c29691c",
   "metadata": {
    "deletable": false
   },
   "outputs": [],
   "source": [
    "edges = [(u, v, G.get_edge_data(u, v)['weight']) for u, v in G.edges]\n",
    "sorted_edges = sorted(edges, key=lambda x: x[2])\n",
    "\n",
    "sorted_edges"
   ]
  },
  {
   "cell_type": "markdown",
   "id": "30f6aa67-1191-4388-bed1-1de45b8bfd40",
   "metadata": {
    "deletable": false,
    "editable": false
   },
   "source": [
    "Nachfolgend wird ein neuer Graph erstellt, der alle Knoten enthält."
   ]
  },
  {
   "cell_type": "code",
   "execution_count": null,
   "id": "48802d78-0dd2-46ae-9d02-69b5bcf3d0e9",
   "metadata": {
    "deletable": false
   },
   "outputs": [],
   "source": [
    "MST = nx.Graph()\n",
    "MST.add_nodes_from(G.nodes)\n",
    "\n",
    "str(MST)"
   ]
  },
  {
   "cell_type": "markdown",
   "id": "2828613c-ea87-4b20-a29f-6b99835adcc6",
   "metadata": {
    "deletable": false,
    "editable": false
   },
   "source": [
    "Zuletzt werden nach und nach alle Kanten in der Reihenfolge ihres Gewichts hinzugefügt, die keinen Kreis bilden:"
   ]
  },
  {
   "cell_type": "code",
   "execution_count": null,
   "id": "1d46f14e-a5e5-44a4-a16f-c56080d3965c",
   "metadata": {
    "deletable": false
   },
   "outputs": [],
   "source": [
    "for u, v, weight in sorted_edges:\n",
    "    # Kante hinzufügen\n",
    "    MST.add_edge(u, v, weight=weight)\n",
    "\n",
    "    # Prüfen, ob zwei Pfade zwischen Quell- und Ziel-\n",
    "    # Knoten existieren. Wenn das der Fall ist, fügt\n",
    "    # die Kante einen Kreis hinzu.\n",
    "    if len(list(nx.all_simple_paths(MST, u, v))) >= 2:\n",
    "        # Kante wieder entfernen, falls ein Kreis\n",
    "        # durch sie hinzugefügt wurde.\n",
    "        MST.remove_edge(u, v)\n",
    "\n",
    "str(MST)"
   ]
  },
  {
   "cell_type": "markdown",
   "id": "a0315d85-1673-4e0a-a4a0-b83f1f31ddcd",
   "metadata": {
    "deletable": false,
    "editable": false
   },
   "source": [
    "Der entstandene Baum sieht dann wie folgt aus."
   ]
  },
  {
   "cell_type": "code",
   "execution_count": null,
   "id": "5ddc42b2-9390-4bc2-a25d-4f843d5c0a3a",
   "metadata": {
    "deletable": false
   },
   "outputs": [],
   "source": [
    "draw(MST, pos)"
   ]
  },
  {
   "cell_type": "markdown",
   "id": "0fca9294-52ed-436c-b207-b2fe586d4fc0",
   "metadata": {
    "deletable": false,
    "editable": false
   },
   "source": [
    "## Animierter Algorithmus von Kruskal"
   ]
  },
  {
   "cell_type": "code",
   "execution_count": null,
   "id": "0757d5d3-5d4f-4ecc-9484-99e24532e2fb",
   "metadata": {
    "deletable": false
   },
   "outputs": [],
   "source": [
    "from tui_dsmt.graph import Kruskal\n",
    "Kruskal(G, pos)"
   ]
  }
 ],
 "metadata": {
  "kernelspec": {
   "display_name": "Python 3 (ipykernel)",
   "language": "python",
   "name": "python3"
  },
  "language_info": {
   "codemirror_mode": {
    "name": "ipython",
    "version": 3
   },
   "file_extension": ".py",
   "mimetype": "text/x-python",
   "name": "python",
   "nbconvert_exporter": "python",
   "pygments_lexer": "ipython3",
   "version": "3.10.12"
  }
 },
 "nbformat": 4,
 "nbformat_minor": 5
}
