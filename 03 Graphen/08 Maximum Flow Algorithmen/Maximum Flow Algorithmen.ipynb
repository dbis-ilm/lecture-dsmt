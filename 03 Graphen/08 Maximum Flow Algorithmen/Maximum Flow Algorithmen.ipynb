{
 "cells": [
  {
   "cell_type": "markdown",
   "id": "18a0a9ef-4d6a-48bf-94a1-6233037ce71c",
   "metadata": {
    "deletable": false,
    "editable": false
   },
   "source": [
    "# Maximum Flow Algorithmen\n",
    "Mit Flussgraphen lassen sich alle Probleme modellieren, bei denen ein Fluss von einer Quelle zu einer Senke stattfindet. Dazu zählen beispielsweise Rohrleitungen und Kabel, aber auch Betrachtungen des Straßenverkehrs."
   ]
  },
  {
   "cell_type": "code",
   "execution_count": null,
   "id": "66c928ff-c9a7-49f1-8a28-4546be2840de",
   "metadata": {
    "deletable": false
   },
   "outputs": [],
   "source": [
    "from tui_dsmt.graph import MaximumFlow, FordFulkerson, EdmondsKarp\n",
    "from graph_data import G, G2"
   ]
  },
  {
   "cell_type": "markdown",
   "id": "2d2a041b-c064-4f06-99f9-c2db0d406021",
   "metadata": {
    "deletable": false,
    "editable": false
   },
   "source": [
    "## Inhaltsverzeichnis\n",
    "- [Flussgraphen](#Flussgraphen)\n",
    "- [Ford-Fulkerson-Algorithmus](#Ford-Fulkerson-Algorithmus)\n",
    "- [Komplexität durch Pfadwahl](#Komplexität-durch-Pfadwahl)\n",
    "- [Edmonds-Karp-Algorithmus](#Edmonds-Karp-Algorithmus)\n",
    "- [Kantengewichte und maximaler Fluss](#Kantengewichte-und-maximaler-Fluss)"
   ]
  },
  {
   "cell_type": "markdown",
   "id": "c49e93a7-bce8-4b2f-814e-0cd8adc9e2b3",
   "metadata": {
    "deletable": false,
    "editable": false
   },
   "source": [
    "## Flussgraphen\n",
    "Ein **Flussgraph** - häufig auch als *Netzwerk* bezeichnet - ist ein <u>gerichteter</u> Graph $G = (V, E)$ mit zwei besonderen Knoten. $s$ bezeichnet eine Quelle (**S**ource) und $t$ eine Senke (**T**arget). Zusätzlich existiert eine Funktion $u : E \\rightarrow \\mathbb{R}_+$, die jeder Kante eine nichtnegative **Kapazität** zuweist.\n",
    "\n",
    "Ein **Fluss** ist eine Funktion $f : E \\rightarrow \\mathbb{R}_+$, die jeder Kante einen nichtnegativen Fluss zuweist. Für den Fluss müssen zwei Bedingungen gelten:\n",
    "- Der Fluss muss kleiner oder gleich der Kapazität sein: $\\forall e \\in E : f(e) \\leq u(e)$\n",
    "- Abgesehen von der Quelle und der Senke muss in jeden Knoten so viel hinein- wie hinausfließen."
   ]
  },
  {
   "cell_type": "markdown",
   "id": "6a04b530-f454-4754-b1b4-a0f38a4521d9",
   "metadata": {
    "deletable": false,
    "editable": false
   },
   "source": [
    "Im Beispiel der Rohrleitungen könnte es sich bei den Knoten um Pumpen handeln. Währenddessen beschreibt die Kapazität den maximalen Durchfluss und der Fluss den aktuellen Durchfluss. Fluss und Kapazität werden in grafischen Darstellungen in der Regel durch einen Schrägstrich getrennt neben der jeweiligen Kante notiert."
   ]
  },
  {
   "cell_type": "code",
   "execution_count": null,
   "id": "1a65fd26-bfd4-4bbb-b3b5-90892714a29b",
   "metadata": {
    "deletable": false
   },
   "outputs": [],
   "source": [
    "MaximumFlow(G)"
   ]
  },
  {
   "cell_type": "markdown",
   "id": "57032a8f-840c-43b5-bc57-4dc39b7db805",
   "metadata": {
    "deletable": false,
    "editable": false
   },
   "source": [
    "## Ford-Fulkerson-Algorithmus\n",
    "Der Algorithmus von Ford und Fulkerson versucht Pfade von der Quelle zur Senke und währenddessen den Fluss kontinuierlich zu erhöhen. Es sind jedoch noch weitere Konzepte notwendig, um den Algorithmus zu verstehen:\n",
    "- Der **Residualgraph** besitzt die gleichen Knoten- und Kantenmengen, wird aber zusätzlich um Rückkanten erweitert. (Für jede gerichtete Kante wird eine Kante mit vertauschten Start- und Zielknoten eingefügt.)\n",
    "- Ein **augmentierender Pfad** verbindet Quelle und Senke und besitzt freie Kapazitäten zur Erhöhung des Flusses.\n",
    "- Ein **Flaschenhals** ist die Kante entlang eines Pfades, welche die geringste verbleibende Kapazität besitzt.\n",
    "\n",
    "Der Algorithmus arbeitet dann wie folgt:\n",
    "1. Aus dem Graphen wird der Residualgraph gebildet.\n",
    "2. Jeder Kante wird der Fluss $0$ zugeordnet.\n",
    "3. Solange ein Pfad von $s$ nach $t$ **im Residualgraphen** gefunden werden kann\n",
    "    1. ist der Wert des Flaschenhalses zu bestimmen,\n",
    "    2. für alle Kanten im Pfad zum Fluss der Wert des Flaschenhalses zu addieren und\n",
    "    3. für alle Gegenkanten des Pfades vom Fluss der Wert des Flaschenhalses zu subtrahieren.\n",
    "\n",
    "Für rationale Kapazitäten endet der Algorithmus in endlicher Zeit."
   ]
  },
  {
   "cell_type": "code",
   "execution_count": null,
   "id": "01c41544-96c1-41d2-8954-0f3de1330805",
   "metadata": {
    "deletable": false
   },
   "outputs": [],
   "source": [
    "FordFulkerson(G)"
   ]
  },
  {
   "cell_type": "markdown",
   "id": "c8ffcd46-ee7c-4e34-b4ea-8060e9c1e850",
   "metadata": {
    "deletable": false,
    "editable": false
   },
   "source": [
    "In den Schritten $4$ und $5$ ist im Beispiel gut zu sehen, wofür der Residualgraph mit den Rückkanten gebraucht wird. Um einen maximalen Fluss zu erreichen, muss in diesen Schritten der Fluss der Kante $a \\rightarrow b$ auf $s \\rightarrow b$ umgeleitet werden. Erst in den darauffolgenden Schritten $6$ und $7$ wird der Fluss entlang der Kante $a \\rightarrow b$ als Teil eines anderen augmentierenden Pfades wieder gesteigert."
   ]
  },
  {
   "cell_type": "markdown",
   "id": "e98751c9-9403-4389-8de9-2f64e86679fb",
   "metadata": {
    "deletable": false,
    "editable": false
   },
   "source": [
    "## Komplexität durch Pfadwahl\n",
    "Sind alle Kapazitäten rational, endet der Algorithmus nach endlich vielen Schritten. Die Komplexität hängt aber maßgeblich von der Wahl des nächsten augmentierenden Pfades ab. Wird beispielsweise eine einfache Tiefensuche verwendet, ist die Reihenfolge der Speicherung in der Adjazenzliste beziehungsweise Adjazenzmatrix maßgebend.\n",
    "\n",
    "Es lassen sich daher leicht Graphen konstruieren, die trotz kleiner Knoten- und Kantenmengen eine große Anzahl an Iterationen benötigen. Das nachfolgende Beispiel wurde so gewählt, dass der Algorithmus immer einen Pfad wählt, der die Kante $a \\rightarrow b$ oder deren Rückkante enthält. Der Flaschenhals bekommt daher den Wert $1$, sodass in jeder Iteration der Fluss lediglich um diesen Wert erhöht werden kann."
   ]
  },
  {
   "cell_type": "code",
   "execution_count": null,
   "id": "a825e3a1-0232-474f-8039-3e05bdbe014d",
   "metadata": {
    "deletable": false
   },
   "outputs": [],
   "source": [
    "FordFulkerson(G2)"
   ]
  },
  {
   "cell_type": "markdown",
   "id": "2947e68c-1d0a-45bf-b6e5-e4727d20324c",
   "metadata": {
    "deletable": false,
    "editable": false
   },
   "source": [
    "## Edmonds-Karp-Algorithmus\n",
    "Abhilfe kann zum Beispiel geschaffen werden, indem in jedem Schritt der kürzeste augmentierende Pfad gewählt wird, um das häufige Iterieren über Rückkanten mit geringer Kapazität zu vermeiden. Der Algorithmus von Edmonds und Karp ist eine verbesserte Implementierung des Algorithmus von Ford und Fulkerson. Er verwendet eine Breitensuche zur Auswahl des nächsten augmentierenden Pfades, findet damit immer den kürzesten und bewältigt das zuvor gezeigte Beispiel damit in deutlich kürzerer Zeit."
   ]
  },
  {
   "cell_type": "code",
   "execution_count": null,
   "id": "bf11ca90-1d97-4296-a27e-4a86be77525e",
   "metadata": {
    "deletable": false
   },
   "outputs": [],
   "source": [
    "EdmondsKarp(G2)"
   ]
  },
  {
   "cell_type": "markdown",
   "id": "9d231ed3-39f1-4ea1-80d4-be80c4494461",
   "metadata": {
    "deletable": false,
    "editable": false
   },
   "source": [
    "## Kantengewichte und maximaler Fluss\n",
    "Gelegentlich müssen Kantengewichte einbezogen werden. Das ist zum Beispiel der Fall, wenn die Nutzung einer Leitung abgerechnet wird und verschiedene Wege auch unterschiedliche Preise aufrufen.\n",
    "\n",
    "Man unterteilt dann in der Regel in zwei Szenarien:\n",
    "1. Die Kosten für die Verwendung einer Kante bleiben unabhängig vom tatsächlich genutzten Volumen konstant. Man könnte also von einer Art Flatrate sprechen. In diesem Fall ist eine Bevorzugung der Kanten mit niedrigem Gewicht ausreichend, um eine Lösung mit minimalen Kosten zu finden.\n",
    "2. Die Kosten für die Verwendung einer Kante hängen vom tatsächlichen Durchfluss ab und verändert sich demnach im Laufe der Suche nach einer Lösung."
   ]
  }
 ],
 "metadata": {
  "kernelspec": {
   "display_name": "Python 3 (ipykernel)",
   "language": "python",
   "name": "python3"
  },
  "language_info": {
   "codemirror_mode": {
    "name": "ipython",
    "version": 3
   },
   "file_extension": ".py",
   "mimetype": "text/x-python",
   "name": "python",
   "nbconvert_exporter": "python",
   "pygments_lexer": "ipython3",
   "version": "3.10.12"
  }
 },
 "nbformat": 4,
 "nbformat_minor": 5
}
