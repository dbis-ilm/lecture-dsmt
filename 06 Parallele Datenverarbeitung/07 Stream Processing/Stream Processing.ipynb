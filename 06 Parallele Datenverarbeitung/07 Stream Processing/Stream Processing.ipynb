{
 "cells": [
  {
   "cell_type": "markdown",
   "id": "0",
   "metadata": {
    "deletable": false,
    "editable": false
   },
   "source": [
    "# Stream Processing\n",
    "Stream Processing bezieht sich auf Datenströme und damit die kontinuierliche Verarbeitung von Daten, die ein Echtzeit eintreffen. Im Unterschied zum Batch-Processing werden eingehende Daten nicht erst zwischengespeichert."
   ]
  },
  {
   "cell_type": "markdown",
   "id": "1",
   "metadata": {
    "deletable": false,
    "editable": false
   },
   "source": [
    "## Inhaltsverzeichnis\n",
    "- [Definition](#Definition)\n",
    "- [Arten der Event-Verarbeitung](#Arten-der-Event-Verarbeitung)\n",
    "- [Zusammenfassung](#Zusammenfassung)"
   ]
  },
  {
   "cell_type": "markdown",
   "id": "2",
   "metadata": {
    "deletable": false,
    "editable": false
   },
   "source": [
    "## Definition\n",
    "Ein **Datenstrom** ist eine kontinuierliche und (potentiell) unendliche Sequenz, die in Echtzeit erzeugt und verarbeitet wird. Ereignisse, die im Laufe eines Streams auftreten, werden als **Events** bezeichnet.\n",
    "\n",
    "Ereignisse in Datenströmen können zum Beispiel aus Logs oder Messwerten von physikalischen Instrumenten wie simplen Thermometern stammen. Ergebnisse der Berechnung dürfen dabei nicht erst nach  dabei zu jeder Zeit vorliegen, da nicht auf das Ende des (unendlichen) Datenstroms gewartet werden kann."
   ]
  },
  {
   "cell_type": "markdown",
   "id": "3",
   "metadata": {
    "deletable": false,
    "editable": false
   },
   "source": [
    "## Arten der Event-Verarbeitung\n",
    "Die **Single-Event** Verarbeitung ist eine Methode des Stream Processings, bei der jedes einzelne Ereignis sofort nach seinem Eintreffen verarbeitet wird. Dies ermöglicht eine sehr geringe Latenz, da die Daten praktisch in Echtzeit analysiert und darauf reagiert werden können. Typische Anwendungsfälle umfassen Echtzeitüberwachungen, wie das Erkennen von Betrug bei Kreditkartentransaktionen. Die Herausforderung bei der Single-Event Verarbeitung liegt in der effizienten Skalierung.\n",
    "\n",
    "Die **Mini-Batch** Verarbeitung ist ein hybrider Ansatz zwischen Batch-Verarbeitung und Echtzeit-Streaming, bei dem eingehende Daten in kleinen Batches gesammelt und periodisch verarbeitet werden. Diese Methode bietet einen Kompromiss zwischen Latenz und Durchsatz, da sie eine gewisse Verzögerung einführt, aber gleichzeitig die Möglichkeit bietet, die Verarbeitungseffizienz zu verbessern.\n",
    "\n",
    "**Fenster** (Windowing) ist eine Technik im Stream Processing, bei der eingehende Daten in zeitliche oder auf Ereignissen basierende Segmente, sogenannte Fenster, unterteilt werden. Diese Fenster ermöglichen die Aggregation und Analyse von Daten über bestimmte Zeiträume oder Mengen von Ereignissen hinweg. Es gibt verschiedene Arten von Fenstern, wie *Tumbling Windows* (nicht überlappende, feste Zeitintervalle) und *Sliding Windows* (überlappende Fenster mit festgelegten Intervallen). Es sind aber auch komplexere Muster implementierbar, zum Beispiel dynamisch basierend auf der inaktiven Zeit zwischen zwei Events. Fenster sind besonders nützlich für Anwendungsfälle wie Trendanalysen, für welche die Berechnung von Metriken wie Durchschnitt, Summe oder Häufigkeit innerhalb definierter Zeiträume notwendig sind."
   ]
  },
  {
   "cell_type": "markdown",
   "id": "4",
   "metadata": {
    "deletable": false,
    "editable": false
   },
   "source": [
    "## Zusammenfassung\n",
    "Stream Processing ist ein Paradigma zur Verarbeitung von kontinuierlichen Datenströmen in Echtzeit. Es ermöglicht Anwendungen, die eine geringe Latenz erfordern oder deren Datenmengen aus anderen Gründen nicht zwischengespeichert werden können."
   ]
  }
 ],
 "metadata": {
  "kernelspec": {
   "display_name": "Python 3 (ipykernel)",
   "language": "python",
   "name": "python3"
  },
  "language_info": {
   "codemirror_mode": {
    "name": "ipython",
    "version": 3
   },
   "file_extension": ".py",
   "mimetype": "text/x-python",
   "name": "python",
   "nbconvert_exporter": "python",
   "pygments_lexer": "ipython3",
   "version": "3.10.12"
  }
 },
 "nbformat": 4,
 "nbformat_minor": 5
}
