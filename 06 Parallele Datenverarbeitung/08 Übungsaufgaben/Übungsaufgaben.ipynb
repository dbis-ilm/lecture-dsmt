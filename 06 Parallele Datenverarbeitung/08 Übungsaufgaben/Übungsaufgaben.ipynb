{
 "cells": [
  {
   "cell_type": "markdown",
   "id": "0",
   "metadata": {
    "deletable": false,
    "editable": false,
    "slideshow": {
     "slide_type": ""
    },
    "tags": []
   },
   "source": [
    "# Übungsaufgaben"
   ]
  },
  {
   "cell_type": "code",
   "execution_count": null,
   "id": "1",
   "metadata": {
    "deletable": false,
    "editable": false,
    "slideshow": {
     "slide_type": ""
    },
    "tags": []
   },
   "outputs": [],
   "source": [
    "import networkx as nx\n",
    "from pyspark import SparkContext\n",
    "\n",
    "from tui_dsmt.parallel import MapReduce, Pregel\n",
    "from tui_dsmt.parallel.datasets import load_texts, load_pregel_pagerank, text_paths"
   ]
  },
  {
   "cell_type": "markdown",
   "id": "2",
   "metadata": {
    "deletable": false,
    "editable": false
   },
   "source": [
    "## Aufgaben 1: MapReduce\n",
    "Verwenden Sie MapReduce, um die **Häufigkeit der einzelnen Buchstaben** in einer Menge von Texten zu zählen. Ignorieren Sie dabei Sonder-, Steuer- und Satzzeichen. Zählen Sie Groß- und Kleinbuchstaben zusammen.\n",
    "\n",
    "Wir verwenden erneut einige deutsche Klassiker als Beispieltexte:"
   ]
  },
  {
   "cell_type": "code",
   "execution_count": null,
   "id": "3",
   "metadata": {
    "deletable": false,
    "editable": false,
    "slideshow": {
     "slide_type": ""
    },
    "tags": []
   },
   "outputs": [],
   "source": [
    "texts = load_texts()\n",
    "\n",
    "mr = MapReduce(texts, num_nodes=4)\n",
    "mr.show()"
   ]
  },
  {
   "cell_type": "markdown",
   "id": "4",
   "metadata": {
    "deletable": false,
    "editable": false,
    "slideshow": {
     "slide_type": ""
    },
    "tags": []
   },
   "source": [
    "Schreiben Sie zuerst die Map-Funktion."
   ]
  },
  {
   "cell_type": "code",
   "execution_count": null,
   "id": "5",
   "metadata": {
    "deletable": false,
    "editable": true,
    "slideshow": {
     "slide_type": ""
    },
    "tags": [
     "task-1"
    ]
   },
   "outputs": [],
   "source": [
    "def map_function(title, data):\n",
    "    # yield key, value\n",
    "    pass"
   ]
  },
  {
   "cell_type": "code",
   "execution_count": null,
   "id": "7",
   "metadata": {
    "deletable": false,
    "editable": false,
    "slideshow": {
     "slide_type": ""
    },
    "tags": []
   },
   "outputs": [],
   "source": [
    "map_result = mr.map(map_function)\n",
    "map_result.show()"
   ]
  },
  {
   "cell_type": "markdown",
   "id": "8",
   "metadata": {
    "deletable": false,
    "editable": false,
    "slideshow": {
     "slide_type": ""
    },
    "tags": []
   },
   "source": [
    "Implementieren Sie eine Combine-Funktion. Zur Erinnerung: Die Combine-Funktion soll die Daten lokal vor dem Shuffle-Schritt reduzieren, um die Menge der zwischen den Knoten versendeten Daten zu verringern."
   ]
  },
  {
   "cell_type": "code",
   "execution_count": null,
   "id": "9",
   "metadata": {
    "deletable": false,
    "editable": true,
    "slideshow": {
     "slide_type": ""
    },
    "tags": [
     "task-1"
    ]
   },
   "outputs": [],
   "source": [
    "def combine_function(key, local_values):\n",
    "    # yield key, combined_value\n",
    "    pass"
   ]
  },
  {
   "cell_type": "code",
   "execution_count": null,
   "id": "11",
   "metadata": {
    "deletable": false,
    "editable": false
   },
   "outputs": [],
   "source": [
    "combine_result = map_result.combine(combine_function)\n",
    "combine_result.show()"
   ]
  },
  {
   "cell_type": "markdown",
   "id": "12",
   "metadata": {
    "deletable": false,
    "editable": false
   },
   "source": [
    "Die Shuffle-Phase wird durch das Framework durchgeführt:"
   ]
  },
  {
   "cell_type": "code",
   "execution_count": null,
   "id": "13",
   "metadata": {
    "deletable": false,
    "editable": false
   },
   "outputs": [],
   "source": [
    "shuffle_result = combine_result.shuffle()\n",
    "shuffle_result.show(print_number_of_messages=True)"
   ]
  },
  {
   "cell_type": "markdown",
   "id": "14",
   "metadata": {
    "deletable": false,
    "editable": false
   },
   "source": [
    "Implementieren Sie zuletzt eine Reduce-Funktion, um das gewünschte Ergebnis zu erhalten:"
   ]
  },
  {
   "cell_type": "code",
   "execution_count": null,
   "id": "15",
   "metadata": {
    "deletable": false,
    "editable": true,
    "slideshow": {
     "slide_type": ""
    },
    "tags": [
     "task-1"
    ]
   },
   "outputs": [],
   "source": [
    "def reduce_function(key, values):\n",
    "    # yield key, reduced_value\n",
    "    pass"
   ]
  },
  {
   "cell_type": "code",
   "execution_count": null,
   "id": "17",
   "metadata": {
    "deletable": false,
    "editable": false,
    "slideshow": {
     "slide_type": ""
    },
    "tags": []
   },
   "outputs": [],
   "source": [
    "reduce_result = shuffle_result.reduce(reduce_function)\n",
    "reduce_result.show()"
   ]
  },
  {
   "cell_type": "markdown",
   "id": "18",
   "metadata": {
    "deletable": false,
    "editable": false
   },
   "source": [
    "## Aufgabe 2: Pregel\n",
    "Implementieren Sie den PageRank-Algorithmus mit Pregel. Zur Erinnerung:\n",
    "\n",
    "> Zur Berechnung der PageRank-Wertung wurde ursprünglich eine rekursive Formel aufgestellt. Benötigt wird zur Berechnung des Wertes für einen Knoten $n$ die Größe des Netzwerks $N$, die Menge der Nachbarn $S_n$, auf die $n$ verweisen, und ein Dämpfungsfaktor $d \\in (0, 1)$, der üblicherweise mit $0.85$ angenommen wird.\n",
    ">\n",
    ">$$\n",
    "C_{PR}(n) = \\frac{1 - d}{N} + d * \\sum_{m \\in S_n} \\frac{C_{PR}(m)}{deg(m)}\n",
    "$$\n",
    ">\n",
    "> Die Initialisierung der Knoten wird in der Regel für jeden Knoten mit $\\frac{1.0}{N}$ durchgeführt."
   ]
  },
  {
   "cell_type": "markdown",
   "id": "19",
   "metadata": {
    "deletable": false,
    "editable": false
   },
   "source": [
    "Ausgeführt werden soll der Algorithmus auf dem folgenden Graphen:"
   ]
  },
  {
   "cell_type": "code",
   "execution_count": null,
   "id": "20",
   "metadata": {
    "deletable": false,
    "editable": false,
    "slideshow": {
     "slide_type": ""
    },
    "tags": []
   },
   "outputs": [],
   "source": [
    "graph, pos = load_pregel_pagerank()\n",
    "nx.draw(graph, pos, with_labels=True, font_color='whitesmoke')"
   ]
  },
  {
   "cell_type": "markdown",
   "id": "21",
   "metadata": {
    "deletable": false,
    "editable": false,
    "slideshow": {
     "slide_type": ""
    },
    "tags": []
   },
   "source": [
    "In unserem vereinfachten Modell können Sie dabei die Größe des Netzwerks und den Dämpfungsfaktor als global vorhandene Variablen annehmen."
   ]
  },
  {
   "cell_type": "code",
   "execution_count": null,
   "id": "22",
   "metadata": {
    "deletable": false,
    "editable": false,
    "slideshow": {
     "slide_type": ""
    },
    "tags": []
   },
   "outputs": [],
   "source": [
    "N = len(graph)\n",
    "d = 0.85\n",
    "\n",
    "N, d"
   ]
  },
  {
   "cell_type": "markdown",
   "id": "23",
   "metadata": {
    "deletable": false,
    "editable": false,
    "slideshow": {
     "slide_type": ""
    },
    "tags": []
   },
   "source": [
    "Initialisieren Sie zunächst die Knoten mit dem korrekten Startwert. Denken Sie daran, dass jeder Knoten auch seinen eigenen **ausgehenden** Knotengrad weitergeben muss. Verwenden Sie daher das Format `(PageRank, Grad)`."
   ]
  },
  {
   "cell_type": "code",
   "execution_count": null,
   "id": "24",
   "metadata": {
    "deletable": false,
    "editable": true,
    "slideshow": {
     "slide_type": ""
    },
    "tags": [
     "task-2"
    ]
   },
   "outputs": [],
   "source": [
    "def node_init(node):\n",
    "    return ..."
   ]
  },
  {
   "cell_type": "markdown",
   "id": "26",
   "metadata": {
    "deletable": false,
    "editable": false
   },
   "source": [
    "Definieren Sie nun eine Pregel-Funktion, die den PageRank berechnet und"
   ]
  },
  {
   "cell_type": "code",
   "execution_count": null,
   "id": "27",
   "metadata": {
    "deletable": false,
    "editable": true,
    "slideshow": {
     "slide_type": ""
    },
    "tags": [
     "task-2"
    ]
   },
   "outputs": [],
   "source": [
    "def pregel_fun(current_value, received_from, received_values, local_storage):\n",
    "    return current_value, False"
   ]
  },
  {
   "cell_type": "code",
   "execution_count": null,
   "id": "29",
   "metadata": {
    "deletable": false,
    "editable": false,
    "slideshow": {
     "slide_type": ""
    },
    "tags": []
   },
   "outputs": [],
   "source": [
    "Pregel(graph, node_init, pregel_fun, pos, print_messages=False)"
   ]
  },
  {
   "cell_type": "markdown",
   "id": "30",
   "metadata": {
    "deletable": false,
    "editable": false,
    "slideshow": {
     "slide_type": ""
    },
    "tags": []
   },
   "source": [
    "## Aufgabe 3: Spark\n",
    "Wiederholen Sie Aufgabe 1 mit PySpark."
   ]
  },
  {
   "cell_type": "code",
   "execution_count": null,
   "id": "31",
   "metadata": {
    "deletable": false,
    "editable": true,
    "slideshow": {
     "slide_type": ""
    },
    "tags": [
     "task-3"
    ]
   },
   "outputs": [],
   "source": [
    "with SparkContext('local', 'letter count') as sc:\n",
    "    input_rdd = sc.textFile(','.join(text_paths))\n",
    "\n",
    "    char_counts = ...\n",
    "\n",
    "char_counts"
   ]
  }
 ],
 "metadata": {
  "kernelspec": {
   "display_name": "Python 3 (ipykernel)",
   "language": "python",
   "name": "python3"
  },
  "language_info": {
   "codemirror_mode": {
    "name": "ipython",
    "version": 3
   },
   "file_extension": ".py",
   "mimetype": "text/x-python",
   "name": "python",
   "nbconvert_exporter": "python",
   "pygments_lexer": "ipython3",
   "version": "3.10.12"
  }
 },
 "nbformat": 4,
 "nbformat_minor": 5
}
