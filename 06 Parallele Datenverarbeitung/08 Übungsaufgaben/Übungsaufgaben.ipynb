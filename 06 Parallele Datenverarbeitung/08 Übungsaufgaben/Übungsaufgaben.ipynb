{
 "cells": [
  {
   "cell_type": "markdown",
   "id": "6cc024e1-f460-4957-a54b-8a637f7d08d3",
   "metadata": {
    "deletable": false,
    "editable": false
   },
   "source": [
    "# Übungsaufgaben"
   ]
  },
  {
   "cell_type": "code",
   "execution_count": null,
   "id": "a0e5630c-e168-482a-aae2-4ae140c57516",
   "metadata": {
    "deletable": false,
    "editable": false
   },
   "outputs": [],
   "source": [
    "import networkx as nx\n",
    "from pyspark import SparkContext\n",
    "\n",
    "from tui_dsmt.parallel import MapReduce, Pregel\n",
    "from tui_dsmt.parallel.datasets import load_texts, load_pregel_pagerank, text_paths"
   ]
  },
  {
   "cell_type": "markdown",
   "id": "d681135f-c036-4fbc-975f-098eee1a8a76",
   "metadata": {
    "deletable": false,
    "editable": false
   },
   "source": [
    "## Aufgaben 1: MapReduce\n",
    "Verwenden Sie MapReduce, um die **Häufigkeit der einzelnen Buchstaben** in einer Menge von Texten zu zählen. Ignorieren Sie dabei Sonder-, Steuer- und Satzzeichen. Zählen Sie Groß- und Kleinbuchstaben zusammen.\n",
    "\n",
    "Wir verwenden erneut einige deutsche Klassiker als Beispieltexte:"
   ]
  },
  {
   "cell_type": "code",
   "execution_count": null,
   "id": "24132364-e78e-4be2-8386-ecf2a1a3b0d6",
   "metadata": {
    "deletable": false,
    "editable": false
   },
   "outputs": [],
   "source": [
    "texts = load_texts()\n",
    "\n",
    "mr = MapReduce(texts, num_nodes=4)\n",
    "mr.show()"
   ]
  },
  {
   "cell_type": "markdown",
   "id": "22913c37-ac24-4846-ac26-38a7ac1b51a6",
   "metadata": {
    "deletable": false,
    "editable": false
   },
   "source": [
    "Schreiben Sie zuerst die Map-Funktion."
   ]
  },
  {
   "cell_type": "code",
   "execution_count": null,
   "id": "e60625d7-7f84-42ed-9350-bde5fdfc5277",
   "metadata": {
    "deletable": false
   },
   "outputs": [],
   "source": [
    "def map_function(title, data):\n",
    "    # yield key, value\n",
    "    pass"
   ]
  },
  {
   "cell_type": "code",
   "execution_count": null,
   "id": "4820899d-6a62-40de-a39c-c888edcdbafe",
   "metadata": {
    "deletable": false,
    "editable": false
   },
   "outputs": [],
   "source": [
    "map_result = mr.map(map_function)\n",
    "map_result.show()"
   ]
  },
  {
   "cell_type": "markdown",
   "id": "7db180d2-1b5e-4709-a6e2-5697439b67ce",
   "metadata": {
    "deletable": false,
    "editable": false
   },
   "source": [
    "Implementieren Sie eine Combine-Funktion. Zur Erinnerung: Die Combine-Funktion soll die Daten lokal vor dem Shuffle-Schritt reduzieren, um die Menge der zwischen den Knoten versendeten Daten zu verringern."
   ]
  },
  {
   "cell_type": "code",
   "execution_count": null,
   "id": "ca6bece9-5050-4261-9baa-19e6fedd1d2f",
   "metadata": {
    "deletable": false
   },
   "outputs": [],
   "source": [
    "def combine_function(key, local_values):\n",
    "    # yield key, combined_value\n",
    "    pass"
   ]
  },
  {
   "cell_type": "code",
   "execution_count": null,
   "id": "68872ff9-2222-4bee-b8cf-db175966e78e",
   "metadata": {
    "deletable": false,
    "editable": false
   },
   "outputs": [],
   "source": [
    "combine_result = map_result.combine(combine_function)\n",
    "combine_result.show()"
   ]
  },
  {
   "cell_type": "markdown",
   "id": "010aaf48-69ab-4daa-abd8-a358bcfe5eae",
   "metadata": {
    "deletable": false,
    "editable": false
   },
   "source": [
    "Die Shuffle-Phase wird durch das Framework durchgeführt:"
   ]
  },
  {
   "cell_type": "code",
   "execution_count": null,
   "id": "997016d9-c926-43c4-bb6f-2743c09a1a82",
   "metadata": {
    "deletable": false,
    "editable": false
   },
   "outputs": [],
   "source": [
    "shuffle_result = combine_result.shuffle()\n",
    "shuffle_result.show(print_number_of_messages=True)"
   ]
  },
  {
   "cell_type": "markdown",
   "id": "98aba555-f3a2-42df-8e8a-9637eeb8202c",
   "metadata": {
    "deletable": false,
    "editable": false
   },
   "source": [
    "Implementieren Sie zuletzt eine Reduce-Funktion, um das gewünschte Ergebnis zu erhalten:"
   ]
  },
  {
   "cell_type": "code",
   "execution_count": null,
   "id": "abbc5af3-2a15-423a-a250-fefe947feac0",
   "metadata": {
    "deletable": false
   },
   "outputs": [],
   "source": [
    "def reduce_function(key, values):\n",
    "    # yield key, reduced_value\n",
    "    pass"
   ]
  },
  {
   "cell_type": "code",
   "execution_count": null,
   "id": "6c8315ea-3739-47a9-be17-394c0ecdc22a",
   "metadata": {
    "deletable": false,
    "editable": false
   },
   "outputs": [],
   "source": [
    "reduce_result = shuffle_result.reduce(reduce_function)\n",
    "reduce_result.show()"
   ]
  },
  {
   "cell_type": "markdown",
   "id": "06db760b-c979-4651-932a-d7b446003a06",
   "metadata": {
    "deletable": false,
    "editable": false
   },
   "source": [
    "## Aufgabe 2: Pregel\n",
    "Implementieren Sie den PageRank-Algorithmus mit Pregel. Zur Erinnerung:\n",
    "\n",
    "> Zur Berechnung der PageRank-Wertung wurde ursprünglich eine rekursive Formel aufgestellt. Benötigt wird zur Berechnung des Wertes für einen Knoten $n$ die Größe des Netzwerks $N$, die Menge der Nachbarn $S_n$, auf die $n$ verweisen, und ein Dämpfungsfaktor $d \\in (0, 1)$, der üblicherweise mit $0.85$ angenommen wird.\n",
    ">\n",
    ">$$\n",
    "C_{PR}(n) = \\frac{1 - d}{N} + d * \\sum_{m \\in S_n} \\frac{C_{PR}(m)}{deg(m)}\n",
    "$$\n",
    ">\n",
    "> Die Initialisierung der Knoten wird in der Regel für jeden Knoten mit $\\frac{1.0}{N}$ durchgeführt."
   ]
  },
  {
   "cell_type": "markdown",
   "id": "d9061062-43df-464c-b12d-b9ef3484c22f",
   "metadata": {
    "deletable": false,
    "editable": false
   },
   "source": [
    "Ausgeführt werden soll der Algorithmus auf dem folgenden Graphen:"
   ]
  },
  {
   "cell_type": "code",
   "execution_count": null,
   "id": "cab12010-51df-42cd-a1e7-e903124efda3",
   "metadata": {
    "deletable": false,
    "editable": false
   },
   "outputs": [],
   "source": [
    "graph, pos = load_pregel_pagerank()\n",
    "nx.draw(graph, pos, with_labels=True, font_color='whitesmoke')"
   ]
  },
  {
   "cell_type": "markdown",
   "id": "f8cc0ed0-6332-46c7-a895-cb729d0412c0",
   "metadata": {
    "deletable": false,
    "editable": false
   },
   "source": [
    "In unserem vereinfachten Modell können Sie dabei die Größe des Netzwerks und den Dämpfungsfaktor als global vorhandene Variablen annehmen."
   ]
  },
  {
   "cell_type": "code",
   "execution_count": null,
   "id": "ea827358-58d4-47ab-ab41-f60a564c3032",
   "metadata": {
    "deletable": false,
    "editable": false
   },
   "outputs": [],
   "source": [
    "N = len(graph)\n",
    "d = 0.85\n",
    "\n",
    "N, d"
   ]
  },
  {
   "cell_type": "markdown",
   "id": "fd9ccb75-1fb3-4ff9-a39b-df883ad816a9",
   "metadata": {
    "deletable": false,
    "editable": false
   },
   "source": [
    "Initialisieren Sie zunächst die Knoten mit dem korrekten Startwert. Denken Sie daran, dass jeder Knoten auch seinen eigenen **ausgehenden** Knotengrad weitergeben muss."
   ]
  },
  {
   "cell_type": "code",
   "execution_count": null,
   "id": "cea0255a-2947-46fc-b620-609bc2270787",
   "metadata": {
    "deletable": false
   },
   "outputs": [],
   "source": [
    "def node_init(node):\n",
    "    return ..."
   ]
  },
  {
   "cell_type": "markdown",
   "id": "f0ebe4ab-2847-4ff0-9ce0-c9e807155b63",
   "metadata": {
    "deletable": false,
    "editable": false
   },
   "source": [
    "Definieren Sie nun eine Pregel-Funktion, die den PageRank berechnet und"
   ]
  },
  {
   "cell_type": "code",
   "execution_count": null,
   "id": "af76c465-868d-4027-901a-432834f12738",
   "metadata": {
    "deletable": false
   },
   "outputs": [],
   "source": [
    "def pregel_fun(current_value, received_from, received_values, local_storage):\n",
    "    return current_value, False"
   ]
  },
  {
   "cell_type": "code",
   "execution_count": null,
   "id": "834f1a2b-5b26-48d9-86e3-49b9d2a007bd",
   "metadata": {
    "deletable": false,
    "editable": false
   },
   "outputs": [],
   "source": [
    "Pregel(graph, node_init, pregel_fun, pos, print_messages=False)"
   ]
  },
  {
   "cell_type": "markdown",
   "id": "3b15d502-641a-4da9-baae-f07c74652448",
   "metadata": {
    "deletable": false,
    "editable": false
   },
   "source": [
    "## Aufgabe 3: Spark\n",
    "Wiederholen Sie Aufgabe 1 mit PySpark."
   ]
  },
  {
   "cell_type": "code",
   "execution_count": null,
   "id": "2a5d89e5-7349-406a-b682-7bca5d14d1fa",
   "metadata": {
    "deletable": false
   },
   "outputs": [],
   "source": [
    "with SparkContext('local', 'letter count') as sc:\n",
    "    input_rdd = sc.textFile(','.join(text_paths))\n",
    "    print(input_rdd.collect()[:32])"
   ]
  }
 ],
 "metadata": {
  "kernelspec": {
   "display_name": "Python 3 (ipykernel)",
   "language": "python",
   "name": "python3"
  },
  "language_info": {
   "codemirror_mode": {
    "name": "ipython",
    "version": 3
   },
   "file_extension": ".py",
   "mimetype": "text/x-python",
   "name": "python",
   "nbconvert_exporter": "python",
   "pygments_lexer": "ipython3",
   "version": "3.10.12"
  }
 },
 "nbformat": 4,
 "nbformat_minor": 5
}
