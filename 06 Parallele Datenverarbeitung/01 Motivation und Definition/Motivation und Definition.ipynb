{
 "cells": [
  {
   "cell_type": "markdown",
   "id": "9d82fd6d-caf0-4456-ad7c-77808411f922",
   "metadata": {
    "deletable": false,
    "editable": false
   },
   "source": [
    "# Motivation und Definition\n",
    "Die Parallelisierung von Algorithmen ist ein Ansatz zur Steigerung der Rechenleistung und Effizienz von Computersystemen. In diesem Kapitel werden verschiedene Modelle vorgestellt, mit denen Daten parallel verarbeitet werden können. In diesem Abschnitt soll zunächst eine Abgrenzung zum sequentiellen Rechnen vorgenommen und dann die Notwendigkeit paralleler Modelle dargestellt werden."
   ]
  },
  {
   "cell_type": "markdown",
   "id": "fe7c0746-8b01-41c2-9811-e5a4a2f08b72",
   "metadata": {
    "deletable": false,
    "editable": false
   },
   "source": [
    "## Inhaltsverzeichnis\n",
    "- [Definition](#Definition)\n",
    "- [Notwendigkeit und Vorteile](#Notwendigkeit-und-Vorteile)\n",
    "- [Amdahlsches Gesetz und Speedup](#Amdahlsches-Gesetz-und-Speedup)"
   ]
  },
  {
   "cell_type": "markdown",
   "id": "7ebe6e7a-093d-40ac-9bd3-e0fab142e46b",
   "metadata": {
    "deletable": false,
    "editable": false
   },
   "source": [
    "## Definition\n",
    "Sequentielle Algorithmen sind Algorithmen, deren Schritte strikt nacheinander abgearbeitet werden. Eine Anweisung muss also beendet sein, bevor mit der nächsten begonnen wird. **Parallele Algorithmen** sind Algorithmen, die zur Ausführung auf mehreren Prozessoren **gleichzeitig** entworfen sind. Es werden also mehrere Schritte parallel ausgeführt.\n",
    "\n",
    "Zur Umsetzung dieser Parellelität kann zusätzliche Rechenzeit nötig sein, die bei sequentiellen Algorithmen nicht existiert. Dazu zählt z.B. das Aufteilen der Daten oder auch die Kommunikation der einzelnen Prozesse untereinander. Ein wesentliches Risiko der Nebenläufigkeit sind zudem Seiteneffekte, die etwa durch gleichzeitigen Zugriff auf Datenstrukturen oder einer fehlerhaften Vorhersage der Reihenfolge basieren.\n",
    "\n",
    "### Beispiel\n",
    "Zur Zubereitung einer Lasagne müssen verschiedene Teile vorbereitet und schlussendlich kombiniert werden. Im Folgenden soll von ungeübten Köchen ausgegangen werden, die sich immer nur einer Sache widmen können.\n",
    "\n",
    "Ein einzelner Koch müsste daher\n",
    "1. Ragu zubereiten,\n",
    "2. Bechamelsauce zubereiten,\n",
    "3. Lasagneblätter vorkochen,\n",
    "4. Lasagne schichten und\n",
    "5. die Lasagne im Ofen backen.\n",
    "\n",
    "Aufgeteilt auf drei Köche könnte der Ablauf zum Beispiel wie folgt aussehen:\n",
    "\n",
    "| Koch 1             | Koch 2                   | Koch 3                   |\n",
    "| ------------------ | ------------------------ | ------------------------ |\n",
    "| Ragu zubereiten    | Bechamelsauce zubereiten | Lasagneblätter vorkochen |\n",
    "| Lasagne schichten  |                          |                          |\n",
    "| im Ofen backen     |                          |                          |\n",
    "\n",
    "Durch eine feinere Aufteilung der einzelnen Schritte lassen sich Koch $2$ und $3$ ggf. noch besser beschäftigen, sodass weniger Leerlauf entsteht. Je feiner die Aufteilung ist, desto mehr Koordinationsaufwand, den einzelnen Köchen Aufgaben zuzuweisen, kommt hinzu. Mit der Aufteilung auf drei Personen wäre das Gericht allerdings unzweifelhaft schneller im Ofen als in Eigenregie, da die einzelnen Arbeitsschritte deutlich mehr als die Koordination ins Gewicht fallen.\n",
    "\n",
    "Prozesse lassen sich in der Regel auch nicht beliebig parallelisieren. So ist das Schichten auf die Blätter angewiesen, die vorgekocht werden müssen, sodass zunächst Wasser zum Kochen gebracht werden muss. Dauert das Vorkochen aus einem unbestimmten Grund sehr lang, können auch zehn Köche, die parallel schneiden, anbraten und Saucen vorbereiten, den Prozess nicht gegenüber drei parallel arbeitenden Köchen beschleunigen.\n",
    "\n",
    "### (Scherzhafte) Verständnisfrage\n",
    "Eine Frau benötigt neun Monate von der Zeugung bis zur Geburt eines Kindes. Wie viel Zeit benötigen neun Frauen für die Geburt eines Kindes?"
   ]
  },
  {
   "cell_type": "markdown",
   "id": "ae03410b-b5b6-4770-b5f3-4c984d2a32f9",
   "metadata": {
    "deletable": false,
    "editable": false
   },
   "source": [
    "## Notwendigkeit und Vorteile\n",
    "Während zur Anfangszeit der Prozessorentwicklung noch immense Sprünge in den Taktraten und damit Berechnungsgeschwindigkeiten erreicht wurden, stagniert die (Standard-) Frequenz seit einigen Jahren scheinbar. Leistungsverbesserungen werden mittlerweile überwiegend durch Veränderungen der Architektur (effizientere Befehlsverarbeitung / IPC), Caching und die Verwendung mehrere Kerne erreicht. So sind mittlerweile selbst in Smartphones praktisch keine Prozessoren mehr im Einsatz, die lediglich einen Kern besitzen, während in Rechenzentren tausende Prozessoren gemeinsam an einem Problem arbeiten.\n",
    "\n",
    "Auch Grafikkarten (GPUs), die ursprünglich für die Berechnung von Rastergrafiken entwickelt wurden, bestehen aus Tausenden kleinen Recheneinheiten. Werden diese korrekt angesprochen und für ein entsprechend parallelisierbares Problem verwendet, sind sie schneller und energieffizienter als der Hauptprozessor.\n",
    "\n",
    "Die korrekte Verwendung paralleler Algorithmen begünstigt daher drei Eigenschaften:\n",
    "1. **Höhere Leistung**: Das Ergebnis liegt schneller vor, als das mit einem sequentiellen Algorithmus unter Verwendung der (technisch) verfügbaren Hardware möglich wäre.\n",
    "2. **Effizienz**: Auf Parallelisierung angepasste Hardware verbraucht in Summe ihrer Kerne weniger Ressourcen (Energie, Fertigung, Anschaffungskosten) als ein gleichwertiger Einkernprozessor.\n",
    "3. **Skalierbarkeit**: Parallelisierte Algorithmen ermöglichen die Bearbeitung kleiner Datenmengen auf wenigen Kernen und großer Datenmengen auf vielen Kernen in ähnlicher Zeit."
   ]
  },
  {
   "cell_type": "markdown",
   "id": "0ebee11b-4d59-4a79-8b37-f079fba6347c",
   "metadata": {
    "deletable": false,
    "editable": false
   },
   "source": [
    "## Amdahlsches Gesetz und Speedup\n",
    "Das Amdahlsche Gesetz ist ein Modell über die Beschleunigung von Programmen durch parallele Ausführung. Nach Gene Amdahl, Erfinder des Modells, wird der Gewinn an Geschwindigkeit durch Parallelisierung besonders durch den Anteil eines Programms beschränkt, der sich nicht parallelisieren lässt.\n",
    "\n",
    "Ein Programm mit einer Gesamtlaufzeit $T$ besteht aus einem Zeitanteil $t_s$, der sequentiell ablaufen muss, und einem parallelisierbaren Zeitanteil $t_p$:\n",
    "\n",
    "$$ T = t_s + t_p $$\n",
    "\n",
    "Der sequentielle Anteil ist beispielsweise durch Initialisierung des Speichers oder andere unteilbare Aufgaben bestimmt und unabhängig der Anzahl der verwendeten Prozessoren. Im Beispiel der Lasagne könnte es sich auch um die Backzeit im Ofen handeln, die selbst $100$ Köche nicht reduzieren können. Der parallele Anteil lässt sich in diesem Modell wiederum beliebig parallelisieren. Die für die Lasagne notwendigen Tomaten könnten zum Schneiden beispielsweise an beliebig viele Köche aufgeteilt werden.\n",
    "\n",
    "Mit Hilfe des Modells lässt sich nun der Speedup ausdrücken. Dieser beschreibt, wie stark sich der Zeitaufwand durch die Verwendung von $n$ Prozessoren im Vergleich zur sequentiellen Ausführung des Programms verringert:\n",
    "\n",
    "$$ S = \\frac{T}{t_s + \\frac{t_p}{n}} $$\n",
    "\n",
    "Da die Anzahl der Prozessoren nur Einfluss auf die Abarbeitungsgeschwindigkeit des parallelen Anteils besitzt, existiert eine obere Schranke für den maximalen Speedup, die ausschließlich vom sequentiellen Zeitanteil abhängt:\n",
    "\n",
    "$$ \\lim \\limits_{n \\to \\infty} S = \\frac{T}{t_s} $$\n",
    "\n",
    "In der Praxis bedeutet dies, dass ein Programm, das $10$ Stunden benötigt und dessen Rechenzeit sich zu $95\\%$ parallelisieren lässt, selbst mit einer Million Prozessoren nicht weniger als eine halbe Stunde läuft.\n",
    "\n",
    "Auch wenn das Modell verschiedene (in beide Richtungen wirkende) Faktoren nicht berücksichtigt, lässt sich als allgemeingültige Aussage festhalten:\n",
    "> Ein paralleles Programm skaliert im großen Maßstab nur vernünftig, wenn der sequentielle Anteil vernachlässigbar klein ist."
   ]
  }
 ],
 "metadata": {
  "kernelspec": {
   "display_name": "Python 3 (ipykernel)",
   "language": "python",
   "name": "python3"
  },
  "language_info": {
   "codemirror_mode": {
    "name": "ipython",
    "version": 3
   },
   "file_extension": ".py",
   "mimetype": "text/x-python",
   "name": "python",
   "nbconvert_exporter": "python",
   "pygments_lexer": "ipython3",
   "version": "3.10.12"
  }
 },
 "nbformat": 4,
 "nbformat_minor": 5
}
