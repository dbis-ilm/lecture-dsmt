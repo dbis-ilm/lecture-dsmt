{
 "cells": [
  {
   "cell_type": "markdown",
   "id": "863121e0-6592-43c4-b946-17e17a05d4c1",
   "metadata": {
    "deletable": false,
    "editable": false
   },
   "source": [
    "# Bulk Synchronous Parallel\n",
    "Bulk Synchronous Parallel (BSP, z. Dt. *massensynchrone Parallelrechner*) ist sein sehr einfaches Modell für parallele Programmierung, das zunächst zu Beginn der 90er eingeführt wurde, um die Entwicklung und auch Analyse paralleler Algorithmen zu vereinfachen."
   ]
  },
  {
   "cell_type": "code",
   "execution_count": null,
   "id": "810a7c4b-7687-43ba-92f7-79f012f2c0b0",
   "metadata": {
    "deletable": false
   },
   "outputs": [],
   "source": [
    "from tui_dsmt.parallel import mpi_run"
   ]
  },
  {
   "cell_type": "markdown",
   "id": "8ea2abe2-2b5f-4845-818e-e898f68d1b36",
   "metadata": {
    "deletable": false,
    "editable": false
   },
   "source": [
    "## Inhaltsverzeichnis\n",
    "- [BSP Computer](#BSP-Computer)\n",
    "- [Algorithmus](#Algorithmus)\n",
    "- [Kostenanalyse](#Kostenanalyse)\n",
    "- [Implementierung mit MPI](#Implementierung-mit-MPI)\n",
    "- [Zusammenfassung](#Zusammenfassung)"
   ]
  },
  {
   "cell_type": "markdown",
   "id": "ac746cdf-6a8d-424e-91e1-f5b2f42be688",
   "metadata": {
    "deletable": false,
    "editable": false
   },
   "source": [
    "## BSP Computer\n",
    "Dem Modell liegt die Idee eines Computers zugrunde, der einige Eigenschaften erfüllen muss. Computer ist dabei nicht im engeren Sinne zu verstehen, sondern kann beispielsweise auch mehrere, durch ein Netzwerk verbundene Einzelcomputer bezeichnen.\n",
    "- Der Computer besteht aus einer Reihe von Prozessoren, die jeweils einen eigenen Speicher besitzen. (Das können auch isolierte Prozesse sein, die auf mehreren Kernen ausgeführt werden. Der direkte Zugriff ist aber nur auf den eigenen, lokalen Speicher möglich.)\n",
    "- Ein *Router* kann Nachrichten zwischen zwei beliebigen Komponenten verteilen.\n",
    "- Der lokale Speicher ist deutlich schneller angebunden als entfernter Speicher.\n",
    "- Die Arbeit des Netzwerks wird als Black Box betrachtet.\n",
    "- Ein globaler Synchronisationsmechanismus wird benötigt. (Gewünscht ist das Verhalten einer Barriere, an der jeder Prozessor wartet, bis sie von allen Prozessoren erreicht wurde.)"
   ]
  },
  {
   "cell_type": "markdown",
   "id": "27b6a16c-e4c3-427a-89ab-3f762c4ea3a4",
   "metadata": {
    "deletable": false,
    "editable": false
   },
   "source": [
    "## Algorithmus\n",
    "Der BSP Algorithmus ist in sogenannte Supersteps unterteilt. Diese dienen zur Organisation der Aufgaben und bestehen immer aus drei Teilen:\n",
    "1. Während der **lokalen Berechnung** führt jede Prozessor-Einheit unabhängig von den anderen Berechnungen auf ihren lokalen Daten aus.\n",
    "2. Während der **Kommunikation** tauschen die Prozessoren Daten untereinander aus.\n",
    "3. Während der **Synchronisation** wartet jeder Prozess, bis alle Prozesse die Kommunikationsphase abgeschlossen haben.\n",
    "\n",
    "<img src=\"data:image/png;base64,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\" width=\"500\">\n",
    "\n",
    "Dieser Ablauf verspricht eine klar strukturierte Programmierung und vermeidet durch globale Synchronisationspunkte übliche Fehler der parallelen Programmierung. Die Kommunikation ist ebenfalls einfach implementierbar. Das Modell birgt jedoch auch einige Nachteile:\n",
    "- Algorithmen, bei denen die benötigten Daten für einen Schritt nicht immer im Voraus offensichtlich sind, muss auch die Kommunikation innerhalb der Berechnung erlaubt werden. Sogenannte *Mixed Supersteps* besitzen daher keine Trennung zwischen der Berechnungs- und Kommunikationsphase, erlauben aber auch mehr Fehler.\n",
    "- Das Warten auf die Synchronisation kann bei Teilproblemen ungleicher Größe dafür sorgen, dass Prozessoren lange Zeit auf das Ergebnis anderer warten, was die Effizienz senkt. Adaptive Techniken können helfen, dieses Problem zu umgehen, erhöhen aber wiederum den Implementierungsaufwand.\n",
    "\n",
    "Die Anzahl der Supersteps ist nicht begrenzt."
   ]
  },
  {
   "cell_type": "markdown",
   "id": "d157c679-eb67-409d-9195-27b535c60aa2",
   "metadata": {
    "deletable": false,
    "editable": false
   },
   "source": [
    "## Kostenanalyse\n",
    "Da BSP nicht nur als Vorschlag zur Implementierung dienen, sondern auch die Anaylse vereinfachen sollte, wird zudem ein Kostenmodell vorgeschlagen.\n",
    "\n",
    "Die notwendige Zeit für den Berechnungsschritt bestimmt sich durch das Maximum der Zeiten, welche die Prozessoren für die Abarbeitung der ihr zugewiesenen Aufgaben benötigen. Diese wiederum wird durch die Geschwindigkeit des einzelnen Prozessors und die Größe der Aufgabe festgelegt. Für das Senden und Empfangen wird Vollduplex angenommen, sodass die Zeit durch die Größe der zu sendenden Daten und die Bandbreite des Routers definiert wird. (Die Originalarbeit macht keinen Unterschied zwischen einer langen und mehreren kurzen Nachrichten mit der gleichen Gesamtlänge. Zudem nahegelegt, von einer ausreichend großen Menge an Daten auszugehen und die Bandbreite zu unterschätzen, sodass die Latenz der Übertragung ignoriert werden kann.) Den letzten Anteil besitzt die Synchronisationszeit, die vom langsamte Prozessor vorgegeben wird, da alle anderen darauf warten müssen, dass eben dieser den Synchronisationsschritt abschließt.\n",
    "\n",
    "Eine der wichtigsten Schlussfolgerungen aus dieser Kostenbetrachtung ist damit, dass mit einer steigenden Anzahl beteiligter Prozessoren auch die Kommunikation schneller werden muss, da sonst kein Speedup zu erwarten ist. Dem Autor nach müssen die Netzwerkkapazitäten schneller wachsen als die Berechnungskapazitäten."
   ]
  },
  {
   "cell_type": "markdown",
   "id": "5ca7bbf1-c643-4f8d-9f73-15a8cbe4c410",
   "metadata": {
    "deletable": false,
    "editable": false
   },
   "source": [
    "## Implementierung mit MPI\n",
    "Beispielhaft ist nachfolgend eine optimierungsbedürftige Variante der Mittelwert- und Varianzberechnung dargestellt. Dazu wird eine Unterteilung in drei Supersteps vorgenommen:\n",
    "1. Prozess $0$ erzeugt ein zufälliges Array.\n",
    "2. Die Prozesse berechnen für ihren Teil des Arrays die lokale Summe.\n",
    "3. Die Gesamtsumme wird aus den Teilsummen bestimmt, um die Varianz zu berechnen."
   ]
  },
  {
   "cell_type": "code",
   "execution_count": null,
   "id": "4deaf0a0-ba43-41a5-ab9d-5f3706ab91c2",
   "metadata": {
    "deletable": false
   },
   "outputs": [],
   "source": [
    "def mpi_fun():\n",
    "    import mpi4py\n",
    "    import numpy as np\n",
    "\n",
    "    comm = MPI.COMM_WORLD\n",
    "    rank, size = comm.Get_rank(), comm.Get_size()\n",
    "\n",
    "    # Berechnung 0: Erzeugung eines zufälligen Arrays\n",
    "    nums = None\n",
    "    if rank == 0:\n",
    "        nums = np.random.random(10_000_000)\n",
    "\n",
    "    # Kommunikation 0\n",
    "    if rank == 0:\n",
    "        for i in range(1, size):\n",
    "            comm.send(nums, dest=i)\n",
    "    else:\n",
    "        nums = comm.recv(source=0)\n",
    "\n",
    "    # Synchronisation 0\n",
    "    comm.Barrier()\n",
    "\n",
    "    # Berechnung 1: lokale Summe\n",
    "    start_index, end_index = (len(nums) // size * rank, len(nums) // 3 * (rank+1))\n",
    "    if rank == size - 1:\n",
    "        end_index = len(nums)\n",
    "\n",
    "    my_nums = nums[start_index:end_index]\n",
    "    my_sum = sum(my_nums)\n",
    "\n",
    "    # Kommunikation 1\n",
    "    all_sums = [comm.bcast(my_sum, root=i) for i in range(size)]\n",
    "\n",
    "    # Synchronisation 1\n",
    "    comm.Barrier()\n",
    "\n",
    "    # Berechnung 2: lokale Summe der quadratischen Abweichung\n",
    "    mean = sum(all_sums) / len(nums)\n",
    "    my_sqr_diff = sum((my_nums - mean) ** 2)\n",
    "\n",
    "    # Kommunikation 2\n",
    "    all_sqr_diffs = [comm.bcast(my_sqr_diff, root=i) for i in range(size)]\n",
    "\n",
    "    # Synchronisation 2\n",
    "    comm.Barrier()\n",
    "\n",
    "    # Berechnung der Varianz\n",
    "    var = sum(all_sqr_diffs) / len(nums)\n",
    "    return mean, var\n",
    "\n",
    "mpi_run(mpi_fun)"
   ]
  },
  {
   "cell_type": "markdown",
   "id": "b0b2fd72-6c7a-4eab-bb05-9bea38407a12",
   "metadata": {
    "deletable": false,
    "editable": false
   },
   "source": [
    "## Zusammenfassung\n",
    "Das BSP-Modell ist ein aus Paradigma zur Entwicklung paralleler Algorithmen, welche dazu in Supersteps mit immer drei Komponenten eingeteilt werden. Die strikte Unterteilung soll die Programmierung vereinfachen und insbesondere häufige Fehler bei der Programmierung paralleler Programme vermeiden. Das BSP-Modell ist außerdem Grundlage für weitere Algorithmen, die effizient bestimmte Daten verarbeiten."
   ]
  }
 ],
 "metadata": {
  "kernelspec": {
   "display_name": "Python 3 (ipykernel)",
   "language": "python",
   "name": "python3"
  },
  "language_info": {
   "codemirror_mode": {
    "name": "ipython",
    "version": 3
   },
   "file_extension": ".py",
   "mimetype": "text/x-python",
   "name": "python",
   "nbconvert_exporter": "python",
   "pygments_lexer": "ipython3",
   "version": "3.10.12"
  }
 },
 "nbformat": 4,
 "nbformat_minor": 5
}
